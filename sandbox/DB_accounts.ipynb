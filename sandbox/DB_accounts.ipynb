{
 "cells": [
  {
   "cell_type": "markdown",
   "id": "02cd6aa6",
   "metadata": {},
   "source": [
    "### Test methods that work with accounts"
   ]
  },
  {
   "cell_type": "code",
   "execution_count": 1,
   "id": "aa69f83c",
   "metadata": {},
   "outputs": [],
   "source": [
    "from dexter.DB import DB, Account, Entry, Transaction, Document, Tag, Category, Column\n",
    "\n",
    "import re"
   ]
  },
  {
   "cell_type": "code",
   "execution_count": 2,
   "id": "18a46e69",
   "metadata": {},
   "outputs": [],
   "source": [
    "DB.init()"
   ]
  },
  {
   "cell_type": "code",
   "execution_count": 3,
   "id": "1cbb96f2",
   "metadata": {},
   "outputs": [],
   "source": [
    "DB.open('dev')"
   ]
  },
  {
   "cell_type": "markdown",
   "id": "3aab894f",
   "metadata": {},
   "source": [
    "### Match Account Names"
   ]
  },
  {
   "cell_type": "code",
   "execution_count": 4,
   "id": "15380637",
   "metadata": {},
   "outputs": [
    {
     "data": {
      "text/plain": [
       "[<Account: <Ac assets:bank:checking assets checking>>]"
      ]
     },
     "execution_count": 4,
     "metadata": {},
     "output_type": "execute_result"
    }
   ],
   "source": [
    "Account.objects(name__contains='checking')"
   ]
  },
  {
   "cell_type": "code",
   "execution_count": 5,
   "id": "bfa0477b",
   "metadata": {},
   "outputs": [
    {
     "data": {
      "text/plain": [
       "[<Account: <Ac expenses:food expenses >>, <Account: <Ac expenses:food:groceries expenses groceries>>, <Account: <Ac expenses:food:restaurant expenses restaurant>>]"
      ]
     },
     "execution_count": 5,
     "metadata": {},
     "output_type": "execute_result"
    }
   ],
   "source": [
    "Account.objects(name__contains='food')"
   ]
  },
  {
   "cell_type": "code",
   "execution_count": 6,
   "id": "1d119a3b",
   "metadata": {},
   "outputs": [
    {
     "name": "stdout",
     "output_type": "stream",
     "text": [
      "<Ac expenses:food expenses >\n",
      "<Ac expenses:food:groceries expenses groceries>\n",
      "<Ac expenses:food:restaurant expenses restaurant>\n"
     ]
    }
   ],
   "source": [
    "for a in DB.find_account('food'):\n",
    "    print(a)"
   ]
  },
  {
   "cell_type": "code",
   "execution_count": 7,
   "id": "a3d355fa",
   "metadata": {},
   "outputs": [
    {
     "data": {
      "text/plain": [
       "{'assets',\n",
       " 'bank',\n",
       " 'car',\n",
       " 'chase',\n",
       " 'checking',\n",
       " 'entertainment',\n",
       " 'equity',\n",
       " 'expenses',\n",
       " 'food',\n",
       " 'fuel',\n",
       " 'groceries',\n",
       " 'home',\n",
       " 'household',\n",
       " 'income',\n",
       " 'interest',\n",
       " 'liabilities',\n",
       " 'mortgage',\n",
       " 'payment',\n",
       " 'restaurant',\n",
       " 'savings',\n",
       " 'utility',\n",
       " 'visa',\n",
       " 'yard',\n",
       " 'yoyodyne'}"
      ]
     },
     "execution_count": 7,
     "metadata": {},
     "output_type": "execute_result"
    }
   ],
   "source": [
    "DB.account_name_parts()"
   ]
  },
  {
   "cell_type": "code",
   "execution_count": 8,
   "id": "407030b5",
   "metadata": {},
   "outputs": [
    {
     "data": {
      "text/plain": [
       "set()"
      ]
     },
     "execution_count": 8,
     "metadata": {},
     "output_type": "execute_result"
    }
   ],
   "source": [
    "DB.account_name_parts('expenses')"
   ]
  },
  {
   "cell_type": "code",
   "execution_count": 9,
   "id": "b5c4ffb7",
   "metadata": {},
   "outputs": [],
   "source": [
    "dct = DB.account_names()"
   ]
  },
  {
   "cell_type": "code",
   "execution_count": 10,
   "id": "50b57f94",
   "metadata": {},
   "outputs": [
    {
     "data": {
      "text/plain": [
       "{'equity': {'equity'},\n",
       " 'assets:bank:checking': {'assets:bank:checking'},\n",
       " 'checking': {'assets:bank:checking'},\n",
       " 'assets': {'assets:bank:checking', 'assets:bank:savings'},\n",
       " 'bank': {'assets:bank:checking', 'assets:bank:savings'},\n",
       " 'assets:bank:savings': {'assets:bank:savings'},\n",
       " 'savings': {'assets:bank:savings'},\n",
       " 'expenses:car': {'expenses:car'},\n",
       " 'expenses': {'expenses:car',\n",
       "  'expenses:car:fuel',\n",
       "  'expenses:car:payment',\n",
       "  'expenses:entertainment',\n",
       "  'expenses:food',\n",
       "  'expenses:food:groceries',\n",
       "  'expenses:food:restaurant',\n",
       "  'expenses:home',\n",
       "  'expenses:home:household',\n",
       "  'expenses:home:mortgage',\n",
       "  'expenses:home:utility',\n",
       "  'expenses:home:yard'},\n",
       " 'car': {'expenses:car', 'expenses:car:fuel', 'expenses:car:payment'},\n",
       " 'expenses:car:payment': {'expenses:car:payment'},\n",
       " 'payment': {'expenses:car:payment'},\n",
       " 'expenses:car:fuel': {'expenses:car:fuel'},\n",
       " 'fuel': {'expenses:car:fuel'},\n",
       " 'expenses:entertainment': {'expenses:entertainment'},\n",
       " 'entertainment': {'expenses:entertainment'},\n",
       " 'expenses:food': {'expenses:food'},\n",
       " 'food': {'expenses:food',\n",
       "  'expenses:food:groceries',\n",
       "  'expenses:food:restaurant'},\n",
       " 'expenses:food:groceries': {'expenses:food:groceries'},\n",
       " 'groceries': {'expenses:food:groceries'},\n",
       " 'expenses:food:restaurant': {'expenses:food:restaurant'},\n",
       " 'restaurant': {'expenses:food:restaurant'},\n",
       " 'expenses:home': {'expenses:home'},\n",
       " 'home': {'expenses:home',\n",
       "  'expenses:home:household',\n",
       "  'expenses:home:mortgage',\n",
       "  'expenses:home:utility',\n",
       "  'expenses:home:yard'},\n",
       " 'expenses:home:mortgage': {'expenses:home:mortgage'},\n",
       " 'mortgage': {'expenses:home:mortgage'},\n",
       " 'expenses:home:household': {'expenses:home:household'},\n",
       " 'household': {'expenses:home:household'},\n",
       " 'expenses:home:utility': {'expenses:home:utility'},\n",
       " 'utility': {'expenses:home:utility'},\n",
       " 'expenses:home:yard': {'expenses:home:yard'},\n",
       " 'yard': {'expenses:home:yard'},\n",
       " 'income:yoyodyne': {'income:yoyodyne'},\n",
       " 'yoyodyne': {'income:yoyodyne'},\n",
       " 'income': {'income:interest', 'income:yoyodyne'},\n",
       " 'income:interest': {'income:interest'},\n",
       " 'interest': {'income:interest'},\n",
       " 'liabilities:chase:visa': {'liabilities:chase:visa'},\n",
       " 'visa': {'liabilities:chase:visa'},\n",
       " 'liabilities': {'liabilities:chase:visa'},\n",
       " 'chase': {'liabilities:chase:visa'}}"
      ]
     },
     "execution_count": 10,
     "metadata": {},
     "output_type": "execute_result"
    }
   ],
   "source": [
    "dct"
   ]
  },
  {
   "cell_type": "code",
   "execution_count": 11,
   "id": "64ee2810",
   "metadata": {},
   "outputs": [
    {
     "data": {
      "text/plain": [
       "{'expenses:car',\n",
       " 'expenses:car:fuel',\n",
       " 'expenses:car:payment',\n",
       " 'expenses:entertainment',\n",
       " 'expenses:food',\n",
       " 'expenses:food:groceries',\n",
       " 'expenses:food:restaurant',\n",
       " 'expenses:home',\n",
       " 'expenses:home:household',\n",
       " 'expenses:home:mortgage',\n",
       " 'expenses:home:utility',\n",
       " 'expenses:home:yard'}"
      ]
     },
     "execution_count": 11,
     "metadata": {},
     "output_type": "execute_result"
    }
   ],
   "source": [
    "dct['expenses']"
   ]
  },
  {
   "cell_type": "code",
   "execution_count": 12,
   "id": "e12e2342",
   "metadata": {},
   "outputs": [
    {
     "data": {
      "text/plain": [
       "12"
      ]
     },
     "execution_count": 12,
     "metadata": {},
     "output_type": "execute_result"
    }
   ],
   "source": [
    "len(dct['expenses'])"
   ]
  },
  {
   "cell_type": "code",
   "execution_count": 13,
   "id": "f94b5e3d",
   "metadata": {},
   "outputs": [],
   "source": [
    "dct = DB.account_names('expenses')"
   ]
  },
  {
   "cell_type": "code",
   "execution_count": 14,
   "id": "e3598394",
   "metadata": {},
   "outputs": [
    {
     "data": {
      "text/plain": [
       "{}"
      ]
     },
     "execution_count": 14,
     "metadata": {},
     "output_type": "execute_result"
    }
   ],
   "source": [
    "dct"
   ]
  },
  {
   "cell_type": "code",
   "execution_count": 15,
   "id": "9fcdd8fa",
   "metadata": {},
   "outputs": [
    {
     "data": {
      "text/plain": [
       "0"
      ]
     },
     "execution_count": 15,
     "metadata": {},
     "output_type": "execute_result"
    }
   ],
   "source": [
    "len(dct)"
   ]
  },
  {
   "cell_type": "code",
   "execution_count": 16,
   "id": "3f3728e5",
   "metadata": {},
   "outputs": [],
   "source": [
    "# DB.account_groups()"
   ]
  },
  {
   "cell_type": "code",
   "execution_count": 17,
   "id": "a2e618ef",
   "metadata": {},
   "outputs": [],
   "source": [
    "# DB.account_groups(['expenses'])"
   ]
  },
  {
   "cell_type": "code",
   "execution_count": 18,
   "id": "5979c1e1",
   "metadata": {},
   "outputs": [],
   "source": [
    "# DB.account_groups(['expenses:1'])"
   ]
  },
  {
   "cell_type": "code",
   "execution_count": 19,
   "id": "8f0125de",
   "metadata": {},
   "outputs": [],
   "source": [
    "# DB.account_groups(['expenses:2'])"
   ]
  },
  {
   "cell_type": "code",
   "execution_count": 20,
   "id": "779e599d",
   "metadata": {},
   "outputs": [],
   "source": [
    "# DB.account_groups(['expenses:3'])"
   ]
  },
  {
   "cell_type": "code",
   "execution_count": 21,
   "id": "e4892099",
   "metadata": {},
   "outputs": [],
   "source": [
    "# DB.account_groups(['expenses:food'])"
   ]
  },
  {
   "cell_type": "code",
   "execution_count": 22,
   "id": "d93c1063",
   "metadata": {},
   "outputs": [],
   "source": [
    "# DB.account_groups(['expenses:food:2'])"
   ]
  },
  {
   "cell_type": "code",
   "execution_count": 23,
   "id": "9ae15eb0",
   "metadata": {},
   "outputs": [],
   "source": [
    "# DB.account_groups(['expenses:food:3'])"
   ]
  },
  {
   "cell_type": "code",
   "execution_count": 24,
   "id": "e489a913",
   "metadata": {},
   "outputs": [],
   "source": [
    "# DB.account_groups(['expenses','income'])"
   ]
  },
  {
   "cell_type": "code",
   "execution_count": 25,
   "id": "e6fd9f32",
   "metadata": {},
   "outputs": [],
   "source": [
    "# DB.account_groups(['expenses:1','income:1'])"
   ]
  },
  {
   "cell_type": "code",
   "execution_count": 26,
   "id": "7770e67f",
   "metadata": {},
   "outputs": [],
   "source": [
    "# DB.account_groups(['expenses:2','income:2'])"
   ]
  },
  {
   "cell_type": "code",
   "execution_count": 27,
   "id": "feb1af54",
   "metadata": {},
   "outputs": [
    {
     "data": {
      "text/plain": [
       "[<Account: <Ac expenses:food:groceries expenses groceries>>]"
      ]
     },
     "execution_count": 27,
     "metadata": {},
     "output_type": "execute_result"
    }
   ],
   "source": [
    "Account.objects(name__exact='expenses:food:groceries')"
   ]
  },
  {
   "cell_type": "code",
   "execution_count": 28,
   "id": "98eef2ba",
   "metadata": {},
   "outputs": [
    {
     "data": {
      "text/plain": [
       "[<Account: <Ac expenses:food:groceries expenses groceries>>]"
      ]
     },
     "execution_count": 28,
     "metadata": {},
     "output_type": "execute_result"
    }
   ],
   "source": [
    "Account.objects(abbrev__exact='groceries')"
   ]
  },
  {
   "cell_type": "code",
   "execution_count": 29,
   "id": "e1e1193a",
   "metadata": {},
   "outputs": [],
   "source": [
    "s = 'expenses:food:groceries'"
   ]
  },
  {
   "cell_type": "code",
   "execution_count": 30,
   "id": "280e8ed5",
   "metadata": {},
   "outputs": [
    {
     "name": "stdout",
     "output_type": "stream",
     "text": [
      "expenses:food:groceries\n"
     ]
    }
   ],
   "source": [
    "if acct := Account.objects(name__exact=s) or Account.objects(abbrev__exact=s):\n",
    "    print(acct[0].name)"
   ]
  },
  {
   "cell_type": "code",
   "execution_count": 31,
   "id": "b635d25b",
   "metadata": {},
   "outputs": [
    {
     "data": {
      "text/plain": [
       "'expenses:food:groceries'"
      ]
     },
     "execution_count": 31,
     "metadata": {},
     "output_type": "execute_result"
    }
   ],
   "source": [
    "DB.fullname('expenses:food:groceries')"
   ]
  },
  {
   "cell_type": "code",
   "execution_count": 32,
   "id": "ca0a4ad0",
   "metadata": {},
   "outputs": [
    {
     "data": {
      "text/plain": [
       "'expenses:food:groceries'"
      ]
     },
     "execution_count": 32,
     "metadata": {},
     "output_type": "execute_result"
    }
   ],
   "source": [
    "DB.fullname('groceries')"
   ]
  },
  {
   "cell_type": "code",
   "execution_count": 33,
   "id": "9c0dc81e",
   "metadata": {},
   "outputs": [],
   "source": [
    "DB.fullname('groc')"
   ]
  },
  {
   "cell_type": "code",
   "execution_count": 34,
   "id": "8783cf29",
   "metadata": {},
   "outputs": [
    {
     "data": {
      "text/plain": [
       "<Account: <Ac assets:bank:checking assets checking>>"
      ]
     },
     "execution_count": 34,
     "metadata": {},
     "output_type": "execute_result"
    }
   ],
   "source": [
    "Account.objects.get(name='assets:bank:checking')"
   ]
  },
  {
   "cell_type": "code",
   "execution_count": 35,
   "id": "b3e0d8a7",
   "metadata": {},
   "outputs": [
    {
     "data": {
      "text/plain": [
       "<Account: <Ac assets:bank:checking assets checking>>"
      ]
     },
     "execution_count": 35,
     "metadata": {},
     "output_type": "execute_result"
    }
   ],
   "source": [
    "Account.objects.get(abbrev='checking')"
   ]
  },
  {
   "cell_type": "markdown",
   "id": "903aa2f2",
   "metadata": {},
   "source": [
    "Bummer -- would be nice if this returned None instead of raising an exception:"
   ]
  },
  {
   "cell_type": "code",
   "execution_count": 36,
   "id": "2c348a73",
   "metadata": {},
   "outputs": [],
   "source": [
    "# Account.objects.get(abbrev='foo')"
   ]
  },
  {
   "cell_type": "code",
   "execution_count": 37,
   "id": "777e6a46",
   "metadata": {},
   "outputs": [
    {
     "data": {
      "text/plain": [
       "dexter.DB.DoesNotExist"
      ]
     },
     "execution_count": 37,
     "metadata": {},
     "output_type": "execute_result"
    }
   ],
   "source": [
    "Account.DoesNotExist"
   ]
  },
  {
   "cell_type": "code",
   "execution_count": 38,
   "id": "4f74f71c",
   "metadata": {},
   "outputs": [
    {
     "data": {
      "text/plain": [
       "<Account: <Ac equity equity None>>"
      ]
     },
     "execution_count": 38,
     "metadata": {},
     "output_type": "execute_result"
    }
   ],
   "source": [
    "Account.objects.first()"
   ]
  },
  {
   "cell_type": "code",
   "execution_count": 39,
   "id": "e697a234",
   "metadata": {},
   "outputs": [],
   "source": [
    "def abbrev(a):\n",
    "    try:\n",
    "        acct = Account.objects.get(name=a)\n",
    "        res = acct.abbrev\n",
    "    except Account.DoesNotExist:\n",
    "        res = a\n",
    "    return res"
   ]
  },
  {
   "cell_type": "code",
   "execution_count": 40,
   "id": "d9fa3f21",
   "metadata": {},
   "outputs": [
    {
     "data": {
      "text/plain": [
       "'checking'"
      ]
     },
     "execution_count": 40,
     "metadata": {},
     "output_type": "execute_result"
    }
   ],
   "source": [
    "abbrev('assets:bank:checking')"
   ]
  },
  {
   "cell_type": "code",
   "execution_count": 41,
   "id": "a42cfec6",
   "metadata": {},
   "outputs": [
    {
     "data": {
      "text/plain": [
       "'assets:bank:whatever'"
      ]
     },
     "execution_count": 41,
     "metadata": {},
     "output_type": "execute_result"
    }
   ],
   "source": [
    "abbrev('assets:bank:whatever')"
   ]
  },
  {
   "cell_type": "code",
   "execution_count": 42,
   "id": "0c9de8c8",
   "metadata": {},
   "outputs": [
    {
     "data": {
      "text/plain": [
       "'expenses:personal:bob'"
      ]
     },
     "execution_count": 42,
     "metadata": {},
     "output_type": "execute_result"
    }
   ],
   "source": [
    "abbrev('expenses:personal:bob')"
   ]
  },
  {
   "cell_type": "markdown",
   "id": "31f85f2b",
   "metadata": {},
   "source": [
    "### Balances"
   ]
  },
  {
   "cell_type": "code",
   "execution_count": 43,
   "id": "bd33fd91",
   "metadata": {},
   "outputs": [
    {
     "data": {
      "text/plain": [
       "[<Entry: <En 2024-04-26 expenses:food:groceries +$15.0 []>>, <Entry: <En 2024-04-24 expenses:food:groceries +$15.0 []>>, <Entry: <En 2024-04-22 expenses:food:restaurant +$50.0 []>>, <Entry: <En 2024-04-23 expenses:food:groceries +$15.0 []>>, <Entry: <En 2024-04-01 expenses:food:restaurant +$70.0 []>>, <Entry: <En 2024-04-03 expenses:food:restaurant -$35.0 []>>, <Entry: <En 2024-04-12 expenses:food:groceries +$65.0 []>>, <Entry: <En 2024-04-02 expenses:food -$600.0 [<Tag.B: '#budget'>]>>]"
      ]
     },
     "execution_count": 43,
     "metadata": {},
     "output_type": "execute_result"
    }
   ],
   "source": [
    "DB.select(Entry, account='expenses:food*')"
   ]
  },
  {
   "cell_type": "code",
   "execution_count": 44,
   "id": "f0e2ce84",
   "metadata": {},
   "outputs": [
    {
     "name": "stdout",
     "output_type": "stream",
     "text": [
      "<En 2024-04-26 expenses:food:groceries +$15.0 []>\n",
      "<En 2024-04-24 expenses:food:groceries +$15.0 []>\n",
      "<En 2024-04-22 expenses:food:restaurant +$50.0 []>\n",
      "<En 2024-04-23 expenses:food:groceries +$15.0 []>\n",
      "<En 2024-04-01 expenses:food:restaurant +$70.0 []>\n",
      "<En 2024-04-03 expenses:food:restaurant -$35.0 []>\n",
      "<En 2024-04-12 expenses:food:groceries +$65.0 []>\n",
      "<En 2024-04-02 expenses:food -$600.0 [<Tag.B: '#budget'>]>\n"
     ]
    }
   ],
   "source": [
    "for e in DB.select(Entry, account='expenses:food*'):\n",
    "    print(e)"
   ]
  },
  {
   "cell_type": "code",
   "execution_count": 45,
   "id": "9ac369d1",
   "metadata": {},
   "outputs": [
    {
     "name": "stdout",
     "output_type": "stream",
     "text": [
      "<Tr 2024-04-02 expenses:car/expenses:entertainment/expenses:food/expenses:home -> income:yoyodyne $3700.0 Fill envelopes ['#budget']>\n",
      "<Tr 2024-04-30 expenses:entertainment -> income:interest $2.27 Allocate interest ['#budget']>\n"
     ]
    }
   ],
   "source": [
    "for t in DB.select(Transaction, tag='#budget'):\n",
    "    print(t)"
   ]
  },
  {
   "cell_type": "code",
   "execution_count": 46,
   "id": "c509d079",
   "metadata": {},
   "outputs": [
    {
     "data": {
      "text/plain": [
       "230.0"
      ]
     },
     "execution_count": 46,
     "metadata": {},
     "output_type": "execute_result"
    }
   ],
   "source": [
    "DB.column_sum('food',Column.dr)"
   ]
  },
  {
   "cell_type": "code",
   "execution_count": 47,
   "id": "bf173499",
   "metadata": {},
   "outputs": [
    {
     "data": {
      "text/plain": [
       "635.0"
      ]
     },
     "execution_count": 47,
     "metadata": {},
     "output_type": "execute_result"
    }
   ],
   "source": [
    "DB.column_sum('food',Column.cr)"
   ]
  },
  {
   "cell_type": "code",
   "execution_count": 48,
   "id": "e1cb08f8",
   "metadata": {},
   "outputs": [
    {
     "data": {
      "text/plain": [
       "230.0"
      ]
     },
     "execution_count": 48,
     "metadata": {},
     "output_type": "execute_result"
    }
   ],
   "source": [
    "DB.column_sum('food',Column.dr,nobudget=True)"
   ]
  },
  {
   "cell_type": "code",
   "execution_count": 49,
   "id": "57d0f9ab",
   "metadata": {},
   "outputs": [
    {
     "data": {
      "text/plain": [
       "35.0"
      ]
     },
     "execution_count": 49,
     "metadata": {},
     "output_type": "execute_result"
    }
   ],
   "source": [
    "DB.column_sum('food',Column.cr,nobudget=True)"
   ]
  },
  {
   "cell_type": "code",
   "execution_count": 50,
   "id": "b75f5e7d",
   "metadata": {},
   "outputs": [
    {
     "name": "stdout",
     "output_type": "stream",
     "text": [
      "230.0\n",
      "635.0\n"
     ]
    },
    {
     "data": {
      "text/plain": [
       "-405.0"
      ]
     },
     "execution_count": 50,
     "metadata": {},
     "output_type": "execute_result"
    }
   ],
   "source": [
    "DB.balance('food')"
   ]
  },
  {
   "cell_type": "code",
   "execution_count": 51,
   "id": "de1070ad",
   "metadata": {},
   "outputs": [
    {
     "name": "stdout",
     "output_type": "stream",
     "text": [
      "230.0\n",
      "35.0\n"
     ]
    },
    {
     "data": {
      "text/plain": [
       "195.0"
      ]
     },
     "execution_count": 51,
     "metadata": {},
     "output_type": "execute_result"
    }
   ],
   "source": [
    "DB.balance('food', nobudget=True)"
   ]
  },
  {
   "cell_type": "code",
   "execution_count": 52,
   "id": "57d57929",
   "metadata": {},
   "outputs": [
    {
     "name": "stdout",
     "output_type": "stream",
     "text": [
      "70.0\n",
      "635.0\n"
     ]
    },
    {
     "data": {
      "text/plain": [
       "-565.0"
      ]
     },
     "execution_count": 52,
     "metadata": {},
     "output_type": "execute_result"
    }
   ],
   "source": [
    "DB.balance('food', ending='2024-04-10')"
   ]
  },
  {
   "cell_type": "code",
   "execution_count": 53,
   "id": "84fb3989",
   "metadata": {},
   "outputs": [
    {
     "name": "stdout",
     "output_type": "stream",
     "text": [
      "70.0\n",
      "35.0\n"
     ]
    },
    {
     "data": {
      "text/plain": [
       "35.0"
      ]
     },
     "execution_count": 53,
     "metadata": {},
     "output_type": "execute_result"
    }
   ],
   "source": [
    "DB.balance('food', ending='2024-04-10', nobudget=True)"
   ]
  },
  {
   "cell_type": "code",
   "execution_count": 54,
   "id": "b7bf7990",
   "metadata": {},
   "outputs": [
    {
     "data": {
      "text/plain": [
       "135.0"
      ]
     },
     "execution_count": 54,
     "metadata": {},
     "output_type": "execute_result"
    }
   ],
   "source": [
    "DB.column_sum('food', Column.dr, starting='2024-04-01', ending='2024-04-12')"
   ]
  },
  {
   "cell_type": "code",
   "execution_count": 55,
   "id": "06de42fa",
   "metadata": {},
   "outputs": [
    {
     "name": "stdout",
     "output_type": "stream",
     "text": [
      "<En 2024-04-01 expenses:food:restaurant +$70.0 []>\n",
      "<En 2024-04-03 expenses:food:restaurant -$35.0 []>\n",
      "<En 2024-04-12 expenses:food:groceries +$65.0 []>\n",
      "<En 2024-04-02 expenses:food -$600.0 [<Tag.B: '#budget'>]>\n"
     ]
    }
   ],
   "source": [
    "for e in Entry.objects(account__iregex='food', date__gte='2024-04-01', date__lte='2024-04-12'):\n",
    "    print(e)"
   ]
  },
  {
   "cell_type": "code",
   "execution_count": 56,
   "id": "7fedcd1d",
   "metadata": {},
   "outputs": [
    {
     "name": "stdout",
     "output_type": "stream",
     "text": [
      "<En 2024-04-05 expenses:car:payment +$400.0 []>\n",
      "<En 2024-04-02 expenses:car +$5.0 []>\n",
      "<En 2024-04-03 expenses:car:fuel +$50.0 []>\n",
      "<En 2024-04-02 expenses:car -$700.0 [<Tag.B: '#budget'>]>\n"
     ]
    }
   ],
   "source": [
    "for e in DB.select(Entry, account='expenses:car'):\n",
    "    print(e)"
   ]
  },
  {
   "cell_type": "code",
   "execution_count": 60,
   "id": "59e006ce",
   "metadata": {},
   "outputs": [
    {
     "name": "stdout",
     "output_type": "stream",
     "text": [
      "<En 2024-04-02 expenses:car +$5.0 []>\n",
      "<En 2024-04-02 expenses:car -$700.0 [<Tag.B: '#budget'>]>\n"
     ]
    }
   ],
   "source": [
    "for e in DB.select(Entry, account='car$'):\n",
    "    print(e)"
   ]
  },
  {
   "cell_type": "code",
   "execution_count": 57,
   "id": "9e98f0f5",
   "metadata": {},
   "outputs": [
    {
     "data": {
      "text/plain": [
       "1155.0"
      ]
     },
     "execution_count": 57,
     "metadata": {},
     "output_type": "execute_result"
    }
   ],
   "source": [
    "DB.select(Entry, account='expenses:car').sum('amount')"
   ]
  },
  {
   "cell_type": "code",
   "execution_count": null,
   "id": "e026eca1",
   "metadata": {},
   "outputs": [],
   "source": [
    "# Account(name='expenses:car:fuel:gas', category=Category.E).save()"
   ]
  },
  {
   "cell_type": "code",
   "execution_count": null,
   "id": "d3a5d609",
   "metadata": {},
   "outputs": [],
   "source": [
    "# Account(name='expenses:car:fuel:electric', category=Category.E).save()"
   ]
  },
  {
   "cell_type": "code",
   "execution_count": null,
   "id": "a9fbabfe",
   "metadata": {},
   "outputs": [],
   "source": [
    "for a in Account.objects(category = Category.E):\n",
    "    print(a.name)"
   ]
  },
  {
   "cell_type": "code",
   "execution_count": null,
   "id": "9d34ee79",
   "metadata": {},
   "outputs": [],
   "source": [
    "    def expand_node(node, level):\n",
    "        '''\n",
    "        A command line argument had an account name and level.  Return the\n",
    "        list of accounts below to the specified level.\n",
    "        '''\n",
    "        res = []\n",
    "        for acct in Account.objects(name__startswith=node):\n",
    "            name = acct.name\n",
    "            tail = name[len(node):]\n",
    "            print(name, tail, tail.count(':'))\n",
    "            if tail.count(':') <= level:\n",
    "                res.append(name)\n",
    "        return res"
   ]
  },
  {
   "cell_type": "code",
   "execution_count": null,
   "id": "a7576bd3",
   "metadata": {},
   "outputs": [],
   "source": [
    "expand_node('expenses:car', 1)"
   ]
  },
  {
   "cell_type": "code",
   "execution_count": null,
   "id": "c8b3926b",
   "metadata": {},
   "outputs": [],
   "source": [
    "DB.expand_node('expenses:car:1')"
   ]
  },
  {
   "cell_type": "code",
   "execution_count": null,
   "id": "b89ff5a7",
   "metadata": {},
   "outputs": [],
   "source": [
    "DB.expand_node('expenses:car:2')"
   ]
  },
  {
   "cell_type": "code",
   "execution_count": null,
   "id": "3a835dc5",
   "metadata": {},
   "outputs": [],
   "source": [
    "DB.expand_node('expenses:car:0')"
   ]
  },
  {
   "cell_type": "code",
   "execution_count": null,
   "id": "cda84998",
   "metadata": {},
   "outputs": [],
   "source": [
    "expand_node('assets',1)"
   ]
  },
  {
   "cell_type": "code",
   "execution_count": null,
   "id": "74181117",
   "metadata": {},
   "outputs": [],
   "source": [
    "re.match(r'.*:\\d+', 'expenses:car:1')"
   ]
  },
  {
   "cell_type": "code",
   "execution_count": null,
   "id": "a4423002",
   "metadata": {},
   "outputs": [],
   "source": [
    "re.match(r'(.*):(\\d+)','expenses:car:10').groups()"
   ]
  },
  {
   "cell_type": "markdown",
   "id": "d5796b28",
   "metadata": {},
   "source": []
  },
  {
   "cell_type": "code",
   "execution_count": null,
   "id": "c7dcaea5",
   "metadata": {},
   "outputs": [],
   "source": [
    "DB.account_glob('expenses:car')"
   ]
  },
  {
   "cell_type": "code",
   "execution_count": null,
   "id": "1b8a8b30",
   "metadata": {},
   "outputs": [],
   "source": [
    "DB.account_glob('groceries')"
   ]
  },
  {
   "cell_type": "code",
   "execution_count": null,
   "id": "66d0a23b",
   "metadata": {},
   "outputs": [],
   "source": [
    "DB.account_glob('expenses:car:')"
   ]
  },
  {
   "cell_type": "code",
   "execution_count": null,
   "id": "d5fdd9d6",
   "metadata": {},
   "outputs": [],
   "source": [
    "DB.account_glob('expenses:cart')"
   ]
  },
  {
   "cell_type": "code",
   "execution_count": null,
   "id": "604ade9c",
   "metadata": {},
   "outputs": [],
   "source": [
    "DB.account_glob('expenses:car:1')"
   ]
  },
  {
   "cell_type": "code",
   "execution_count": null,
   "id": "c14c7a88",
   "metadata": {},
   "outputs": [],
   "source": [
    "DB.account_glob('expenses:car:2')"
   ]
  },
  {
   "cell_type": "code",
   "execution_count": null,
   "id": "e86bbacc",
   "metadata": {},
   "outputs": [],
   "source": [
    "DB.account_glob('expenses:car:0')"
   ]
  },
  {
   "cell_type": "code",
   "execution_count": null,
   "id": "34803f7f",
   "metadata": {},
   "outputs": [],
   "source": [
    "DB.account_glob('@car')"
   ]
  },
  {
   "cell_type": "code",
   "execution_count": null,
   "id": "c2af191e",
   "metadata": {},
   "outputs": [],
   "source": [
    "DB.account_glob('expenses:car:')"
   ]
  },
  {
   "cell_type": "code",
   "execution_count": null,
   "id": "212d2703",
   "metadata": {},
   "outputs": [],
   "source": [
    "DB.account_glob('expenses:car:0')"
   ]
  },
  {
   "cell_type": "code",
   "execution_count": null,
   "id": "e9747751",
   "metadata": {},
   "outputs": [],
   "source": [
    "def account_args(s):\n",
    "    if s.startswith('@'):\n",
    "        res = { 'account__regex': f'\\\\b{s[1:]}\\\\b' }\n",
    "    elif s.endswith(':'):\n",
    "        res = { 'account__regex': f'^{s[:-1]}.*$' }\n",
    "    else:\n",
    "        res = { 'account__regex': f'^{s}$'}\n",
    "    return res"
   ]
  },
  {
   "cell_type": "code",
   "execution_count": null,
   "id": "75f7173c",
   "metadata": {},
   "outputs": [],
   "source": [
    "account_args('expenses:car')"
   ]
  },
  {
   "cell_type": "code",
   "execution_count": null,
   "id": "ed8f9733",
   "metadata": {},
   "outputs": [],
   "source": [
    "account_args('expenses:car:')"
   ]
  },
  {
   "cell_type": "code",
   "execution_count": null,
   "id": "c6bf976b",
   "metadata": {},
   "outputs": [],
   "source": [
    "account_args('@car')"
   ]
  },
  {
   "cell_type": "code",
   "execution_count": null,
   "id": "547ce681",
   "metadata": {},
   "outputs": [],
   "source": [
    "e = account_args('expenses:')['account__regex']"
   ]
  },
  {
   "cell_type": "code",
   "execution_count": null,
   "id": "54ae8e8a",
   "metadata": {},
   "outputs": [],
   "source": [
    "for a in Account.objects:\n",
    "    if re.match(e, a.name):\n",
    "        print(a.name)"
   ]
  },
  {
   "cell_type": "code",
   "execution_count": null,
   "id": "8b3e75f1",
   "metadata": {},
   "outputs": [],
   "source": [
    "lst = Transaction.objects(pamount__lte=50)"
   ]
  },
  {
   "cell_type": "code",
   "execution_count": null,
   "id": "9b4eddaa",
   "metadata": {},
   "outputs": [],
   "source": [
    "lst"
   ]
  },
  {
   "cell_type": "code",
   "execution_count": null,
   "id": "a5d29d51",
   "metadata": {},
   "outputs": [],
   "source": [
    "len(lst)"
   ]
  },
  {
   "cell_type": "code",
   "execution_count": null,
   "id": "ce3be2b2",
   "metadata": {},
   "outputs": [],
   "source": [
    "type(lst)"
   ]
  },
  {
   "cell_type": "code",
   "execution_count": null,
   "id": "ab117587",
   "metadata": {},
   "outputs": [],
   "source": [
    "lst(pdate__lte='2024-04-03')"
   ]
  },
  {
   "cell_type": "code",
   "execution_count": null,
   "id": "74f6690c",
   "metadata": {},
   "outputs": [],
   "source": [
    "for t in lst(pdate__lte='2024-04-03'):\n",
    "    print(t)"
   ]
  },
  {
   "cell_type": "code",
   "execution_count": null,
   "id": "03935f3a",
   "metadata": {},
   "outputs": [],
   "source": [
    "dct = {'a': 0, 'b': 1}"
   ]
  },
  {
   "cell_type": "code",
   "execution_count": null,
   "id": "cff5e497",
   "metadata": {},
   "outputs": [],
   "source": [
    "# del dct['a']     <- works if 'a' in dict, raises exception if not\n",
    "# dct.pop('a)      <- same\n",
    "dct.pop('a', None)    # what we want -- returns None if 'a' not in dict"
   ]
  },
  {
   "cell_type": "code",
   "execution_count": null,
   "id": "9884c135",
   "metadata": {},
   "outputs": [],
   "source": [
    "dct"
   ]
  },
  {
   "cell_type": "code",
   "execution_count": null,
   "id": "3dadabe7",
   "metadata": {},
   "outputs": [],
   "source": [
    "lst1 = Transaction.objects(pamount__lte=50, pdate__lte='2024-04-03')"
   ]
  },
  {
   "cell_type": "code",
   "execution_count": null,
   "id": "766dfbf8",
   "metadata": {},
   "outputs": [],
   "source": [
    "for t in lst1:\n",
    "    print(t)"
   ]
  },
  {
   "cell_type": "code",
   "execution_count": null,
   "id": "0864cbf7",
   "metadata": {},
   "outputs": [],
   "source": [
    "lst2 = Transaction.objects(pamount__lte=50, pdate__gte='2024-04-25')"
   ]
  },
  {
   "cell_type": "code",
   "execution_count": null,
   "id": "ce384070",
   "metadata": {},
   "outputs": [],
   "source": [
    "for t in lst2:\n",
    "    print(t)"
   ]
  },
  {
   "cell_type": "code",
   "execution_count": null,
   "id": "6d954d74",
   "metadata": {},
   "outputs": [],
   "source": [
    "# for t in lst1+lst2:     <- QuerySet is not list-like :-(\n",
    "#     print(t)"
   ]
  },
  {
   "cell_type": "markdown",
   "id": "4cc7e364",
   "metadata": {},
   "source": []
  },
  {
   "cell_type": "code",
   "execution_count": null,
   "id": "35488c1f",
   "metadata": {},
   "outputs": [],
   "source": [
    "for e in Entry.objects:\n",
    "    if e.tref is None:\n",
    "        print(e)"
   ]
  },
  {
   "cell_type": "code",
   "execution_count": null,
   "id": "e5caac9b",
   "metadata": {},
   "outputs": [],
   "source": [
    "DB.account_glob('expenses:1')"
   ]
  },
  {
   "cell_type": "code",
   "execution_count": null,
   "id": "7b344160",
   "metadata": {},
   "outputs": [],
   "source": [
    "DB.account_glob('assets:1')"
   ]
  },
  {
   "cell_type": "code",
   "execution_count": null,
   "id": "67efb599",
   "metadata": {},
   "outputs": [],
   "source": [
    "DB.account_glob('groceries')"
   ]
  },
  {
   "cell_type": "code",
   "execution_count": null,
   "id": "bdc36f75",
   "metadata": {},
   "outputs": [],
   "source": []
  }
 ],
 "metadata": {
  "kernelspec": {
   "display_name": "nosql",
   "language": "python",
   "name": "python3"
  },
  "language_info": {
   "codemirror_mode": {
    "name": "ipython",
    "version": 3
   },
   "file_extension": ".py",
   "mimetype": "text/x-python",
   "name": "python",
   "nbconvert_exporter": "python",
   "pygments_lexer": "ipython3",
   "version": "3.13.1"
  }
 },
 "nbformat": 4,
 "nbformat_minor": 5
}
