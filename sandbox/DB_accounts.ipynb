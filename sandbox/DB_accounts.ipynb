{
 "cells": [
  {
   "cell_type": "markdown",
   "id": "02cd6aa6",
   "metadata": {},
   "source": [
    "### Test methods that work with accounts"
   ]
  },
  {
   "cell_type": "code",
   "execution_count": 1,
   "id": "aa69f83c",
   "metadata": {},
   "outputs": [],
   "source": [
    "from dexter.DB import DB, Account, Entry, Transaction, Document, Tag\n",
    "\n",
    "import re"
   ]
  },
  {
   "cell_type": "code",
   "execution_count": 2,
   "id": "1cbb96f2",
   "metadata": {},
   "outputs": [],
   "source": [
    "DB.open('demo')"
   ]
  },
  {
   "cell_type": "markdown",
   "id": "3aab894f",
   "metadata": {},
   "source": [
    "### Match Account Names"
   ]
  },
  {
   "cell_type": "code",
   "execution_count": 3,
   "id": "15380637",
   "metadata": {},
   "outputs": [
    {
     "data": {
      "text/plain": [
       "[<Account: <Acct assets:checking assets>>]"
      ]
     },
     "execution_count": 3,
     "metadata": {},
     "output_type": "execute_result"
    }
   ],
   "source": [
    "Account.objects(name__contains='checking')"
   ]
  },
  {
   "cell_type": "code",
   "execution_count": 4,
   "id": "bfa0477b",
   "metadata": {},
   "outputs": [
    {
     "data": {
      "text/plain": [
       "[<Account: <Acct expenses:food expenses>>, <Account: <Acct expenses:food:groceries expenses>>, <Account: <Acct expenses:food:restaurant expenses>>]"
      ]
     },
     "execution_count": 4,
     "metadata": {},
     "output_type": "execute_result"
    }
   ],
   "source": [
    "Account.objects(name__contains='food')"
   ]
  },
  {
   "cell_type": "code",
   "execution_count": 5,
   "id": "1d119a3b",
   "metadata": {},
   "outputs": [
    {
     "name": "stdout",
     "output_type": "stream",
     "text": [
      "<Acct expenses:food expenses>\n",
      "<Acct expenses:food:groceries expenses>\n",
      "<Acct expenses:food:restaurant expenses>\n"
     ]
    }
   ],
   "source": [
    "for a in DB.find_account('food'):\n",
    "    print(a)"
   ]
  },
  {
   "cell_type": "code",
   "execution_count": 6,
   "id": "a3d355fa",
   "metadata": {},
   "outputs": [
    {
     "data": {
      "text/plain": [
       "{'assets',\n",
       " 'car',\n",
       " 'chase',\n",
       " 'checking',\n",
       " 'equity',\n",
       " 'expenses',\n",
       " 'food',\n",
       " 'groceries',\n",
       " 'home',\n",
       " 'income',\n",
       " 'liabilities',\n",
       " 'restaurant',\n",
       " 'savings',\n",
       " 'visa',\n",
       " 'yoyodyne'}"
      ]
     },
     "execution_count": 6,
     "metadata": {},
     "output_type": "execute_result"
    }
   ],
   "source": [
    "DB.account_name_parts()"
   ]
  },
  {
   "cell_type": "code",
   "execution_count": 7,
   "id": "407030b5",
   "metadata": {},
   "outputs": [
    {
     "data": {
      "text/plain": [
       "{'car', 'expenses', 'food', 'groceries', 'home', 'restaurant'}"
      ]
     },
     "execution_count": 7,
     "metadata": {},
     "output_type": "execute_result"
    }
   ],
   "source": [
    "DB.account_name_parts('expenses')"
   ]
  },
  {
   "cell_type": "code",
   "execution_count": 8,
   "id": "b5c4ffb7",
   "metadata": {},
   "outputs": [
    {
     "data": {
      "text/plain": [
       "{'equity': ['equity'],\n",
       " 'assets': ['assets:checking', 'assets:savings'],\n",
       " 'checking': ['assets:checking'],\n",
       " 'savings': ['assets:savings'],\n",
       " 'expenses': ['expenses:car',\n",
       "  'expenses:food',\n",
       "  'expenses:food:groceries',\n",
       "  'expenses:food:restaurant',\n",
       "  'expenses:home'],\n",
       " 'car': ['expenses:car'],\n",
       " 'food': ['expenses:food',\n",
       "  'expenses:food:groceries',\n",
       "  'expenses:food:restaurant'],\n",
       " 'groceries': ['expenses:food:groceries'],\n",
       " 'restaurant': ['expenses:food:restaurant'],\n",
       " 'home': ['expenses:home'],\n",
       " 'income': ['income:yoyodyne'],\n",
       " 'yoyodyne': ['income:yoyodyne'],\n",
       " 'liabilities': ['liabilities:chase:visa'],\n",
       " 'chase': ['liabilities:chase:visa'],\n",
       " 'visa': ['liabilities:chase:visa']}"
      ]
     },
     "execution_count": 8,
     "metadata": {},
     "output_type": "execute_result"
    }
   ],
   "source": [
    "DB.full_names()"
   ]
  },
  {
   "cell_type": "code",
   "execution_count": 9,
   "id": "f94b5e3d",
   "metadata": {},
   "outputs": [
    {
     "data": {
      "text/plain": [
       "{'expenses': ['expenses:car',\n",
       "  'expenses:food',\n",
       "  'expenses:food:groceries',\n",
       "  'expenses:food:restaurant',\n",
       "  'expenses:home'],\n",
       " 'car': ['expenses:car'],\n",
       " 'food': ['expenses:food',\n",
       "  'expenses:food:groceries',\n",
       "  'expenses:food:restaurant'],\n",
       " 'groceries': ['expenses:food:groceries'],\n",
       " 'restaurant': ['expenses:food:restaurant'],\n",
       " 'home': ['expenses:home']}"
      ]
     },
     "execution_count": 9,
     "metadata": {},
     "output_type": "execute_result"
    }
   ],
   "source": [
    "DB.full_names('expenses')"
   ]
  },
  {
   "cell_type": "code",
   "execution_count": 10,
   "id": "3f3728e5",
   "metadata": {},
   "outputs": [
    {
     "data": {
      "text/plain": [
       "['equity',\n",
       " 'assets:checking',\n",
       " 'assets:savings',\n",
       " 'expenses:car',\n",
       " 'expenses:food',\n",
       " 'expenses:food:groceries',\n",
       " 'expenses:food:restaurant',\n",
       " 'expenses:home',\n",
       " 'income:yoyodyne',\n",
       " 'liabilities:chase:visa']"
      ]
     },
     "execution_count": 10,
     "metadata": {},
     "output_type": "execute_result"
    }
   ],
   "source": [
    "DB.account_groups()"
   ]
  },
  {
   "cell_type": "code",
   "execution_count": 11,
   "id": "a2e618ef",
   "metadata": {},
   "outputs": [
    {
     "data": {
      "text/plain": [
       "['expenses:car',\n",
       " 'expenses:food',\n",
       " 'expenses:food:groceries',\n",
       " 'expenses:food:restaurant',\n",
       " 'expenses:home']"
      ]
     },
     "execution_count": 11,
     "metadata": {},
     "output_type": "execute_result"
    }
   ],
   "source": [
    "DB.account_groups(['expenses'])"
   ]
  },
  {
   "cell_type": "code",
   "execution_count": 12,
   "id": "5979c1e1",
   "metadata": {},
   "outputs": [
    {
     "data": {
      "text/plain": [
       "['expenses.*']"
      ]
     },
     "execution_count": 12,
     "metadata": {},
     "output_type": "execute_result"
    }
   ],
   "source": [
    "DB.account_groups(['expenses:1'])"
   ]
  },
  {
   "cell_type": "code",
   "execution_count": 13,
   "id": "8f0125de",
   "metadata": {},
   "outputs": [
    {
     "data": {
      "text/plain": [
       "['expenses:car.*', 'expenses:food.*', 'expenses:home.*']"
      ]
     },
     "execution_count": 13,
     "metadata": {},
     "output_type": "execute_result"
    }
   ],
   "source": [
    "DB.account_groups(['expenses:2'])"
   ]
  },
  {
   "cell_type": "code",
   "execution_count": 14,
   "id": "779e599d",
   "metadata": {},
   "outputs": [
    {
     "data": {
      "text/plain": [
       "['expenses:car',\n",
       " 'expenses:food',\n",
       " 'expenses:food:groceries.*',\n",
       " 'expenses:food:restaurant.*',\n",
       " 'expenses:home']"
      ]
     },
     "execution_count": 14,
     "metadata": {},
     "output_type": "execute_result"
    }
   ],
   "source": [
    "DB.account_groups(['expenses:3'])"
   ]
  },
  {
   "cell_type": "code",
   "execution_count": 15,
   "id": "e4892099",
   "metadata": {},
   "outputs": [
    {
     "data": {
      "text/plain": [
       "['expenses:food', 'expenses:food:groceries', 'expenses:food:restaurant']"
      ]
     },
     "execution_count": 15,
     "metadata": {},
     "output_type": "execute_result"
    }
   ],
   "source": [
    "DB.account_groups(['expenses:food'])"
   ]
  },
  {
   "cell_type": "code",
   "execution_count": 16,
   "id": "d93c1063",
   "metadata": {},
   "outputs": [
    {
     "data": {
      "text/plain": [
       "['expenses:food.*']"
      ]
     },
     "execution_count": 16,
     "metadata": {},
     "output_type": "execute_result"
    }
   ],
   "source": [
    "DB.account_groups(['expenses:food:2'])"
   ]
  },
  {
   "cell_type": "code",
   "execution_count": 17,
   "id": "9ae15eb0",
   "metadata": {},
   "outputs": [
    {
     "data": {
      "text/plain": [
       "['expenses:food', 'expenses:food:groceries.*', 'expenses:food:restaurant.*']"
      ]
     },
     "execution_count": 17,
     "metadata": {},
     "output_type": "execute_result"
    }
   ],
   "source": [
    "DB.account_groups(['expenses:food:3'])"
   ]
  },
  {
   "cell_type": "code",
   "execution_count": 18,
   "id": "e489a913",
   "metadata": {},
   "outputs": [
    {
     "data": {
      "text/plain": [
       "['expenses:car',\n",
       " 'expenses:food',\n",
       " 'expenses:food:groceries',\n",
       " 'expenses:food:restaurant',\n",
       " 'expenses:home',\n",
       " 'income:yoyodyne']"
      ]
     },
     "execution_count": 18,
     "metadata": {},
     "output_type": "execute_result"
    }
   ],
   "source": [
    "DB.account_groups(['expenses','income'])"
   ]
  },
  {
   "cell_type": "code",
   "execution_count": 19,
   "id": "e6fd9f32",
   "metadata": {},
   "outputs": [
    {
     "data": {
      "text/plain": [
       "['expenses.*', 'income.*']"
      ]
     },
     "execution_count": 19,
     "metadata": {},
     "output_type": "execute_result"
    }
   ],
   "source": [
    "DB.account_groups(['expenses:1','income:1'])"
   ]
  },
  {
   "cell_type": "code",
   "execution_count": 20,
   "id": "7770e67f",
   "metadata": {},
   "outputs": [
    {
     "data": {
      "text/plain": [
       "['expenses:car.*', 'expenses:food.*', 'expenses:home.*', 'income:yoyodyne.*']"
      ]
     },
     "execution_count": 20,
     "metadata": {},
     "output_type": "execute_result"
    }
   ],
   "source": [
    "DB.account_groups(['expenses:2','income:2'])"
   ]
  },
  {
   "cell_type": "markdown",
   "id": "31f85f2b",
   "metadata": {},
   "source": [
    "### Balances"
   ]
  },
  {
   "cell_type": "code",
   "execution_count": 21,
   "id": "bd33fd91",
   "metadata": {},
   "outputs": [
    {
     "data": {
      "text/plain": [
       "[<Entry: <En 2024-01-02 expenses:food -$1000.0 [<Tag.B: '#budget'>]>>, <Entry: <En 2024-01-07 expenses:food:restaurant +$75.0 []>>, <Entry: <En 2024-01-08 expenses:food:restaurant -$35.0 []>>]"
      ]
     },
     "execution_count": 21,
     "metadata": {},
     "output_type": "execute_result"
    }
   ],
   "source": [
    "DB.select(Entry, account='expenses:food*')"
   ]
  },
  {
   "cell_type": "code",
   "execution_count": 22,
   "id": "f0e2ce84",
   "metadata": {},
   "outputs": [
    {
     "name": "stdout",
     "output_type": "stream",
     "text": [
      "<En 2024-01-02 expenses:food -$1000.0 [<Tag.B: '#budget'>]>\n",
      "<En 2024-01-07 expenses:food:restaurant +$75.0 []>\n",
      "<En 2024-01-08 expenses:food:restaurant -$35.0 []>\n"
     ]
    }
   ],
   "source": [
    "for e in DB.select(Entry, account='expenses:food*'):\n",
    "    print(e)"
   ]
  },
  {
   "cell_type": "code",
   "execution_count": 28,
   "id": "9ac369d1",
   "metadata": {},
   "outputs": [
    {
     "name": "stdout",
     "output_type": "stream",
     "text": [
      "<Tr 2024-01-02 expenses:home/expenses:car/expenses:food -> income:yoyodyne $5000.0 fill envelopes ['#budget']>\n"
     ]
    }
   ],
   "source": [
    "for t in DB.select(Transaction, tag='#budget'):\n",
    "    print(t)"
   ]
  },
  {
   "cell_type": "code",
   "execution_count": null,
   "id": "9e9f82fc",
   "metadata": {},
   "outputs": [],
   "source": [
    "def balance(acct, budgets=True):\n",
    "    res = sum(e.value for e in DB.select(Entry, account=acct))\n",
    "    if not budgets:\n",
    "        res -= sum(e.value for e in DB.select(Entry, account=acct, tag=Tag.B))\n",
    "    return res"
   ]
  },
  {
   "cell_type": "code",
   "execution_count": 36,
   "id": "b75f5e7d",
   "metadata": {},
   "outputs": [
    {
     "data": {
      "text/plain": [
       "-960.0"
      ]
     },
     "execution_count": 36,
     "metadata": {},
     "output_type": "execute_result"
    }
   ],
   "source": [
    "balance('expenses:food')"
   ]
  },
  {
   "cell_type": "code",
   "execution_count": 37,
   "id": "de1070ad",
   "metadata": {},
   "outputs": [
    {
     "data": {
      "text/plain": [
       "40.0"
      ]
     },
     "execution_count": 37,
     "metadata": {},
     "output_type": "execute_result"
    }
   ],
   "source": [
    "balance('expenses:food', False)"
   ]
  },
  {
   "cell_type": "code",
   "execution_count": 38,
   "id": "5320c6d9",
   "metadata": {},
   "outputs": [
    {
     "name": "stdout",
     "output_type": "stream",
     "text": [
      "438 μs ± 6.86 μs per loop (mean ± std. dev. of 7 runs, 1,000 loops each)\n"
     ]
    }
   ],
   "source": [
    "%timeit balance('expenses:food', False)"
   ]
  },
  {
   "cell_type": "code",
   "execution_count": 43,
   "id": "acc4ec79",
   "metadata": {},
   "outputs": [],
   "source": [
    "def balance(acct, budgets=True):\n",
    "    lst = DB.select(Entry, account=acct)\n",
    "    if budgets:\n",
    "        res = sum(e.value for e in lst)\n",
    "    else:\n",
    "        res = sum(e.value for e in lst if not Tag.B in e.tags)\n",
    "    return res"
   ]
  },
  {
   "cell_type": "code",
   "execution_count": 44,
   "id": "8cde919b",
   "metadata": {},
   "outputs": [
    {
     "data": {
      "text/plain": [
       "40.0"
      ]
     },
     "execution_count": 44,
     "metadata": {},
     "output_type": "execute_result"
    }
   ],
   "source": [
    "balance('expenses:food', False)"
   ]
  },
  {
   "cell_type": "code",
   "execution_count": 45,
   "id": "d4a189e9",
   "metadata": {},
   "outputs": [
    {
     "name": "stdout",
     "output_type": "stream",
     "text": [
      "The slowest run took 11.01 times longer than the fastest. This could mean that an intermediate result is being cached.\n",
      "1.88 ms ± 1.77 ms per loop (mean ± std. dev. of 7 runs, 1,000 loops each)\n"
     ]
    }
   ],
   "source": [
    "%timeit balance('expenses:food', False)"
   ]
  },
  {
   "cell_type": "code",
   "execution_count": 46,
   "id": "cd9fe5a9",
   "metadata": {},
   "outputs": [],
   "source": [
    "def balance(acct, budgets=True):\n",
    "    lst = DB.select(Entry, account=acct)\n",
    "    res = sum(e.value for e in lst)\n",
    "    if not budgets:\n",
    "        res -= sum(e.value for e in lst if Tag.B in e.tags)\n",
    "    return res"
   ]
  },
  {
   "cell_type": "code",
   "execution_count": 47,
   "id": "3a473625",
   "metadata": {},
   "outputs": [
    {
     "data": {
      "text/plain": [
       "40.0"
      ]
     },
     "execution_count": 47,
     "metadata": {},
     "output_type": "execute_result"
    }
   ],
   "source": [
    "balance('expenses:food', False)"
   ]
  },
  {
   "cell_type": "code",
   "execution_count": 48,
   "id": "36b09574",
   "metadata": {},
   "outputs": [
    {
     "name": "stdout",
     "output_type": "stream",
     "text": [
      "544 μs ± 108 μs per loop (mean ± std. dev. of 7 runs, 1,000 loops each)\n"
     ]
    }
   ],
   "source": [
    "%timeit balance('expenses:food', False)"
   ]
  },
  {
   "cell_type": "code",
   "execution_count": null,
   "id": "909bfae8",
   "metadata": {},
   "outputs": [],
   "source": []
  }
 ],
 "metadata": {
  "kernelspec": {
   "display_name": "nosql",
   "language": "python",
   "name": "python3"
  },
  "language_info": {
   "codemirror_mode": {
    "name": "ipython",
    "version": 3
   },
   "file_extension": ".py",
   "mimetype": "text/x-python",
   "name": "python",
   "nbconvert_exporter": "python",
   "pygments_lexer": "ipython3",
   "version": "3.13.1"
  }
 },
 "nbformat": 4,
 "nbformat_minor": 5
}
