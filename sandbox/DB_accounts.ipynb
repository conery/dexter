{
 "cells": [
  {
   "cell_type": "markdown",
   "id": "02cd6aa6",
   "metadata": {},
   "source": [
    "### Test methods that work with accounts"
   ]
  },
  {
   "cell_type": "code",
   "execution_count": 1,
   "id": "aa69f83c",
   "metadata": {},
   "outputs": [],
   "source": [
    "from dexter.DB import DB, Account, Entry, Transaction, Document, Tag\n",
    "\n",
    "import re"
   ]
  },
  {
   "cell_type": "code",
   "execution_count": 2,
   "id": "18a46e69",
   "metadata": {},
   "outputs": [],
   "source": [
    "DB.init()"
   ]
  },
  {
   "cell_type": "code",
   "execution_count": 3,
   "id": "1cbb96f2",
   "metadata": {},
   "outputs": [],
   "source": [
    "DB.open('dev')"
   ]
  },
  {
   "cell_type": "markdown",
   "id": "3aab894f",
   "metadata": {},
   "source": [
    "### Match Account Names"
   ]
  },
  {
   "cell_type": "code",
   "execution_count": 4,
   "id": "15380637",
   "metadata": {},
   "outputs": [
    {
     "data": {
      "text/plain": [
       "[<Account: checking assets>]"
      ]
     },
     "execution_count": 4,
     "metadata": {},
     "output_type": "execute_result"
    }
   ],
   "source": [
    "Account.objects(name__contains='checking')"
   ]
  },
  {
   "cell_type": "code",
   "execution_count": 5,
   "id": "bfa0477b",
   "metadata": {},
   "outputs": [
    {
     "data": {
      "text/plain": [
       "[<Account: expenses:food expenses>, <Account: groceries expenses>, <Account: restaurant expenses>]"
      ]
     },
     "execution_count": 5,
     "metadata": {},
     "output_type": "execute_result"
    }
   ],
   "source": [
    "Account.objects(name__contains='food')"
   ]
  },
  {
   "cell_type": "code",
   "execution_count": 6,
   "id": "1d119a3b",
   "metadata": {},
   "outputs": [
    {
     "name": "stdout",
     "output_type": "stream",
     "text": [
      "expenses:food expenses\n",
      "groceries expenses\n",
      "restaurant expenses\n"
     ]
    }
   ],
   "source": [
    "for a in DB.find_account('food'):\n",
    "    print(a)"
   ]
  },
  {
   "cell_type": "code",
   "execution_count": 7,
   "id": "a3d355fa",
   "metadata": {},
   "outputs": [
    {
     "data": {
      "text/plain": [
       "{'alice',\n",
       " 'assets',\n",
       " 'bank',\n",
       " 'bob',\n",
       " 'car',\n",
       " 'charity',\n",
       " 'chase',\n",
       " 'checking',\n",
       " 'donation',\n",
       " 'equity',\n",
       " 'expenses',\n",
       " 'food',\n",
       " 'fuel',\n",
       " 'gift',\n",
       " 'groceries',\n",
       " 'home',\n",
       " 'household',\n",
       " 'income',\n",
       " 'interest',\n",
       " 'liabilities',\n",
       " 'medical',\n",
       " 'mortgage',\n",
       " 'payment',\n",
       " 'personal',\n",
       " 'restaurant',\n",
       " 'savings',\n",
       " 'ssa',\n",
       " 'travel',\n",
       " 'utility',\n",
       " 'visa',\n",
       " 'yard',\n",
       " 'yoyodyne'}"
      ]
     },
     "execution_count": 7,
     "metadata": {},
     "output_type": "execute_result"
    }
   ],
   "source": [
    "DB.account_name_parts()"
   ]
  },
  {
   "cell_type": "code",
   "execution_count": 8,
   "id": "407030b5",
   "metadata": {},
   "outputs": [
    {
     "data": {
      "text/plain": [
       "{'alice',\n",
       " 'bob',\n",
       " 'car',\n",
       " 'charity',\n",
       " 'donation',\n",
       " 'expenses',\n",
       " 'food',\n",
       " 'fuel',\n",
       " 'gift',\n",
       " 'groceries',\n",
       " 'home',\n",
       " 'household',\n",
       " 'medical',\n",
       " 'mortgage',\n",
       " 'payment',\n",
       " 'personal',\n",
       " 'restaurant',\n",
       " 'travel',\n",
       " 'utility',\n",
       " 'yard'}"
      ]
     },
     "execution_count": 8,
     "metadata": {},
     "output_type": "execute_result"
    }
   ],
   "source": [
    "DB.account_name_parts('expenses')"
   ]
  },
  {
   "cell_type": "code",
   "execution_count": 9,
   "id": "b5c4ffb7",
   "metadata": {},
   "outputs": [],
   "source": [
    "dct = DB.account_names()"
   ]
  },
  {
   "cell_type": "code",
   "execution_count": 10,
   "id": "50b57f94",
   "metadata": {},
   "outputs": [
    {
     "data": {
      "text/plain": [
       "{'equity': ['equity'],\n",
       " 'assets': ['assets:bank:checking', 'assets:bank:savings'],\n",
       " 'bank': ['assets:bank:checking', 'assets:bank:savings'],\n",
       " 'checking': ['assets:bank:checking'],\n",
       " 'savings': ['assets:bank:savings'],\n",
       " 'expenses': ['expenses:car',\n",
       "  'expenses:car:payment',\n",
       "  'expenses:car:fuel',\n",
       "  'expenses:donation',\n",
       "  'expenses:donation:gift',\n",
       "  'expenses:donation:charity',\n",
       "  'expenses:food',\n",
       "  'expenses:food:groceries',\n",
       "  'expenses:food:restaurant',\n",
       "  'expenses:home',\n",
       "  'expenses:home:mortgage',\n",
       "  'expenses:home:household',\n",
       "  'expenses:home:utility',\n",
       "  'expenses:home:yard',\n",
       "  'expenses:medical',\n",
       "  'expenses:personal:alice',\n",
       "  'expenses:personal:bob',\n",
       "  'expenses:personal:bob',\n",
       "  'expenses:travel'],\n",
       " 'car': ['expenses:car', 'expenses:car:payment', 'expenses:car:fuel'],\n",
       " 'payment': ['expenses:car:payment'],\n",
       " 'fuel': ['expenses:car:fuel'],\n",
       " 'donation': ['expenses:donation',\n",
       "  'expenses:donation:gift',\n",
       "  'expenses:donation:charity'],\n",
       " 'gift': ['expenses:donation:gift'],\n",
       " 'charity': ['expenses:donation:charity'],\n",
       " 'food': ['expenses:food',\n",
       "  'expenses:food:groceries',\n",
       "  'expenses:food:restaurant'],\n",
       " 'groceries': ['expenses:food:groceries'],\n",
       " 'restaurant': ['expenses:food:restaurant'],\n",
       " 'home': ['expenses:home',\n",
       "  'expenses:home:mortgage',\n",
       "  'expenses:home:household',\n",
       "  'expenses:home:utility',\n",
       "  'expenses:home:yard'],\n",
       " 'mortgage': ['expenses:home:mortgage'],\n",
       " 'household': ['expenses:home:household'],\n",
       " 'utility': ['expenses:home:utility'],\n",
       " 'yard': ['expenses:home:yard'],\n",
       " 'medical': ['expenses:medical'],\n",
       " 'personal': ['expenses:personal:alice',\n",
       "  'expenses:personal:bob',\n",
       "  'expenses:personal:bob'],\n",
       " 'alice': ['expenses:personal:alice'],\n",
       " 'bob': ['expenses:personal:bob', 'expenses:personal:bob'],\n",
       " 'travel': ['expenses:travel'],\n",
       " 'income': ['income:yoyodyne', 'income:ssa', 'income:interest'],\n",
       " 'yoyodyne': ['income:yoyodyne'],\n",
       " 'ssa': ['income:ssa'],\n",
       " 'interest': ['income:interest'],\n",
       " 'liabilities': ['liabilities:chase:visa'],\n",
       " 'chase': ['liabilities:chase:visa'],\n",
       " 'visa': ['liabilities:chase:visa']}"
      ]
     },
     "execution_count": 10,
     "metadata": {},
     "output_type": "execute_result"
    }
   ],
   "source": [
    "dct"
   ]
  },
  {
   "cell_type": "code",
   "execution_count": 11,
   "id": "64ee2810",
   "metadata": {},
   "outputs": [
    {
     "data": {
      "text/plain": [
       "['expenses:car',\n",
       " 'expenses:car:payment',\n",
       " 'expenses:car:fuel',\n",
       " 'expenses:donation',\n",
       " 'expenses:donation:gift',\n",
       " 'expenses:donation:charity',\n",
       " 'expenses:food',\n",
       " 'expenses:food:groceries',\n",
       " 'expenses:food:restaurant',\n",
       " 'expenses:home',\n",
       " 'expenses:home:mortgage',\n",
       " 'expenses:home:household',\n",
       " 'expenses:home:utility',\n",
       " 'expenses:home:yard',\n",
       " 'expenses:medical',\n",
       " 'expenses:personal:alice',\n",
       " 'expenses:personal:bob',\n",
       " 'expenses:personal:bob',\n",
       " 'expenses:travel']"
      ]
     },
     "execution_count": 11,
     "metadata": {},
     "output_type": "execute_result"
    }
   ],
   "source": [
    "dct['expenses']"
   ]
  },
  {
   "cell_type": "code",
   "execution_count": 12,
   "id": "e12e2342",
   "metadata": {},
   "outputs": [
    {
     "data": {
      "text/plain": [
       "19"
      ]
     },
     "execution_count": 12,
     "metadata": {},
     "output_type": "execute_result"
    }
   ],
   "source": [
    "len(dct['expenses'])"
   ]
  },
  {
   "cell_type": "code",
   "execution_count": 13,
   "id": "f94b5e3d",
   "metadata": {},
   "outputs": [],
   "source": [
    "dct = DB.account_names('expenses')"
   ]
  },
  {
   "cell_type": "code",
   "execution_count": 14,
   "id": "e3598394",
   "metadata": {},
   "outputs": [
    {
     "data": {
      "text/plain": [
       "{'expenses': ['expenses:car',\n",
       "  'expenses:car:payment',\n",
       "  'expenses:car:fuel',\n",
       "  'expenses:donation',\n",
       "  'expenses:donation:gift',\n",
       "  'expenses:donation:charity',\n",
       "  'expenses:food',\n",
       "  'expenses:food:groceries',\n",
       "  'expenses:food:restaurant',\n",
       "  'expenses:home',\n",
       "  'expenses:home:mortgage',\n",
       "  'expenses:home:household',\n",
       "  'expenses:home:utility',\n",
       "  'expenses:home:yard',\n",
       "  'expenses:medical',\n",
       "  'expenses:personal:alice',\n",
       "  'expenses:personal:bob',\n",
       "  'expenses:personal:bob',\n",
       "  'expenses:travel'],\n",
       " 'car': ['expenses:car', 'expenses:car:payment', 'expenses:car:fuel'],\n",
       " 'payment': ['expenses:car:payment'],\n",
       " 'fuel': ['expenses:car:fuel'],\n",
       " 'donation': ['expenses:donation',\n",
       "  'expenses:donation:gift',\n",
       "  'expenses:donation:charity'],\n",
       " 'gift': ['expenses:donation:gift'],\n",
       " 'charity': ['expenses:donation:charity'],\n",
       " 'food': ['expenses:food',\n",
       "  'expenses:food:groceries',\n",
       "  'expenses:food:restaurant'],\n",
       " 'groceries': ['expenses:food:groceries'],\n",
       " 'restaurant': ['expenses:food:restaurant'],\n",
       " 'home': ['expenses:home',\n",
       "  'expenses:home:mortgage',\n",
       "  'expenses:home:household',\n",
       "  'expenses:home:utility',\n",
       "  'expenses:home:yard'],\n",
       " 'mortgage': ['expenses:home:mortgage'],\n",
       " 'household': ['expenses:home:household'],\n",
       " 'utility': ['expenses:home:utility'],\n",
       " 'yard': ['expenses:home:yard'],\n",
       " 'medical': ['expenses:medical'],\n",
       " 'personal': ['expenses:personal:alice',\n",
       "  'expenses:personal:bob',\n",
       "  'expenses:personal:bob'],\n",
       " 'alice': ['expenses:personal:alice'],\n",
       " 'bob': ['expenses:personal:bob', 'expenses:personal:bob'],\n",
       " 'travel': ['expenses:travel']}"
      ]
     },
     "execution_count": 14,
     "metadata": {},
     "output_type": "execute_result"
    }
   ],
   "source": [
    "dct"
   ]
  },
  {
   "cell_type": "code",
   "execution_count": 15,
   "id": "9fcdd8fa",
   "metadata": {},
   "outputs": [
    {
     "data": {
      "text/plain": [
       "20"
      ]
     },
     "execution_count": 15,
     "metadata": {},
     "output_type": "execute_result"
    }
   ],
   "source": [
    "len(dct)"
   ]
  },
  {
   "cell_type": "code",
   "execution_count": 16,
   "id": "b0f1d649",
   "metadata": {},
   "outputs": [
    {
     "data": {
      "text/plain": [
       "['expenses:car', 'expenses:car:payment', 'expenses:car:fuel']"
      ]
     },
     "execution_count": 16,
     "metadata": {},
     "output_type": "execute_result"
    }
   ],
   "source": [
    "dct['car']"
   ]
  },
  {
   "cell_type": "code",
   "execution_count": 17,
   "id": "3f3728e5",
   "metadata": {},
   "outputs": [
    {
     "data": {
      "text/plain": [
       "['equity',\n",
       " 'assets:bank:checking',\n",
       " 'assets:bank:savings',\n",
       " 'expenses:car',\n",
       " 'expenses:car:payment',\n",
       " 'expenses:car:fuel',\n",
       " 'expenses:donation',\n",
       " 'expenses:donation:gift',\n",
       " 'expenses:donation:charity',\n",
       " 'expenses:food',\n",
       " 'expenses:food:groceries',\n",
       " 'expenses:food:restaurant',\n",
       " 'expenses:home',\n",
       " 'expenses:home:mortgage',\n",
       " 'expenses:home:household',\n",
       " 'expenses:home:utility',\n",
       " 'expenses:home:yard',\n",
       " 'expenses:medical',\n",
       " 'expenses:personal:alice',\n",
       " 'expenses:personal:bob',\n",
       " 'expenses:personal:bob',\n",
       " 'expenses:travel',\n",
       " 'income:yoyodyne',\n",
       " 'income:ssa',\n",
       " 'income:interest',\n",
       " 'liabilities:chase:visa']"
      ]
     },
     "execution_count": 17,
     "metadata": {},
     "output_type": "execute_result"
    }
   ],
   "source": [
    "DB.account_groups()"
   ]
  },
  {
   "cell_type": "code",
   "execution_count": 18,
   "id": "a2e618ef",
   "metadata": {},
   "outputs": [
    {
     "data": {
      "text/plain": [
       "['expenses:car',\n",
       " 'expenses:car:payment',\n",
       " 'expenses:car:fuel',\n",
       " 'expenses:donation',\n",
       " 'expenses:donation:gift',\n",
       " 'expenses:donation:charity',\n",
       " 'expenses:food',\n",
       " 'expenses:food:groceries',\n",
       " 'expenses:food:restaurant',\n",
       " 'expenses:home',\n",
       " 'expenses:home:mortgage',\n",
       " 'expenses:home:household',\n",
       " 'expenses:home:utility',\n",
       " 'expenses:home:yard',\n",
       " 'expenses:medical',\n",
       " 'expenses:personal:alice',\n",
       " 'expenses:personal:bob',\n",
       " 'expenses:personal:bob',\n",
       " 'expenses:travel']"
      ]
     },
     "execution_count": 18,
     "metadata": {},
     "output_type": "execute_result"
    }
   ],
   "source": [
    "DB.account_groups(['expenses'])"
   ]
  },
  {
   "cell_type": "code",
   "execution_count": 19,
   "id": "5979c1e1",
   "metadata": {},
   "outputs": [
    {
     "data": {
      "text/plain": [
       "['expenses.*']"
      ]
     },
     "execution_count": 19,
     "metadata": {},
     "output_type": "execute_result"
    }
   ],
   "source": [
    "DB.account_groups(['expenses:1'])"
   ]
  },
  {
   "cell_type": "code",
   "execution_count": 20,
   "id": "8f0125de",
   "metadata": {},
   "outputs": [
    {
     "data": {
      "text/plain": [
       "['expenses:car.*',\n",
       " 'expenses:donation.*',\n",
       " 'expenses:food.*',\n",
       " 'expenses:home.*',\n",
       " 'expenses:medical.*',\n",
       " 'expenses:travel.*']"
      ]
     },
     "execution_count": 20,
     "metadata": {},
     "output_type": "execute_result"
    }
   ],
   "source": [
    "DB.account_groups(['expenses:2'])"
   ]
  },
  {
   "cell_type": "code",
   "execution_count": 21,
   "id": "779e599d",
   "metadata": {},
   "outputs": [
    {
     "data": {
      "text/plain": [
       "['expenses:car',\n",
       " 'expenses:car:payment.*',\n",
       " 'expenses:car:fuel.*',\n",
       " 'expenses:donation',\n",
       " 'expenses:donation:gift.*',\n",
       " 'expenses:donation:charity.*',\n",
       " 'expenses:food',\n",
       " 'expenses:food:groceries.*',\n",
       " 'expenses:food:restaurant.*',\n",
       " 'expenses:home',\n",
       " 'expenses:home:mortgage.*',\n",
       " 'expenses:home:household.*',\n",
       " 'expenses:home:utility.*',\n",
       " 'expenses:home:yard.*',\n",
       " 'expenses:medical',\n",
       " 'expenses:personal:alice.*',\n",
       " 'expenses:personal:bob.*',\n",
       " 'expenses:personal:bob.*',\n",
       " 'expenses:travel']"
      ]
     },
     "execution_count": 21,
     "metadata": {},
     "output_type": "execute_result"
    }
   ],
   "source": [
    "DB.account_groups(['expenses:3'])"
   ]
  },
  {
   "cell_type": "code",
   "execution_count": 22,
   "id": "e4892099",
   "metadata": {},
   "outputs": [
    {
     "data": {
      "text/plain": [
       "['expenses:food', 'expenses:food:groceries', 'expenses:food:restaurant']"
      ]
     },
     "execution_count": 22,
     "metadata": {},
     "output_type": "execute_result"
    }
   ],
   "source": [
    "DB.account_groups(['expenses:food'])"
   ]
  },
  {
   "cell_type": "code",
   "execution_count": 23,
   "id": "d93c1063",
   "metadata": {},
   "outputs": [
    {
     "data": {
      "text/plain": [
       "['expenses:food.*']"
      ]
     },
     "execution_count": 23,
     "metadata": {},
     "output_type": "execute_result"
    }
   ],
   "source": [
    "DB.account_groups(['expenses:food:2'])"
   ]
  },
  {
   "cell_type": "code",
   "execution_count": 24,
   "id": "9ae15eb0",
   "metadata": {},
   "outputs": [
    {
     "data": {
      "text/plain": [
       "['expenses:food', 'expenses:food:groceries.*', 'expenses:food:restaurant.*']"
      ]
     },
     "execution_count": 24,
     "metadata": {},
     "output_type": "execute_result"
    }
   ],
   "source": [
    "DB.account_groups(['expenses:food:3'])"
   ]
  },
  {
   "cell_type": "code",
   "execution_count": 25,
   "id": "e489a913",
   "metadata": {},
   "outputs": [
    {
     "data": {
      "text/plain": [
       "['expenses:car',\n",
       " 'expenses:car:payment',\n",
       " 'expenses:car:fuel',\n",
       " 'expenses:donation',\n",
       " 'expenses:donation:gift',\n",
       " 'expenses:donation:charity',\n",
       " 'expenses:food',\n",
       " 'expenses:food:groceries',\n",
       " 'expenses:food:restaurant',\n",
       " 'expenses:home',\n",
       " 'expenses:home:mortgage',\n",
       " 'expenses:home:household',\n",
       " 'expenses:home:utility',\n",
       " 'expenses:home:yard',\n",
       " 'expenses:medical',\n",
       " 'expenses:personal:alice',\n",
       " 'expenses:personal:bob',\n",
       " 'expenses:personal:bob',\n",
       " 'expenses:travel',\n",
       " 'income:yoyodyne',\n",
       " 'income:ssa',\n",
       " 'income:interest']"
      ]
     },
     "execution_count": 25,
     "metadata": {},
     "output_type": "execute_result"
    }
   ],
   "source": [
    "DB.account_groups(['expenses','income'])"
   ]
  },
  {
   "cell_type": "code",
   "execution_count": 26,
   "id": "e6fd9f32",
   "metadata": {},
   "outputs": [
    {
     "data": {
      "text/plain": [
       "['expenses.*', 'income.*']"
      ]
     },
     "execution_count": 26,
     "metadata": {},
     "output_type": "execute_result"
    }
   ],
   "source": [
    "DB.account_groups(['expenses:1','income:1'])"
   ]
  },
  {
   "cell_type": "code",
   "execution_count": 27,
   "id": "7770e67f",
   "metadata": {},
   "outputs": [
    {
     "data": {
      "text/plain": [
       "['expenses:car.*',\n",
       " 'expenses:donation.*',\n",
       " 'expenses:food.*',\n",
       " 'expenses:home.*',\n",
       " 'expenses:medical.*',\n",
       " 'expenses:travel.*',\n",
       " 'income:yoyodyne.*',\n",
       " 'income:ssa.*',\n",
       " 'income:interest.*']"
      ]
     },
     "execution_count": 27,
     "metadata": {},
     "output_type": "execute_result"
    }
   ],
   "source": [
    "DB.account_groups(['expenses:2','income:2'])"
   ]
  },
  {
   "cell_type": "code",
   "execution_count": 28,
   "id": "feb1af54",
   "metadata": {},
   "outputs": [
    {
     "data": {
      "text/plain": [
       "[<Account: groceries expenses>]"
      ]
     },
     "execution_count": 28,
     "metadata": {},
     "output_type": "execute_result"
    }
   ],
   "source": [
    "Account.objects(name__exact='expenses:food:groceries')"
   ]
  },
  {
   "cell_type": "code",
   "execution_count": 29,
   "id": "98eef2ba",
   "metadata": {},
   "outputs": [
    {
     "data": {
      "text/plain": [
       "[<Account: groceries expenses>]"
      ]
     },
     "execution_count": 29,
     "metadata": {},
     "output_type": "execute_result"
    }
   ],
   "source": [
    "Account.objects(abbrev__exact='groceries')"
   ]
  },
  {
   "cell_type": "code",
   "execution_count": 30,
   "id": "e1e1193a",
   "metadata": {},
   "outputs": [],
   "source": [
    "s = 'expenses:food:groceries'"
   ]
  },
  {
   "cell_type": "code",
   "execution_count": 31,
   "id": "280e8ed5",
   "metadata": {},
   "outputs": [
    {
     "name": "stdout",
     "output_type": "stream",
     "text": [
      "expenses:food:groceries\n"
     ]
    }
   ],
   "source": [
    "if acct := Account.objects(name__exact=s) or Account.objects(abbrev__exact=s):\n",
    "    print(acct[0].name)"
   ]
  },
  {
   "cell_type": "code",
   "execution_count": 32,
   "id": "b635d25b",
   "metadata": {},
   "outputs": [
    {
     "data": {
      "text/plain": [
       "'expenses:food:groceries'"
      ]
     },
     "execution_count": 32,
     "metadata": {},
     "output_type": "execute_result"
    }
   ],
   "source": [
    "DB.fullname('expenses:food:groceries')"
   ]
  },
  {
   "cell_type": "code",
   "execution_count": 33,
   "id": "ca0a4ad0",
   "metadata": {},
   "outputs": [
    {
     "data": {
      "text/plain": [
       "'expenses:food:groceries'"
      ]
     },
     "execution_count": 33,
     "metadata": {},
     "output_type": "execute_result"
    }
   ],
   "source": [
    "DB.fullname('groceries')"
   ]
  },
  {
   "cell_type": "code",
   "execution_count": 34,
   "id": "9c0dc81e",
   "metadata": {},
   "outputs": [],
   "source": [
    "DB.fullname('groc')"
   ]
  },
  {
   "cell_type": "code",
   "execution_count": 35,
   "id": "8783cf29",
   "metadata": {},
   "outputs": [
    {
     "data": {
      "text/plain": [
       "<Account: checking assets>"
      ]
     },
     "execution_count": 35,
     "metadata": {},
     "output_type": "execute_result"
    }
   ],
   "source": [
    "Account.objects.get(name='assets:bank:checking')"
   ]
  },
  {
   "cell_type": "code",
   "execution_count": 36,
   "id": "b3e0d8a7",
   "metadata": {},
   "outputs": [
    {
     "data": {
      "text/plain": [
       "<Account: checking assets>"
      ]
     },
     "execution_count": 36,
     "metadata": {},
     "output_type": "execute_result"
    }
   ],
   "source": [
    "Account.objects.get(abbrev='checking')"
   ]
  },
  {
   "cell_type": "markdown",
   "id": "903aa2f2",
   "metadata": {},
   "source": [
    "Bummer -- would be nice if this returned None instead of raising an exception:"
   ]
  },
  {
   "cell_type": "code",
   "execution_count": 37,
   "id": "2c348a73",
   "metadata": {},
   "outputs": [],
   "source": [
    "# Account.objects.get(abbrev='foo')"
   ]
  },
  {
   "cell_type": "code",
   "execution_count": 38,
   "id": "777e6a46",
   "metadata": {},
   "outputs": [
    {
     "data": {
      "text/plain": [
       "dexter.DB.DoesNotExist"
      ]
     },
     "execution_count": 38,
     "metadata": {},
     "output_type": "execute_result"
    }
   ],
   "source": [
    "Account.DoesNotExist"
   ]
  },
  {
   "cell_type": "code",
   "execution_count": 39,
   "id": "4f74f71c",
   "metadata": {},
   "outputs": [
    {
     "data": {
      "text/plain": [
       "<Account: equity equity>"
      ]
     },
     "execution_count": 39,
     "metadata": {},
     "output_type": "execute_result"
    }
   ],
   "source": [
    "Account.objects.first()"
   ]
  },
  {
   "cell_type": "code",
   "execution_count": 40,
   "id": "e697a234",
   "metadata": {},
   "outputs": [],
   "source": [
    "def abbrev(a):\n",
    "    try:\n",
    "        acct = Account.objects.get(name=a)\n",
    "        res = acct.abbrev\n",
    "    except Account.DoesNotExist:\n",
    "        res = a\n",
    "    return res"
   ]
  },
  {
   "cell_type": "code",
   "execution_count": 41,
   "id": "d9fa3f21",
   "metadata": {},
   "outputs": [
    {
     "data": {
      "text/plain": [
       "'checking'"
      ]
     },
     "execution_count": 41,
     "metadata": {},
     "output_type": "execute_result"
    }
   ],
   "source": [
    "abbrev('assets:bank:checking')"
   ]
  },
  {
   "cell_type": "code",
   "execution_count": 42,
   "id": "a42cfec6",
   "metadata": {},
   "outputs": [
    {
     "data": {
      "text/plain": [
       "'assets:bank:whatever'"
      ]
     },
     "execution_count": 42,
     "metadata": {},
     "output_type": "execute_result"
    }
   ],
   "source": [
    "abbrev('assets:bank:whatever')"
   ]
  },
  {
   "cell_type": "code",
   "execution_count": 43,
   "id": "0c9de8c8",
   "metadata": {},
   "outputs": [
    {
     "ename": "MultipleObjectsReturned",
     "evalue": "2 or more items returned, instead of 1",
     "output_type": "error",
     "traceback": [
      "\u001b[31m---------------------------------------------------------------------------\u001b[39m",
      "\u001b[31mMultipleObjectsReturned\u001b[39m                   Traceback (most recent call last)",
      "\u001b[36mCell\u001b[39m\u001b[36m \u001b[39m\u001b[32mIn[43]\u001b[39m\u001b[32m, line 1\u001b[39m\n\u001b[32m----> \u001b[39m\u001b[32m1\u001b[39m \u001b[43mabbrev\u001b[49m\u001b[43m(\u001b[49m\u001b[33;43m'\u001b[39;49m\u001b[33;43mexpenses:personal:bob\u001b[39;49m\u001b[33;43m'\u001b[39;49m\u001b[43m)\u001b[49m\n",
      "\u001b[36mCell\u001b[39m\u001b[36m \u001b[39m\u001b[32mIn[40]\u001b[39m\u001b[32m, line 3\u001b[39m, in \u001b[36mabbrev\u001b[39m\u001b[34m(a)\u001b[39m\n\u001b[32m      1\u001b[39m \u001b[38;5;28;01mdef\u001b[39;00m\u001b[38;5;250m \u001b[39m\u001b[34mabbrev\u001b[39m(a):\n\u001b[32m      2\u001b[39m     \u001b[38;5;28;01mtry\u001b[39;00m:\n\u001b[32m----> \u001b[39m\u001b[32m3\u001b[39m         acct = \u001b[43mAccount\u001b[49m\u001b[43m.\u001b[49m\u001b[43mobjects\u001b[49m\u001b[43m.\u001b[49m\u001b[43mget\u001b[49m\u001b[43m(\u001b[49m\u001b[43mname\u001b[49m\u001b[43m=\u001b[49m\u001b[43ma\u001b[49m\u001b[43m)\u001b[49m\n\u001b[32m      4\u001b[39m         res = acct.abbrev\n\u001b[32m      5\u001b[39m     \u001b[38;5;28;01mexcept\u001b[39;00m Account.DoesNotExist:\n",
      "\u001b[36mFile \u001b[39m\u001b[32m~/.pyenv/versions/3.13.1/envs/nosql/lib/python3.13/site-packages/mongoengine/queryset/base.py:286\u001b[39m, in \u001b[36mBaseQuerySet.get\u001b[39m\u001b[34m(self, *q_objs, **query)\u001b[39m\n\u001b[32m    283\u001b[39m     \u001b[38;5;28;01mreturn\u001b[39;00m result\n\u001b[32m    285\u001b[39m \u001b[38;5;66;03m# If we were able to retrieve the 2nd doc, raise the MultipleObjectsReturned exception.\u001b[39;00m\n\u001b[32m--> \u001b[39m\u001b[32m286\u001b[39m \u001b[38;5;28;01mraise\u001b[39;00m queryset._document.MultipleObjectsReturned(\n\u001b[32m    287\u001b[39m     \u001b[33m\"\u001b[39m\u001b[33m2 or more items returned, instead of 1\u001b[39m\u001b[33m\"\u001b[39m\n\u001b[32m    288\u001b[39m )\n",
      "\u001b[31mMultipleObjectsReturned\u001b[39m: 2 or more items returned, instead of 1"
     ]
    }
   ],
   "source": [
    "abbrev('expenses:personal:bob')"
   ]
  },
  {
   "cell_type": "markdown",
   "id": "31f85f2b",
   "metadata": {},
   "source": [
    "### Balances"
   ]
  },
  {
   "cell_type": "code",
   "execution_count": null,
   "id": "bd33fd91",
   "metadata": {},
   "outputs": [
    {
     "data": {
      "text/plain": [
       "[<Entry: <En 2024-01-02 expenses:food -$500.0 [<Tag.B: '#budget'>]>>, <Entry: <En 2024-02-02 expenses:food -$500.0 [<Tag.B: '#budget'>]>>, <Entry: <En 2024-01-07 expenses:food:groceries +$75.0 []>>, <Entry: <En 2024-01-21 expenses:food:groceries +$175.0 []>>, <Entry: <En 2024-02-07 expenses:food:groceries +$75.0 []>>, <Entry: <En 2024-02-21 expenses:food:groceries +$75.0 []>>]"
      ]
     },
     "execution_count": 27,
     "metadata": {},
     "output_type": "execute_result"
    }
   ],
   "source": [
    "DB.select(Entry, account='expenses:food*')"
   ]
  },
  {
   "cell_type": "code",
   "execution_count": null,
   "id": "f0e2ce84",
   "metadata": {},
   "outputs": [
    {
     "name": "stdout",
     "output_type": "stream",
     "text": [
      "<En 2024-01-02 expenses:food -$500.0 [<Tag.B: '#budget'>]>\n",
      "<En 2024-02-02 expenses:food -$500.0 [<Tag.B: '#budget'>]>\n",
      "<En 2024-01-07 expenses:food:groceries +$75.0 []>\n",
      "<En 2024-01-21 expenses:food:groceries +$175.0 []>\n",
      "<En 2024-02-07 expenses:food:groceries +$75.0 []>\n",
      "<En 2024-02-21 expenses:food:groceries +$75.0 []>\n"
     ]
    }
   ],
   "source": [
    "for e in DB.select(Entry, account='expenses:food*'):\n",
    "    print(e)"
   ]
  },
  {
   "cell_type": "code",
   "execution_count": null,
   "id": "9ac369d1",
   "metadata": {},
   "outputs": [
    {
     "name": "stdout",
     "output_type": "stream",
     "text": [
      "<Tr 2024-01-02 expenses:food/expenses:home/expenses:car/expenses:travel/equity -> income:yoyodyne $5000.0 fill envelopes ['#budget']>\n",
      "<Tr 2024-02-02 expenses:food/expenses:home/expenses:car/expenses:travel/equity -> income:yoyodyne $5000.0 fill envelopes ['#budget']>\n"
     ]
    }
   ],
   "source": [
    "for t in DB.select(Transaction, tag='#budget'):\n",
    "    print(t)"
   ]
  },
  {
   "cell_type": "code",
   "execution_count": null,
   "id": "b75f5e7d",
   "metadata": {},
   "outputs": [
    {
     "data": {
      "text/plain": [
       "-600.0"
      ]
     },
     "execution_count": 35,
     "metadata": {},
     "output_type": "execute_result"
    }
   ],
   "source": [
    "DB.balance('food')"
   ]
  },
  {
   "cell_type": "code",
   "execution_count": null,
   "id": "de1070ad",
   "metadata": {},
   "outputs": [
    {
     "data": {
      "text/plain": [
       "400.0"
      ]
     },
     "execution_count": 36,
     "metadata": {},
     "output_type": "execute_result"
    }
   ],
   "source": [
    "DB.balance('food', budgets=False)"
   ]
  },
  {
   "cell_type": "code",
   "execution_count": null,
   "id": "57d57929",
   "metadata": {},
   "outputs": [
    {
     "data": {
      "text/plain": [
       "-250.0"
      ]
     },
     "execution_count": 37,
     "metadata": {},
     "output_type": "execute_result"
    }
   ],
   "source": [
    "DB.balance('food', ending='2024-01-31')"
   ]
  },
  {
   "cell_type": "code",
   "execution_count": null,
   "id": "84fb3989",
   "metadata": {},
   "outputs": [
    {
     "data": {
      "text/plain": [
       "250.0"
      ]
     },
     "execution_count": 38,
     "metadata": {},
     "output_type": "execute_result"
    }
   ],
   "source": [
    "DB.balance('food', ending='2024-01-31', budgets=False)"
   ]
  },
  {
   "cell_type": "code",
   "execution_count": null,
   "id": "7fedcd1d",
   "metadata": {},
   "outputs": [],
   "source": []
  }
 ],
 "metadata": {
  "kernelspec": {
   "display_name": "nosql",
   "language": "python",
   "name": "python3"
  },
  "language_info": {
   "codemirror_mode": {
    "name": "ipython",
    "version": 3
   },
   "file_extension": ".py",
   "mimetype": "text/x-python",
   "name": "python",
   "nbconvert_exporter": "python",
   "pygments_lexer": "ipython3",
   "version": "3.13.1"
  }
 },
 "nbformat": 4,
 "nbformat_minor": 5
}
