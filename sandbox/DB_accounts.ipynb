{
 "cells": [
  {
   "cell_type": "markdown",
   "id": "02cd6aa6",
   "metadata": {},
   "source": [
    "### Test methods that work with accounts"
   ]
  },
  {
   "cell_type": "code",
   "execution_count": 1,
   "id": "aa69f83c",
   "metadata": {},
   "outputs": [],
   "source": [
    "from dexter.DB import DB, Account, Entry, Transaction, Document"
   ]
  },
  {
   "cell_type": "code",
   "execution_count": 2,
   "id": "1cbb96f2",
   "metadata": {},
   "outputs": [],
   "source": [
    "DB.open('demo')"
   ]
  },
  {
   "cell_type": "markdown",
   "id": "3aab894f",
   "metadata": {},
   "source": [
    "### Match Account Names"
   ]
  },
  {
   "cell_type": "code",
   "execution_count": 3,
   "id": "15380637",
   "metadata": {},
   "outputs": [
    {
     "data": {
      "text/plain": [
       "[<Account: <Acct assets:checking assets>>]"
      ]
     },
     "execution_count": 3,
     "metadata": {},
     "output_type": "execute_result"
    }
   ],
   "source": [
    "Account.objects(name__contains='checking')"
   ]
  },
  {
   "cell_type": "code",
   "execution_count": 4,
   "id": "bfa0477b",
   "metadata": {},
   "outputs": [
    {
     "data": {
      "text/plain": [
       "[<Account: <Acct expenses:food expenses>>, <Account: <Acct expenses:food:groceries expenses>>, <Account: <Acct expenses:food:restaurant expenses>>]"
      ]
     },
     "execution_count": 4,
     "metadata": {},
     "output_type": "execute_result"
    }
   ],
   "source": [
    "Account.objects(name__contains='food')"
   ]
  },
  {
   "cell_type": "code",
   "execution_count": 5,
   "id": "1d119a3b",
   "metadata": {},
   "outputs": [
    {
     "name": "stdout",
     "output_type": "stream",
     "text": [
      "<Acct expenses:food expenses>\n",
      "<Acct expenses:food:groceries expenses>\n",
      "<Acct expenses:food:restaurant expenses>\n"
     ]
    }
   ],
   "source": [
    "for a in DB.find_account('food'):\n",
    "    print(a)"
   ]
  },
  {
   "cell_type": "code",
   "execution_count": 6,
   "id": "a3d355fa",
   "metadata": {},
   "outputs": [
    {
     "data": {
      "text/plain": [
       "{'assets',\n",
       " 'car',\n",
       " 'chase',\n",
       " 'checking',\n",
       " 'equity',\n",
       " 'expenses',\n",
       " 'food',\n",
       " 'groceries',\n",
       " 'home',\n",
       " 'income',\n",
       " 'liabilities',\n",
       " 'restaurant',\n",
       " 'savings',\n",
       " 'visa',\n",
       " 'yoyodyne'}"
      ]
     },
     "execution_count": 6,
     "metadata": {},
     "output_type": "execute_result"
    }
   ],
   "source": [
    "DB.account_name_parts()"
   ]
  },
  {
   "cell_type": "code",
   "execution_count": 7,
   "id": "407030b5",
   "metadata": {},
   "outputs": [
    {
     "data": {
      "text/plain": [
       "{'car', 'expenses', 'food', 'groceries', 'home', 'restaurant'}"
      ]
     },
     "execution_count": 7,
     "metadata": {},
     "output_type": "execute_result"
    }
   ],
   "source": [
    "DB.account_name_parts('expenses')"
   ]
  },
  {
   "cell_type": "code",
   "execution_count": 8,
   "id": "b5c4ffb7",
   "metadata": {},
   "outputs": [
    {
     "data": {
      "text/plain": [
       "{'equity': ['equity'],\n",
       " 'assets': ['assets:checking', 'assets:savings'],\n",
       " 'checking': ['assets:checking'],\n",
       " 'savings': ['assets:savings'],\n",
       " 'expenses': ['expenses:car',\n",
       "  'expenses:food',\n",
       "  'expenses:food:groceries',\n",
       "  'expenses:food:restaurant',\n",
       "  'expenses:home'],\n",
       " 'car': ['expenses:car'],\n",
       " 'food': ['expenses:food',\n",
       "  'expenses:food:groceries',\n",
       "  'expenses:food:restaurant'],\n",
       " 'groceries': ['expenses:food:groceries'],\n",
       " 'restaurant': ['expenses:food:restaurant'],\n",
       " 'home': ['expenses:home'],\n",
       " 'income': ['income:yoyodyne'],\n",
       " 'yoyodyne': ['income:yoyodyne'],\n",
       " 'liabilities': ['liabilities:chase:visa'],\n",
       " 'chase': ['liabilities:chase:visa'],\n",
       " 'visa': ['liabilities:chase:visa']}"
      ]
     },
     "execution_count": 8,
     "metadata": {},
     "output_type": "execute_result"
    }
   ],
   "source": [
    "DB.full_names()"
   ]
  },
  {
   "cell_type": "code",
   "execution_count": 9,
   "id": "f94b5e3d",
   "metadata": {},
   "outputs": [
    {
     "data": {
      "text/plain": [
       "{'expenses': ['expenses:car',\n",
       "  'expenses:food',\n",
       "  'expenses:food:groceries',\n",
       "  'expenses:food:restaurant',\n",
       "  'expenses:home'],\n",
       " 'car': ['expenses:car'],\n",
       " 'food': ['expenses:food',\n",
       "  'expenses:food:groceries',\n",
       "  'expenses:food:restaurant'],\n",
       " 'groceries': ['expenses:food:groceries'],\n",
       " 'restaurant': ['expenses:food:restaurant'],\n",
       " 'home': ['expenses:home']}"
      ]
     },
     "execution_count": 9,
     "metadata": {},
     "output_type": "execute_result"
    }
   ],
   "source": [
    "DB.full_names('expenses')"
   ]
  },
  {
   "cell_type": "code",
   "execution_count": 10,
   "id": "3f3728e5",
   "metadata": {},
   "outputs": [
    {
     "data": {
      "text/plain": [
       "['equity',\n",
       " 'assets:checking',\n",
       " 'assets:savings',\n",
       " 'expenses:car',\n",
       " 'expenses:food',\n",
       " 'expenses:food:groceries',\n",
       " 'expenses:food:restaurant',\n",
       " 'expenses:home',\n",
       " 'income:yoyodyne',\n",
       " 'liabilities:chase:visa']"
      ]
     },
     "execution_count": 10,
     "metadata": {},
     "output_type": "execute_result"
    }
   ],
   "source": [
    "DB.account_groups()"
   ]
  },
  {
   "cell_type": "code",
   "execution_count": 11,
   "id": "a2e618ef",
   "metadata": {},
   "outputs": [
    {
     "data": {
      "text/plain": [
       "['expenses:car',\n",
       " 'expenses:food',\n",
       " 'expenses:food:groceries',\n",
       " 'expenses:food:restaurant',\n",
       " 'expenses:home']"
      ]
     },
     "execution_count": 11,
     "metadata": {},
     "output_type": "execute_result"
    }
   ],
   "source": [
    "DB.account_groups(['expenses'])"
   ]
  },
  {
   "cell_type": "code",
   "execution_count": 12,
   "id": "5979c1e1",
   "metadata": {},
   "outputs": [
    {
     "data": {
      "text/plain": [
       "['expenses.*']"
      ]
     },
     "execution_count": 12,
     "metadata": {},
     "output_type": "execute_result"
    }
   ],
   "source": [
    "DB.account_groups(['expenses:1'])"
   ]
  },
  {
   "cell_type": "code",
   "execution_count": 13,
   "id": "8f0125de",
   "metadata": {},
   "outputs": [
    {
     "data": {
      "text/plain": [
       "['expenses:car.*', 'expenses:food.*', 'expenses:home.*']"
      ]
     },
     "execution_count": 13,
     "metadata": {},
     "output_type": "execute_result"
    }
   ],
   "source": [
    "DB.account_groups(['expenses:2'])"
   ]
  },
  {
   "cell_type": "code",
   "execution_count": 14,
   "id": "779e599d",
   "metadata": {},
   "outputs": [
    {
     "data": {
      "text/plain": [
       "['expenses:car.*',\n",
       " 'expenses:food.*',\n",
       " 'expenses:food:groceries.*',\n",
       " 'expenses:food:restaurant.*',\n",
       " 'expenses:home.*']"
      ]
     },
     "execution_count": 14,
     "metadata": {},
     "output_type": "execute_result"
    }
   ],
   "source": [
    "DB.account_groups(['expenses:3'])"
   ]
  },
  {
   "cell_type": "code",
   "execution_count": 15,
   "id": "e4892099",
   "metadata": {},
   "outputs": [
    {
     "data": {
      "text/plain": [
       "['expenses:food', 'expenses:food:groceries', 'expenses:food:restaurant']"
      ]
     },
     "execution_count": 15,
     "metadata": {},
     "output_type": "execute_result"
    }
   ],
   "source": [
    "DB.account_groups(['expenses:food'])"
   ]
  },
  {
   "cell_type": "code",
   "execution_count": 16,
   "id": "d93c1063",
   "metadata": {},
   "outputs": [
    {
     "data": {
      "text/plain": [
       "['expenses:food.*']"
      ]
     },
     "execution_count": 16,
     "metadata": {},
     "output_type": "execute_result"
    }
   ],
   "source": [
    "DB.account_groups(['expenses:food:2'])"
   ]
  },
  {
   "cell_type": "code",
   "execution_count": 17,
   "id": "9ae15eb0",
   "metadata": {},
   "outputs": [
    {
     "data": {
      "text/plain": [
       "['expenses:food.*', 'expenses:food:groceries.*', 'expenses:food:restaurant.*']"
      ]
     },
     "execution_count": 17,
     "metadata": {},
     "output_type": "execute_result"
    }
   ],
   "source": [
    "DB.account_groups(['expenses:food:3'])"
   ]
  },
  {
   "cell_type": "code",
   "execution_count": 18,
   "id": "e489a913",
   "metadata": {},
   "outputs": [
    {
     "data": {
      "text/plain": [
       "['expenses:car',\n",
       " 'expenses:food',\n",
       " 'expenses:food:groceries',\n",
       " 'expenses:food:restaurant',\n",
       " 'expenses:home',\n",
       " 'income:yoyodyne']"
      ]
     },
     "execution_count": 18,
     "metadata": {},
     "output_type": "execute_result"
    }
   ],
   "source": [
    "DB.account_groups(['expenses','income'])"
   ]
  },
  {
   "cell_type": "code",
   "execution_count": 19,
   "id": "e6fd9f32",
   "metadata": {},
   "outputs": [
    {
     "data": {
      "text/plain": [
       "['expenses.*', 'income.*']"
      ]
     },
     "execution_count": 19,
     "metadata": {},
     "output_type": "execute_result"
    }
   ],
   "source": [
    "DB.account_groups(['expenses:1','income:1'])"
   ]
  },
  {
   "cell_type": "code",
   "execution_count": 20,
   "id": "7770e67f",
   "metadata": {},
   "outputs": [
    {
     "data": {
      "text/plain": [
       "['expenses:car.*', 'expenses:food.*', 'expenses:home.*', 'income:yoyodyne.*']"
      ]
     },
     "execution_count": 20,
     "metadata": {},
     "output_type": "execute_result"
    }
   ],
   "source": [
    "DB.account_groups(['expenses:2','income:2'])"
   ]
  },
  {
   "cell_type": "code",
   "execution_count": 21,
   "id": "a5257e7a",
   "metadata": {},
   "outputs": [
    {
     "data": {
      "text/plain": [
       "{'a': 0, 'b': 2, 'c': 3}"
      ]
     },
     "execution_count": 21,
     "metadata": {},
     "output_type": "execute_result"
    }
   ],
   "source": [
    "{'a': 0, 'b': 1} | {'b': 2, 'c': 3}"
   ]
  },
  {
   "cell_type": "code",
   "execution_count": null,
   "id": "bd33fd91",
   "metadata": {},
   "outputs": [],
   "source": []
  }
 ],
 "metadata": {
  "kernelspec": {
   "display_name": "nosql",
   "language": "python",
   "name": "python3"
  },
  "language_info": {
   "codemirror_mode": {
    "name": "ipython",
    "version": 3
   },
   "file_extension": ".py",
   "mimetype": "text/x-python",
   "name": "python",
   "nbconvert_exporter": "python",
   "pygments_lexer": "ipython3",
   "version": "3.13.1"
  }
 },
 "nbformat": 4,
 "nbformat_minor": 5
}
