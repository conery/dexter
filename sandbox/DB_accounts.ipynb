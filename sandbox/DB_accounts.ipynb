{
 "cells": [
  {
   "cell_type": "markdown",
   "id": "02cd6aa6",
   "metadata": {},
   "source": [
    "### Test methods that work with accounts"
   ]
  },
  {
   "cell_type": "code",
   "execution_count": 1,
   "id": "aa69f83c",
   "metadata": {},
   "outputs": [],
   "source": [
    "from dexter.DB import DB, Account, Entry, Transaction, Document, Tag\n",
    "\n",
    "import re"
   ]
  },
  {
   "cell_type": "code",
   "execution_count": 2,
   "id": "1cbb96f2",
   "metadata": {},
   "outputs": [],
   "source": [
    "DB.open('dev')"
   ]
  },
  {
   "cell_type": "markdown",
   "id": "3aab894f",
   "metadata": {},
   "source": [
    "### Match Account Names"
   ]
  },
  {
   "cell_type": "code",
   "execution_count": 3,
   "id": "15380637",
   "metadata": {},
   "outputs": [
    {
     "data": {
      "text/plain": [
       "[<Account: checking assets>]"
      ]
     },
     "execution_count": 3,
     "metadata": {},
     "output_type": "execute_result"
    }
   ],
   "source": [
    "Account.objects(name__contains='checking')"
   ]
  },
  {
   "cell_type": "code",
   "execution_count": 4,
   "id": "bfa0477b",
   "metadata": {},
   "outputs": [
    {
     "data": {
      "text/plain": [
       "[<Account: expenses:food expenses>, <Account: groceries expenses>, <Account: restaurant expenses>]"
      ]
     },
     "execution_count": 4,
     "metadata": {},
     "output_type": "execute_result"
    }
   ],
   "source": [
    "Account.objects(name__contains='food')"
   ]
  },
  {
   "cell_type": "code",
   "execution_count": 5,
   "id": "1d119a3b",
   "metadata": {},
   "outputs": [
    {
     "name": "stdout",
     "output_type": "stream",
     "text": [
      "expenses:food expenses\n",
      "groceries expenses\n",
      "restaurant expenses\n"
     ]
    }
   ],
   "source": [
    "for a in DB.find_account('food'):\n",
    "    print(a)"
   ]
  },
  {
   "cell_type": "code",
   "execution_count": 6,
   "id": "a3d355fa",
   "metadata": {},
   "outputs": [
    {
     "data": {
      "text/plain": [
       "{'assets',\n",
       " 'bank',\n",
       " 'car',\n",
       " 'chase',\n",
       " 'checking',\n",
       " 'equity',\n",
       " 'expenses',\n",
       " 'food',\n",
       " 'fuel',\n",
       " 'groceries',\n",
       " 'home',\n",
       " 'household',\n",
       " 'income',\n",
       " 'liabilities',\n",
       " 'mortgage',\n",
       " 'payment',\n",
       " 'restaurant',\n",
       " 'savings',\n",
       " 'travel',\n",
       " 'visa',\n",
       " 'yoyodyne'}"
      ]
     },
     "execution_count": 6,
     "metadata": {},
     "output_type": "execute_result"
    }
   ],
   "source": [
    "DB.account_name_parts()"
   ]
  },
  {
   "cell_type": "code",
   "execution_count": 7,
   "id": "407030b5",
   "metadata": {},
   "outputs": [
    {
     "data": {
      "text/plain": [
       "{'car',\n",
       " 'expenses',\n",
       " 'food',\n",
       " 'fuel',\n",
       " 'groceries',\n",
       " 'home',\n",
       " 'household',\n",
       " 'mortgage',\n",
       " 'payment',\n",
       " 'restaurant',\n",
       " 'travel'}"
      ]
     },
     "execution_count": 7,
     "metadata": {},
     "output_type": "execute_result"
    }
   ],
   "source": [
    "DB.account_name_parts('expenses')"
   ]
  },
  {
   "cell_type": "code",
   "execution_count": 9,
   "id": "b5c4ffb7",
   "metadata": {},
   "outputs": [],
   "source": [
    "dct = DB.account_names()"
   ]
  },
  {
   "cell_type": "code",
   "execution_count": 10,
   "id": "50b57f94",
   "metadata": {},
   "outputs": [
    {
     "data": {
      "text/plain": [
       "{'equity': ['equity', 'equity', 'equity'],\n",
       " 'assets': ['assets:bank:checking', 'assets:bank:savings'],\n",
       " 'bank': ['assets:bank:checking', 'assets:bank:savings'],\n",
       " 'checking': ['assets:bank:checking'],\n",
       " 'savings': ['assets:bank:savings'],\n",
       " 'expenses': ['expenses:car',\n",
       "  'expenses:car:payment',\n",
       "  'expenses:car:fuel',\n",
       "  'expenses:food',\n",
       "  'expenses:food:groceries',\n",
       "  'expenses:food:restaurant',\n",
       "  'expenses:home',\n",
       "  'expenses:home:household',\n",
       "  'expenses:home:mortgage',\n",
       "  'expenses:travel'],\n",
       " 'car': ['expenses:car', 'expenses:car:payment', 'expenses:car:fuel'],\n",
       " 'payment': ['expenses:car:payment'],\n",
       " 'fuel': ['expenses:car:fuel'],\n",
       " 'food': ['expenses:food',\n",
       "  'expenses:food:groceries',\n",
       "  'expenses:food:restaurant'],\n",
       " 'groceries': ['expenses:food:groceries'],\n",
       " 'restaurant': ['expenses:food:restaurant'],\n",
       " 'home': ['expenses:home',\n",
       "  'expenses:home:household',\n",
       "  'expenses:home:mortgage'],\n",
       " 'household': ['expenses:home:household'],\n",
       " 'mortgage': ['expenses:home:mortgage'],\n",
       " 'travel': ['expenses:travel'],\n",
       " 'income': ['income:yoyodyne'],\n",
       " 'yoyodyne': ['income:yoyodyne'],\n",
       " 'liabilities': ['liabilities:chase:visa'],\n",
       " 'chase': ['liabilities:chase:visa'],\n",
       " 'visa': ['liabilities:chase:visa']}"
      ]
     },
     "execution_count": 10,
     "metadata": {},
     "output_type": "execute_result"
    }
   ],
   "source": [
    "dct"
   ]
  },
  {
   "cell_type": "code",
   "execution_count": 11,
   "id": "64ee2810",
   "metadata": {},
   "outputs": [
    {
     "data": {
      "text/plain": [
       "['expenses:car',\n",
       " 'expenses:car:payment',\n",
       " 'expenses:car:fuel',\n",
       " 'expenses:food',\n",
       " 'expenses:food:groceries',\n",
       " 'expenses:food:restaurant',\n",
       " 'expenses:home',\n",
       " 'expenses:home:household',\n",
       " 'expenses:home:mortgage',\n",
       " 'expenses:travel']"
      ]
     },
     "execution_count": 11,
     "metadata": {},
     "output_type": "execute_result"
    }
   ],
   "source": [
    "dct['expenses']"
   ]
  },
  {
   "cell_type": "code",
   "execution_count": 12,
   "id": "e12e2342",
   "metadata": {},
   "outputs": [
    {
     "data": {
      "text/plain": [
       "10"
      ]
     },
     "execution_count": 12,
     "metadata": {},
     "output_type": "execute_result"
    }
   ],
   "source": [
    "len(dct['expenses'])"
   ]
  },
  {
   "cell_type": "code",
   "execution_count": 13,
   "id": "f94b5e3d",
   "metadata": {},
   "outputs": [],
   "source": [
    "dct = DB.account_names('expenses')"
   ]
  },
  {
   "cell_type": "code",
   "execution_count": 14,
   "id": "e3598394",
   "metadata": {},
   "outputs": [
    {
     "data": {
      "text/plain": [
       "{'expenses': ['expenses:car',\n",
       "  'expenses:car:payment',\n",
       "  'expenses:car:fuel',\n",
       "  'expenses:food',\n",
       "  'expenses:food:groceries',\n",
       "  'expenses:food:restaurant',\n",
       "  'expenses:home',\n",
       "  'expenses:home:household',\n",
       "  'expenses:home:mortgage',\n",
       "  'expenses:travel'],\n",
       " 'car': ['expenses:car', 'expenses:car:payment', 'expenses:car:fuel'],\n",
       " 'payment': ['expenses:car:payment'],\n",
       " 'fuel': ['expenses:car:fuel'],\n",
       " 'food': ['expenses:food',\n",
       "  'expenses:food:groceries',\n",
       "  'expenses:food:restaurant'],\n",
       " 'groceries': ['expenses:food:groceries'],\n",
       " 'restaurant': ['expenses:food:restaurant'],\n",
       " 'home': ['expenses:home',\n",
       "  'expenses:home:household',\n",
       "  'expenses:home:mortgage'],\n",
       " 'household': ['expenses:home:household'],\n",
       " 'mortgage': ['expenses:home:mortgage'],\n",
       " 'travel': ['expenses:travel']}"
      ]
     },
     "execution_count": 14,
     "metadata": {},
     "output_type": "execute_result"
    }
   ],
   "source": [
    "dct"
   ]
  },
  {
   "cell_type": "code",
   "execution_count": 15,
   "id": "9fcdd8fa",
   "metadata": {},
   "outputs": [
    {
     "data": {
      "text/plain": [
       "11"
      ]
     },
     "execution_count": 15,
     "metadata": {},
     "output_type": "execute_result"
    }
   ],
   "source": [
    "len(dct)"
   ]
  },
  {
   "cell_type": "code",
   "execution_count": 16,
   "id": "b0f1d649",
   "metadata": {},
   "outputs": [
    {
     "data": {
      "text/plain": [
       "['expenses:car', 'expenses:car:payment', 'expenses:car:fuel']"
      ]
     },
     "execution_count": 16,
     "metadata": {},
     "output_type": "execute_result"
    }
   ],
   "source": [
    "dct['car']"
   ]
  },
  {
   "cell_type": "code",
   "execution_count": 17,
   "id": "3f3728e5",
   "metadata": {},
   "outputs": [
    {
     "data": {
      "text/plain": [
       "['equity',\n",
       " 'assets:bank:checking',\n",
       " 'assets:bank:savings',\n",
       " 'expenses:car',\n",
       " 'expenses:car:payment',\n",
       " 'expenses:car:fuel',\n",
       " 'expenses:food',\n",
       " 'expenses:food:groceries',\n",
       " 'expenses:food:restaurant',\n",
       " 'expenses:home',\n",
       " 'expenses:home:household',\n",
       " 'expenses:home:mortgage',\n",
       " 'expenses:travel',\n",
       " 'income:yoyodyne',\n",
       " 'liabilities:chase:visa',\n",
       " 'equity',\n",
       " 'equity']"
      ]
     },
     "execution_count": 17,
     "metadata": {},
     "output_type": "execute_result"
    }
   ],
   "source": [
    "DB.account_groups()"
   ]
  },
  {
   "cell_type": "code",
   "execution_count": 18,
   "id": "a2e618ef",
   "metadata": {},
   "outputs": [
    {
     "data": {
      "text/plain": [
       "['expenses:car',\n",
       " 'expenses:car:payment',\n",
       " 'expenses:car:fuel',\n",
       " 'expenses:food',\n",
       " 'expenses:food:groceries',\n",
       " 'expenses:food:restaurant',\n",
       " 'expenses:home',\n",
       " 'expenses:home:household',\n",
       " 'expenses:home:mortgage',\n",
       " 'expenses:travel']"
      ]
     },
     "execution_count": 18,
     "metadata": {},
     "output_type": "execute_result"
    }
   ],
   "source": [
    "DB.account_groups(['expenses'])"
   ]
  },
  {
   "cell_type": "code",
   "execution_count": 19,
   "id": "5979c1e1",
   "metadata": {},
   "outputs": [
    {
     "data": {
      "text/plain": [
       "['expenses.*']"
      ]
     },
     "execution_count": 19,
     "metadata": {},
     "output_type": "execute_result"
    }
   ],
   "source": [
    "DB.account_groups(['expenses:1'])"
   ]
  },
  {
   "cell_type": "code",
   "execution_count": 20,
   "id": "8f0125de",
   "metadata": {},
   "outputs": [
    {
     "data": {
      "text/plain": [
       "['expenses:car.*', 'expenses:food.*', 'expenses:home.*', 'expenses:travel.*']"
      ]
     },
     "execution_count": 20,
     "metadata": {},
     "output_type": "execute_result"
    }
   ],
   "source": [
    "DB.account_groups(['expenses:2'])"
   ]
  },
  {
   "cell_type": "code",
   "execution_count": 21,
   "id": "779e599d",
   "metadata": {},
   "outputs": [
    {
     "data": {
      "text/plain": [
       "['expenses:car',\n",
       " 'expenses:car:payment.*',\n",
       " 'expenses:car:fuel.*',\n",
       " 'expenses:food',\n",
       " 'expenses:food:groceries.*',\n",
       " 'expenses:food:restaurant.*',\n",
       " 'expenses:home',\n",
       " 'expenses:home:household.*',\n",
       " 'expenses:home:mortgage.*',\n",
       " 'expenses:travel']"
      ]
     },
     "execution_count": 21,
     "metadata": {},
     "output_type": "execute_result"
    }
   ],
   "source": [
    "DB.account_groups(['expenses:3'])"
   ]
  },
  {
   "cell_type": "code",
   "execution_count": 22,
   "id": "e4892099",
   "metadata": {},
   "outputs": [
    {
     "data": {
      "text/plain": [
       "['expenses:food', 'expenses:food:groceries', 'expenses:food:restaurant']"
      ]
     },
     "execution_count": 22,
     "metadata": {},
     "output_type": "execute_result"
    }
   ],
   "source": [
    "DB.account_groups(['expenses:food'])"
   ]
  },
  {
   "cell_type": "code",
   "execution_count": 23,
   "id": "d93c1063",
   "metadata": {},
   "outputs": [
    {
     "data": {
      "text/plain": [
       "['expenses:food.*']"
      ]
     },
     "execution_count": 23,
     "metadata": {},
     "output_type": "execute_result"
    }
   ],
   "source": [
    "DB.account_groups(['expenses:food:2'])"
   ]
  },
  {
   "cell_type": "code",
   "execution_count": 24,
   "id": "9ae15eb0",
   "metadata": {},
   "outputs": [
    {
     "data": {
      "text/plain": [
       "['expenses:food', 'expenses:food:groceries.*', 'expenses:food:restaurant.*']"
      ]
     },
     "execution_count": 24,
     "metadata": {},
     "output_type": "execute_result"
    }
   ],
   "source": [
    "DB.account_groups(['expenses:food:3'])"
   ]
  },
  {
   "cell_type": "code",
   "execution_count": 25,
   "id": "e489a913",
   "metadata": {},
   "outputs": [
    {
     "data": {
      "text/plain": [
       "['expenses:car',\n",
       " 'expenses:car:payment',\n",
       " 'expenses:car:fuel',\n",
       " 'expenses:food',\n",
       " 'expenses:food:groceries',\n",
       " 'expenses:food:restaurant',\n",
       " 'expenses:home',\n",
       " 'expenses:home:household',\n",
       " 'expenses:home:mortgage',\n",
       " 'expenses:travel',\n",
       " 'income:yoyodyne']"
      ]
     },
     "execution_count": 25,
     "metadata": {},
     "output_type": "execute_result"
    }
   ],
   "source": [
    "DB.account_groups(['expenses','income'])"
   ]
  },
  {
   "cell_type": "code",
   "execution_count": 26,
   "id": "e6fd9f32",
   "metadata": {},
   "outputs": [
    {
     "data": {
      "text/plain": [
       "['expenses.*', 'income.*']"
      ]
     },
     "execution_count": 26,
     "metadata": {},
     "output_type": "execute_result"
    }
   ],
   "source": [
    "DB.account_groups(['expenses:1','income:1'])"
   ]
  },
  {
   "cell_type": "code",
   "execution_count": 27,
   "id": "7770e67f",
   "metadata": {},
   "outputs": [
    {
     "data": {
      "text/plain": [
       "['expenses:car.*',\n",
       " 'expenses:food.*',\n",
       " 'expenses:home.*',\n",
       " 'expenses:travel.*',\n",
       " 'income:yoyodyne.*']"
      ]
     },
     "execution_count": 27,
     "metadata": {},
     "output_type": "execute_result"
    }
   ],
   "source": [
    "DB.account_groups(['expenses:2','income:2'])"
   ]
  },
  {
   "cell_type": "code",
   "execution_count": 4,
   "id": "feb1af54",
   "metadata": {},
   "outputs": [
    {
     "data": {
      "text/plain": [
       "[<Account: groceries expenses>]"
      ]
     },
     "execution_count": 4,
     "metadata": {},
     "output_type": "execute_result"
    }
   ],
   "source": [
    "Account.objects(name__exact='expenses:food:groceries')"
   ]
  },
  {
   "cell_type": "code",
   "execution_count": 5,
   "id": "98eef2ba",
   "metadata": {},
   "outputs": [
    {
     "data": {
      "text/plain": [
       "[<Account: groceries expenses>]"
      ]
     },
     "execution_count": 5,
     "metadata": {},
     "output_type": "execute_result"
    }
   ],
   "source": [
    "Account.objects(abbrev__exact='groceries')"
   ]
  },
  {
   "cell_type": "code",
   "execution_count": 4,
   "id": "e1e1193a",
   "metadata": {},
   "outputs": [],
   "source": [
    "s = 'expenses:food:groceries'"
   ]
  },
  {
   "cell_type": "code",
   "execution_count": 7,
   "id": "280e8ed5",
   "metadata": {},
   "outputs": [
    {
     "name": "stdout",
     "output_type": "stream",
     "text": [
      "expenses:food:groceries\n"
     ]
    }
   ],
   "source": [
    "if acct := Account.objects(name__exact=s) or Account.objects(abbrev__exact=s):\n",
    "    print(acct[0].name)"
   ]
  },
  {
   "cell_type": "code",
   "execution_count": 3,
   "id": "b635d25b",
   "metadata": {},
   "outputs": [
    {
     "data": {
      "text/plain": [
       "'expenses:food:groceries'"
      ]
     },
     "execution_count": 3,
     "metadata": {},
     "output_type": "execute_result"
    }
   ],
   "source": [
    "DB.fullname('expenses:food:groceries')"
   ]
  },
  {
   "cell_type": "code",
   "execution_count": 4,
   "id": "ca0a4ad0",
   "metadata": {},
   "outputs": [
    {
     "data": {
      "text/plain": [
       "'expenses:food:groceries'"
      ]
     },
     "execution_count": 4,
     "metadata": {},
     "output_type": "execute_result"
    }
   ],
   "source": [
    "DB.fullname('groceries')"
   ]
  },
  {
   "cell_type": "code",
   "execution_count": 5,
   "id": "9c0dc81e",
   "metadata": {},
   "outputs": [],
   "source": [
    "DB.fullname('groc')"
   ]
  },
  {
   "cell_type": "markdown",
   "id": "31f85f2b",
   "metadata": {},
   "source": [
    "### Balances"
   ]
  },
  {
   "cell_type": "code",
   "execution_count": 27,
   "id": "bd33fd91",
   "metadata": {},
   "outputs": [
    {
     "data": {
      "text/plain": [
       "[<Entry: <En 2024-01-02 expenses:food -$500.0 [<Tag.B: '#budget'>]>>, <Entry: <En 2024-02-02 expenses:food -$500.0 [<Tag.B: '#budget'>]>>, <Entry: <En 2024-01-07 expenses:food:groceries +$75.0 []>>, <Entry: <En 2024-01-21 expenses:food:groceries +$175.0 []>>, <Entry: <En 2024-02-07 expenses:food:groceries +$75.0 []>>, <Entry: <En 2024-02-21 expenses:food:groceries +$75.0 []>>]"
      ]
     },
     "execution_count": 27,
     "metadata": {},
     "output_type": "execute_result"
    }
   ],
   "source": [
    "DB.select(Entry, account='expenses:food*')"
   ]
  },
  {
   "cell_type": "code",
   "execution_count": 28,
   "id": "f0e2ce84",
   "metadata": {},
   "outputs": [
    {
     "name": "stdout",
     "output_type": "stream",
     "text": [
      "<En 2024-01-02 expenses:food -$500.0 [<Tag.B: '#budget'>]>\n",
      "<En 2024-02-02 expenses:food -$500.0 [<Tag.B: '#budget'>]>\n",
      "<En 2024-01-07 expenses:food:groceries +$75.0 []>\n",
      "<En 2024-01-21 expenses:food:groceries +$175.0 []>\n",
      "<En 2024-02-07 expenses:food:groceries +$75.0 []>\n",
      "<En 2024-02-21 expenses:food:groceries +$75.0 []>\n"
     ]
    }
   ],
   "source": [
    "for e in DB.select(Entry, account='expenses:food*'):\n",
    "    print(e)"
   ]
  },
  {
   "cell_type": "code",
   "execution_count": 29,
   "id": "9ac369d1",
   "metadata": {},
   "outputs": [
    {
     "name": "stdout",
     "output_type": "stream",
     "text": [
      "<Tr 2024-01-02 expenses:food/expenses:home/expenses:car/expenses:travel/equity -> income:yoyodyne $5000.0 fill envelopes ['#budget']>\n",
      "<Tr 2024-02-02 expenses:food/expenses:home/expenses:car/expenses:travel/equity -> income:yoyodyne $5000.0 fill envelopes ['#budget']>\n"
     ]
    }
   ],
   "source": [
    "for t in DB.select(Transaction, tag='#budget'):\n",
    "    print(t)"
   ]
  },
  {
   "cell_type": "code",
   "execution_count": 35,
   "id": "b75f5e7d",
   "metadata": {},
   "outputs": [
    {
     "data": {
      "text/plain": [
       "-600.0"
      ]
     },
     "execution_count": 35,
     "metadata": {},
     "output_type": "execute_result"
    }
   ],
   "source": [
    "DB.balance('food')"
   ]
  },
  {
   "cell_type": "code",
   "execution_count": 36,
   "id": "de1070ad",
   "metadata": {},
   "outputs": [
    {
     "data": {
      "text/plain": [
       "400.0"
      ]
     },
     "execution_count": 36,
     "metadata": {},
     "output_type": "execute_result"
    }
   ],
   "source": [
    "DB.balance('food', budgets=False)"
   ]
  },
  {
   "cell_type": "code",
   "execution_count": 37,
   "id": "57d57929",
   "metadata": {},
   "outputs": [
    {
     "data": {
      "text/plain": [
       "-250.0"
      ]
     },
     "execution_count": 37,
     "metadata": {},
     "output_type": "execute_result"
    }
   ],
   "source": [
    "DB.balance('food', ending='2024-01-31')"
   ]
  },
  {
   "cell_type": "code",
   "execution_count": 38,
   "id": "84fb3989",
   "metadata": {},
   "outputs": [
    {
     "data": {
      "text/plain": [
       "250.0"
      ]
     },
     "execution_count": 38,
     "metadata": {},
     "output_type": "execute_result"
    }
   ],
   "source": [
    "DB.balance('food', ending='2024-01-31', budgets=False)"
   ]
  },
  {
   "cell_type": "code",
   "execution_count": null,
   "id": "7fedcd1d",
   "metadata": {},
   "outputs": [],
   "source": []
  }
 ],
 "metadata": {
  "kernelspec": {
   "display_name": "nosql",
   "language": "python",
   "name": "python3"
  },
  "language_info": {
   "codemirror_mode": {
    "name": "ipython",
    "version": 3
   },
   "file_extension": ".py",
   "mimetype": "text/x-python",
   "name": "python",
   "nbconvert_exporter": "python",
   "pygments_lexer": "ipython3",
   "version": "3.13.1"
  }
 },
 "nbformat": 4,
 "nbformat_minor": 5
}
