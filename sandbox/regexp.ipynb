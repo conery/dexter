{
 "cells": [
  {
   "cell_type": "markdown",
   "metadata": {},
   "source": [
    "### Regular Expressions"
   ]
  },
  {
   "cell_type": "code",
   "execution_count": 1,
   "metadata": {},
   "outputs": [],
   "source": [
    "from dexter.DB import DB, RegExp, Action, Entry\n",
    "import re"
   ]
  },
  {
   "cell_type": "code",
   "execution_count": 2,
   "metadata": {},
   "outputs": [],
   "source": [
    "DB.open('dev')"
   ]
  },
  {
   "cell_type": "code",
   "execution_count": 3,
   "metadata": {},
   "outputs": [],
   "source": [
    "e = list(RegExp.objects)"
   ]
  },
  {
   "cell_type": "code",
   "execution_count": 4,
   "metadata": {},
   "outputs": [
    {
     "data": {
      "text/plain": [
       "[<RegExp: <RE xfer Xfer (to|from) .*?\\d+ (.*?)/ Transfer {1} $>>,\n",
       " <RegExp: <RE xfer Transfer (to|from) (.*?)/Xfer(.*) Transfer {1} $>>,\n",
       " <RegExp: <RE trans .*ABEBOOKS AbeBooks $JC>>,\n",
       " <RegExp: <RE trans .*ATLANTIC MNTLY The Atlantic $JC>>,\n",
       " <RegExp: <RE trans .*COMCAST Comcast $utility>>,\n",
       " <RegExp: <RE trans .*DDA TO DDA Wells Fargo $utility>>,\n",
       " <RegExp: <RE trans .*EL METATE El Metate $food:groceries>>,\n",
       " <RegExp: <RE trans .*HEY NEIGHBOR Hey Neighbor $food:restaurant>>,\n",
       " <RegExp: <RE trans .*Home Depot Home Depot $home>>,\n",
       " <RegExp: <RE trans .*HOME DEPOT Home Depot $home>>,\n",
       " <RegExp: <RE trans .*LIQUOR STORE (\\d+) Liquor Store #{0} $JC>>,\n",
       " <RegExp: <RE trans .*MARKET OF CHOICE Market of Choice $food:groceries>>,\n",
       " <RegExp: <RE trans .*New York Times New York Times $shared>>,\n",
       " <RegExp: <RE trans .*OPB Member OPB $gift:donation>>,\n",
       " <RegExp: <RE trans .*PERS BENEFITS PERS $PERS>>,\n",
       " <RegExp: <RE trans .*PROVISIONS SOUT Provisions South $JC>>,\n",
       " <RegExp: <RE trans .*SSA TREAS Social Security $SSA>>,\n",
       " <RegExp: <RE trans .*SUNRISE Sunrise Asian Market $food:groceries>>,\n",
       " <RegExp: <RE trans .*TINA STARR Tina Starr $LC>>,\n",
       " <RegExp: <RE trans .*TRUE VALUE True Value $home>>,\n",
       " <RegExp: <RE trans .*Wikimedia Wikimedia $JC>>,\n",
       " <RegExp: <RE trans (AUTZEN|MKA) CONCESSION {0} Concessions $JC>>,\n",
       " <RegExp: <RE trans AIRBNB Airbnb $>>,\n",
       " <RegExp: <RE trans ALBERTSONS Albertson's $food:groceries>>,\n",
       " <RegExp: <RE trans ALS ASSOC ALS Association $gift:donation>>,\n",
       " <RegExp: <RE trans AMAZON MKTPL.* Amazon Marketplace $>>,\n",
       " <RegExp: <RE trans Amazon.com amazon.com $>>,\n",
       " <RegExp: <RE trans AMZN amazon.com $>>,\n",
       " <RegExp: <RE trans APPLE.COM/BILL Apple $>>,\n",
       " <RegExp: <RE trans ATT\\s+PAY AT&T $utility>>,\n",
       " <RegExp: <RE trans Audible Audible $LC>>,\n",
       " <RegExp: <RE trans bathandbodyworks.com Bath and Body Works $LC>>,\n",
       " <RegExp: <RE trans BED BATH Bed Bath & Beyond $>>,\n",
       " <RegExp: <RE trans BenefitHelp.* BenefitHelp Solutions $medical:insurance>>,\n",
       " <RegExp: <RE trans BEST BUY Best Buy $>>,\n",
       " <RegExp: <RE trans BIMART BiMart $>>,\n",
       " <RegExp: <RE trans BMW OF EUGENE BMW of Eugene $car>>,\n",
       " <RegExp: <RE trans BURRITO BOY Burrito Boy $restaurant>>,\n",
       " <RegExp: <RE trans CAFE YUMM Café Yumm $>>,\n",
       " <RegExp: <RE trans CAPELLA MARKET Capella Market $food:groceries>>,\n",
       " <RegExp: <RE trans CHEVRON Chevron $car>>,\n",
       " <RegExp: <RE trans CITY NAILS City Nails & Spa $>>,\n",
       " <RegExp: <RE trans CITY OF EUGENE PARKING City of Eugene Parking $car>>,\n",
       " <RegExp: <RE trans COASTAL FARM &amp; RANCH Coastal Farm & Ranch $home>>,\n",
       " <RegExp: <RE trans COMPLETE VISION Complete Vision $medical>>,\n",
       " <RegExp: <RE trans CONSUMERREPORTS.ORG Consumer Reports $shared>>,\n",
       " <RegExp: <RE trans COSTCO Costco $food:groceries>>,\n",
       " <RegExp: <RE trans CVS/PHARM CVS $medical>>,\n",
       " <RegExp: <RE trans DAC INC DAC $JC>>,\n",
       " <RegExp: <RE trans DARI MART Dari Mart $food:groceries>>,\n",
       " <RegExp: <RE trans DIAMOND CONCESS Diamond Concessions $JC>>,\n",
       " <RegExp: <RE trans Disney Plus Disney Plus $shared>>,\n",
       " <RegExp: <RE trans DOWN TO EARTH Down to Earth $home>>,\n",
       " <RegExp: <RE trans DWB\\*DOCTORS Doctors Without Borders $gift:donation>>,\n",
       " <RegExp: <RE trans ESSENTIAL PHYSICAL THERAP Essential Phyiscal Therapy $medical>>,\n",
       " <RegExp: <RE trans EUGENE EMERALDS Eugene Emeralds $JC>>,\n",
       " <RegExp: <RE trans EUGENE WATER EWEB $utility>>,\n",
       " <RegExp: <RE trans FARMERS INS Farmers Insurance $car:insurance>>,\n",
       " <RegExp: <RE trans FastSpring FastSpring $JC>>,\n",
       " <RegExp: <RE trans FOOD FOR LANE Food for Lane County $gift:donation>>,\n",
       " <RegExp: <RE trans FRED(-| )MEYER Fred Meyer $food:groceries>>,\n",
       " <RegExp: <RE trans GANNETT NEWSPRPR Register Guard $shared>>,\n",
       " <RegExp: <RE trans GENWORTH LIFE Genworth Life $medical:insurance>>,\n",
       " <RegExp: <RE trans GRAYS GARDEN Gray's Garden Center $home>>,\n",
       " <RegExp: <RE trans HIRONS DRUG Hiron's $medical>>,\n",
       " <RegExp: <RE trans HOMEDEPOT.COM Home Depot $home>>,\n",
       " <RegExp: <RE trans IRS\\s+USATAXPYMT IRS $tax>>,\n",
       " <RegExp: <RE trans IZUMI Izumi $restaurant>>,\n",
       " <RegExp: <RE trans JANE STAFFORD Jane Stafford $LC>>,\n",
       " <RegExp: <RE trans JERRYS HOM Jerry's $home>>,\n",
       " <RegExp: <RE trans JOANN STORES Joann Stores $LC>>,\n",
       " <RegExp: <RE trans JOHNSON BROS Johnson Bros $home>>,\n",
       " <RegExp: <RE trans KING ESTATE King Estate $JC>>,\n",
       " <RegExp: <RE trans KRVM KRVM $gift:donation>>,\n",
       " <RegExp: <RE trans LANE FOREST PRODUCTS Lane Forest Products $home>>,\n",
       " <RegExp: <RE trans LAUGHING PLANET Laughing Planet $restaurant>>,\n",
       " <RegExp: <RE trans LES SCHWAB TIRES Les Schwab $car>>,\n",
       " <RegExp: <RE trans LONGS Long's Meat Market $food:groceries>>,\n",
       " <RegExp: <RE trans MARCHE PROVISIO Provisions $JC>>,\n",
       " <RegExp: <RE trans MED\\*PROVIDENCE Providence $medical>>,\n",
       " <RegExp: <RE trans MED\\*SLOCUM Slocum Orthopedics $medical>>,\n",
       " <RegExp: <RE trans MONTHLY INSTALLMENTS Apple Installment $JC>>,\n",
       " <RegExp: <RE trans MOTHER JONES-FNP Mother Jones $gift:donation>>,\n",
       " <RegExp: <RE trans MUCHO GUSTO Mucho Gusto $restaurant>>,\n",
       " <RegExp: <RE trans Nature Conservancy Nature Conservancy $gift:donation>>,\n",
       " <RegExp: <RE trans NETFLIX.COM Netflix $shared>>,\n",
       " <RegExp: <RE trans NEWMAN'S Newman's $food:groceries>>,\n",
       " <RegExp: <RE trans NST THE HOME Home Depot $home>>,\n",
       " <RegExp: <RE trans NW NATURAL NW Natural $utility>>,\n",
       " <RegExp: <RE trans OMG Oregon Medical Group $medical>>,\n",
       " <RegExp: <RE trans PANERA BREAD Panera $restaurant>>,\n",
       " <RegExp: <RE trans PARTNERS IN HEALTH Partners in Health $gift:donation>>,\n",
       " <RegExp: <RE trans Patreon Patreon $JC>>,\n",
       " <RegExp: <RE trans PEGASUS PIZZA Pegasus Pizza $restaurant>>,\n",
       " <RegExp: <RE trans PF CHANGS PF Chang's $restaurant>>,\n",
       " <RegExp: <RE trans PHR\\*OregonMedical Oregon Medical Group $medical>>,\n",
       " <RegExp: <RE trans PMTOREGONLIVE Oregon Live $shared>>,\n",
       " <RegExp: <RE trans Pragmatic Programmers Pragmatic Programmers $JC>>,\n",
       " <RegExp: <RE trans Prime Video Prime Video $shared>>,\n",
       " <RegExp: <RE trans RELIEF NURSERY Relief Nursery $gift:donation>>,\n",
       " <RegExp: <RE trans REWARD CREDIT Reward Credit $interest>>,\n",
       " <RegExp: <RE trans RITE AID Rite Aid $medical>>,\n",
       " <RegExp: <RE trans ROCKET MORTGAGE Rocket Mortgage $mortgage>>,\n",
       " <RegExp: <RE trans SAFEWAY #4513 Safeway $medical>>,\n",
       " <RegExp: <RE trans SAFEWAY Safeway $food:groceries>>,\n",
       " <RegExp: <RE trans SARVER WINERY Sarver $shared>>,\n",
       " <RegExp: <RE trans SIERRA CLUB Sierra Club $gift:donation>>,\n",
       " <RegExp: <RE trans SOUTH HILYARD CLINIC South Hilyard Clinic $medical>>,\n",
       " <RegExp: <RE trans Spotify Spotify $shared>>,\n",
       " <RegExp: <RE trans SSP\\*StVncnt St. Vincent de Paul $gift:donation>>,\n",
       " <RegExp: <RE trans StorItAll StorItAll $construction>>,\n",
       " <RegExp: <RE trans TA RA RIN THAI Ta Ra Rin $restaurant>>,\n",
       " <RegExp: <RE trans TESLA SUBSCRIPTION Tesla $car>>,\n",
       " <RegExp: <RE trans TESLA SUPERCHARGER Tesla Supercharger $car>>,\n",
       " <RegExp: <RE trans TESLA\\s+INC Tesla $car>>,\n",
       " <RegExp: <RE trans THE DOWNTOWN ATH DAC $JC>>,\n",
       " <RegExp: <RE trans TIDAL Tidal $shared>>,\n",
       " <RegExp: <RE trans TMOBILE PARK CO T-Mobile Concessions $JC>>,\n",
       " <RegExp: <RE trans TRADER JOE Trader Joe's $food:groceries>>,\n",
       " <RegExp: <RE trans Transfer to \\*7183 CNS BMW Payment $car>>,\n",
       " <RegExp: <RE trans UCI FOUNDATION UCI Foundation $JC>>,\n",
       " <RegExp: <RE trans UCSD FOUNDATION UCSD Foundation $JC>>,\n",
       " <RegExp: <RE trans UNIV OR PAYROLL UO Payroll $UO>>,\n",
       " <RegExp: <RE trans UO.*ATHLETIC UO Athletics $JC>>,\n",
       " <RegExp: <RE trans VENMO\\s+CASHOUT From Venmo $>>,\n",
       " <RegExp: <RE trans VENMO\\s+PAYMENT Venmo Payment $>>,\n",
       " <RegExp: <RE trans WCI\\*SANIPAC Sanipac $utility>>,\n",
       " <RegExp: <RE trans WHOLEFDS Whole Foods $food:groceries>>,\n",
       " <RegExp: <RE trans WILLAMETTE VALLEY VINE Willamette Valley Vineyards $JC>>,\n",
       " <RegExp: <RE trans WINCO FOODS WinCo $food:groceries>>,\n",
       " <RegExp: <RE trans WONDER WASH Wonder Wash $car>>,\n",
       " <RegExp: <RE trans WSFERRIES-(.*) Ferry {0.capwords} $travel>>,\n",
       " <RegExp: <RE trans YARNBARN Yarn Barn $LC>>]"
      ]
     },
     "execution_count": 4,
     "metadata": {},
     "output_type": "execute_result"
    }
   ],
   "source": [
    "e"
   ]
  },
  {
   "cell_type": "code",
   "execution_count": 5,
   "metadata": {},
   "outputs": [
    {
     "data": {
      "text/plain": [
       "<RegExp: <RE xfer Xfer (to|from) .*?\\d+ (.*?)/ Transfer {1} $>>"
      ]
     },
     "execution_count": 5,
     "metadata": {},
     "output_type": "execute_result"
    }
   ],
   "source": [
    "RegExp.objects[0]"
   ]
  },
  {
   "cell_type": "code",
   "execution_count": 6,
   "metadata": {},
   "outputs": [],
   "source": [
    "e[0].apply('CHEVRON 0092601')"
   ]
  },
  {
   "cell_type": "code",
   "execution_count": 7,
   "metadata": {},
   "outputs": [],
   "source": [
    "e[2].apply('Payment to Comcast')"
   ]
  },
  {
   "cell_type": "code",
   "execution_count": 8,
   "metadata": {},
   "outputs": [],
   "source": [
    "e[3].apply('Check # 161: Completed')"
   ]
  },
  {
   "cell_type": "code",
   "execution_count": 9,
   "metadata": {},
   "outputs": [],
   "source": [
    "e[4].apply('WSFERRIES-ANACORTES')"
   ]
  },
  {
   "cell_type": "code",
   "execution_count": 10,
   "metadata": {},
   "outputs": [
    {
     "data": {
      "text/plain": [
       "False"
      ]
     },
     "execution_count": 10,
     "metadata": {},
     "output_type": "execute_result"
    }
   ],
   "source": [
    "bool(re.match(e[0].expr,'CHEVRON 0092601',re.I))"
   ]
  },
  {
   "cell_type": "code",
   "execution_count": 11,
   "metadata": {},
   "outputs": [
    {
     "data": {
      "text/plain": [
       "False"
      ]
     },
     "execution_count": 11,
     "metadata": {},
     "output_type": "execute_result"
    }
   ],
   "source": [
    "e[0].matches('CHEVRON')"
   ]
  },
  {
   "cell_type": "code",
   "execution_count": 12,
   "metadata": {},
   "outputs": [],
   "source": [
    "e = DB.find_regexp('CHEVRON')[0]"
   ]
  },
  {
   "cell_type": "code",
   "execution_count": 13,
   "metadata": {},
   "outputs": [
    {
     "data": {
      "text/plain": [
       "True"
      ]
     },
     "execution_count": 13,
     "metadata": {},
     "output_type": "execute_result"
    }
   ],
   "source": [
    "e.action == Action.T"
   ]
  },
  {
   "cell_type": "code",
   "execution_count": 14,
   "metadata": {},
   "outputs": [
    {
     "data": {
      "text/plain": [
       "'CHEVRON'"
      ]
     },
     "execution_count": 14,
     "metadata": {},
     "output_type": "execute_result"
    }
   ],
   "source": [
    "e.expr"
   ]
  },
  {
   "cell_type": "code",
   "execution_count": 15,
   "metadata": {},
   "outputs": [
    {
     "data": {
      "text/plain": [
       "'Chevron'"
      ]
     },
     "execution_count": 15,
     "metadata": {},
     "output_type": "execute_result"
    }
   ],
   "source": [
    "e.repl"
   ]
  },
  {
   "cell_type": "code",
   "execution_count": 16,
   "metadata": {},
   "outputs": [
    {
     "data": {
      "text/plain": [
       "'car'"
      ]
     },
     "execution_count": 16,
     "metadata": {},
     "output_type": "execute_result"
    }
   ],
   "source": [
    "e.acct"
   ]
  },
  {
   "cell_type": "code",
   "execution_count": 17,
   "metadata": {},
   "outputs": [
    {
     "data": {
      "text/plain": [
       "[]"
      ]
     },
     "execution_count": 17,
     "metadata": {},
     "output_type": "execute_result"
    }
   ],
   "source": [
    "DB.find_regexp('C')"
   ]
  },
  {
   "cell_type": "markdown",
   "metadata": {},
   "source": [
    "### Transfers"
   ]
  },
  {
   "cell_type": "markdown",
   "metadata": {},
   "source": [
    "Experiment with patterns to use in the `pair` script.  \n",
    "\n",
    "OCCU is all over the place.\n",
    "* most transfers have \"Xfer (to|from)\" in the description field\n",
    "* transfers scheduled through bill pay have \"Transfer (to|from)\" in the description field but \"Xfer (to|from)\" in the extended description\n",
    "* some have both forms!  e.g. BMW payment is \"Xfer to\" and \"Transfer from\"\n",
    "* Venmo, PayPal, are like bill pay but the extended description has different format (but does start with \"Xfer\")\n",
    "\n",
    "Solution: use separate rules for the two forms."
   ]
  },
  {
   "cell_type": "code",
   "execution_count": 18,
   "metadata": {},
   "outputs": [],
   "source": [
    "# OCCU transfers\n",
    "elist = [\n",
    "    r'Xfer (to|from) .*?\\d+ (.*?)/',\n",
    "    r'Transfer (to|from) (.*?)/Xfer(.*)',\n",
    "]"
   ]
  },
  {
   "cell_type": "code",
   "execution_count": null,
   "metadata": {},
   "outputs": [],
   "source": [
    "# Card payments, OCCU side\n",
    "elist = [\n",
    "    r'Payment to (Chase|Citi|Apple)',\n",
    "]"
   ]
  },
  {
   "cell_type": "code",
   "execution_count": null,
   "metadata": {},
   "outputs": [],
   "source": [
    "# Card payments\n",
    "elist = [\n",
    "    r'AUTOMATIC PAYMENT',   # Chase cards\n",
    "]"
   ]
  },
  {
   "cell_type": "code",
   "execution_count": 33,
   "metadata": {},
   "outputs": [
    {
     "name": "stdout",
     "output_type": "stream",
     "text": [
      "0 chase:freedom 2025-01-03 3.0 debit AUTOMATIC PAYMENT - THANK\n",
      "()\n",
      "0 chase:sapphire-jc 2025-01-09 1450.12 debit AUTOMATIC PAYMENT - THANK\n",
      "()\n",
      "0 chase:sapphire-lc 2025-01-07 425.33 debit AUTOMATIC PAYMENT - THANK\n",
      "()\n",
      "0 chase:united 2025-01-12 957.05 debit AUTOMATIC PAYMENT - THANK\n",
      "()\n"
     ]
    }
   ],
   "source": [
    "for e in DB.select(Entry, tag='#unpaired'):\n",
    "    for i, expr in enumerate(elist):\n",
    "        if m := re.match(expr, e.description, re.I):\n",
    "            print(i, e.account, e.date, e.amount, e.column, e.description)\n",
    "            print(m.groups())\n",
    "            continue"
   ]
  },
  {
   "cell_type": "code",
   "execution_count": null,
   "metadata": {},
   "outputs": [],
   "source": []
  }
 ],
 "metadata": {
  "kernelspec": {
   "display_name": "nosql",
   "language": "python",
   "name": "python3"
  },
  "language_info": {
   "codemirror_mode": {
    "name": "ipython",
    "version": 3
   },
   "file_extension": ".py",
   "mimetype": "text/x-python",
   "name": "python",
   "nbconvert_exporter": "python",
   "pygments_lexer": "ipython3",
   "version": "3.13.1"
  }
 },
 "nbformat": 4,
 "nbformat_minor": 2
}
