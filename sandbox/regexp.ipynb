{
 "cells": [
  {
   "cell_type": "markdown",
   "metadata": {},
   "source": [
    "### Regular Expressions"
   ]
  },
  {
   "cell_type": "code",
   "execution_count": 1,
   "metadata": {},
   "outputs": [],
   "source": [
    "from dexter.DB import DB, RegExp, Action, Entry\n",
    "import re"
   ]
  },
  {
   "cell_type": "code",
   "execution_count": 2,
   "metadata": {},
   "outputs": [],
   "source": [
    "DB.init()"
   ]
  },
  {
   "cell_type": "code",
   "execution_count": 3,
   "metadata": {},
   "outputs": [],
   "source": [
    "DB.open('dev')"
   ]
  },
  {
   "cell_type": "code",
   "execution_count": 4,
   "metadata": {},
   "outputs": [],
   "source": [
    "e = list(RegExp.objects)"
   ]
  },
  {
   "cell_type": "code",
   "execution_count": 5,
   "metadata": {},
   "outputs": [
    {
     "data": {
      "text/plain": [
       "[<RegExp: <RE fill (.*?).com {0.lower} >>,\n",
       " <RegExp: <RE fill Check # (\\d+) Check #{1} >>,\n",
       " <RegExp: <RE sub \\w{1,3}\\s*\\*, '' >>,\n",
       " <RegExp: <RE sub &amp; & >>,\n",
       " <RegExp: <RE sub (.*) {0.title} >>,\n",
       " <RegExp: <RE xfer AUTOMATIC PAYMENT Payment >>,\n",
       " <RegExp: <RE xfer Payment to (Chase|Citi|Apple) {0} Payment >>,\n",
       " <RegExp: <RE xfer Transfer (to|from) (.*?)/Xfer(.*) Transfer {1} >>,\n",
       " <RegExp: <RE xfer Xfer (to|from) .*?\\d+ (.*?)/ Transfer {1} >>,\n",
       " <RegExp: <RE trans BURRITO BOY Burrito Boy restaurant>>,\n",
       " <RegExp: <RE trans COMCAST Comcast utility>>,\n",
       " <RegExp: <RE trans DOWNTOWN ATH Downtown Athletic Club bob>>,\n",
       " <RegExp: <RE trans Disney Plus Disney Plus shared>>,\n",
       " <RegExp: <RE trans ESSENTIAL PHYSICAL THERAP Essential Phyiscal Therapy medical>>,\n",
       " <RegExp: <RE trans EUGENE WATER EWEB utility>>,\n",
       " <RegExp: <RE trans HEY NEIGHBOR Hey Neighbor restaurant>>,\n",
       " <RegExp: <RE trans HIRONS DRUG Hiron's medical>>,\n",
       " <RegExp: <RE trans HOME DEPOT Home Depot household>>,\n",
       " <RegExp: <RE trans LANE FOREST PRODUCTS Lane Forest Products yard>>,\n",
       " <RegExp: <RE trans LONGS Long's Meat Market groceries>>,\n",
       " <RegExp: <RE trans NETFLIX.COM Netflix shared>>,\n",
       " <RegExp: <RE trans NEWMAN'S Newman's groceries>>,\n",
       " <RegExp: <RE trans NW NATURAL NW Natural utility>>,\n",
       " <RegExp: <RE trans OPB Member OPB charity>>,\n",
       " <RegExp: <RE trans PARTNERS IN HEALTH Partners in Health charity>>,\n",
       " <RegExp: <RE trans Prime Video Prime Video shared>>,\n",
       " <RegExp: <RE trans RITE AID Rite Aid medical>>,\n",
       " <RegExp: <RE trans TIDAL Tidal shared>>,\n",
       " <RegExp: <RE trans Wikimedia Wikimedia alice>>,\n",
       " <RegExp: <RE trans Benefithelp Medical Insurance medical>>,\n",
       " <RegExp: <RE trans ROCKET MORTGAGE Rocket Mortgage mortgage>>,\n",
       " <RegExp: <RE trans BMW Car Payment expenses:car:payment>>,\n",
       " <RegExp: <RE trans COOKS ILLUSTRATED Cooks Illustrated shared>>,\n",
       " <RegExp: <RE trans NYTimes New York Times shared>>,\n",
       " <RegExp: <RE trans OREGONEYECONSULT Oregon Eye Consultants medical>>,\n",
       " <RegExp: <RE trans XXSOC SEC Social Security income:ssa>>,\n",
       " <RegExp: <RE trans CVS Pharmacy CSV medical>>,\n",
       " <RegExp: <RE trans EVERYONES MARKET Market groceries>>,\n",
       " <RegExp: <RE trans TRADEWINDS Jiffy Mart groceries>>,\n",
       " <RegExp: <RE trans D1Baseballcom d1baseball.com bob>>,\n",
       " <RegExp: <RE trans FMS DENTAL Dentist medical>>,\n",
       " <RegExp: <RE trans GIST YARN Gist Yarn alice>>,\n",
       " <RegExp: <RE trans Credit Interest Interest interest>>,\n",
       " <RegExp: <RE trans AT&T AT&T utility>>]"
      ]
     },
     "execution_count": 5,
     "metadata": {},
     "output_type": "execute_result"
    }
   ],
   "source": [
    "e"
   ]
  },
  {
   "cell_type": "code",
   "execution_count": null,
   "metadata": {},
   "outputs": [],
   "source": []
  },
  {
   "cell_type": "code",
   "execution_count": 6,
   "metadata": {},
   "outputs": [
    {
     "data": {
      "text/plain": [
       "<RegExp: <RE fill (.*?).com {0.lower} >>"
      ]
     },
     "execution_count": 6,
     "metadata": {},
     "output_type": "execute_result"
    }
   ],
   "source": [
    "RegExp.objects[0]"
   ]
  },
  {
   "cell_type": "code",
   "execution_count": 7,
   "metadata": {},
   "outputs": [
    {
     "data": {
      "text/plain": [
       "[<RegExp: <RE sub \\w{1,3}\\s*\\*, '' >>, <RegExp: <RE sub &amp; & >>, <RegExp: <RE sub (.*) {0.title} >>]"
      ]
     },
     "execution_count": 7,
     "metadata": {},
     "output_type": "execute_result"
    }
   ],
   "source": [
    "RegExp.objects(action=Action.S)"
   ]
  },
  {
   "cell_type": "code",
   "execution_count": 6,
   "metadata": {},
   "outputs": [],
   "source": [
    "e[0].apply('CHEVRON 0092601')"
   ]
  },
  {
   "cell_type": "code",
   "execution_count": 7,
   "metadata": {},
   "outputs": [],
   "source": [
    "e[2].apply('Payment to Comcast')"
   ]
  },
  {
   "cell_type": "code",
   "execution_count": 8,
   "metadata": {},
   "outputs": [],
   "source": [
    "e[3].apply('Check # 161: Completed')"
   ]
  },
  {
   "cell_type": "code",
   "execution_count": 9,
   "metadata": {},
   "outputs": [],
   "source": [
    "e[4].apply('WSFERRIES-ANACORTES')"
   ]
  },
  {
   "cell_type": "code",
   "execution_count": 10,
   "metadata": {},
   "outputs": [
    {
     "data": {
      "text/plain": [
       "False"
      ]
     },
     "execution_count": 10,
     "metadata": {},
     "output_type": "execute_result"
    }
   ],
   "source": [
    "bool(re.match(e[0].expr,'CHEVRON 0092601',re.I))"
   ]
  },
  {
   "cell_type": "code",
   "execution_count": 11,
   "metadata": {},
   "outputs": [
    {
     "data": {
      "text/plain": [
       "False"
      ]
     },
     "execution_count": 11,
     "metadata": {},
     "output_type": "execute_result"
    }
   ],
   "source": [
    "e[0].matches('CHEVRON')"
   ]
  },
  {
   "cell_type": "code",
   "execution_count": 12,
   "metadata": {},
   "outputs": [],
   "source": [
    "e = DB.find_regexp('CHEVRON')[0]"
   ]
  },
  {
   "cell_type": "code",
   "execution_count": 13,
   "metadata": {},
   "outputs": [
    {
     "data": {
      "text/plain": [
       "True"
      ]
     },
     "execution_count": 13,
     "metadata": {},
     "output_type": "execute_result"
    }
   ],
   "source": [
    "e.action == Action.T"
   ]
  },
  {
   "cell_type": "code",
   "execution_count": 14,
   "metadata": {},
   "outputs": [
    {
     "data": {
      "text/plain": [
       "'CHEVRON'"
      ]
     },
     "execution_count": 14,
     "metadata": {},
     "output_type": "execute_result"
    }
   ],
   "source": [
    "e.expr"
   ]
  },
  {
   "cell_type": "code",
   "execution_count": 15,
   "metadata": {},
   "outputs": [
    {
     "data": {
      "text/plain": [
       "'Chevron'"
      ]
     },
     "execution_count": 15,
     "metadata": {},
     "output_type": "execute_result"
    }
   ],
   "source": [
    "e.repl"
   ]
  },
  {
   "cell_type": "code",
   "execution_count": 16,
   "metadata": {},
   "outputs": [
    {
     "data": {
      "text/plain": [
       "'car'"
      ]
     },
     "execution_count": 16,
     "metadata": {},
     "output_type": "execute_result"
    }
   ],
   "source": [
    "e.acct"
   ]
  },
  {
   "cell_type": "code",
   "execution_count": 17,
   "metadata": {},
   "outputs": [
    {
     "data": {
      "text/plain": [
       "[]"
      ]
     },
     "execution_count": 17,
     "metadata": {},
     "output_type": "execute_result"
    }
   ],
   "source": [
    "DB.find_regexp('C')"
   ]
  },
  {
   "cell_type": "markdown",
   "metadata": {},
   "source": [
    "### Transfers"
   ]
  },
  {
   "cell_type": "markdown",
   "metadata": {},
   "source": [
    "Experiment with patterns to use in the `pair` script.  \n",
    "\n",
    "OCCU is all over the place.\n",
    "* most transfers have \"Xfer (to|from)\" in the description field\n",
    "* transfers scheduled through bill pay have \"Transfer (to|from)\" in the description field but \"Xfer (to|from)\" in the extended description\n",
    "* some have both forms!  e.g. BMW payment is \"Xfer to\" and \"Transfer from\"\n",
    "* Venmo, PayPal, are like bill pay but the extended description has different format (but does start with \"Xfer\")\n",
    "\n",
    "Solution: use separate rules for the two forms."
   ]
  },
  {
   "cell_type": "code",
   "execution_count": 18,
   "metadata": {},
   "outputs": [],
   "source": [
    "# OCCU transfers\n",
    "elist = [\n",
    "    r'Xfer (to|from) .*?\\d+ (.*?)/',\n",
    "    r'Transfer (to|from) (.*?)/Xfer(.*)',\n",
    "]"
   ]
  },
  {
   "cell_type": "code",
   "execution_count": null,
   "metadata": {},
   "outputs": [],
   "source": [
    "# Card payments, OCCU side\n",
    "elist = [\n",
    "    r'Payment to (Chase|Citi|Apple)',\n",
    "]"
   ]
  },
  {
   "cell_type": "code",
   "execution_count": null,
   "metadata": {},
   "outputs": [],
   "source": [
    "# Card payments\n",
    "elist = [\n",
    "    r'AUTOMATIC PAYMENT',   # Chase cards\n",
    "]"
   ]
  },
  {
   "cell_type": "code",
   "execution_count": 33,
   "metadata": {},
   "outputs": [
    {
     "name": "stdout",
     "output_type": "stream",
     "text": [
      "0 chase:freedom 2025-01-03 3.0 debit AUTOMATIC PAYMENT - THANK\n",
      "()\n",
      "0 chase:sapphire-jc 2025-01-09 1450.12 debit AUTOMATIC PAYMENT - THANK\n",
      "()\n",
      "0 chase:sapphire-lc 2025-01-07 425.33 debit AUTOMATIC PAYMENT - THANK\n",
      "()\n",
      "0 chase:united 2025-01-12 957.05 debit AUTOMATIC PAYMENT - THANK\n",
      "()\n"
     ]
    }
   ],
   "source": [
    "for e in DB.select(Entry, tag='#unpaired'):\n",
    "    for i, expr in enumerate(elist):\n",
    "        if m := re.match(expr, e.description, re.I):\n",
    "            print(i, e.account, e.date, e.amount, e.column, e.description)\n",
    "            print(m.groups())\n",
    "            continue"
   ]
  },
  {
   "cell_type": "code",
   "execution_count": 39,
   "metadata": {},
   "outputs": [],
   "source": [
    "line = '  {date:>10s}  {desc:^20s}'"
   ]
  },
  {
   "cell_type": "code",
   "execution_count": 40,
   "metadata": {},
   "outputs": [
    {
     "data": {
      "text/plain": [
       "'          hi           ho         '"
      ]
     },
     "execution_count": 40,
     "metadata": {},
     "output_type": "execute_result"
    }
   ],
   "source": [
    "line.format(date='hi',desc='ho')"
   ]
  },
  {
   "cell_type": "code",
   "execution_count": null,
   "metadata": {},
   "outputs": [],
   "source": []
  }
 ],
 "metadata": {
  "kernelspec": {
   "display_name": "nosql",
   "language": "python",
   "name": "python3"
  },
  "language_info": {
   "codemirror_mode": {
    "name": "ipython",
    "version": 3
   },
   "file_extension": ".py",
   "mimetype": "text/x-python",
   "name": "python",
   "nbconvert_exporter": "python",
   "pygments_lexer": "ipython3",
   "version": "3.13.1"
  }
 },
 "nbformat": 4,
 "nbformat_minor": 2
}
