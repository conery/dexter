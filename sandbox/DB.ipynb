{
 "cells": [
  {
   "cell_type": "markdown",
   "metadata": {},
   "source": [
    "### Experiment with MongoEngine"
   ]
  },
  {
   "cell_type": "markdown",
   "metadata": {},
   "source": [
    "The ODM we use to access MongoDB"
   ]
  },
  {
   "cell_type": "code",
   "execution_count": 1,
   "metadata": {},
   "outputs": [],
   "source": [
    "from dexter.DB import DB, Account, Entry, Transaction, RegExp, Document, Tag\n",
    "\n",
    "from datetime import date, datetime, timedelta"
   ]
  },
  {
   "cell_type": "markdown",
   "metadata": {},
   "source": [
    "Open the database:"
   ]
  },
  {
   "cell_type": "code",
   "execution_count": 2,
   "metadata": {},
   "outputs": [],
   "source": [
    "DB.init()"
   ]
  },
  {
   "cell_type": "code",
   "execution_count": 3,
   "metadata": {},
   "outputs": [],
   "source": [
    "# DB.open('pytest')\n",
    "DB.open('flat')"
   ]
  },
  {
   "cell_type": "markdown",
   "metadata": {},
   "source": [
    "Make an account:"
   ]
  },
  {
   "cell_type": "code",
   "execution_count": 4,
   "metadata": {},
   "outputs": [],
   "source": [
    "acct = Account(name='equity', category='equity')"
   ]
  },
  {
   "cell_type": "markdown",
   "metadata": {},
   "source": [
    "Save it:"
   ]
  },
  {
   "cell_type": "code",
   "execution_count": 5,
   "metadata": {},
   "outputs": [
    {
     "data": {
      "text/plain": [
       "<Account: <Ac equity equity None>>"
      ]
     },
     "execution_count": 5,
     "metadata": {},
     "output_type": "execute_result"
    }
   ],
   "source": [
    "acct.save()"
   ]
  },
  {
   "cell_type": "markdown",
   "metadata": {},
   "source": [
    "If we open that DB with `mongosh` we should see the account.\n",
    "\n",
    "```\n",
    "$ mongosh\n",
    "\n",
    "test> use foo\n",
    "switched to db foo\n",
    "\n",
    "foo> db.account.find()\n",
    "[\n",
    "  {\n",
    "    _id: ObjectId('67c61fa19d0161a19b80469e'),\n",
    "    name: 'equity',\n",
    "    group: 'equity'\n",
    "  }\n",
    "]\n",
    "```\n",
    "\n",
    "It worked!  🎉"
   ]
  },
  {
   "cell_type": "markdown",
   "metadata": {},
   "source": [
    "### Contents of a Collection"
   ]
  },
  {
   "cell_type": "code",
   "execution_count": 6,
   "metadata": {},
   "outputs": [
    {
     "data": {
      "text/plain": [
       "[<Account: <Ac equity equity None>>, <Account: <Ac assets:bank:checking assets checking>>, <Account: <Ac assets:bank:savings assets savings>>, <Account: <Ac expenses:car expenses None>>, <Account: <Ac expenses:car:payment expenses None>>, <Account: <Ac expenses:car:fuel expenses None>>, <Account: <Ac expenses:food expenses None>>, <Account: <Ac expenses:food:groceries expenses groceries>>, <Account: <Ac expenses:food:restaurant expenses dining>>, <Account: <Ac expenses:home expenses None>>, <Account: <Ac expenses:home:household expenses household>>, <Account: <Ac expenses:home:mortgage expenses mortgage>>, <Account: <Ac expenses:travel expenses None>>, <Account: <Ac income:yoyodyne income None>>, <Account: <Ac liabilities:chase:visa liabilities visa>>, <Account: <Ac equity equity None>>]"
      ]
     },
     "execution_count": 6,
     "metadata": {},
     "output_type": "execute_result"
    }
   ],
   "source": [
    "Account.objects"
   ]
  },
  {
   "cell_type": "code",
   "execution_count": 7,
   "metadata": {},
   "outputs": [
    {
     "data": {
      "text/plain": [
       "<Account: <Ac equity equity None>>"
      ]
     },
     "execution_count": 7,
     "metadata": {},
     "output_type": "execute_result"
    }
   ],
   "source": [
    "Account.objects[0]"
   ]
  },
  {
   "cell_type": "code",
   "execution_count": 8,
   "metadata": {},
   "outputs": [],
   "source": [
    "acct = Account.objects[0]"
   ]
  },
  {
   "cell_type": "code",
   "execution_count": 9,
   "metadata": {},
   "outputs": [
    {
     "data": {
      "text/plain": [
       "'equity'"
      ]
     },
     "execution_count": 9,
     "metadata": {},
     "output_type": "execute_result"
    }
   ],
   "source": [
    "acct.name"
   ]
  },
  {
   "cell_type": "code",
   "execution_count": 10,
   "metadata": {},
   "outputs": [
    {
     "data": {
      "text/plain": [
       "'equity'"
      ]
     },
     "execution_count": 10,
     "metadata": {},
     "output_type": "execute_result"
    }
   ],
   "source": [
    "acct['name']"
   ]
  },
  {
   "cell_type": "markdown",
   "metadata": {},
   "source": [
    "### Low Level API"
   ]
  },
  {
   "cell_type": "markdown",
   "metadata": {},
   "source": [
    "We can also connect to the DB directly to use the `pymongo` library, _e.g._ to get collection names.\n",
    "\n",
    "After calling `DB.open` we can get a reference to the client and the current database using static vars of the module:"
   ]
  },
  {
   "cell_type": "code",
   "execution_count": 11,
   "metadata": {},
   "outputs": [
    {
     "data": {
      "text/plain": [
       "MongoClient(host=['localhost:27017'], document_class=dict, tz_aware=False, connect=True, read_preference=Primary(), uuidrepresentation=3, driver=DriverInfo(name='MongoEngine', version='0.29.1', platform=None))"
      ]
     },
     "execution_count": 11,
     "metadata": {},
     "output_type": "execute_result"
    }
   ],
   "source": [
    "DB.server"
   ]
  },
  {
   "cell_type": "code",
   "execution_count": 12,
   "metadata": {},
   "outputs": [
    {
     "data": {
      "text/plain": [
       "['admin', 'config', 'dev', 'errors', 'finances', 'local', 'newdates', 'pytest']"
      ]
     },
     "execution_count": 12,
     "metadata": {},
     "output_type": "execute_result"
    }
   ],
   "source": [
    "DB.server.list_database_names()"
   ]
  },
  {
   "cell_type": "code",
   "execution_count": 13,
   "metadata": {},
   "outputs": [
    {
     "data": {
      "text/plain": [
       "Database(MongoClient(host=['localhost:27017'], document_class=dict, tz_aware=False, connect=True, read_preference=Primary(), uuidrepresentation=4, driver=DriverInfo(name='MongoEngine', version='0.29.1', platform=None)), 'pytest')"
      ]
     },
     "execution_count": 13,
     "metadata": {},
     "output_type": "execute_result"
    }
   ],
   "source": [
    "DB.database"
   ]
  },
  {
   "cell_type": "code",
   "execution_count": 14,
   "metadata": {},
   "outputs": [],
   "source": [
    "db = DB.database"
   ]
  },
  {
   "cell_type": "code",
   "execution_count": 15,
   "metadata": {},
   "outputs": [
    {
     "data": {
      "text/plain": [
       "Collection(Database(MongoClient(host=['localhost:27017'], document_class=dict, tz_aware=False, connect=True, read_preference=Primary(), uuidrepresentation=4, driver=DriverInfo(name='MongoEngine', version='0.29.1', platform=None)), 'pytest'), 'account')"
      ]
     },
     "execution_count": 15,
     "metadata": {},
     "output_type": "execute_result"
    }
   ],
   "source": [
    "db.account"
   ]
  },
  {
   "cell_type": "code",
   "execution_count": 16,
   "metadata": {},
   "outputs": [
    {
     "data": {
      "text/plain": [
       "{'_id': ObjectId('68d58be4d827ac4e7ac33e5d'),\n",
       " 'name': 'equity',\n",
       " 'category': 'equity'}"
      ]
     },
     "execution_count": 16,
     "metadata": {},
     "output_type": "execute_result"
    }
   ],
   "source": [
    "db.account.find_one()"
   ]
  },
  {
   "cell_type": "code",
   "execution_count": 17,
   "metadata": {},
   "outputs": [
    {
     "name": "stdout",
     "output_type": "stream",
     "text": [
      "{'name': 'account', 'type': 'collection', 'options': {}, 'info': {'readOnly': False, 'uuid': Binary(b'Z6\\xa1,/\\xfeA\\x82\\x86(\\x88\\xccD\\x87\\xd4\\xd8', 4)}, 'idIndex': {'v': 2, 'key': {'_id': 1}, 'name': '_id_'}}\n",
      "{'name': 'dexter', 'type': 'collection', 'options': {}, 'info': {'readOnly': False, 'uuid': Binary(b'\\xadp53*\\x00Hk\\xb1*\\xa2\\x00\\xdc\\xf8\\xf6\\x80', 4)}, 'idIndex': {'v': 2, 'key': {'_id': 1}, 'name': '_id_'}}\n",
      "{'name': 'entry', 'type': 'collection', 'options': {}, 'info': {'readOnly': False, 'uuid': Binary(b'\\xb7\\xc2\\xdd\\x8f\\xd1\\xd6E\\xc4\\x85J\\x1fr\\x19D(e', 4)}, 'idIndex': {'v': 2, 'key': {'_id': 1}, 'name': '_id_'}}\n",
      "{'name': 'transaction', 'type': 'collection', 'options': {}, 'info': {'readOnly': False, 'uuid': Binary(b'\\xfay\\xf4-\\x03.@\\xa7\\x97\\rk\\x876\\x1d\\xc9\\xcb', 4)}, 'idIndex': {'v': 2, 'key': {'_id': 1}, 'name': '_id_'}}\n"
     ]
    }
   ],
   "source": [
    "for c in db.list_collections():\n",
    "    print(c)"
   ]
  },
  {
   "cell_type": "code",
   "execution_count": 18,
   "metadata": {},
   "outputs": [
    {
     "name": "stdout",
     "output_type": "stream",
     "text": [
      "account\n",
      "dexter\n",
      "entry\n",
      "transaction\n"
     ]
    }
   ],
   "source": [
    "for name in db.list_collection_names():\n",
    "    print(name)"
   ]
  },
  {
   "cell_type": "code",
   "execution_count": 19,
   "metadata": {},
   "outputs": [
    {
     "data": {
      "text/plain": [
       "Collection(Database(MongoClient(host=['localhost:27017'], document_class=dict, tz_aware=False, connect=True, read_preference=Primary(), uuidrepresentation=4, driver=DriverInfo(name='MongoEngine', version='0.29.1', platform=None)), 'pytest'), 'account')"
      ]
     },
     "execution_count": 19,
     "metadata": {},
     "output_type": "execute_result"
    }
   ],
   "source": [
    "db['account']"
   ]
  },
  {
   "cell_type": "markdown",
   "metadata": {},
   "source": []
  },
  {
   "cell_type": "code",
   "execution_count": 20,
   "metadata": {},
   "outputs": [
    {
     "data": {
      "text/plain": [
       "{'_id': ObjectId('68d58be4d827ac4e7ac33e5d'),\n",
       " 'name': 'equity',\n",
       " 'category': 'equity'}"
      ]
     },
     "execution_count": 20,
     "metadata": {},
     "output_type": "execute_result"
    }
   ],
   "source": [
    "db['account'].find_one()"
   ]
  },
  {
   "cell_type": "code",
   "execution_count": 21,
   "metadata": {},
   "outputs": [
    {
     "name": "stdout",
     "output_type": "stream",
     "text": [
      "{'_id': ObjectId('68d58be4d827ac4e7ac33e5d'), 'name': 'equity', 'category': 'equity'}\n",
      "{'_id': ObjectId('68d58be4d827ac4e7ac33e5e'), 'name': 'assets:bank:checking', 'category': 'assets', 'abbrev': 'checking', 'parser': 'occu'}\n",
      "{'_id': ObjectId('68d58be4d827ac4e7ac33e5f'), 'name': 'assets:bank:savings', 'category': 'assets', 'abbrev': 'savings', 'parser': 'occu'}\n",
      "{'_id': ObjectId('68d58be4d827ac4e7ac33e60'), 'name': 'expenses:car', 'category': 'expenses'}\n",
      "{'_id': ObjectId('68d58be4d827ac4e7ac33e61'), 'name': 'expenses:car:payment', 'category': 'expenses'}\n",
      "{'_id': ObjectId('68d58be4d827ac4e7ac33e62'), 'name': 'expenses:car:fuel', 'category': 'expenses'}\n",
      "{'_id': ObjectId('68d58be4d827ac4e7ac33e63'), 'name': 'expenses:food', 'category': 'expenses'}\n",
      "{'_id': ObjectId('68d58be4d827ac4e7ac33e64'), 'name': 'expenses:food:groceries', 'category': 'expenses', 'abbrev': 'groceries'}\n",
      "{'_id': ObjectId('68d58be4d827ac4e7ac33e65'), 'name': 'expenses:food:restaurant', 'category': 'expenses', 'abbrev': 'dining'}\n",
      "{'_id': ObjectId('68d58be4d827ac4e7ac33e66'), 'name': 'expenses:home', 'category': 'expenses'}\n",
      "{'_id': ObjectId('68d58be4d827ac4e7ac33e67'), 'name': 'expenses:home:household', 'category': 'expenses', 'abbrev': 'household'}\n",
      "{'_id': ObjectId('68d58be4d827ac4e7ac33e68'), 'name': 'expenses:home:mortgage', 'category': 'expenses', 'abbrev': 'mortgage'}\n",
      "{'_id': ObjectId('68d58be4d827ac4e7ac33e69'), 'name': 'expenses:travel', 'category': 'expenses'}\n",
      "{'_id': ObjectId('68d58be4d827ac4e7ac33e6a'), 'name': 'income:yoyodyne', 'category': 'income'}\n",
      "{'_id': ObjectId('68d58be4d827ac4e7ac33e6b'), 'name': 'liabilities:chase:visa', 'category': 'liabilities', 'abbrev': 'visa', 'parser': 'chase'}\n",
      "{'_id': ObjectId('68dd4ab246c643cc299d8abe'), 'name': 'equity', 'category': 'equity'}\n"
     ]
    }
   ],
   "source": [
    "for obj in db['account'].find():\n",
    "    print(obj)"
   ]
  },
  {
   "cell_type": "code",
   "execution_count": 22,
   "metadata": {},
   "outputs": [
    {
     "data": {
      "text/plain": [
       "Collection(Database(MongoClient(host=['localhost:27017'], document_class=dict, tz_aware=False, connect=True, read_preference=Primary(), uuidrepresentation=4, driver=DriverInfo(name='MongoEngine', version='0.29.1', platform=None)), 'pytest'), 'regexp')"
      ]
     },
     "execution_count": 22,
     "metadata": {},
     "output_type": "execute_result"
    }
   ],
   "source": [
    "DB.database.regexp"
   ]
  },
  {
   "cell_type": "code",
   "execution_count": 23,
   "metadata": {},
   "outputs": [
    {
     "data": {
      "text/plain": [
       "Collection(Database(MongoClient(host=['localhost:27017'], document_class=dict, tz_aware=False, connect=True, read_preference=Primary(), uuidrepresentation=4, driver=DriverInfo(name='MongoEngine', version='0.29.1', platform=None)), 'pytest'), 'regexp')"
      ]
     },
     "execution_count": 23,
     "metadata": {},
     "output_type": "execute_result"
    }
   ],
   "source": [
    "db.regexp"
   ]
  },
  {
   "cell_type": "code",
   "execution_count": 24,
   "metadata": {},
   "outputs": [],
   "source": [
    "res = db.regexp.delete_many({})"
   ]
  },
  {
   "cell_type": "code",
   "execution_count": 25,
   "metadata": {},
   "outputs": [
    {
     "data": {
      "text/plain": [
       "0"
      ]
     },
     "execution_count": 25,
     "metadata": {},
     "output_type": "execute_result"
    }
   ],
   "source": [
    "res.deleted_count"
   ]
  },
  {
   "cell_type": "code",
   "execution_count": 26,
   "metadata": {},
   "outputs": [
    {
     "data": {
      "text/plain": [
       "dexter.DB.RegExp"
      ]
     },
     "execution_count": 26,
     "metadata": {},
     "output_type": "execute_result"
    }
   ],
   "source": [
    "RegExp"
   ]
  },
  {
   "cell_type": "code",
   "execution_count": 27,
   "metadata": {},
   "outputs": [
    {
     "data": {
      "text/plain": [
       "[]"
      ]
     },
     "execution_count": 27,
     "metadata": {},
     "output_type": "execute_result"
    }
   ],
   "source": [
    "RegExp.objects"
   ]
  },
  {
   "cell_type": "code",
   "execution_count": 28,
   "metadata": {},
   "outputs": [
    {
     "data": {
      "text/plain": [
       "0"
      ]
     },
     "execution_count": 28,
     "metadata": {},
     "output_type": "execute_result"
    }
   ],
   "source": [
    "RegExp.objects.delete()"
   ]
  },
  {
   "cell_type": "code",
   "execution_count": 29,
   "metadata": {},
   "outputs": [
    {
     "data": {
      "text/plain": [
       "[]"
      ]
     },
     "execution_count": 29,
     "metadata": {},
     "output_type": "execute_result"
    }
   ],
   "source": [
    "RegExp.objects"
   ]
  },
  {
   "cell_type": "markdown",
   "metadata": {},
   "source": [
    "### From Low Level to High Level"
   ]
  },
  {
   "cell_type": "markdown",
   "metadata": {},
   "source": [
    "Question:  given a collection name (\"account\") can we find the corresponding MongoEngine class (Account)?"
   ]
  },
  {
   "cell_type": "code",
   "execution_count": 30,
   "metadata": {},
   "outputs": [
    {
     "data": {
      "text/plain": [
       "mongoengine.document.Document"
      ]
     },
     "execution_count": 30,
     "metadata": {},
     "output_type": "execute_result"
    }
   ],
   "source": [
    "Document"
   ]
  },
  {
   "cell_type": "code",
   "execution_count": 31,
   "metadata": {},
   "outputs": [
    {
     "data": {
      "text/plain": [
       "[mongoengine.document.DynamicDocument,\n",
       " dexter.DB.Dexter,\n",
       " dexter.DB.Account,\n",
       " dexter.DB.Entry,\n",
       " dexter.DB.Transaction,\n",
       " dexter.DB.RegExp]"
      ]
     },
     "execution_count": 31,
     "metadata": {},
     "output_type": "execute_result"
    }
   ],
   "source": [
    "Document.__subclasses__()"
   ]
  },
  {
   "cell_type": "code",
   "execution_count": 32,
   "metadata": {},
   "outputs": [
    {
     "data": {
      "text/plain": [
       "[dexter.DB.Dexter,\n",
       " dexter.DB.Account,\n",
       " dexter.DB.Entry,\n",
       " dexter.DB.Transaction,\n",
       " dexter.DB.RegExp]"
      ]
     },
     "execution_count": 32,
     "metadata": {},
     "output_type": "execute_result"
    }
   ],
   "source": [
    "[cls for cls in Document.__subclasses__() if hasattr(cls, 'objects')]"
   ]
  },
  {
   "cell_type": "code",
   "execution_count": 33,
   "metadata": {},
   "outputs": [
    {
     "data": {
      "text/plain": [
       "{'abstract': False,\n",
       " 'max_documents': None,\n",
       " 'max_size': None,\n",
       " 'ordering': [],\n",
       " 'indexes': [],\n",
       " 'id_field': 'id',\n",
       " 'index_background': False,\n",
       " 'index_opts': None,\n",
       " 'delete_rules': None,\n",
       " 'allow_inheritance': None,\n",
       " 'collection': 'account',\n",
       " 'index_specs': []}"
      ]
     },
     "execution_count": 33,
     "metadata": {},
     "output_type": "execute_result"
    }
   ],
   "source": [
    "Account._meta"
   ]
  },
  {
   "cell_type": "code",
   "execution_count": 34,
   "metadata": {},
   "outputs": [
    {
     "name": "stdout",
     "output_type": "stream",
     "text": [
      "dexter <class 'dexter.DB.Dexter'>\n",
      "account <class 'dexter.DB.Account'>\n",
      "entry <class 'dexter.DB.Entry'>\n",
      "transaction <class 'dexter.DB.Transaction'>\n",
      "reg_exp <class 'dexter.DB.RegExp'>\n"
     ]
    }
   ],
   "source": [
    "for cls in Document.__subclasses__():\n",
    "    if not hasattr(cls, 'objects'):\n",
    "        continue\n",
    "    print(cls._meta['collection'], cls)"
   ]
  },
  {
   "cell_type": "markdown",
   "metadata": {},
   "source": [
    "### The Big Picture"
   ]
  },
  {
   "cell_type": "markdown",
   "metadata": {},
   "source": [
    "Use the high level API when working with data.  MongoEngine converts the documents into objects (which is something we'd be doing ourselves if we didn't use it).\n",
    "\n",
    "Use the low level API for collective operations: exporting, importing, ...\n",
    "\n",
    "**NOTE**  It's possible to get a document using the low level API, as shown above, but it will be a `dict`, not a model instance."
   ]
  },
  {
   "cell_type": "markdown",
   "metadata": {},
   "source": [
    "### Transactions"
   ]
  },
  {
   "cell_type": "code",
   "execution_count": 35,
   "metadata": {},
   "outputs": [],
   "source": [
    "t = Transaction(description='hi', comment='aloha')"
   ]
  },
  {
   "cell_type": "code",
   "execution_count": 36,
   "metadata": {},
   "outputs": [
    {
     "data": {
      "text/plain": [
       "'hi'"
      ]
     },
     "execution_count": 36,
     "metadata": {},
     "output_type": "execute_result"
    }
   ],
   "source": [
    "t.description"
   ]
  },
  {
   "cell_type": "markdown",
   "metadata": {},
   "source": [
    "Nice -- the list fields are initially empty."
   ]
  },
  {
   "cell_type": "code",
   "execution_count": 37,
   "metadata": {},
   "outputs": [
    {
     "data": {
      "text/plain": [
       "[]"
      ]
     },
     "execution_count": 37,
     "metadata": {},
     "output_type": "execute_result"
    }
   ],
   "source": [
    "t.tags"
   ]
  },
  {
   "cell_type": "code",
   "execution_count": 38,
   "metadata": {},
   "outputs": [
    {
     "data": {
      "text/plain": [
       "[]"
      ]
     },
     "execution_count": 38,
     "metadata": {},
     "output_type": "execute_result"
    }
   ],
   "source": [
    "t.entries"
   ]
  },
  {
   "cell_type": "markdown",
   "metadata": {},
   "source": [
    "### Entries"
   ]
  },
  {
   "cell_type": "code",
   "execution_count": 39,
   "metadata": {},
   "outputs": [],
   "source": [
    "e = Entry(uid='xxx', column='credit', date='2025-03-05', amount=1000, account='unknown')"
   ]
  },
  {
   "cell_type": "code",
   "execution_count": 40,
   "metadata": {},
   "outputs": [
    {
     "data": {
      "text/plain": [
       "dexter.DB.Entry"
      ]
     },
     "execution_count": 40,
     "metadata": {},
     "output_type": "execute_result"
    }
   ],
   "source": [
    "type(e)"
   ]
  },
  {
   "cell_type": "code",
   "execution_count": 41,
   "metadata": {},
   "outputs": [
    {
     "data": {
      "text/plain": [
       "<Entry: <En 2025-03-05 unknown -$1000.0 []>>"
      ]
     },
     "execution_count": 41,
     "metadata": {},
     "output_type": "execute_result"
    }
   ],
   "source": [
    "e"
   ]
  },
  {
   "cell_type": "code",
   "execution_count": 42,
   "metadata": {},
   "outputs": [
    {
     "data": {
      "text/plain": [
       "<Column.cr: 'credit'>"
      ]
     },
     "execution_count": 42,
     "metadata": {},
     "output_type": "execute_result"
    }
   ],
   "source": [
    "e.column"
   ]
  },
  {
   "cell_type": "code",
   "execution_count": 43,
   "metadata": {},
   "outputs": [
    {
     "data": {
      "text/plain": [
       "<Column.dr: 'debit'>"
      ]
     },
     "execution_count": 43,
     "metadata": {},
     "output_type": "execute_result"
    }
   ],
   "source": [
    "e.column.opposite()"
   ]
  },
  {
   "cell_type": "code",
   "execution_count": 44,
   "metadata": {},
   "outputs": [
    {
     "data": {
      "text/plain": [
       "<Column.cr: 'credit'>"
      ]
     },
     "execution_count": 44,
     "metadata": {},
     "output_type": "execute_result"
    }
   ],
   "source": [
    "e.column.opposite().opposite()"
   ]
  },
  {
   "cell_type": "code",
   "execution_count": 45,
   "metadata": {},
   "outputs": [
    {
     "data": {
      "text/plain": [
       "1000.0"
      ]
     },
     "execution_count": 45,
     "metadata": {},
     "output_type": "execute_result"
    }
   ],
   "source": [
    "e.amount"
   ]
  },
  {
   "cell_type": "code",
   "execution_count": 46,
   "metadata": {},
   "outputs": [
    {
     "data": {
      "text/plain": [
       "'6fce51cdae9a1803b7c8d26e12244edc'"
      ]
     },
     "execution_count": 46,
     "metadata": {},
     "output_type": "execute_result"
    }
   ],
   "source": [
    "e.hash"
   ]
  },
  {
   "cell_type": "code",
   "execution_count": 47,
   "metadata": {},
   "outputs": [
    {
     "data": {
      "text/plain": [
       "32"
      ]
     },
     "execution_count": 47,
     "metadata": {},
     "output_type": "execute_result"
    }
   ],
   "source": [
    "len(e.hash)"
   ]
  },
  {
   "cell_type": "code",
   "execution_count": 48,
   "metadata": {},
   "outputs": [
    {
     "data": {
      "text/plain": [
       "{'027e4381664e8fd7cbd6f05862ec257c',\n",
       " '035404716c3d4e12fbfd3ba334d5e53b',\n",
       " '0d61d5b0fe349ca19c13af086a6ba548',\n",
       " '144cb37ff850ddd7c5a6ec0029a058f1',\n",
       " '19bbf4989ebaaa02d2417d82f0c879f5',\n",
       " '1a0f830c763239d58106bb853409cf2b',\n",
       " '220a8516a912d5210c388d543b45fbf9',\n",
       " '27916822f82b782a8d47e8dedbfcdf45',\n",
       " '2a11737320d943052fcc4dd47f303c4f',\n",
       " '360ffdfbe30c25d655ccb6408b0ecee3',\n",
       " '468fb03a0f0ebc2d9bfa8a06d34e5e98',\n",
       " '489e4befd91753d5dc49bfcc221b5676',\n",
       " '60778935e3980c4bebe69fe6843a52ba',\n",
       " '6a3e9221e29c2ee2f860c51a273aea96',\n",
       " '6acfe94644a2ef9cd2db91166f5a97e6',\n",
       " '6c9b71192dc84ed15c49c661c086c966',\n",
       " '7081fda3304e2a8966db1205ccbecc14',\n",
       " '727d5543a99a71772bd1f0a636748675',\n",
       " '73ba3b9b44bfbb23908fdf99795e97ff',\n",
       " '75da88f351d54db14abbb9ee61711c68',\n",
       " '9a40bfe53c5b95599c2206a9e3e0aee7',\n",
       " 'a1169acb9de50c2cc6eea2d96348bca6',\n",
       " 'a3458e99dfa6d98c17592447d0688327',\n",
       " 'a6c240d6ecd12f69b0425c67317d046a',\n",
       " 'b7ed10e1dbb1d2194075389ae155b710',\n",
       " 'bc2bb65cedb51ac170d666350c8aaa9a',\n",
       " 'bca93ab95fa5f3d678b3283249481f94',\n",
       " 'c129da9f1ba6452351bc938bb3ec7248',\n",
       " 'c150987a98e4472b22b8084d715cb9f8',\n",
       " 'cbbfdfad7d4c478a430d8506d7ce21e9',\n",
       " 'd16a8c1402b4d19d89e0f55c131c807e',\n",
       " 'd2817593e92658ede629d6d260f82185',\n",
       " 'e193732821644f30544fb380f0deab52',\n",
       " 'e1e2b7a3b784fe381ca6fbf1c164f498',\n",
       " 'e874ec2ad70c696ae5c53d7773c2fe9c',\n",
       " 'e94bd926a99037608510bf96a61f1ed2',\n",
       " 'f65265528a04d18302ce39a7c0f19c62',\n",
       " 'f8bd42ee6e7b184124b716eb3c83f71f',\n",
       " 'fc8d2468e6d16854258ac6d5f91a4da6',\n",
       " 'fdb0a6d586bca2dc8feca1ed616f8450'}"
      ]
     },
     "execution_count": 48,
     "metadata": {},
     "output_type": "execute_result"
    }
   ],
   "source": [
    "{e.uid for e in Entry.objects}"
   ]
  },
  {
   "cell_type": "code",
   "execution_count": 49,
   "metadata": {},
   "outputs": [],
   "source": [
    "s = set()\n",
    "for e in Entry.objects:\n",
    "    if e in s:\n",
    "        print(e.date, e.amount, e.description)\n",
    "    s.add(e.uid)"
   ]
  },
  {
   "cell_type": "code",
   "execution_count": 50,
   "metadata": {},
   "outputs": [
    {
     "data": {
      "text/plain": [
       "40"
      ]
     },
     "execution_count": 50,
     "metadata": {},
     "output_type": "execute_result"
    }
   ],
   "source": [
    "len(s)"
   ]
  },
  {
   "cell_type": "code",
   "execution_count": 51,
   "metadata": {},
   "outputs": [
    {
     "data": {
      "text/plain": [
       "40"
      ]
     },
     "execution_count": 51,
     "metadata": {},
     "output_type": "execute_result"
    }
   ],
   "source": [
    "len(Entry.objects)"
   ]
  },
  {
   "cell_type": "code",
   "execution_count": 52,
   "metadata": {},
   "outputs": [],
   "source": [
    "lst = sorted([e.uid for e in Entry.objects])"
   ]
  },
  {
   "cell_type": "code",
   "execution_count": 53,
   "metadata": {},
   "outputs": [
    {
     "data": {
      "text/plain": [
       "40"
      ]
     },
     "execution_count": 53,
     "metadata": {},
     "output_type": "execute_result"
    }
   ],
   "source": [
    "len(lst)"
   ]
  },
  {
   "cell_type": "code",
   "execution_count": 54,
   "metadata": {},
   "outputs": [],
   "source": [
    "dup = []\n",
    "for i in range(len(lst)-1):\n",
    "    if lst[i] == lst[i+1]:\n",
    "        dup.append(lst[i])"
   ]
  },
  {
   "cell_type": "code",
   "execution_count": 55,
   "metadata": {},
   "outputs": [
    {
     "data": {
      "text/plain": [
       "[]"
      ]
     },
     "execution_count": 55,
     "metadata": {},
     "output_type": "execute_result"
    }
   ],
   "source": [
    "dup"
   ]
  },
  {
   "cell_type": "code",
   "execution_count": 56,
   "metadata": {},
   "outputs": [],
   "source": [
    "for e in Entry.objects:\n",
    "    if e.uid in dup:\n",
    "        print(e.date, e.amount, e.account, e.description)"
   ]
  },
  {
   "cell_type": "markdown",
   "metadata": {},
   "source": [
    "### Tags"
   ]
  },
  {
   "cell_type": "code",
   "execution_count": 11,
   "metadata": {},
   "outputs": [],
   "source": [
    "e = Entry.objects[0]"
   ]
  },
  {
   "cell_type": "code",
   "execution_count": 12,
   "metadata": {},
   "outputs": [
    {
     "data": {
      "text/plain": [
       "''"
      ]
     },
     "execution_count": 12,
     "metadata": {},
     "output_type": "execute_result"
    }
   ],
   "source": [
    "e.description"
   ]
  },
  {
   "cell_type": "code",
   "execution_count": 13,
   "metadata": {},
   "outputs": [
    {
     "data": {
      "text/plain": [
       "[]"
      ]
     },
     "execution_count": 13,
     "metadata": {},
     "output_type": "execute_result"
    }
   ],
   "source": [
    "e.tags"
   ]
  },
  {
   "cell_type": "code",
   "execution_count": 14,
   "metadata": {},
   "outputs": [],
   "source": [
    "# e.tags.append(Tag.U)\n",
    "e.tags.append('#unpaired')"
   ]
  },
  {
   "cell_type": "code",
   "execution_count": 15,
   "metadata": {},
   "outputs": [
    {
     "data": {
      "text/plain": [
       "<Entry: <En 2024-12-31 assets:occu:buckets +$108038.57 ['#unpaired']>>"
      ]
     },
     "execution_count": 15,
     "metadata": {},
     "output_type": "execute_result"
    }
   ],
   "source": [
    "e.save()"
   ]
  },
  {
   "cell_type": "code",
   "execution_count": 16,
   "metadata": {},
   "outputs": [
    {
     "data": {
      "text/plain": [
       "['#unpaired']"
      ]
     },
     "execution_count": 16,
     "metadata": {},
     "output_type": "execute_result"
    }
   ],
   "source": [
    "e.tags"
   ]
  },
  {
   "cell_type": "code",
   "execution_count": 63,
   "metadata": {},
   "outputs": [],
   "source": [
    "e.note = \"hello\""
   ]
  },
  {
   "cell_type": "code",
   "execution_count": 64,
   "metadata": {},
   "outputs": [
    {
     "data": {
      "text/plain": [
       "<Entry: <En 2024-01-02 assets:bank:checking +$5000.0 [<Tag.U: '#unpaired'>]>>"
      ]
     },
     "execution_count": 64,
     "metadata": {},
     "output_type": "execute_result"
    }
   ],
   "source": [
    "e.save()"
   ]
  },
  {
   "cell_type": "code",
   "execution_count": 17,
   "metadata": {},
   "outputs": [
    {
     "data": {
      "text/plain": [
       "761"
      ]
     },
     "execution_count": 17,
     "metadata": {},
     "output_type": "execute_result"
    }
   ],
   "source": [
    "len(Entry.objects)"
   ]
  },
  {
   "cell_type": "code",
   "execution_count": null,
   "metadata": {},
   "outputs": [
    {
     "data": {
      "text/plain": [
       "[<Entry: <En 2024-01-02 assets:bank:checking +$5000.0 [<Tag.U: '#unpaired'>]>>]"
      ]
     },
     "execution_count": 77,
     "metadata": {},
     "output_type": "execute_result"
    }
   ],
   "source": [
    "# list(Entry.objects(tags=Tag.U))"
   ]
  },
  {
   "cell_type": "code",
   "execution_count": 18,
   "metadata": {},
   "outputs": [
    {
     "data": {
      "text/plain": [
       "[<Entry: <En 2024-12-31 assets:occu:buckets +$108038.57 ['#unpaired']>>]"
      ]
     },
     "execution_count": 18,
     "metadata": {},
     "output_type": "execute_result"
    }
   ],
   "source": [
    "list(Entry.objects(tags='#unpaired'))"
   ]
  },
  {
   "cell_type": "code",
   "execution_count": null,
   "metadata": {},
   "outputs": [
    {
     "data": {
      "text/plain": [
       "[<Entry: <En 2024-01-02 assets:bank:checking +$5000.0 [<Tag.U: '#unpaired'>]>>]"
      ]
     },
     "execution_count": 83,
     "metadata": {},
     "output_type": "execute_result"
    }
   ],
   "source": [
    "# list(Entry.objects(tags__exact=Tag.U))"
   ]
  },
  {
   "cell_type": "code",
   "execution_count": 24,
   "metadata": {},
   "outputs": [
    {
     "data": {
      "text/plain": [
       "[<Entry: <En 2024-12-31 assets:occu:buckets +$108038.57 ['#unpaired']>>]"
      ]
     },
     "execution_count": 24,
     "metadata": {},
     "output_type": "execute_result"
    }
   ],
   "source": [
    "list(Entry.objects(tags__iregex='unp'))"
   ]
  },
  {
   "cell_type": "code",
   "execution_count": 25,
   "metadata": {},
   "outputs": [
    {
     "data": {
      "text/plain": [
       "1"
      ]
     },
     "execution_count": 25,
     "metadata": {},
     "output_type": "execute_result"
    }
   ],
   "source": [
    "len(Entry.objects(tags__contains='unpaired'))"
   ]
  },
  {
   "cell_type": "code",
   "execution_count": null,
   "metadata": {},
   "outputs": [],
   "source": []
  },
  {
   "cell_type": "code",
   "execution_count": 26,
   "metadata": {},
   "outputs": [
    {
     "data": {
      "text/plain": [
       "760"
      ]
     },
     "execution_count": 26,
     "metadata": {},
     "output_type": "execute_result"
    }
   ],
   "source": [
    "len(Entry.objects(tags__not__contains='unpaired'))"
   ]
  },
  {
   "cell_type": "markdown",
   "metadata": {},
   "source": [
    "### References"
   ]
  },
  {
   "cell_type": "markdown",
   "metadata": {},
   "source": [
    "The big test -- can we add that Entry to the transaction?"
   ]
  },
  {
   "cell_type": "code",
   "execution_count": 65,
   "metadata": {},
   "outputs": [],
   "source": [
    "t.entries.append(e)"
   ]
  },
  {
   "cell_type": "code",
   "execution_count": 66,
   "metadata": {},
   "outputs": [
    {
     "data": {
      "text/plain": [
       "[<Entry: <En 2024-01-02 assets:bank:checking +$5000.0 [<Tag.U: '#unpaired'>, <Tag.U: '#unpaired'>, <Tag.U: '#unpaired'>, <Tag.U: '#unpaired'>]>>]"
      ]
     },
     "execution_count": 66,
     "metadata": {},
     "output_type": "execute_result"
    }
   ],
   "source": [
    "t.entries"
   ]
  },
  {
   "cell_type": "markdown",
   "metadata": {},
   "source": [
    "Yes!  🎉"
   ]
  },
  {
   "cell_type": "markdown",
   "metadata": {},
   "source": [
    "### Misc Commands"
   ]
  },
  {
   "cell_type": "code",
   "execution_count": 67,
   "metadata": {},
   "outputs": [
    {
     "data": {
      "text/plain": [
       "Collection(Database(MongoClient(host=['localhost:27017'], document_class=dict, tz_aware=False, connect=True, read_preference=Primary(), uuidrepresentation=4, driver=DriverInfo(name='MongoEngine', version='0.29.1', platform=None)), 'pytest'), 'stats')"
      ]
     },
     "execution_count": 67,
     "metadata": {},
     "output_type": "execute_result"
    }
   ],
   "source": [
    "db.stats"
   ]
  },
  {
   "cell_type": "code",
   "execution_count": 68,
   "metadata": {},
   "outputs": [
    {
     "data": {
      "text/plain": [
       "<bound method Collection.find_one of Collection(Database(MongoClient(host=['localhost:27017'], document_class=dict, tz_aware=False, connect=True, read_preference=Primary(), uuidrepresentation=4, driver=DriverInfo(name='MongoEngine', version='0.29.1', platform=None)), 'pytest'), 'stats')>"
      ]
     },
     "execution_count": 68,
     "metadata": {},
     "output_type": "execute_result"
    }
   ],
   "source": [
    "db.stats.find_one"
   ]
  },
  {
   "cell_type": "code",
   "execution_count": 69,
   "metadata": {},
   "outputs": [
    {
     "data": {
      "text/plain": [
       "['transaction', 'entry', 'account', 'dexter', 'bar', 'foo']"
      ]
     },
     "execution_count": 69,
     "metadata": {},
     "output_type": "execute_result"
    }
   ],
   "source": [
    "db.list_collection_names()"
   ]
  },
  {
   "cell_type": "code",
   "execution_count": 70,
   "metadata": {},
   "outputs": [
    {
     "data": {
      "text/plain": [
       "{'n': 19, 'ok': 1.0}"
      ]
     },
     "execution_count": 70,
     "metadata": {},
     "output_type": "execute_result"
    }
   ],
   "source": [
    "db.command('count','account')"
   ]
  },
  {
   "cell_type": "code",
   "execution_count": 71,
   "metadata": {},
   "outputs": [
    {
     "data": {
      "text/plain": [
       "{'isWritablePrimary': True,\n",
       " 'topologyVersion': {'processId': ObjectId('68791171a4321630896c2581'),\n",
       "  'counter': 0},\n",
       " 'maxBsonObjectSize': 16777216,\n",
       " 'maxMessageSizeBytes': 48000000,\n",
       " 'maxWriteBatchSize': 100000,\n",
       " 'localTime': datetime.datetime(2025, 8, 2, 3, 38, 47, 3000),\n",
       " 'logicalSessionTimeoutMinutes': 30,\n",
       " 'connectionId': 3785,\n",
       " 'minWireVersion': 0,\n",
       " 'maxWireVersion': 25,\n",
       " 'readOnly': False,\n",
       " 'ok': 1.0}"
      ]
     },
     "execution_count": 71,
     "metadata": {},
     "output_type": "execute_result"
    }
   ],
   "source": [
    "db.command('hello')"
   ]
  },
  {
   "cell_type": "code",
   "execution_count": 72,
   "metadata": {},
   "outputs": [
    {
     "data": {
      "text/plain": [
       "{'system': {'currentTime': datetime.datetime(2025, 8, 2, 3, 38, 47, 8000),\n",
       "  'hostname': 'cthulhu.local',\n",
       "  'cpuAddrSize': 64,\n",
       "  'memSizeMB': 65536,\n",
       "  'memLimitMB': 65536,\n",
       "  'numCores': 12,\n",
       "  'numCoresAvailableToProcess': 12,\n",
       "  'numPhysicalCores': 12,\n",
       "  'numCpuSockets': 1,\n",
       "  'cpuArch': 'arm64',\n",
       "  'numaEnabled': False,\n",
       "  'numNumaNodes': 1},\n",
       " 'os': {'type': 'Darwin', 'name': 'Mac OS X', 'version': '24.5.0'},\n",
       " 'extra': {'versionString': 'Darwin Kernel Version 24.5.0: Tue Apr 22 19:54:25 PDT 2025; root:xnu-11417.121.6~2/RELEASE_ARM64_T6020',\n",
       "  'alwaysFullSync': 0,\n",
       "  'nfsAsync': 0,\n",
       "  'model': 'Mac14,13',\n",
       "  'cpuString': 'Apple M2 Max',\n",
       "  'pageSize': 16384,\n",
       "  'scheduler': 'edge'},\n",
       " 'ok': 1.0}"
      ]
     },
     "execution_count": 72,
     "metadata": {},
     "output_type": "execute_result"
    }
   ],
   "source": [
    "db.command('hostInfo')"
   ]
  },
  {
   "cell_type": "code",
   "execution_count": 73,
   "metadata": {},
   "outputs": [
    {
     "data": {
      "text/plain": [
       "{'ok': 1.0}"
      ]
     },
     "execution_count": 73,
     "metadata": {},
     "output_type": "execute_result"
    }
   ],
   "source": [
    "db.command('ping')"
   ]
  },
  {
   "cell_type": "markdown",
   "metadata": {},
   "source": [
    "### Transaction Class"
   ]
  },
  {
   "cell_type": "markdown",
   "metadata": {},
   "source": [
    "We add extra info in the form of static vars.  Make sure it doesn't mess with field specs."
   ]
  },
  {
   "cell_type": "code",
   "execution_count": 181,
   "metadata": {},
   "outputs": [
    {
     "data": {
      "text/plain": [
       "{'description': 'description',\n",
       " 'date': 'pdate',\n",
       " 'amount': 'pamount',\n",
       " 'debit': 'pdebit',\n",
       " 'credit': 'pcredit'}"
      ]
     },
     "execution_count": 181,
     "metadata": {},
     "output_type": "execute_result"
    }
   ],
   "source": [
    "Transaction.order_by"
   ]
  },
  {
   "cell_type": "markdown",
   "metadata": {},
   "source": [
    "### Fetch Transactions"
   ]
  },
  {
   "cell_type": "markdown",
   "metadata": {},
   "source": [
    "Specify constraints on transactions"
   ]
  },
  {
   "cell_type": "code",
   "execution_count": 74,
   "metadata": {},
   "outputs": [
    {
     "data": {
      "text/plain": [
       "[<Transaction: <Tr 2024-01-02 income:yoyodyne -> assets:bank:checking $5000.0 Jan paycheck []>>, <Transaction: <Tr 2024-01-02 expenses:food/expenses:home/expenses:car/expenses:travel/equity -> income:yoyodyne $5000.0 fill envelopes ['#budget']>>, <Transaction: <Tr 2024-02-02 income:yoyodyne -> assets:bank:checking $5000.0 Feb paycheck []>>, <Transaction: <Tr 2024-02-02 expenses:food/expenses:home/expenses:car/expenses:travel/equity -> income:yoyodyne $5000.0 fill envelopes ['#budget']>>, <Transaction: <Tr 2024-01-05 assets:bank:checking -> expenses:car:payment $500.0 car payment []>>, <Transaction: <Tr 2024-02-05 assets:bank:checking -> expenses:car:payment $500.0 car payment []>>, <Transaction: <Tr 2024-01-10 liabilities:chase:visa -> expenses:car:fuel $50.0 Shell Oil []>>, <Transaction: <Tr 2024-02-26 liabilities:chase:visa -> expenses:car:fuel $60.0 Shell Oil []>>, <Transaction: <Tr 2024-01-04 assets:bank:checking -> expenses:home:mortgage $1800.0 Rocket Mortgage []>>, <Transaction: <Tr 2024-02-04 assets:bank:checking -> expenses:home:mortgage $1800.0 Rocket Mortgage []>>, <Transaction: <Tr 2024-01-07 assets:bank:checking -> expenses:food:groceries $75.0 Safeway []>>, <Transaction: <Tr 2024-01-21 liabilities:chase:visa -> expenses:food:groceries $175.0 Safeway []>>, <Transaction: <Tr 2024-02-07 assets:bank:checking -> expenses:food:groceries $75.0 Safeway []>>, <Transaction: <Tr 2024-02-21 liabilities:chase:visa -> expenses:food:groceries $75.0 Safeway []>>, <Transaction: <Tr 2024-03-10 liabilities:chase:visa -> expenses:home:household $50.0 Home Depot []>>, <Transaction: <Tr 2024-03-12 expenses:home:household -> liabilities:chase:visa $25.0 Home Depot []>>]"
      ]
     },
     "execution_count": 74,
     "metadata": {},
     "output_type": "execute_result"
    }
   ],
   "source": [
    "Transaction.objects"
   ]
  },
  {
   "cell_type": "code",
   "execution_count": 75,
   "metadata": {},
   "outputs": [
    {
     "data": {
      "text/plain": [
       "[<Transaction: <Tr 2024-01-07 assets:bank:checking -> expenses:food:groceries $75.0 Safeway []>>, <Transaction: <Tr 2024-01-21 liabilities:chase:visa -> expenses:food:groceries $175.0 Safeway []>>, <Transaction: <Tr 2024-02-07 assets:bank:checking -> expenses:food:groceries $75.0 Safeway []>>, <Transaction: <Tr 2024-02-21 liabilities:chase:visa -> expenses:food:groceries $75.0 Safeway []>>]"
      ]
     },
     "execution_count": 75,
     "metadata": {},
     "output_type": "execute_result"
    }
   ],
   "source": [
    "Transaction.objects(description='Safeway')"
   ]
  },
  {
   "cell_type": "code",
   "execution_count": 76,
   "metadata": {},
   "outputs": [],
   "source": [
    "t = Transaction.objects(description='Safeway')[0]"
   ]
  },
  {
   "cell_type": "code",
   "execution_count": 77,
   "metadata": {},
   "outputs": [
    {
     "data": {
      "text/plain": [
       "datetime.date(2024, 1, 7)"
      ]
     },
     "execution_count": 77,
     "metadata": {},
     "output_type": "execute_result"
    }
   ],
   "source": [
    "t.pdate"
   ]
  },
  {
   "cell_type": "code",
   "execution_count": 78,
   "metadata": {},
   "outputs": [
    {
     "data": {
      "text/plain": [
       "datetime.date(2024, 1, 7)"
      ]
     },
     "execution_count": 78,
     "metadata": {},
     "output_type": "execute_result"
    }
   ],
   "source": [
    "t['pdate']"
   ]
  },
  {
   "cell_type": "code",
   "execution_count": 79,
   "metadata": {},
   "outputs": [
    {
     "name": "stdout",
     "output_type": "stream",
     "text": [
      "2024-01-07 expenses:food:groceries 75.0 Column.dr\n",
      "2024-01-07 assets:bank:checking 75.0 Column.cr\n",
      "2024-01-21 expenses:food:groceries 175.0 Column.dr\n",
      "2024-01-21 liabilities:chase:visa 175.0 Column.cr\n",
      "2024-02-07 expenses:food:groceries 75.0 Column.dr\n",
      "2024-02-07 assets:bank:checking 75.0 Column.cr\n",
      "2024-02-21 expenses:food:groceries 75.0 Column.dr\n",
      "2024-02-21 liabilities:chase:visa 75.0 Column.cr\n"
     ]
    }
   ],
   "source": [
    "for t in Transaction.objects(description='Safeway'):\n",
    "    for e in t.entries:\n",
    "        print(e.date, e.account, e.amount, e.column)"
   ]
  },
  {
   "cell_type": "code",
   "execution_count": 80,
   "metadata": {},
   "outputs": [
    {
     "name": "stdout",
     "output_type": "stream",
     "text": [
      "{'expenses:food:groceries', 'assets:bank:checking'}\n",
      "{'expenses:food:groceries', 'liabilities:chase:visa'}\n",
      "{'expenses:food:groceries', 'assets:bank:checking'}\n",
      "{'expenses:food:groceries', 'liabilities:chase:visa'}\n"
     ]
    }
   ],
   "source": [
    "for t in Transaction.objects(description='Safeway'):\n",
    "    print(t.accounts)"
   ]
  },
  {
   "cell_type": "code",
   "execution_count": 81,
   "metadata": {},
   "outputs": [
    {
     "name": "stdout",
     "output_type": "stream",
     "text": [
      "75.0\n",
      "175.0\n",
      "75.0\n",
      "75.0\n"
     ]
    }
   ],
   "source": [
    "for t in Transaction.objects(description='Safeway'):\n",
    "    print(t.pamount)"
   ]
  },
  {
   "cell_type": "code",
   "execution_count": 82,
   "metadata": {},
   "outputs": [
    {
     "name": "stdout",
     "output_type": "stream",
     "text": [
      "2024-01-07 <class 'datetime.date'>\n",
      "2024-01-21 <class 'datetime.date'>\n",
      "2024-02-07 <class 'datetime.date'>\n",
      "2024-02-21 <class 'datetime.date'>\n"
     ]
    }
   ],
   "source": [
    "for t in Transaction.objects(description='Safeway'):\n",
    "    print(t.pdate, type(t.pdate))"
   ]
  },
  {
   "cell_type": "code",
   "execution_count": 83,
   "metadata": {},
   "outputs": [
    {
     "name": "stdout",
     "output_type": "stream",
     "text": [
      "assigned/read from CSV\n",
      "big party this weekend/\n",
      "/\n",
      "/\n"
     ]
    }
   ],
   "source": [
    "for t in Transaction.objects(description='Safeway'):\n",
    "    print(t.originals)"
   ]
  },
  {
   "cell_type": "code",
   "execution_count": 84,
   "metadata": {},
   "outputs": [],
   "source": [
    "lst = list(Transaction.objects(description='Safeway'))"
   ]
  },
  {
   "cell_type": "code",
   "execution_count": 85,
   "metadata": {},
   "outputs": [
    {
     "data": {
      "text/plain": [
       "''"
      ]
     },
     "execution_count": 85,
     "metadata": {},
     "output_type": "execute_result"
    }
   ],
   "source": [
    "lst[1].comment"
   ]
  },
  {
   "cell_type": "code",
   "execution_count": 86,
   "metadata": {},
   "outputs": [
    {
     "data": {
      "text/plain": [
       "175.0"
      ]
     },
     "execution_count": 86,
     "metadata": {},
     "output_type": "execute_result"
    }
   ],
   "source": [
    "lst[1].pamount"
   ]
  },
  {
   "cell_type": "code",
   "execution_count": 87,
   "metadata": {},
   "outputs": [
    {
     "data": {
      "text/plain": [
       "datetime.date(2024, 1, 21)"
      ]
     },
     "execution_count": 87,
     "metadata": {},
     "output_type": "execute_result"
    }
   ],
   "source": [
    "lst[1].pdate"
   ]
  },
  {
   "cell_type": "code",
   "execution_count": 88,
   "metadata": {},
   "outputs": [
    {
     "data": {
      "text/plain": [
       "datetime.date(2024, 1, 20)"
      ]
     },
     "execution_count": 88,
     "metadata": {},
     "output_type": "execute_result"
    }
   ],
   "source": [
    "lst[1].pdate - timedelta(days=1)"
   ]
  },
  {
   "cell_type": "code",
   "execution_count": 89,
   "metadata": {},
   "outputs": [
    {
     "data": {
      "text/plain": [
       "[<Transaction: <Tr 2024-01-10 liabilities:chase:visa -> expenses:car:fuel $50.0 Shell Oil []>>,\n",
       " <Transaction: <Tr 2024-02-26 liabilities:chase:visa -> expenses:car:fuel $60.0 Shell Oil []>>,\n",
       " <Transaction: <Tr 2024-01-07 assets:bank:checking -> expenses:food:groceries $75.0 Safeway []>>,\n",
       " <Transaction: <Tr 2024-02-07 assets:bank:checking -> expenses:food:groceries $75.0 Safeway []>>,\n",
       " <Transaction: <Tr 2024-02-21 liabilities:chase:visa -> expenses:food:groceries $75.0 Safeway []>>,\n",
       " <Transaction: <Tr 2024-03-10 liabilities:chase:visa -> expenses:home:household $50.0 Home Depot []>>,\n",
       " <Transaction: <Tr 2024-03-12 expenses:home:household -> liabilities:chase:visa $25.0 Home Depot []>>]"
      ]
     },
     "execution_count": 89,
     "metadata": {},
     "output_type": "execute_result"
    }
   ],
   "source": [
    "list(Transaction.objects(pamount__lt=175.0))"
   ]
  },
  {
   "cell_type": "code",
   "execution_count": 90,
   "metadata": {},
   "outputs": [
    {
     "name": "stdout",
     "output_type": "stream",
     "text": [
      "2024-01-02 5000.0 assets:bank:checking income:yoyodyne\n",
      "2024-01-02 5000.0 income:yoyodyne expenses:food/expenses:home/expenses:car/expenses:travel/equity\n"
     ]
    }
   ],
   "source": [
    "for t in Transaction.objects(pdate=date(2024,1,2)):\n",
    "    print(t.pdate, t.pamount, t.pdebit, t.pcredit)"
   ]
  },
  {
   "cell_type": "code",
   "execution_count": 91,
   "metadata": {},
   "outputs": [
    {
     "name": "stdout",
     "output_type": "stream",
     "text": [
      "2024-01-02 5000.0 assets:bank:checking income:yoyodyne\n",
      "2024-01-02 5000.0 income:yoyodyne expenses:food/expenses:home/expenses:car/expenses:travel/equity\n"
     ]
    }
   ],
   "source": [
    "for t in Transaction.objects(pdate__lte=date(2024,1,2)):\n",
    "    print(t.pdate, t.pamount, t.pdebit, t.pcredit)"
   ]
  },
  {
   "cell_type": "markdown",
   "metadata": {},
   "source": [
    "### Operators"
   ]
  },
  {
   "cell_type": "code",
   "execution_count": 92,
   "metadata": {},
   "outputs": [
    {
     "name": "stdout",
     "output_type": "stream",
     "text": [
      "2024-01-02 fill envelopes\n",
      "2024-02-02 fill envelopes\n",
      "2024-01-05 car payment\n",
      "2024-02-05 car payment\n",
      "2024-01-10 Shell Oil\n",
      "2024-02-26 Shell Oil\n",
      "2024-01-07 Safeway\n",
      "2024-01-21 Safeway\n",
      "2024-02-07 Safeway\n",
      "2024-02-21 Safeway\n"
     ]
    }
   ],
   "source": [
    "for t in Transaction.objects(description__gte='Safeway'):\n",
    "    print(t.pdate, t.description)"
   ]
  },
  {
   "cell_type": "code",
   "execution_count": 93,
   "metadata": {},
   "outputs": [
    {
     "name": "stdout",
     "output_type": "stream",
     "text": [
      "2024-01-10 Shell Oil\n",
      "2024-02-26 Shell Oil\n",
      "2024-01-07 Safeway\n",
      "2024-01-21 Safeway\n",
      "2024-02-07 Safeway\n",
      "2024-02-21 Safeway\n"
     ]
    }
   ],
   "source": [
    "for t in Transaction.objects(description__regex='^S'):\n",
    "    print(t.pdate, t.description)"
   ]
  },
  {
   "cell_type": "markdown",
   "metadata": {},
   "source": [
    "The operator automatically applies to list elements."
   ]
  },
  {
   "cell_type": "code",
   "execution_count": 94,
   "metadata": {},
   "outputs": [
    {
     "name": "stdout",
     "output_type": "stream",
     "text": [
      "2024-01-02 Jan paycheck 5000.0\n",
      "2024-01-02 fill envelopes 5000.0\n",
      "2024-02-02 Feb paycheck 5000.0\n",
      "2024-02-02 fill envelopes 5000.0\n",
      "2024-01-05 car payment 500.0\n",
      "2024-02-05 car payment 500.0\n",
      "2024-01-10 Shell Oil 50.0\n",
      "2024-02-26 Shell Oil 60.0\n",
      "2024-01-04 Rocket Mortgage 1800.0\n",
      "2024-02-04 Rocket Mortgage 1800.0\n",
      "2024-03-10 Home Depot 50.0\n",
      "2024-03-12 Home Depot 25.0\n"
     ]
    }
   ],
   "source": [
    "for t in Transaction.objects(description__regex=r'\\s'):\n",
    "    print(t.pdate, t.description, t.pamount)"
   ]
  },
  {
   "cell_type": "markdown",
   "metadata": {},
   "source": [
    "For compound constraints we need another class from MongoEngine."
   ]
  },
  {
   "cell_type": "code",
   "execution_count": 95,
   "metadata": {},
   "outputs": [],
   "source": [
    "from mongoengine.queryset.visitor import Q"
   ]
  },
  {
   "cell_type": "code",
   "execution_count": 96,
   "metadata": {},
   "outputs": [
    {
     "name": "stdout",
     "output_type": "stream",
     "text": [
      "2024-01-10 Shell Oil\n",
      "2024-02-26 Shell Oil\n",
      "2024-01-07 Safeway\n",
      "2024-01-21 Safeway\n",
      "2024-02-07 Safeway\n",
      "2024-02-21 Safeway\n"
     ]
    }
   ],
   "source": [
    "for t in Transaction.objects(Q(description__regex=r'^S')):\n",
    "    print(t.pdate, t.description)"
   ]
  },
  {
   "cell_type": "code",
   "execution_count": 97,
   "metadata": {},
   "outputs": [
    {
     "name": "stdout",
     "output_type": "stream",
     "text": [
      "2024-01-10 Shell Oil\n",
      "2024-02-26 Shell Oil\n"
     ]
    }
   ],
   "source": [
    "for t in Transaction.objects(Q(description__regex=r'^S') & Q(description__regex=r'\\s')):\n",
    "    print(t.pdate, t.description)"
   ]
  },
  {
   "cell_type": "markdown",
   "metadata": {},
   "source": [
    "### QuerySet"
   ]
  },
  {
   "cell_type": "code",
   "execution_count": 98,
   "metadata": {},
   "outputs": [],
   "source": [
    "for a in Account.nominal_accounts:\n",
    "    print(a.name)"
   ]
  },
  {
   "cell_type": "markdown",
   "metadata": {},
   "source": [
    "### Combining Query Elements"
   ]
  },
  {
   "cell_type": "code",
   "execution_count": 99,
   "metadata": {},
   "outputs": [],
   "source": [
    "q = Q(description__regex=r'^S')"
   ]
  },
  {
   "cell_type": "code",
   "execution_count": 100,
   "metadata": {},
   "outputs": [
    {
     "data": {
      "text/plain": [
       "Q(**{'description__regex': '^S'})"
      ]
     },
     "execution_count": 100,
     "metadata": {},
     "output_type": "execute_result"
    }
   ],
   "source": [
    "q"
   ]
  },
  {
   "cell_type": "code",
   "execution_count": 101,
   "metadata": {},
   "outputs": [
    {
     "data": {
      "text/plain": [
       "mongoengine.queryset.visitor.Q"
      ]
     },
     "execution_count": 101,
     "metadata": {},
     "output_type": "execute_result"
    }
   ],
   "source": [
    "type(q)"
   ]
  },
  {
   "cell_type": "code",
   "execution_count": 102,
   "metadata": {},
   "outputs": [],
   "source": [
    "p = Q(description__regex=r'\\s')"
   ]
  },
  {
   "cell_type": "code",
   "execution_count": 103,
   "metadata": {},
   "outputs": [
    {
     "data": {
      "text/plain": [
       "(Q(**{'description__regex': '\\\\s'}) & Q(**{'description__regex': '^S'}))"
      ]
     },
     "execution_count": 103,
     "metadata": {},
     "output_type": "execute_result"
    }
   ],
   "source": [
    "p & q"
   ]
  },
  {
   "cell_type": "code",
   "execution_count": 104,
   "metadata": {},
   "outputs": [
    {
     "name": "stdout",
     "output_type": "stream",
     "text": [
      "2024-01-10 Shell Oil\n",
      "2024-02-26 Shell Oil\n"
     ]
    }
   ],
   "source": [
    "for t in Transaction.objects(p & q):\n",
    "    print(t.pdate, t.description)"
   ]
  },
  {
   "cell_type": "markdown",
   "metadata": {},
   "source": [
    "Create Q object using dictionaries"
   ]
  },
  {
   "cell_type": "code",
   "execution_count": 105,
   "metadata": {},
   "outputs": [],
   "source": [
    "dct = {'description__regex': r'^S'}"
   ]
  },
  {
   "cell_type": "code",
   "execution_count": 106,
   "metadata": {},
   "outputs": [
    {
     "data": {
      "text/plain": [
       "Q(**{'description__regex': '^S'})"
      ]
     },
     "execution_count": 106,
     "metadata": {},
     "output_type": "execute_result"
    }
   ],
   "source": [
    "Q(**dct)"
   ]
  },
  {
   "cell_type": "markdown",
   "metadata": {},
   "source": [
    "Can an object have multiple constraints?"
   ]
  },
  {
   "cell_type": "code",
   "execution_count": 107,
   "metadata": {},
   "outputs": [],
   "source": [
    "dct = {'description__regex': r'^S', 'pamount__gt': 100}"
   ]
  },
  {
   "cell_type": "code",
   "execution_count": 108,
   "metadata": {},
   "outputs": [
    {
     "data": {
      "text/plain": [
       "Q(**{'description__regex': '^S', 'pamount__gt': 100})"
      ]
     },
     "execution_count": 108,
     "metadata": {},
     "output_type": "execute_result"
    }
   ],
   "source": [
    "Q(**dct)"
   ]
  },
  {
   "cell_type": "code",
   "execution_count": 109,
   "metadata": {},
   "outputs": [
    {
     "name": "stdout",
     "output_type": "stream",
     "text": [
      "2024-01-21 Safeway 175.0\n"
     ]
    }
   ],
   "source": [
    "for t in Transaction.objects(Q(**dct)):\n",
    "    print(t.pdate, t.description, t.pamount)"
   ]
  },
  {
   "cell_type": "markdown",
   "metadata": {},
   "source": [
    "Yep!"
   ]
  },
  {
   "cell_type": "markdown",
   "metadata": {},
   "source": [
    "### Select Method"
   ]
  },
  {
   "cell_type": "markdown",
   "metadata": {},
   "source": [
    "#### Select Transactions"
   ]
  },
  {
   "cell_type": "markdown",
   "metadata": {},
   "source": [
    "All transactions:"
   ]
  },
  {
   "cell_type": "code",
   "execution_count": 110,
   "metadata": {},
   "outputs": [
    {
     "name": "stdout",
     "output_type": "stream",
     "text": [
      "2024-01-02 5000.0 income:yoyodyne assets:bank:checking\n",
      "2024-01-02 5000.0 expenses:food/expenses:home/expenses:car/expenses:travel/equity income:yoyodyne\n",
      "2024-02-02 5000.0 income:yoyodyne assets:bank:checking\n",
      "2024-02-02 5000.0 expenses:food/expenses:home/expenses:car/expenses:travel/equity income:yoyodyne\n",
      "2024-01-05 500.0 assets:bank:checking expenses:car:payment\n",
      "2024-02-05 500.0 assets:bank:checking expenses:car:payment\n",
      "2024-01-10 50.0 liabilities:chase:visa expenses:car:fuel\n",
      "2024-02-26 60.0 liabilities:chase:visa expenses:car:fuel\n",
      "2024-01-04 1800.0 assets:bank:checking expenses:home:mortgage\n",
      "2024-02-04 1800.0 assets:bank:checking expenses:home:mortgage\n",
      "2024-01-07 75.0 assets:bank:checking expenses:food:groceries\n",
      "2024-01-21 175.0 liabilities:chase:visa expenses:food:groceries\n",
      "2024-02-07 75.0 assets:bank:checking expenses:food:groceries\n",
      "2024-02-21 75.0 liabilities:chase:visa expenses:food:groceries\n",
      "2024-03-10 50.0 liabilities:chase:visa expenses:home:household\n",
      "2024-03-12 25.0 expenses:home:household liabilities:chase:visa\n"
     ]
    }
   ],
   "source": [
    "for t in DB.select(Transaction):\n",
    "    print(t.pdate, t.pamount, t.pcredit, t.pdebit)"
   ]
  },
  {
   "cell_type": "markdown",
   "metadata": {},
   "source": [
    "By date:"
   ]
  },
  {
   "cell_type": "code",
   "execution_count": 111,
   "metadata": {},
   "outputs": [
    {
     "name": "stdout",
     "output_type": "stream",
     "text": [
      "2024-01-21 175.0 liabilities:chase:visa expenses:food:groceries\n"
     ]
    }
   ],
   "source": [
    "for t in DB.select(Transaction, date=date(2024,1,21)):\n",
    "    print(t.pdate, t.pamount, t.pcredit, t.pdebit)"
   ]
  },
  {
   "cell_type": "code",
   "execution_count": 112,
   "metadata": {},
   "outputs": [
    {
     "name": "stdout",
     "output_type": "stream",
     "text": [
      "2024-02-02 5000.0 income:yoyodyne assets:bank:checking\n",
      "2024-02-02 5000.0 expenses:food/expenses:home/expenses:car/expenses:travel/equity income:yoyodyne\n",
      "2024-02-05 500.0 assets:bank:checking expenses:car:payment\n",
      "2024-02-26 60.0 liabilities:chase:visa expenses:car:fuel\n",
      "2024-02-04 1800.0 assets:bank:checking expenses:home:mortgage\n",
      "2024-01-21 175.0 liabilities:chase:visa expenses:food:groceries\n",
      "2024-02-07 75.0 assets:bank:checking expenses:food:groceries\n",
      "2024-02-21 75.0 liabilities:chase:visa expenses:food:groceries\n",
      "2024-03-10 50.0 liabilities:chase:visa expenses:home:household\n",
      "2024-03-12 25.0 expenses:home:household liabilities:chase:visa\n"
     ]
    }
   ],
   "source": [
    "for t in DB.select(Transaction, start_date=date(2024,1,21)):\n",
    "    print(t.pdate, t.pamount, t.pcredit, t.pdebit)"
   ]
  },
  {
   "cell_type": "code",
   "execution_count": 113,
   "metadata": {},
   "outputs": [
    {
     "name": "stdout",
     "output_type": "stream",
     "text": [
      "2024-01-02 5000.0 income:yoyodyne assets:bank:checking\n",
      "2024-01-02 5000.0 expenses:food/expenses:home/expenses:car/expenses:travel/equity income:yoyodyne\n",
      "2024-01-05 500.0 assets:bank:checking expenses:car:payment\n",
      "2024-01-10 50.0 liabilities:chase:visa expenses:car:fuel\n",
      "2024-01-04 1800.0 assets:bank:checking expenses:home:mortgage\n",
      "2024-01-07 75.0 assets:bank:checking expenses:food:groceries\n",
      "2024-01-21 175.0 liabilities:chase:visa expenses:food:groceries\n"
     ]
    }
   ],
   "source": [
    "for t in DB.select(Transaction, end_date=date(2024,1,21)):\n",
    "    print(t.pdate, t.pamount, t.pcredit, t.pdebit)"
   ]
  },
  {
   "cell_type": "markdown",
   "metadata": {},
   "source": [
    "By amount:"
   ]
  },
  {
   "cell_type": "code",
   "execution_count": 114,
   "metadata": {},
   "outputs": [
    {
     "name": "stdout",
     "output_type": "stream",
     "text": [
      "2024-01-07 75.0 assets:bank:checking expenses:food:groceries\n",
      "2024-02-07 75.0 assets:bank:checking expenses:food:groceries\n",
      "2024-02-21 75.0 liabilities:chase:visa expenses:food:groceries\n"
     ]
    }
   ],
   "source": [
    "for t in DB.select(Transaction, amount=75):\n",
    "    print(t.pdate, t.pamount, t.pcredit, t.pdebit)"
   ]
  },
  {
   "cell_type": "code",
   "execution_count": 115,
   "metadata": {},
   "outputs": [],
   "source": [
    "lst = DB.select(Transaction, amount=75)"
   ]
  },
  {
   "cell_type": "code",
   "execution_count": 116,
   "metadata": {},
   "outputs": [
    {
     "data": {
      "text/plain": [
       "True"
      ]
     },
     "execution_count": 116,
     "metadata": {},
     "output_type": "execute_result"
    }
   ],
   "source": [
    "all(t.pamount == 75 for t in lst)"
   ]
  },
  {
   "cell_type": "code",
   "execution_count": 117,
   "metadata": {},
   "outputs": [
    {
     "name": "stdout",
     "output_type": "stream",
     "text": [
      "2024-01-10 50.0 liabilities:chase:visa expenses:car:fuel\n",
      "2024-02-26 60.0 liabilities:chase:visa expenses:car:fuel\n",
      "2024-01-07 75.0 assets:bank:checking expenses:food:groceries\n",
      "2024-02-07 75.0 assets:bank:checking expenses:food:groceries\n",
      "2024-02-21 75.0 liabilities:chase:visa expenses:food:groceries\n",
      "2024-03-10 50.0 liabilities:chase:visa expenses:home:household\n",
      "2024-03-12 25.0 expenses:home:household liabilities:chase:visa\n"
     ]
    }
   ],
   "source": [
    "for t in DB.select(Transaction, max_amount=75):\n",
    "    print(t.pdate, t.pamount, t.pcredit, t.pdebit)"
   ]
  },
  {
   "cell_type": "code",
   "execution_count": 118,
   "metadata": {},
   "outputs": [
    {
     "name": "stdout",
     "output_type": "stream",
     "text": [
      "2024-01-02 5000.0 income:yoyodyne assets:bank:checking\n",
      "2024-01-02 5000.0 expenses:food/expenses:home/expenses:car/expenses:travel/equity income:yoyodyne\n",
      "2024-02-02 5000.0 income:yoyodyne assets:bank:checking\n",
      "2024-02-02 5000.0 expenses:food/expenses:home/expenses:car/expenses:travel/equity income:yoyodyne\n",
      "2024-01-05 500.0 assets:bank:checking expenses:car:payment\n",
      "2024-02-05 500.0 assets:bank:checking expenses:car:payment\n",
      "2024-01-04 1800.0 assets:bank:checking expenses:home:mortgage\n",
      "2024-02-04 1800.0 assets:bank:checking expenses:home:mortgage\n",
      "2024-01-07 75.0 assets:bank:checking expenses:food:groceries\n",
      "2024-01-21 175.0 liabilities:chase:visa expenses:food:groceries\n",
      "2024-02-07 75.0 assets:bank:checking expenses:food:groceries\n",
      "2024-02-21 75.0 liabilities:chase:visa expenses:food:groceries\n"
     ]
    }
   ],
   "source": [
    "for t in DB.select(Transaction, min_amount=75):\n",
    "    print(t.pdate, t.pamount, t.pcredit, t.pdebit)"
   ]
  },
  {
   "cell_type": "markdown",
   "metadata": {},
   "source": [
    "By description:"
   ]
  },
  {
   "cell_type": "code",
   "execution_count": 119,
   "metadata": {},
   "outputs": [
    {
     "name": "stdout",
     "output_type": "stream",
     "text": [
      "2024-01-10 50.0 Shell Oil liabilities:chase:visa expenses:car:fuel\n",
      "2024-02-26 60.0 Shell Oil liabilities:chase:visa expenses:car:fuel\n",
      "2024-01-07 75.0 Safeway assets:bank:checking expenses:food:groceries\n",
      "2024-01-21 175.0 Safeway liabilities:chase:visa expenses:food:groceries\n",
      "2024-02-07 75.0 Safeway assets:bank:checking expenses:food:groceries\n",
      "2024-02-21 75.0 Safeway liabilities:chase:visa expenses:food:groceries\n"
     ]
    }
   ],
   "source": [
    "for t in DB.select(Transaction, description = r'^s'):\n",
    "    print(t.pdate, t.pamount, t.description, t.pcredit, t.pdebit)"
   ]
  },
  {
   "cell_type": "code",
   "execution_count": 120,
   "metadata": {},
   "outputs": [
    {
     "name": "stdout",
     "output_type": "stream",
     "text": [
      "2024-01-02 5000.0 fill envelopes budget: expenses:food/expenses:home/expenses:car/expenses:travel/equity income:yoyodyne\n",
      "2024-02-02 5000.0 fill envelopes budget: expenses:food/expenses:home/expenses:car/expenses:travel/equity income:yoyodyne\n"
     ]
    }
   ],
   "source": [
    "for t in DB.select(Transaction, comment=r'budget'):\n",
    "    print(t.pdate, t.pamount, t.description, t.comment, t.pcredit, t.pdebit)"
   ]
  },
  {
   "cell_type": "markdown",
   "metadata": {},
   "source": [
    "By account:"
   ]
  },
  {
   "cell_type": "code",
   "execution_count": 121,
   "metadata": {},
   "outputs": [
    {
     "name": "stdout",
     "output_type": "stream",
     "text": [
      "2024-01-04 1800.0 assets:bank:checking expenses:home:mortgage\n",
      "2024-02-04 1800.0 assets:bank:checking expenses:home:mortgage\n"
     ]
    }
   ],
   "source": [
    "for t in DB.select(Transaction, debit='mortgage'):\n",
    "    print(t.pdate, t.pamount, t.pcredit, t.pdebit)"
   ]
  },
  {
   "cell_type": "code",
   "execution_count": 122,
   "metadata": {},
   "outputs": [],
   "source": [
    "for t in DB.select(Transaction, credit='mortgage'):\n",
    "    print(t.pdate, t.pamount, t.pcredit, t.pdebit)"
   ]
  },
  {
   "cell_type": "markdown",
   "metadata": {},
   "source": [
    "Some random combinations"
   ]
  },
  {
   "cell_type": "code",
   "execution_count": 123,
   "metadata": {},
   "outputs": [
    {
     "name": "stdout",
     "output_type": "stream",
     "text": [
      "2024-01-21 175.0 Safeway liabilities:chase:visa expenses:food:groceries\n"
     ]
    }
   ],
   "source": [
    "for t in DB.select(Transaction, description = r'^s', min_amount=100):\n",
    "    print(t.pdate, t.pamount, t.description, t.pcredit, t.pdebit)"
   ]
  },
  {
   "cell_type": "code",
   "execution_count": 124,
   "metadata": {},
   "outputs": [
    {
     "name": "stdout",
     "output_type": "stream",
     "text": [
      "2024-02-26 60.0 Shell Oil liabilities:chase:visa expenses:car:fuel\n",
      "2024-02-21 75.0 Safeway liabilities:chase:visa expenses:food:groceries\n",
      "2024-03-10 50.0 Home Depot liabilities:chase:visa expenses:home:household\n"
     ]
    }
   ],
   "source": [
    "for t in DB.select(Transaction, start_date = date(2024,2,1), credit='visa'):\n",
    "    print(t.pdate, t.pamount, t.description, t.pcredit, t.pdebit)"
   ]
  },
  {
   "cell_type": "markdown",
   "metadata": {},
   "source": [
    "#### Select Entries"
   ]
  },
  {
   "cell_type": "markdown",
   "metadata": {},
   "source": [
    "All entries:"
   ]
  },
  {
   "cell_type": "code",
   "execution_count": 125,
   "metadata": {},
   "outputs": [
    {
     "data": {
      "text/plain": [
       "40"
      ]
     },
     "execution_count": 125,
     "metadata": {},
     "output_type": "execute_result"
    }
   ],
   "source": [
    "len(DB.select(Entry))"
   ]
  },
  {
   "cell_type": "code",
   "execution_count": 126,
   "metadata": {},
   "outputs": [
    {
     "name": "stdout",
     "output_type": "stream",
     "text": [
      "2024-01-02 assets:bank:checking 5000.0 Column.dr\n",
      "2024-01-02 income:yoyodyne 5000.0 Column.cr\n",
      "2024-01-02 income:yoyodyne 5000.0 Column.dr\n",
      "2024-01-02 expenses:food 500.0 Column.cr\n",
      "2024-01-02 expenses:home 2500.0 Column.cr\n",
      "2024-01-02 expenses:car 1000.0 Column.cr\n",
      "2024-01-02 expenses:travel 500.0 Column.cr\n",
      "2024-01-02 equity 500.0 Column.cr\n",
      "2024-02-02 assets:bank:checking 5000.0 Column.dr\n",
      "2024-02-02 income:yoyodyne 5000.0 Column.cr\n",
      "2024-02-02 income:yoyodyne 5000.0 Column.dr\n",
      "2024-02-02 expenses:food 500.0 Column.cr\n",
      "2024-02-02 expenses:home 2500.0 Column.cr\n",
      "2024-02-02 expenses:car 1000.0 Column.cr\n",
      "2024-02-02 expenses:travel 500.0 Column.cr\n",
      "2024-02-02 equity 500.0 Column.cr\n",
      "2024-01-05 expenses:car:payment 500.0 Column.dr\n",
      "2024-01-05 assets:bank:checking 500.0 Column.cr\n",
      "2024-02-05 expenses:car:payment 500.0 Column.dr\n",
      "2024-02-05 assets:bank:checking 500.0 Column.cr\n",
      "2024-01-10 expenses:car:fuel 50.0 Column.dr\n",
      "2024-01-10 liabilities:chase:visa 50.0 Column.cr\n",
      "2024-02-26 expenses:car:fuel 60.0 Column.dr\n",
      "2024-02-26 liabilities:chase:visa 60.0 Column.cr\n",
      "2024-01-04 expenses:home:mortgage 1800.0 Column.dr\n",
      "2024-01-04 assets:bank:checking 1800.0 Column.cr\n",
      "2024-02-04 expenses:home:mortgage 1800.0 Column.dr\n",
      "2024-02-04 assets:bank:checking 1800.0 Column.cr\n",
      "2024-01-07 expenses:food:groceries 75.0 Column.dr\n",
      "2024-01-07 assets:bank:checking 75.0 Column.cr\n",
      "2024-01-21 expenses:food:groceries 175.0 Column.dr\n",
      "2024-01-21 liabilities:chase:visa 175.0 Column.cr\n",
      "2024-02-07 expenses:food:groceries 75.0 Column.dr\n",
      "2024-02-07 assets:bank:checking 75.0 Column.cr\n",
      "2024-02-21 expenses:food:groceries 75.0 Column.dr\n",
      "2024-02-21 liabilities:chase:visa 75.0 Column.cr\n",
      "2024-03-10 expenses:home:household 50.0 Column.dr\n",
      "2024-03-10 liabilities:chase:visa 50.0 Column.cr\n",
      "2024-03-12 expenses:home:household 25.0 Column.cr\n",
      "2024-03-12 liabilities:chase:visa 25.0 Column.dr\n"
     ]
    }
   ],
   "source": [
    "for e in DB.select(Entry):\n",
    "    print(e.date, e.account, e.amount, e.column)"
   ]
  },
  {
   "cell_type": "markdown",
   "metadata": {},
   "source": [
    "By date:"
   ]
  },
  {
   "cell_type": "code",
   "execution_count": 127,
   "metadata": {},
   "outputs": [
    {
     "name": "stdout",
     "output_type": "stream",
     "text": [
      "2024-01-05 expenses:car:payment 500.0 Column.dr\n",
      "2024-01-05 assets:bank:checking 500.0 Column.cr\n"
     ]
    }
   ],
   "source": [
    "for e in DB.select(Entry, date=date(2024,1,5)):\n",
    "    print(e.date, e.account, e.amount, e.column)"
   ]
  },
  {
   "cell_type": "code",
   "execution_count": 128,
   "metadata": {},
   "outputs": [
    {
     "name": "stdout",
     "output_type": "stream",
     "text": [
      "2024-02-02 assets:bank:checking 5000.0 Column.dr\n",
      "2024-02-02 income:yoyodyne 5000.0 Column.cr\n",
      "2024-02-02 income:yoyodyne 5000.0 Column.dr\n",
      "2024-02-02 expenses:food 500.0 Column.cr\n",
      "2024-02-02 expenses:home 2500.0 Column.cr\n",
      "2024-02-02 expenses:car 1000.0 Column.cr\n",
      "2024-02-02 expenses:travel 500.0 Column.cr\n",
      "2024-02-02 equity 500.0 Column.cr\n",
      "2024-01-05 expenses:car:payment 500.0 Column.dr\n",
      "2024-01-05 assets:bank:checking 500.0 Column.cr\n",
      "2024-02-05 expenses:car:payment 500.0 Column.dr\n",
      "2024-02-05 assets:bank:checking 500.0 Column.cr\n",
      "2024-01-10 expenses:car:fuel 50.0 Column.dr\n",
      "2024-01-10 liabilities:chase:visa 50.0 Column.cr\n",
      "2024-02-26 expenses:car:fuel 60.0 Column.dr\n",
      "2024-02-26 liabilities:chase:visa 60.0 Column.cr\n",
      "2024-02-04 expenses:home:mortgage 1800.0 Column.dr\n",
      "2024-02-04 assets:bank:checking 1800.0 Column.cr\n",
      "2024-01-07 expenses:food:groceries 75.0 Column.dr\n",
      "2024-01-07 assets:bank:checking 75.0 Column.cr\n",
      "2024-01-21 expenses:food:groceries 175.0 Column.dr\n",
      "2024-01-21 liabilities:chase:visa 175.0 Column.cr\n",
      "2024-02-07 expenses:food:groceries 75.0 Column.dr\n",
      "2024-02-07 assets:bank:checking 75.0 Column.cr\n",
      "2024-02-21 expenses:food:groceries 75.0 Column.dr\n",
      "2024-02-21 liabilities:chase:visa 75.0 Column.cr\n",
      "2024-03-10 expenses:home:household 50.0 Column.dr\n",
      "2024-03-10 liabilities:chase:visa 50.0 Column.cr\n",
      "2024-03-12 expenses:home:household 25.0 Column.cr\n",
      "2024-03-12 liabilities:chase:visa 25.0 Column.dr\n"
     ]
    }
   ],
   "source": [
    "for e in DB.select(Entry, start_date=date(2024,1,5)):\n",
    "    print(e.date, e.account, e.amount, e.column)"
   ]
  },
  {
   "cell_type": "code",
   "execution_count": 129,
   "metadata": {},
   "outputs": [
    {
     "name": "stdout",
     "output_type": "stream",
     "text": [
      "2024-01-02 assets:bank:checking 5000.0 Column.dr\n",
      "2024-01-02 income:yoyodyne 5000.0 Column.cr\n",
      "2024-01-02 income:yoyodyne 5000.0 Column.dr\n",
      "2024-01-02 expenses:food 500.0 Column.cr\n",
      "2024-01-02 expenses:home 2500.0 Column.cr\n",
      "2024-01-02 expenses:car 1000.0 Column.cr\n",
      "2024-01-02 expenses:travel 500.0 Column.cr\n",
      "2024-01-02 equity 500.0 Column.cr\n",
      "2024-01-05 expenses:car:payment 500.0 Column.dr\n",
      "2024-01-05 assets:bank:checking 500.0 Column.cr\n",
      "2024-01-04 expenses:home:mortgage 1800.0 Column.dr\n",
      "2024-01-04 assets:bank:checking 1800.0 Column.cr\n"
     ]
    }
   ],
   "source": [
    "for e in DB.select(Entry, end_date=date(2024,1,5)):\n",
    "    print(e.date, e.account, e.amount, e.column)"
   ]
  },
  {
   "cell_type": "markdown",
   "metadata": {},
   "source": [
    "By amount:"
   ]
  },
  {
   "cell_type": "code",
   "execution_count": 130,
   "metadata": {},
   "outputs": [],
   "source": [
    "for e in DB.select(Entry, amount=900):\n",
    "    print(e.date, e.account, e.amount, e.column)"
   ]
  },
  {
   "cell_type": "code",
   "execution_count": 131,
   "metadata": {},
   "outputs": [
    {
     "name": "stdout",
     "output_type": "stream",
     "text": [
      "2024-01-02 expenses:food 500.0 Column.cr\n",
      "2024-01-02 expenses:travel 500.0 Column.cr\n",
      "2024-01-02 equity 500.0 Column.cr\n",
      "2024-02-02 expenses:food 500.0 Column.cr\n",
      "2024-02-02 expenses:travel 500.0 Column.cr\n",
      "2024-02-02 equity 500.0 Column.cr\n",
      "2024-01-05 expenses:car:payment 500.0 Column.dr\n",
      "2024-01-05 assets:bank:checking 500.0 Column.cr\n",
      "2024-02-05 expenses:car:payment 500.0 Column.dr\n",
      "2024-02-05 assets:bank:checking 500.0 Column.cr\n",
      "2024-01-10 expenses:car:fuel 50.0 Column.dr\n",
      "2024-01-10 liabilities:chase:visa 50.0 Column.cr\n",
      "2024-02-26 expenses:car:fuel 60.0 Column.dr\n",
      "2024-02-26 liabilities:chase:visa 60.0 Column.cr\n",
      "2024-01-07 expenses:food:groceries 75.0 Column.dr\n",
      "2024-01-07 assets:bank:checking 75.0 Column.cr\n",
      "2024-01-21 expenses:food:groceries 175.0 Column.dr\n",
      "2024-01-21 liabilities:chase:visa 175.0 Column.cr\n",
      "2024-02-07 expenses:food:groceries 75.0 Column.dr\n",
      "2024-02-07 assets:bank:checking 75.0 Column.cr\n",
      "2024-02-21 expenses:food:groceries 75.0 Column.dr\n",
      "2024-02-21 liabilities:chase:visa 75.0 Column.cr\n",
      "2024-03-10 expenses:home:household 50.0 Column.dr\n",
      "2024-03-10 liabilities:chase:visa 50.0 Column.cr\n",
      "2024-03-12 expenses:home:household 25.0 Column.cr\n",
      "2024-03-12 liabilities:chase:visa 25.0 Column.dr\n"
     ]
    }
   ],
   "source": [
    "for e in DB.select(Entry, max_amount=900):\n",
    "    print(e.date, e.account, e.amount, e.column)"
   ]
  },
  {
   "cell_type": "code",
   "execution_count": 132,
   "metadata": {},
   "outputs": [
    {
     "name": "stdout",
     "output_type": "stream",
     "text": [
      "2024-01-02 assets:bank:checking 5000.0 Column.dr\n",
      "2024-01-02 income:yoyodyne 5000.0 Column.cr\n",
      "2024-01-02 income:yoyodyne 5000.0 Column.dr\n",
      "2024-01-02 expenses:home 2500.0 Column.cr\n",
      "2024-01-02 expenses:car 1000.0 Column.cr\n",
      "2024-02-02 assets:bank:checking 5000.0 Column.dr\n",
      "2024-02-02 income:yoyodyne 5000.0 Column.cr\n",
      "2024-02-02 income:yoyodyne 5000.0 Column.dr\n",
      "2024-02-02 expenses:home 2500.0 Column.cr\n",
      "2024-02-02 expenses:car 1000.0 Column.cr\n",
      "2024-01-04 expenses:home:mortgage 1800.0 Column.dr\n",
      "2024-01-04 assets:bank:checking 1800.0 Column.cr\n",
      "2024-02-04 expenses:home:mortgage 1800.0 Column.dr\n",
      "2024-02-04 assets:bank:checking 1800.0 Column.cr\n"
     ]
    }
   ],
   "source": [
    "for e in DB.select(Entry, min_amount=900):\n",
    "    print(e.date, e.account, e.amount, e.column)"
   ]
  },
  {
   "cell_type": "markdown",
   "metadata": {},
   "source": [
    "By account:"
   ]
  },
  {
   "cell_type": "code",
   "execution_count": 133,
   "metadata": {},
   "outputs": [],
   "source": [
    "for e in DB.select(Entry, account='medical'):\n",
    "    print(e.date, e.account, e.amount, e.column)"
   ]
  },
  {
   "cell_type": "markdown",
   "metadata": {},
   "source": [
    "By column:"
   ]
  },
  {
   "cell_type": "code",
   "execution_count": 134,
   "metadata": {},
   "outputs": [
    {
     "name": "stdout",
     "output_type": "stream",
     "text": [
      "2024-01-02 income:yoyodyne 5000.0 Column.cr\n",
      "2024-01-02 expenses:food 500.0 Column.cr\n",
      "2024-01-02 expenses:home 2500.0 Column.cr\n",
      "2024-01-02 expenses:car 1000.0 Column.cr\n",
      "2024-01-02 expenses:travel 500.0 Column.cr\n",
      "2024-01-02 equity 500.0 Column.cr\n",
      "2024-02-02 income:yoyodyne 5000.0 Column.cr\n",
      "2024-02-02 expenses:food 500.0 Column.cr\n",
      "2024-02-02 expenses:home 2500.0 Column.cr\n",
      "2024-02-02 expenses:car 1000.0 Column.cr\n",
      "2024-02-02 expenses:travel 500.0 Column.cr\n",
      "2024-02-02 equity 500.0 Column.cr\n",
      "2024-01-05 assets:bank:checking 500.0 Column.cr\n",
      "2024-02-05 assets:bank:checking 500.0 Column.cr\n",
      "2024-01-10 liabilities:chase:visa 50.0 Column.cr\n",
      "2024-02-26 liabilities:chase:visa 60.0 Column.cr\n",
      "2024-01-04 assets:bank:checking 1800.0 Column.cr\n",
      "2024-02-04 assets:bank:checking 1800.0 Column.cr\n",
      "2024-01-07 assets:bank:checking 75.0 Column.cr\n",
      "2024-01-21 liabilities:chase:visa 175.0 Column.cr\n",
      "2024-02-07 assets:bank:checking 75.0 Column.cr\n",
      "2024-02-21 liabilities:chase:visa 75.0 Column.cr\n",
      "2024-03-10 liabilities:chase:visa 50.0 Column.cr\n",
      "2024-03-12 expenses:home:household 25.0 Column.cr\n"
     ]
    }
   ],
   "source": [
    "for e in DB.select(Entry, column='credit'):\n",
    "    print(e.date, e.account, e.amount, e.column)"
   ]
  },
  {
   "cell_type": "code",
   "execution_count": 135,
   "metadata": {},
   "outputs": [
    {
     "name": "stdout",
     "output_type": "stream",
     "text": [
      "2024-01-02 assets:bank:checking 5000.0 Column.dr\n",
      "2024-01-02 income:yoyodyne 5000.0 Column.dr\n",
      "2024-02-02 assets:bank:checking 5000.0 Column.dr\n",
      "2024-02-02 income:yoyodyne 5000.0 Column.dr\n",
      "2024-01-05 expenses:car:payment 500.0 Column.dr\n",
      "2024-02-05 expenses:car:payment 500.0 Column.dr\n",
      "2024-01-10 expenses:car:fuel 50.0 Column.dr\n",
      "2024-02-26 expenses:car:fuel 60.0 Column.dr\n",
      "2024-01-04 expenses:home:mortgage 1800.0 Column.dr\n",
      "2024-02-04 expenses:home:mortgage 1800.0 Column.dr\n",
      "2024-01-07 expenses:food:groceries 75.0 Column.dr\n",
      "2024-01-21 expenses:food:groceries 175.0 Column.dr\n",
      "2024-02-07 expenses:food:groceries 75.0 Column.dr\n",
      "2024-02-21 expenses:food:groceries 75.0 Column.dr\n",
      "2024-03-10 expenses:home:household 50.0 Column.dr\n",
      "2024-03-12 liabilities:chase:visa 25.0 Column.dr\n"
     ]
    }
   ],
   "source": [
    "for e in DB.select(Entry, column='debit'):\n",
    "    print(e.date, e.account, e.amount, e.column)"
   ]
  },
  {
   "cell_type": "markdown",
   "metadata": {},
   "source": [
    "By tag:"
   ]
  },
  {
   "cell_type": "code",
   "execution_count": 136,
   "metadata": {},
   "outputs": [],
   "source": [
    "for e in DB.select(Entry, tag='unpaired'):\n",
    "    print(e.date, e.account, e.amount, e.column)"
   ]
  },
  {
   "cell_type": "markdown",
   "metadata": {},
   "source": [
    "### Serializing Objects"
   ]
  },
  {
   "cell_type": "code",
   "execution_count": null,
   "metadata": {},
   "outputs": [],
   "source": []
  },
  {
   "cell_type": "code",
   "execution_count": 137,
   "metadata": {},
   "outputs": [],
   "source": [
    "import json\n",
    "from bson.objectid import ObjectId\n",
    "import datetime"
   ]
  },
  {
   "cell_type": "code",
   "execution_count": 138,
   "metadata": {},
   "outputs": [],
   "source": [
    "lst = DB.select(Transaction, start_date = date(2024,2,1), credit='visa')"
   ]
  },
  {
   "cell_type": "code",
   "execution_count": 139,
   "metadata": {},
   "outputs": [
    {
     "data": {
      "text/plain": [
       "'{\"_id\": {\"$oid\": \"688d869094e4e84ee4a8b9a8\"}, \"description\": \"Shell Oil\", \"comment\": \"\", \"tags\": [], \"entries\": [{\"$oid\": \"688d869094e4e84ee4a8b9a6\"}, {\"$oid\": \"688d869094e4e84ee4a8b9a7\"}], \"pdate\": {\"$date\": 1708905600000}, \"pdebit\": \"expenses:car:fuel\", \"pcredit\": \"liabilities:chase:visa\", \"pamount\": 60.0}'"
      ]
     },
     "execution_count": 139,
     "metadata": {},
     "output_type": "execute_result"
    }
   ],
   "source": [
    "lst[0].to_json()"
   ]
  },
  {
   "cell_type": "code",
   "execution_count": 140,
   "metadata": {},
   "outputs": [
    {
     "data": {
      "text/plain": [
       "dexter.DB.Transaction"
      ]
     },
     "execution_count": 140,
     "metadata": {},
     "output_type": "execute_result"
    }
   ],
   "source": [
    "type(lst[0])"
   ]
  },
  {
   "cell_type": "code",
   "execution_count": 141,
   "metadata": {},
   "outputs": [],
   "source": [
    "obj = Transaction.objects.as_pymongo()[0]"
   ]
  },
  {
   "cell_type": "code",
   "execution_count": 142,
   "metadata": {},
   "outputs": [
    {
     "data": {
      "text/plain": [
       "dict"
      ]
     },
     "execution_count": 142,
     "metadata": {},
     "output_type": "execute_result"
    }
   ],
   "source": [
    "type(obj)"
   ]
  },
  {
   "cell_type": "code",
   "execution_count": 143,
   "metadata": {},
   "outputs": [
    {
     "data": {
      "text/plain": [
       "{'_id': ObjectId('688d869094e4e84ee4a8b98b'),\n",
       " 'description': 'Jan paycheck',\n",
       " 'comment': '',\n",
       " 'tags': [],\n",
       " 'entries': [ObjectId('688d869094e4e84ee4a8b989'),\n",
       "  ObjectId('688d869094e4e84ee4a8b98a')],\n",
       " 'pdate': datetime.datetime(2024, 1, 2, 0, 0),\n",
       " 'pdebit': 'assets:bank:checking',\n",
       " 'pcredit': 'income:yoyodyne',\n",
       " 'pamount': 5000.0}"
      ]
     },
     "execution_count": 143,
     "metadata": {},
     "output_type": "execute_result"
    }
   ],
   "source": [
    "obj"
   ]
  },
  {
   "cell_type": "code",
   "execution_count": 144,
   "metadata": {},
   "outputs": [],
   "source": [
    "s = lst[0].to_json()"
   ]
  },
  {
   "cell_type": "code",
   "execution_count": 145,
   "metadata": {},
   "outputs": [
    {
     "data": {
      "text/plain": [
       "{'_id': {'$oid': '688d869094e4e84ee4a8b9a8'},\n",
       " 'description': 'Shell Oil',\n",
       " 'comment': '',\n",
       " 'tags': [],\n",
       " 'entries': [{'$oid': '688d869094e4e84ee4a8b9a6'},\n",
       "  {'$oid': '688d869094e4e84ee4a8b9a7'}],\n",
       " 'pdate': {'$date': 1708905600000},\n",
       " 'pdebit': 'expenses:car:fuel',\n",
       " 'pcredit': 'liabilities:chase:visa',\n",
       " 'pamount': 60.0}"
      ]
     },
     "execution_count": 145,
     "metadata": {},
     "output_type": "execute_result"
    }
   ],
   "source": [
    "json.loads(s)"
   ]
  },
  {
   "cell_type": "code",
   "execution_count": null,
   "metadata": {},
   "outputs": [],
   "source": []
  },
  {
   "cell_type": "code",
   "execution_count": 146,
   "metadata": {},
   "outputs": [
    {
     "data": {
      "text/plain": [
       "<Transaction: <Tr 2024-02-26 liabilities:chase:visa -> expenses:car:fuel $60.0 Shell Oil []>>"
      ]
     },
     "execution_count": 146,
     "metadata": {},
     "output_type": "execute_result"
    }
   ],
   "source": [
    "Transaction.from_json(s)"
   ]
  },
  {
   "cell_type": "code",
   "execution_count": 147,
   "metadata": {},
   "outputs": [],
   "source": [
    "s = 'account: {...:...}'"
   ]
  },
  {
   "cell_type": "code",
   "execution_count": 148,
   "metadata": {},
   "outputs": [
    {
     "data": {
      "text/plain": [
       "7"
      ]
     },
     "execution_count": 148,
     "metadata": {},
     "output_type": "execute_result"
    }
   ],
   "source": [
    "s.find(':')"
   ]
  },
  {
   "cell_type": "code",
   "execution_count": 149,
   "metadata": {},
   "outputs": [
    {
     "data": {
      "text/plain": [
       "'account'"
      ]
     },
     "execution_count": 149,
     "metadata": {},
     "output_type": "execute_result"
    }
   ],
   "source": [
    "s[:s.find(':')]"
   ]
  },
  {
   "cell_type": "code",
   "execution_count": 150,
   "metadata": {},
   "outputs": [
    {
     "data": {
      "text/plain": [
       "': {...:...}'"
      ]
     },
     "execution_count": 150,
     "metadata": {},
     "output_type": "execute_result"
    }
   ],
   "source": [
    "s[s.find(':'):]"
   ]
  },
  {
   "cell_type": "markdown",
   "metadata": {},
   "source": [
    "### Indexes"
   ]
  },
  {
   "cell_type": "markdown",
   "metadata": {},
   "source": [
    "We want a field in Entry documents that serves as a unique ID so we can tell if an item was imported before."
   ]
  },
  {
   "cell_type": "markdown",
   "metadata": {},
   "source": [
    "MongoEngine has a UUID field.\n",
    "* how is it computed?  is it a hash of all the other field values?\n",
    "* when is it computed?  when the object is made, or when it is saved?"
   ]
  },
  {
   "cell_type": "code",
   "execution_count": 151,
   "metadata": {},
   "outputs": [],
   "source": [
    "from mongoengine import *"
   ]
  },
  {
   "cell_type": "code",
   "execution_count": 152,
   "metadata": {},
   "outputs": [],
   "source": [
    "class Foo(Document):\n",
    "    name = StringField()\n",
    "    amount = FloatField()\n",
    "    uid = UUIDField(binary=False)"
   ]
  },
  {
   "cell_type": "code",
   "execution_count": 153,
   "metadata": {},
   "outputs": [],
   "source": [
    "f = Foo(name='Fred', amount=10)"
   ]
  },
  {
   "cell_type": "markdown",
   "metadata": {},
   "source": [
    "Just declaring it is not enough to give it a value:"
   ]
  },
  {
   "cell_type": "code",
   "execution_count": 154,
   "metadata": {},
   "outputs": [
    {
     "data": {
      "text/plain": [
       "True"
      ]
     },
     "execution_count": 154,
     "metadata": {},
     "output_type": "execute_result"
    }
   ],
   "source": [
    "f.uid is None"
   ]
  },
  {
   "cell_type": "code",
   "execution_count": 155,
   "metadata": {},
   "outputs": [
    {
     "data": {
      "text/plain": [
       "<Foo: Foo object>"
      ]
     },
     "execution_count": 155,
     "metadata": {},
     "output_type": "execute_result"
    }
   ],
   "source": [
    "f.save()"
   ]
  },
  {
   "cell_type": "markdown",
   "metadata": {},
   "source": [
    "This model has an index.  The `#` means it's a \"hashed index\" but no discussion of what that means or why we'd want one (over say a text index that we compute ourselves)."
   ]
  },
  {
   "cell_type": "code",
   "execution_count": 156,
   "metadata": {},
   "outputs": [],
   "source": [
    "class Bar(Document):\n",
    "    name = StringField()\n",
    "    amount = FloatField()\n",
    "    uid = UUIDField(binary=False)\n",
    "    meta = {\n",
    "        'indexes': ['#uid']\n",
    "    }"
   ]
  },
  {
   "cell_type": "code",
   "execution_count": 157,
   "metadata": {},
   "outputs": [],
   "source": [
    "b1 = Bar(name='george', amount=20, uid='123')"
   ]
  },
  {
   "cell_type": "code",
   "execution_count": 158,
   "metadata": {},
   "outputs": [
    {
     "data": {
      "text/plain": [
       "'123'"
      ]
     },
     "execution_count": 158,
     "metadata": {},
     "output_type": "execute_result"
    }
   ],
   "source": [
    "b1.uid"
   ]
  },
  {
   "cell_type": "markdown",
   "metadata": {},
   "source": [
    "Ah -- the UUID is created when the document is saved (the same was true for Foo, above, if a `uid` value passed to the constructor)."
   ]
  },
  {
   "cell_type": "markdown",
   "metadata": {},
   "source": [
    "```\n",
    "b1.save()\n",
    "...\n",
    "ValidationError: ValidationError (Bar:None) (Could not convert to UUID: badly formed hexadecimal UUID string: ['uid'])\n",
    "```"
   ]
  },
  {
   "cell_type": "markdown",
   "metadata": {},
   "source": [
    "So how do we make a UUID?  Do we care?  Why not just use our hashed strings?"
   ]
  },
  {
   "cell_type": "markdown",
   "metadata": {},
   "source": [
    "#### UUID"
   ]
  },
  {
   "cell_type": "markdown",
   "metadata": {},
   "source": [
    "It's in the PyMongo docs (and we had to specify how they're represented when we made the DB connection).  It's also a Python library."
   ]
  },
  {
   "cell_type": "code",
   "execution_count": 159,
   "metadata": {},
   "outputs": [],
   "source": [
    "from uuid import uuid4"
   ]
  },
  {
   "cell_type": "code",
   "execution_count": 160,
   "metadata": {},
   "outputs": [],
   "source": [
    "b2 = Bar(name='ringo', amount=30, uid=uuid4())"
   ]
  },
  {
   "cell_type": "code",
   "execution_count": 161,
   "metadata": {},
   "outputs": [
    {
     "data": {
      "text/plain": [
       "UUID('e20911c3-6f2d-4ebc-bf34-156ba09deccb')"
      ]
     },
     "execution_count": 161,
     "metadata": {},
     "output_type": "execute_result"
    }
   ],
   "source": [
    "b2.uid"
   ]
  },
  {
   "cell_type": "code",
   "execution_count": 162,
   "metadata": {},
   "outputs": [
    {
     "data": {
      "text/plain": [
       "<Bar: Bar object>"
      ]
     },
     "execution_count": 162,
     "metadata": {},
     "output_type": "execute_result"
    }
   ],
   "source": [
    "b2.save()"
   ]
  },
  {
   "cell_type": "code",
   "execution_count": 163,
   "metadata": {},
   "outputs": [],
   "source": [
    "x = b2.uid"
   ]
  },
  {
   "cell_type": "code",
   "execution_count": 164,
   "metadata": {},
   "outputs": [],
   "source": [
    "b3 = Bar(name='paul', amount=40, uid=x)"
   ]
  },
  {
   "cell_type": "code",
   "execution_count": 165,
   "metadata": {},
   "outputs": [
    {
     "data": {
      "text/plain": [
       "<Bar: Bar object>"
      ]
     },
     "execution_count": 165,
     "metadata": {},
     "output_type": "execute_result"
    }
   ],
   "source": [
    "b3.save()"
   ]
  },
  {
   "cell_type": "code",
   "execution_count": 166,
   "metadata": {},
   "outputs": [
    {
     "data": {
      "text/plain": [
       "True"
      ]
     },
     "execution_count": 166,
     "metadata": {},
     "output_type": "execute_result"
    }
   ],
   "source": [
    "b3.uid == b2.uid"
   ]
  },
  {
   "cell_type": "code",
   "execution_count": 167,
   "metadata": {},
   "outputs": [
    {
     "data": {
      "text/plain": [
       "UUID('09e223f1-e1fc-48ed-b5f1-2431c5cefa89')"
      ]
     },
     "execution_count": 167,
     "metadata": {},
     "output_type": "execute_result"
    }
   ],
   "source": [
    "uuid4()"
   ]
  },
  {
   "cell_type": "markdown",
   "metadata": {},
   "source": [
    "So just defining an index isn't enough to make it unique."
   ]
  },
  {
   "cell_type": "markdown",
   "metadata": {},
   "source": [
    "### Unique"
   ]
  },
  {
   "cell_type": "code",
   "execution_count": 168,
   "metadata": {},
   "outputs": [],
   "source": [
    "class FooBar(Document):\n",
    "    name = StringField()\n",
    "    amount = FloatField()\n",
    "    uid = StringField(unique=True)"
   ]
  },
  {
   "cell_type": "code",
   "execution_count": 169,
   "metadata": {},
   "outputs": [],
   "source": [
    "f1 = FooBar(name='Fred', amount=100, uid='bedrock')"
   ]
  },
  {
   "cell_type": "code",
   "execution_count": 170,
   "metadata": {},
   "outputs": [],
   "source": [
    "f2 = FooBar(name='Barney', amount=200, uid='bedrock')"
   ]
  },
  {
   "cell_type": "markdown",
   "metadata": {},
   "source": [
    "If uncommented this cell will add a record to the database.  To reset the database to its original condition run pytest again."
   ]
  },
  {
   "cell_type": "code",
   "execution_count": 171,
   "metadata": {},
   "outputs": [],
   "source": [
    "# f1.save()"
   ]
  },
  {
   "cell_type": "code",
   "execution_count": 172,
   "metadata": {},
   "outputs": [],
   "source": [
    "# try:\n",
    "#     f2.save()\n",
    "# except NotUniqueError as err:\n",
    "#     print(err)"
   ]
  },
  {
   "cell_type": "code",
   "execution_count": 173,
   "metadata": {},
   "outputs": [
    {
     "data": {
      "text/plain": [
       "{'abstract': False,\n",
       " 'max_documents': None,\n",
       " 'max_size': None,\n",
       " 'ordering': [],\n",
       " 'indexes': [],\n",
       " 'id_field': 'id',\n",
       " 'index_background': False,\n",
       " 'index_opts': None,\n",
       " 'delete_rules': None,\n",
       " 'allow_inheritance': None,\n",
       " 'collection': 'foo_bar',\n",
       " 'index_specs': [{'fields': [('uid', 1)], 'unique': True, 'sparse': False}]}"
      ]
     },
     "execution_count": 173,
     "metadata": {},
     "output_type": "execute_result"
    }
   ],
   "source": [
    "FooBar._meta"
   ]
  },
  {
   "cell_type": "markdown",
   "metadata": {},
   "source": [
    "Awesome!  Just defining a field as unique is enough to have MongoEngine create an index.  Don't know (and don't care, yet, at least) about the ramifications of `sparse = False`.\n",
    "\n",
    "> checked PyMongo docs, it's not what we think, and not something we want (even though we can have it by specifying `sparse=True` in the column spec)"
   ]
  },
  {
   "cell_type": "markdown",
   "metadata": {},
   "source": [
    "### Aggregation"
   ]
  },
  {
   "cell_type": "code",
   "execution_count": 174,
   "metadata": {},
   "outputs": [
    {
     "data": {
      "text/plain": [
       "50370.0"
      ]
     },
     "execution_count": 174,
     "metadata": {},
     "output_type": "execute_result"
    }
   ],
   "source": [
    "Entry.objects.sum('amount')"
   ]
  },
  {
   "cell_type": "code",
   "execution_count": 175,
   "metadata": {},
   "outputs": [
    {
     "data": {
      "text/plain": [
       "[<Entry: <En 2024-01-02 income:yoyodyne -$5000.0 []>>, <Entry: <En 2024-01-02 expenses:food -$500.0 [<Tag.B: '#budget'>]>>, <Entry: <En 2024-01-02 expenses:home -$2500.0 [<Tag.B: '#budget'>]>>, <Entry: <En 2024-01-02 expenses:car -$1000.0 [<Tag.B: '#budget'>]>>, <Entry: <En 2024-01-02 expenses:travel -$500.0 [<Tag.B: '#budget'>]>>, <Entry: <En 2024-01-02 equity -$500.0 [<Tag.B: '#budget'>]>>, <Entry: <En 2024-02-02 income:yoyodyne -$5000.0 []>>, <Entry: <En 2024-02-02 expenses:food -$500.0 [<Tag.B: '#budget'>]>>, <Entry: <En 2024-02-02 expenses:home -$2500.0 [<Tag.B: '#budget'>]>>, <Entry: <En 2024-02-02 expenses:car -$1000.0 [<Tag.B: '#budget'>]>>, <Entry: <En 2024-02-02 expenses:travel -$500.0 [<Tag.B: '#budget'>]>>, <Entry: <En 2024-02-02 equity -$500.0 [<Tag.B: '#budget'>]>>, <Entry: <En 2024-01-05 assets:bank:checking -$500.0 []>>, <Entry: <En 2024-02-05 assets:bank:checking -$500.0 []>>, <Entry: <En 2024-01-10 liabilities:chase:visa -$50.0 []>>, <Entry: <En 2024-02-26 liabilities:chase:visa -$60.0 []>>, <Entry: <En 2024-01-04 assets:bank:checking -$1800.0 []>>, <Entry: <En 2024-02-04 assets:bank:checking -$1800.0 []>>, <Entry: <En 2024-01-07 assets:bank:checking -$75.0 []>>, <Entry: <En 2024-01-21 liabilities:chase:visa -$175.0 []>>, '...(remaining elements truncated)...']"
      ]
     },
     "execution_count": 175,
     "metadata": {},
     "output_type": "execute_result"
    }
   ],
   "source": [
    "Entry.objects(column='credit')"
   ]
  },
  {
   "cell_type": "code",
   "execution_count": 176,
   "metadata": {},
   "outputs": [
    {
     "data": {
      "text/plain": [
       "25185.0"
      ]
     },
     "execution_count": 176,
     "metadata": {},
     "output_type": "execute_result"
    }
   ],
   "source": [
    "Entry.objects(column='credit').sum('amount')"
   ]
  },
  {
   "cell_type": "code",
   "execution_count": 177,
   "metadata": {},
   "outputs": [
    {
     "data": {
      "text/plain": [
       "0"
      ]
     },
     "execution_count": 177,
     "metadata": {},
     "output_type": "execute_result"
    }
   ],
   "source": [
    "Entry.objects(Q(account=\"groceries\") & Q(column='credit')).sum('amount')"
   ]
  },
  {
   "cell_type": "code",
   "execution_count": 178,
   "metadata": {},
   "outputs": [
    {
     "name": "stdout",
     "output_type": "stream",
     "text": [
      "<En 2024-01-02 income:yoyodyne -$5000.0 []>\n",
      "<En 2024-01-02 expenses:food -$500.0 [<Tag.B: '#budget'>]>\n",
      "<En 2024-01-02 expenses:home -$2500.0 [<Tag.B: '#budget'>]>\n",
      "<En 2024-01-02 expenses:car -$1000.0 [<Tag.B: '#budget'>]>\n",
      "<En 2024-01-02 expenses:travel -$500.0 [<Tag.B: '#budget'>]>\n",
      "<En 2024-01-02 equity -$500.0 [<Tag.B: '#budget'>]>\n",
      "<En 2024-02-02 income:yoyodyne -$5000.0 []>\n",
      "<En 2024-02-02 expenses:food -$500.0 [<Tag.B: '#budget'>]>\n",
      "<En 2024-02-02 expenses:home -$2500.0 [<Tag.B: '#budget'>]>\n",
      "<En 2024-02-02 expenses:car -$1000.0 [<Tag.B: '#budget'>]>\n",
      "<En 2024-02-02 expenses:travel -$500.0 [<Tag.B: '#budget'>]>\n",
      "<En 2024-02-02 equity -$500.0 [<Tag.B: '#budget'>]>\n",
      "<En 2024-01-05 assets:bank:checking -$500.0 []>\n",
      "<En 2024-02-05 assets:bank:checking -$500.0 []>\n",
      "<En 2024-01-10 liabilities:chase:visa -$50.0 []>\n",
      "<En 2024-02-26 liabilities:chase:visa -$60.0 []>\n",
      "<En 2024-01-04 assets:bank:checking -$1800.0 []>\n",
      "<En 2024-02-04 assets:bank:checking -$1800.0 []>\n",
      "<En 2024-01-07 assets:bank:checking -$75.0 []>\n",
      "<En 2024-01-21 liabilities:chase:visa -$175.0 []>\n",
      "<En 2024-02-07 assets:bank:checking -$75.0 []>\n",
      "<En 2024-02-21 liabilities:chase:visa -$75.0 []>\n",
      "<En 2024-03-10 liabilities:chase:visa -$50.0 []>\n",
      "<En 2024-03-12 expenses:home:household -$25.0 []>\n"
     ]
    }
   ],
   "source": [
    "for e in Entry.objects(column='credit'):\n",
    "    print(e)"
   ]
  },
  {
   "cell_type": "code",
   "execution_count": 179,
   "metadata": {},
   "outputs": [
    {
     "data": {
      "text/plain": [
       "{'a': 0, 'b': 1}"
      ]
     },
     "execution_count": 179,
     "metadata": {},
     "output_type": "execute_result"
    }
   ],
   "source": [
    "{'a': 0} | {'b': 1}"
   ]
  },
  {
   "cell_type": "code",
   "execution_count": null,
   "metadata": {},
   "outputs": [],
   "source": []
  }
 ],
 "metadata": {
  "kernelspec": {
   "display_name": "nosql",
   "language": "python",
   "name": "python3"
  },
  "language_info": {
   "codemirror_mode": {
    "name": "ipython",
    "version": 3
   },
   "file_extension": ".py",
   "mimetype": "text/x-python",
   "name": "python",
   "nbconvert_exporter": "python",
   "pygments_lexer": "ipython3",
   "version": "3.13.1"
  }
 },
 "nbformat": 4,
 "nbformat_minor": 2
}
