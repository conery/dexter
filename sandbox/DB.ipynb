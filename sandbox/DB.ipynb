{
 "cells": [
  {
   "cell_type": "markdown",
   "metadata": {},
   "source": [
    "### Experiment with MongoEngine"
   ]
  },
  {
   "cell_type": "markdown",
   "metadata": {},
   "source": [
    "The ODM we use to access MongoDB"
   ]
  },
  {
   "cell_type": "code",
   "execution_count": 1,
   "metadata": {},
   "outputs": [],
   "source": [
    "from dexter.DB import DB, Account, Entry, Transaction, Document\n",
    "\n",
    "from datetime import date"
   ]
  },
  {
   "cell_type": "markdown",
   "metadata": {},
   "source": [
    "Open the database:"
   ]
  },
  {
   "cell_type": "code",
   "execution_count": 2,
   "metadata": {},
   "outputs": [],
   "source": [
    "DB.open('pytest')"
   ]
  },
  {
   "cell_type": "markdown",
   "metadata": {},
   "source": [
    "Make an account:"
   ]
  },
  {
   "cell_type": "code",
   "execution_count": 3,
   "metadata": {},
   "outputs": [],
   "source": [
    "acct = Account(name='equity', category='Q')"
   ]
  },
  {
   "cell_type": "markdown",
   "metadata": {},
   "source": [
    "Save it:"
   ]
  },
  {
   "cell_type": "code",
   "execution_count": 4,
   "metadata": {},
   "outputs": [
    {
     "data": {
      "text/plain": [
       "<Account: <Acct equity Q>"
      ]
     },
     "execution_count": 4,
     "metadata": {},
     "output_type": "execute_result"
    }
   ],
   "source": [
    "acct.save()"
   ]
  },
  {
   "cell_type": "markdown",
   "metadata": {},
   "source": [
    "If we open that DB with `mongosh` we should see the account.\n",
    "\n",
    "```\n",
    "$ mongosh\n",
    "\n",
    "test> use foo\n",
    "switched to db foo\n",
    "\n",
    "foo> db.account.find()\n",
    "[\n",
    "  {\n",
    "    _id: ObjectId('67c61fa19d0161a19b80469e'),\n",
    "    name: 'equity',\n",
    "    group: 'equity'\n",
    "  }\n",
    "]\n",
    "```\n",
    "\n",
    "It worked!  🎉"
   ]
  },
  {
   "cell_type": "markdown",
   "metadata": {},
   "source": [
    "### Contents of a Collection"
   ]
  },
  {
   "cell_type": "code",
   "execution_count": 5,
   "metadata": {},
   "outputs": [
    {
     "data": {
      "text/plain": [
       "[<Account: <Acct equity Q>, <Account: <Acct yoyodyne I>, <Account: <Acct checking A>, <Account: <Acct amex L>, <Account: <Acct visa L>, <Account: <Acct groceries E>, <Account: <Acct household E>, <Account: <Acct mortgage E>, <Account: <Acct car E>, <Account: <Acct travel E>, <Account: <Acct equity Q>, <Account: <Acct equity Q>, <Account: <Acct equity Q>]"
      ]
     },
     "execution_count": 5,
     "metadata": {},
     "output_type": "execute_result"
    }
   ],
   "source": [
    "Account.objects"
   ]
  },
  {
   "cell_type": "code",
   "execution_count": 6,
   "metadata": {},
   "outputs": [
    {
     "data": {
      "text/plain": [
       "<Account: <Acct equity Q>"
      ]
     },
     "execution_count": 6,
     "metadata": {},
     "output_type": "execute_result"
    }
   ],
   "source": [
    "Account.objects[0]"
   ]
  },
  {
   "cell_type": "code",
   "execution_count": 7,
   "metadata": {},
   "outputs": [],
   "source": [
    "acct = Account.objects[0]"
   ]
  },
  {
   "cell_type": "code",
   "execution_count": 8,
   "metadata": {},
   "outputs": [
    {
     "data": {
      "text/plain": [
       "'equity'"
      ]
     },
     "execution_count": 8,
     "metadata": {},
     "output_type": "execute_result"
    }
   ],
   "source": [
    "acct.name"
   ]
  },
  {
   "cell_type": "markdown",
   "metadata": {},
   "source": [
    "### Low Level API"
   ]
  },
  {
   "cell_type": "markdown",
   "metadata": {},
   "source": [
    "We can also connect to the DB directly to use the `pymongo` library, _e.g._ to get collection names.\n",
    "\n",
    "After calling `DB.open` we can get a reference to the client and the current database using static vars of the module:"
   ]
  },
  {
   "cell_type": "code",
   "execution_count": 9,
   "metadata": {},
   "outputs": [
    {
     "data": {
      "text/plain": [
       "MongoClient(host=['localhost:27017'], document_class=dict, tz_aware=False, connect=True, read_preference=Primary(), uuidrepresentation=4, driver=DriverInfo(name='MongoEngine', version='0.29.1', platform=None))"
      ]
     },
     "execution_count": 9,
     "metadata": {},
     "output_type": "execute_result"
    }
   ],
   "source": [
    "DB.client"
   ]
  },
  {
   "cell_type": "code",
   "execution_count": 10,
   "metadata": {},
   "outputs": [
    {
     "data": {
      "text/plain": [
       "Database(MongoClient(host=['localhost:27017'], document_class=dict, tz_aware=False, connect=True, read_preference=Primary(), uuidrepresentation=4, driver=DriverInfo(name='MongoEngine', version='0.29.1', platform=None)), 'pytest')"
      ]
     },
     "execution_count": 10,
     "metadata": {},
     "output_type": "execute_result"
    }
   ],
   "source": [
    "DB.database"
   ]
  },
  {
   "cell_type": "code",
   "execution_count": 11,
   "metadata": {},
   "outputs": [],
   "source": [
    "db = DB.database"
   ]
  },
  {
   "cell_type": "code",
   "execution_count": 12,
   "metadata": {},
   "outputs": [
    {
     "data": {
      "text/plain": [
       "Collection(Database(MongoClient(host=['localhost:27017'], document_class=dict, tz_aware=False, connect=True, read_preference=Primary(), uuidrepresentation=4, driver=DriverInfo(name='MongoEngine', version='0.29.1', platform=None)), 'pytest'), 'account')"
      ]
     },
     "execution_count": 12,
     "metadata": {},
     "output_type": "execute_result"
    }
   ],
   "source": [
    "db.account"
   ]
  },
  {
   "cell_type": "code",
   "execution_count": 13,
   "metadata": {},
   "outputs": [
    {
     "data": {
      "text/plain": [
       "{'_id': ObjectId('67e41dd9a0fded77104fa31d'),\n",
       " 'name': 'equity',\n",
       " 'category': 'Q'}"
      ]
     },
     "execution_count": 13,
     "metadata": {},
     "output_type": "execute_result"
    }
   ],
   "source": [
    "db.account.find_one()"
   ]
  },
  {
   "cell_type": "code",
   "execution_count": 14,
   "metadata": {},
   "outputs": [
    {
     "name": "stdout",
     "output_type": "stream",
     "text": [
      "{'name': 'foo', 'type': 'collection', 'options': {}, 'info': {'readOnly': False, 'uuid': Binary(b'\\n\\x86C\\xa2\\xabQE\\xcf\\x9a\\xff\\x0c/\\xa6\\xd8\\xdd\\xe4', 4)}, 'idIndex': {'v': 2, 'key': {'_id': 1}, 'name': '_id_'}}\n",
      "{'name': 'foo_bar', 'type': 'collection', 'options': {}, 'info': {'readOnly': False, 'uuid': Binary(b'\\x15\\xd9 \\x96\\x05\\xdc@\\xa3\\x81\\xe5\\xde\\xaa2\\xa2;+', 4)}, 'idIndex': {'v': 2, 'key': {'_id': 1}, 'name': '_id_'}}\n",
      "{'name': 'transaction', 'type': 'collection', 'options': {}, 'info': {'readOnly': False, 'uuid': Binary(b'y\\xf5x\\xbaf\\xa2H\\xc2\\xa0\\xe4t\\xf6\\xd7\\xbe\\x08D', 4)}, 'idIndex': {'v': 2, 'key': {'_id': 1}, 'name': '_id_'}}\n",
      "{'name': 'entry', 'type': 'collection', 'options': {}, 'info': {'readOnly': False, 'uuid': Binary(b'\\x95)\\x15#\\xb8\\n@\\x8d\\xa8\\x8b\\x14v\\xc9\\xe2\\x9e\\xb2', 4)}, 'idIndex': {'v': 2, 'key': {'_id': 1}, 'name': '_id_'}}\n",
      "{'name': 'account', 'type': 'collection', 'options': {}, 'info': {'readOnly': False, 'uuid': Binary(b'\\xa9\\xc8I/\\xef]D-\\x918\\x85\\xba\\t\\xde\\xab\\x92', 4)}, 'idIndex': {'v': 2, 'key': {'_id': 1}, 'name': '_id_'}}\n",
      "{'name': 'bar', 'type': 'collection', 'options': {}, 'info': {'readOnly': False, 'uuid': Binary(b'\\xcb\\x9c\\xef\\xa6\\x19\\xaeHC\\x81?\\x97o;\\xa7\\xdb\\xd4', 4)}, 'idIndex': {'v': 2, 'key': {'_id': 1}, 'name': '_id_'}}\n"
     ]
    }
   ],
   "source": [
    "for c in db.list_collections():\n",
    "    print(c)"
   ]
  },
  {
   "cell_type": "code",
   "execution_count": 15,
   "metadata": {},
   "outputs": [
    {
     "name": "stdout",
     "output_type": "stream",
     "text": [
      "foo\n",
      "foo_bar\n",
      "transaction\n",
      "entry\n",
      "account\n",
      "bar\n"
     ]
    }
   ],
   "source": [
    "for name in db.list_collection_names():\n",
    "    print(name)"
   ]
  },
  {
   "cell_type": "code",
   "execution_count": 16,
   "metadata": {},
   "outputs": [
    {
     "data": {
      "text/plain": [
       "Collection(Database(MongoClient(host=['localhost:27017'], document_class=dict, tz_aware=False, connect=True, read_preference=Primary(), uuidrepresentation=4, driver=DriverInfo(name='MongoEngine', version='0.29.1', platform=None)), 'pytest'), 'account')"
      ]
     },
     "execution_count": 16,
     "metadata": {},
     "output_type": "execute_result"
    }
   ],
   "source": [
    "db['account']"
   ]
  },
  {
   "cell_type": "markdown",
   "metadata": {},
   "source": []
  },
  {
   "cell_type": "code",
   "execution_count": 17,
   "metadata": {},
   "outputs": [
    {
     "data": {
      "text/plain": [
       "{'_id': ObjectId('67e41dd9a0fded77104fa31d'),\n",
       " 'name': 'equity',\n",
       " 'category': 'Q'}"
      ]
     },
     "execution_count": 17,
     "metadata": {},
     "output_type": "execute_result"
    }
   ],
   "source": [
    "db['account'].find_one()"
   ]
  },
  {
   "cell_type": "code",
   "execution_count": 18,
   "metadata": {},
   "outputs": [
    {
     "name": "stdout",
     "output_type": "stream",
     "text": [
      "{'_id': ObjectId('67e41dd9a0fded77104fa31d'), 'name': 'equity', 'category': 'Q'}\n",
      "{'_id': ObjectId('67e41dd9a0fded77104fa31e'), 'name': 'yoyodyne', 'category': 'I'}\n",
      "{'_id': ObjectId('67e41dd9a0fded77104fa31f'), 'name': 'checking', 'category': 'A'}\n",
      "{'_id': ObjectId('67e41dd9a0fded77104fa320'), 'name': 'amex', 'category': 'L'}\n",
      "{'_id': ObjectId('67e41dd9a0fded77104fa321'), 'name': 'visa', 'category': 'L'}\n",
      "{'_id': ObjectId('67e41dd9a0fded77104fa322'), 'name': 'groceries', 'category': 'E'}\n",
      "{'_id': ObjectId('67e41dd9a0fded77104fa323'), 'name': 'household', 'category': 'E'}\n",
      "{'_id': ObjectId('67e41dd9a0fded77104fa324'), 'name': 'mortgage', 'category': 'E'}\n",
      "{'_id': ObjectId('67e41dd9a0fded77104fa325'), 'name': 'car', 'category': 'E'}\n",
      "{'_id': ObjectId('67e41dd9a0fded77104fa326'), 'name': 'travel', 'category': 'E'}\n",
      "{'_id': ObjectId('67e41ddfaf710d6e27750ce6'), 'name': 'equity', 'category': 'Q'}\n",
      "{'_id': ObjectId('67e41e8ca41d5256f8638f84'), 'name': 'equity', 'category': 'Q'}\n",
      "{'_id': ObjectId('67e41f0831b33d00862f1cac'), 'name': 'equity', 'category': 'Q'}\n"
     ]
    }
   ],
   "source": [
    "for obj in db['account'].find():\n",
    "    print(obj)"
   ]
  },
  {
   "cell_type": "markdown",
   "metadata": {},
   "source": [
    "### From Low Level to High Level"
   ]
  },
  {
   "cell_type": "markdown",
   "metadata": {},
   "source": [
    "Question:  given a collection name (\"account\") can we find the corresponding MongoEngine class (Account)?"
   ]
  },
  {
   "cell_type": "code",
   "execution_count": 19,
   "metadata": {},
   "outputs": [
    {
     "data": {
      "text/plain": [
       "mongoengine.document.Document"
      ]
     },
     "execution_count": 19,
     "metadata": {},
     "output_type": "execute_result"
    }
   ],
   "source": [
    "Document"
   ]
  },
  {
   "cell_type": "code",
   "execution_count": 20,
   "metadata": {},
   "outputs": [
    {
     "data": {
      "text/plain": [
       "[mongoengine.document.DynamicDocument,\n",
       " dexter.DB.Account,\n",
       " dexter.DB.Entry,\n",
       " dexter.DB.Transaction]"
      ]
     },
     "execution_count": 20,
     "metadata": {},
     "output_type": "execute_result"
    }
   ],
   "source": [
    "Document.__subclasses__()"
   ]
  },
  {
   "cell_type": "code",
   "execution_count": 21,
   "metadata": {},
   "outputs": [
    {
     "data": {
      "text/plain": [
       "[dexter.DB.Account, dexter.DB.Entry, dexter.DB.Transaction]"
      ]
     },
     "execution_count": 21,
     "metadata": {},
     "output_type": "execute_result"
    }
   ],
   "source": [
    "[cls for cls in Document.__subclasses__() if hasattr(cls, 'objects')]"
   ]
  },
  {
   "cell_type": "code",
   "execution_count": 22,
   "metadata": {},
   "outputs": [
    {
     "data": {
      "text/plain": [
       "{'abstract': False,\n",
       " 'max_documents': None,\n",
       " 'max_size': None,\n",
       " 'ordering': [],\n",
       " 'indexes': [],\n",
       " 'id_field': 'id',\n",
       " 'index_background': False,\n",
       " 'index_opts': None,\n",
       " 'delete_rules': None,\n",
       " 'allow_inheritance': None,\n",
       " 'collection': 'account',\n",
       " 'index_specs': []}"
      ]
     },
     "execution_count": 22,
     "metadata": {},
     "output_type": "execute_result"
    }
   ],
   "source": [
    "Account._meta"
   ]
  },
  {
   "cell_type": "code",
   "execution_count": 23,
   "metadata": {},
   "outputs": [
    {
     "name": "stdout",
     "output_type": "stream",
     "text": [
      "account <class 'dexter.DB.Account'>\n",
      "entry <class 'dexter.DB.Entry'>\n",
      "transaction <class 'dexter.DB.Transaction'>\n"
     ]
    }
   ],
   "source": [
    "for cls in Document.__subclasses__():\n",
    "    if not hasattr(cls, 'objects'):\n",
    "        continue\n",
    "    print(cls._meta['collection'], cls)"
   ]
  },
  {
   "cell_type": "markdown",
   "metadata": {},
   "source": [
    "### The Big Picture"
   ]
  },
  {
   "cell_type": "markdown",
   "metadata": {},
   "source": [
    "Use the high level API when working with data.  MongoEngine converts the documents into objects (which is something we'd be doing ourselves if we didn't use it).\n",
    "\n",
    "Use the low level API for collective operations: exporting, importing, ...\n",
    "\n",
    "**NOTE**  It's possible to get a document using the low level API, as shown above, but it will be a `dict`, not a model instance."
   ]
  },
  {
   "cell_type": "markdown",
   "metadata": {},
   "source": [
    "### Transactions"
   ]
  },
  {
   "cell_type": "code",
   "execution_count": 24,
   "metadata": {},
   "outputs": [],
   "source": [
    "t = Transaction(description='hi', comment='aloha')"
   ]
  },
  {
   "cell_type": "code",
   "execution_count": 25,
   "metadata": {},
   "outputs": [
    {
     "data": {
      "text/plain": [
       "'hi'"
      ]
     },
     "execution_count": 25,
     "metadata": {},
     "output_type": "execute_result"
    }
   ],
   "source": [
    "t.description"
   ]
  },
  {
   "cell_type": "markdown",
   "metadata": {},
   "source": [
    "Nice -- the list fields are initially empty."
   ]
  },
  {
   "cell_type": "code",
   "execution_count": 26,
   "metadata": {},
   "outputs": [
    {
     "data": {
      "text/plain": [
       "[]"
      ]
     },
     "execution_count": 26,
     "metadata": {},
     "output_type": "execute_result"
    }
   ],
   "source": [
    "t.tags"
   ]
  },
  {
   "cell_type": "code",
   "execution_count": 27,
   "metadata": {},
   "outputs": [
    {
     "data": {
      "text/plain": [
       "[]"
      ]
     },
     "execution_count": 27,
     "metadata": {},
     "output_type": "execute_result"
    }
   ],
   "source": [
    "t.entries"
   ]
  },
  {
   "cell_type": "markdown",
   "metadata": {},
   "source": [
    "### Entries"
   ]
  },
  {
   "cell_type": "code",
   "execution_count": 28,
   "metadata": {},
   "outputs": [],
   "source": [
    "e = Entry(uid='xxx', column='credit', date='2025-03-05', amount=1000, account='unknown')"
   ]
  },
  {
   "cell_type": "code",
   "execution_count": 29,
   "metadata": {},
   "outputs": [
    {
     "data": {
      "text/plain": [
       "dexter.DB.Entry"
      ]
     },
     "execution_count": 29,
     "metadata": {},
     "output_type": "execute_result"
    }
   ],
   "source": [
    "type(e)"
   ]
  },
  {
   "cell_type": "code",
   "execution_count": 30,
   "metadata": {},
   "outputs": [
    {
     "data": {
      "text/plain": [
       "<Entry: <En 2025-03-05 unknown -$1000.0>>"
      ]
     },
     "execution_count": 30,
     "metadata": {},
     "output_type": "execute_result"
    }
   ],
   "source": [
    "e"
   ]
  },
  {
   "cell_type": "code",
   "execution_count": 31,
   "metadata": {},
   "outputs": [
    {
     "data": {
      "text/plain": [
       "<Column.cr: 'credit'>"
      ]
     },
     "execution_count": 31,
     "metadata": {},
     "output_type": "execute_result"
    }
   ],
   "source": [
    "e.column"
   ]
  },
  {
   "cell_type": "code",
   "execution_count": 32,
   "metadata": {},
   "outputs": [
    {
     "data": {
      "text/plain": [
       "1000.0"
      ]
     },
     "execution_count": 32,
     "metadata": {},
     "output_type": "execute_result"
    }
   ],
   "source": [
    "e.amount"
   ]
  },
  {
   "cell_type": "code",
   "execution_count": 33,
   "metadata": {},
   "outputs": [
    {
     "data": {
      "text/plain": [
       "'9ea47c3f44dca9cfe40a343f2c1bf5c5'"
      ]
     },
     "execution_count": 33,
     "metadata": {},
     "output_type": "execute_result"
    }
   ],
   "source": [
    "e.hash"
   ]
  },
  {
   "cell_type": "code",
   "execution_count": 34,
   "metadata": {},
   "outputs": [
    {
     "data": {
      "text/plain": [
       "32"
      ]
     },
     "execution_count": 34,
     "metadata": {},
     "output_type": "execute_result"
    }
   ],
   "source": [
    "len(e.hash)"
   ]
  },
  {
   "cell_type": "markdown",
   "metadata": {},
   "source": [
    "### References"
   ]
  },
  {
   "cell_type": "markdown",
   "metadata": {},
   "source": [
    "The big test -- can we add that Entry to the transaction?"
   ]
  },
  {
   "cell_type": "code",
   "execution_count": 35,
   "metadata": {},
   "outputs": [],
   "source": [
    "t.entries.append(p)"
   ]
  },
  {
   "cell_type": "code",
   "execution_count": 36,
   "metadata": {},
   "outputs": [
    {
     "data": {
      "text/plain": [
       "[<Entry: <En 2025-03-05 unknown -$1000.0>>]"
      ]
     },
     "execution_count": 36,
     "metadata": {},
     "output_type": "execute_result"
    }
   ],
   "source": [
    "t.entries"
   ]
  },
  {
   "cell_type": "markdown",
   "metadata": {},
   "source": [
    "Yes!  🎉"
   ]
  },
  {
   "cell_type": "markdown",
   "metadata": {},
   "source": [
    "### Misc Commands"
   ]
  },
  {
   "cell_type": "code",
   "execution_count": 37,
   "metadata": {},
   "outputs": [
    {
     "data": {
      "text/plain": [
       "Collection(Database(MongoClient(host=['localhost:27017'], document_class=dict, tz_aware=False, connect=True, read_preference=Primary(), uuidrepresentation=4, driver=DriverInfo(name='MongoEngine', version='0.29.1', platform=None)), 'pytest'), 'stats')"
      ]
     },
     "execution_count": 37,
     "metadata": {},
     "output_type": "execute_result"
    }
   ],
   "source": [
    "db.stats"
   ]
  },
  {
   "cell_type": "code",
   "execution_count": 38,
   "metadata": {},
   "outputs": [
    {
     "data": {
      "text/plain": [
       "<bound method Collection.find_one of Collection(Database(MongoClient(host=['localhost:27017'], document_class=dict, tz_aware=False, connect=True, read_preference=Primary(), uuidrepresentation=4, driver=DriverInfo(name='MongoEngine', version='0.29.1', platform=None)), 'pytest'), 'stats')>"
      ]
     },
     "execution_count": 38,
     "metadata": {},
     "output_type": "execute_result"
    }
   ],
   "source": [
    "db.stats.find_one"
   ]
  },
  {
   "cell_type": "code",
   "execution_count": 39,
   "metadata": {},
   "outputs": [
    {
     "data": {
      "text/plain": [
       "['foo', 'foo_bar', 'transaction', 'entry', 'account', 'bar']"
      ]
     },
     "execution_count": 39,
     "metadata": {},
     "output_type": "execute_result"
    }
   ],
   "source": [
    "db.list_collection_names()"
   ]
  },
  {
   "cell_type": "code",
   "execution_count": 40,
   "metadata": {},
   "outputs": [
    {
     "data": {
      "text/plain": [
       "{'n': 12, 'ok': 1.0}"
      ]
     },
     "execution_count": 40,
     "metadata": {},
     "output_type": "execute_result"
    }
   ],
   "source": [
    "db.command('count','account')"
   ]
  },
  {
   "cell_type": "code",
   "execution_count": 41,
   "metadata": {},
   "outputs": [
    {
     "data": {
      "text/plain": [
       "{'isWritablePrimary': True,\n",
       " 'topologyVersion': {'processId': ObjectId('67c4fbece8eb6b0fbfe3b917'),\n",
       "  'counter': 0},\n",
       " 'maxBsonObjectSize': 16777216,\n",
       " 'maxMessageSizeBytes': 48000000,\n",
       " 'maxWriteBatchSize': 100000,\n",
       " 'localTime': datetime.datetime(2025, 3, 26, 15, 34, 36, 507000),\n",
       " 'logicalSessionTimeoutMinutes': 30,\n",
       " 'connectionId': 1052,\n",
       " 'minWireVersion': 0,\n",
       " 'maxWireVersion': 25,\n",
       " 'readOnly': False,\n",
       " 'ok': 1.0}"
      ]
     },
     "execution_count": 41,
     "metadata": {},
     "output_type": "execute_result"
    }
   ],
   "source": [
    "db.command('hello')"
   ]
  },
  {
   "cell_type": "code",
   "execution_count": 42,
   "metadata": {},
   "outputs": [
    {
     "data": {
      "text/plain": [
       "{'system': {'currentTime': datetime.datetime(2025, 3, 26, 15, 34, 36, 512000),\n",
       "  'hostname': 'cthulhu.local',\n",
       "  'cpuAddrSize': 64,\n",
       "  'memSizeMB': 65536,\n",
       "  'memLimitMB': 65536,\n",
       "  'numCores': 12,\n",
       "  'numCoresAvailableToProcess': 12,\n",
       "  'numPhysicalCores': 12,\n",
       "  'numCpuSockets': 1,\n",
       "  'cpuArch': 'arm64',\n",
       "  'numaEnabled': False,\n",
       "  'numNumaNodes': 1},\n",
       " 'os': {'type': 'Darwin', 'name': 'Mac OS X', 'version': '24.3.0'},\n",
       " 'extra': {'versionString': 'Darwin Kernel Version 24.3.0: Thu Jan  2 20:24:23 PST 2025; root:xnu-11215.81.4~3/RELEASE_ARM64_T6020',\n",
       "  'alwaysFullSync': 0,\n",
       "  'nfsAsync': 0,\n",
       "  'model': 'Mac14,13',\n",
       "  'cpuString': 'Apple M2 Max',\n",
       "  'pageSize': 16384,\n",
       "  'scheduler': 'edge'},\n",
       " 'ok': 1.0}"
      ]
     },
     "execution_count": 42,
     "metadata": {},
     "output_type": "execute_result"
    }
   ],
   "source": [
    "db.command('hostInfo')"
   ]
  },
  {
   "cell_type": "code",
   "execution_count": 43,
   "metadata": {},
   "outputs": [
    {
     "data": {
      "text/plain": [
       "{'ok': 1.0}"
      ]
     },
     "execution_count": 43,
     "metadata": {},
     "output_type": "execute_result"
    }
   ],
   "source": [
    "db.command('ping')"
   ]
  },
  {
   "cell_type": "markdown",
   "metadata": {},
   "source": [
    "### Fetch Transactions"
   ]
  },
  {
   "cell_type": "markdown",
   "metadata": {},
   "source": [
    "Specify constraints on transactions"
   ]
  },
  {
   "cell_type": "code",
   "execution_count": 44,
   "metadata": {},
   "outputs": [
    {
     "data": {
      "text/plain": [
       "[<Transaction: <Tr 2024-01-02 yoyodyne -> checking $5000.0 paycheck>>, <Transaction: <Tr 2024-01-02 groceries/mortgage/car/travel -> yoyodyne $5000.0 fill buckets>>, <Transaction: <Tr 2024-02-02 yoyodyne -> checking $5000.0 paycheck>>, <Transaction: <Tr 2024-02-02 groceries/mortgage/car/travel -> yoyodyne $5000.0 fill buckets>>, <Transaction: <Tr 2024-01-05 checking -> car $500.0 car payment>>, <Transaction: <Tr 2024-02-05 checking -> car $500.0 car payment>>, <Transaction: <Tr 2024-01-10 visa -> car $50.0 Shell Oil>>, <Transaction: <Tr 2024-02-26 visa -> car $60.0 Shell Oil>>, <Transaction: <Tr 2024-01-04 checking -> mortgage $1800.0 Rocket Mortgage>>, <Transaction: <Tr 2024-02-04 checking -> mortgage $1800.0 Rocket Mortgage>>, <Transaction: <Tr 2024-01-07 checking -> groceries $75.0 Safeway>>, <Transaction: <Tr 2024-01-21 visa -> groceries $175.0 Safeway>>, <Transaction: <Tr 2024-02-07 checking -> groceries $75.0 Safeway>>, <Transaction: <Tr 2024-02-21 visa -> groceries $75.0 Safeway>>, <Transaction: <Tr 2024-03-10 amex -> household $50.0 Home Depot>>, <Transaction: <Tr 2024-03-12 household -> amex $25.0 Home Depot>>]"
      ]
     },
     "execution_count": 44,
     "metadata": {},
     "output_type": "execute_result"
    }
   ],
   "source": [
    "Transaction.objects"
   ]
  },
  {
   "cell_type": "code",
   "execution_count": 45,
   "metadata": {},
   "outputs": [
    {
     "data": {
      "text/plain": [
       "[<Transaction: <Tr 2024-01-07 checking -> groceries $75.0 Safeway>>, <Transaction: <Tr 2024-01-21 visa -> groceries $175.0 Safeway>>, <Transaction: <Tr 2024-02-07 checking -> groceries $75.0 Safeway>>, <Transaction: <Tr 2024-02-21 visa -> groceries $75.0 Safeway>>]"
      ]
     },
     "execution_count": 45,
     "metadata": {},
     "output_type": "execute_result"
    }
   ],
   "source": [
    "Transaction.objects(description='Safeway')"
   ]
  },
  {
   "cell_type": "code",
   "execution_count": 46,
   "metadata": {},
   "outputs": [
    {
     "name": "stdout",
     "output_type": "stream",
     "text": [
      "2024-01-07 groceries 75.0 debit\n",
      "2024-01-07 checking 75.0 credit\n",
      "2024-01-21 groceries 175.0 debit\n",
      "2024-01-21 visa 175.0 credit\n",
      "2024-02-07 groceries 75.0 debit\n",
      "2024-02-07 checking 75.0 credit\n",
      "2024-02-21 groceries 75.0 debit\n",
      "2024-02-21 visa 75.0 credit\n"
     ]
    }
   ],
   "source": [
    "for t in Transaction.objects(description='Safeway'):\n",
    "    for e in t.entries:\n",
    "        print(e.date, e.account, e.amount, e.column)"
   ]
  },
  {
   "cell_type": "code",
   "execution_count": 47,
   "metadata": {},
   "outputs": [
    {
     "name": "stdout",
     "output_type": "stream",
     "text": [
      "{'checking', 'groceries'}\n",
      "{'visa', 'groceries'}\n",
      "{'checking', 'groceries'}\n",
      "{'visa', 'groceries'}\n"
     ]
    }
   ],
   "source": [
    "for t in Transaction.objects(description='Safeway'):\n",
    "    print(t.accounts)"
   ]
  },
  {
   "cell_type": "code",
   "execution_count": 48,
   "metadata": {},
   "outputs": [
    {
     "name": "stdout",
     "output_type": "stream",
     "text": [
      "75.0\n",
      "175.0\n",
      "75.0\n",
      "75.0\n"
     ]
    }
   ],
   "source": [
    "for t in Transaction.objects(description='Safeway'):\n",
    "    print(t.pamount)"
   ]
  },
  {
   "cell_type": "code",
   "execution_count": 49,
   "metadata": {},
   "outputs": [
    {
     "name": "stdout",
     "output_type": "stream",
     "text": [
      "2024-01-07 <class 'datetime.date'>\n",
      "2024-01-21 <class 'datetime.date'>\n",
      "2024-02-07 <class 'datetime.date'>\n",
      "2024-02-21 <class 'datetime.date'>\n"
     ]
    }
   ],
   "source": [
    "for t in Transaction.objects(description='Safeway'):\n",
    "    print(t.pdate, type(t.pdate))"
   ]
  },
  {
   "cell_type": "code",
   "execution_count": 50,
   "metadata": {},
   "outputs": [
    {
     "name": "stdout",
     "output_type": "stream",
     "text": [
      "/\n",
      "big party this weekend/\n",
      "/\n",
      "/\n"
     ]
    }
   ],
   "source": [
    "for t in Transaction.objects(description='Safeway'):\n",
    "    print(t.originals)"
   ]
  },
  {
   "cell_type": "code",
   "execution_count": 51,
   "metadata": {},
   "outputs": [],
   "source": [
    "lst = list(Transaction.objects(description='Safeway'))"
   ]
  },
  {
   "cell_type": "code",
   "execution_count": 52,
   "metadata": {},
   "outputs": [],
   "source": [
    "lst[1].comment"
   ]
  },
  {
   "cell_type": "code",
   "execution_count": 53,
   "metadata": {},
   "outputs": [
    {
     "data": {
      "text/plain": [
       "175.0"
      ]
     },
     "execution_count": 53,
     "metadata": {},
     "output_type": "execute_result"
    }
   ],
   "source": [
    "lst[1].pamount"
   ]
  },
  {
   "cell_type": "code",
   "execution_count": 54,
   "metadata": {},
   "outputs": [
    {
     "data": {
      "text/plain": [
       "datetime.date(2024, 1, 21)"
      ]
     },
     "execution_count": 54,
     "metadata": {},
     "output_type": "execute_result"
    }
   ],
   "source": [
    "lst[1].pdate"
   ]
  },
  {
   "cell_type": "code",
   "execution_count": 55,
   "metadata": {},
   "outputs": [
    {
     "data": {
      "text/plain": [
       "[<Transaction: <Tr 2024-01-10 visa -> car $50.0 Shell Oil>>,\n",
       " <Transaction: <Tr 2024-02-26 visa -> car $60.0 Shell Oil>>,\n",
       " <Transaction: <Tr 2024-01-07 checking -> groceries $75.0 Safeway>>,\n",
       " <Transaction: <Tr 2024-02-07 checking -> groceries $75.0 Safeway>>,\n",
       " <Transaction: <Tr 2024-02-21 visa -> groceries $75.0 Safeway>>,\n",
       " <Transaction: <Tr 2024-03-10 amex -> household $50.0 Home Depot>>,\n",
       " <Transaction: <Tr 2024-03-12 household -> amex $25.0 Home Depot>>]"
      ]
     },
     "execution_count": 55,
     "metadata": {},
     "output_type": "execute_result"
    }
   ],
   "source": [
    "list(Transaction.objects(pamount__lt=175.0))"
   ]
  },
  {
   "cell_type": "code",
   "execution_count": 56,
   "metadata": {},
   "outputs": [
    {
     "name": "stdout",
     "output_type": "stream",
     "text": [
      "2024-01-02 5000.0 checking yoyodyne\n",
      "2024-01-02 5000.0 yoyodyne groceries/mortgage/car/travel\n"
     ]
    }
   ],
   "source": [
    "for t in Transaction.objects(pdate=date(2024,1,2)):\n",
    "    print(t.pdate, t.pamount, t.pdebit, t.pcredit)"
   ]
  },
  {
   "cell_type": "code",
   "execution_count": 57,
   "metadata": {},
   "outputs": [
    {
     "name": "stdout",
     "output_type": "stream",
     "text": [
      "2024-01-02 5000.0 checking yoyodyne\n",
      "2024-01-02 5000.0 yoyodyne groceries/mortgage/car/travel\n"
     ]
    }
   ],
   "source": [
    "for t in Transaction.objects(pdate__lte=date(2024,1,2)):\n",
    "    print(t.pdate, t.pamount, t.pdebit, t.pcredit)"
   ]
  },
  {
   "cell_type": "markdown",
   "metadata": {},
   "source": [
    "### Operators"
   ]
  },
  {
   "cell_type": "code",
   "execution_count": 58,
   "metadata": {},
   "outputs": [
    {
     "name": "stdout",
     "output_type": "stream",
     "text": [
      "2024-01-02 paycheck\n",
      "2024-01-02 fill buckets\n",
      "2024-02-02 paycheck\n",
      "2024-02-02 fill buckets\n",
      "2024-01-05 car payment\n",
      "2024-02-05 car payment\n",
      "2024-01-10 Shell Oil\n",
      "2024-02-26 Shell Oil\n",
      "2024-01-07 Safeway\n",
      "2024-01-21 Safeway\n",
      "2024-02-07 Safeway\n",
      "2024-02-21 Safeway\n"
     ]
    }
   ],
   "source": [
    "for t in Transaction.objects(description__gte='Safeway'):\n",
    "    print(t.pdate, t.description)"
   ]
  },
  {
   "cell_type": "code",
   "execution_count": 59,
   "metadata": {},
   "outputs": [
    {
     "name": "stdout",
     "output_type": "stream",
     "text": [
      "2024-01-10 Shell Oil\n",
      "2024-02-26 Shell Oil\n",
      "2024-01-07 Safeway\n",
      "2024-01-21 Safeway\n",
      "2024-02-07 Safeway\n",
      "2024-02-21 Safeway\n"
     ]
    }
   ],
   "source": [
    "for t in Transaction.objects(description__regex='^S'):\n",
    "    print(t.pdate, t.description)"
   ]
  },
  {
   "cell_type": "markdown",
   "metadata": {},
   "source": [
    "The operator automatically applies to list elements."
   ]
  },
  {
   "cell_type": "code",
   "execution_count": 60,
   "metadata": {},
   "outputs": [
    {
     "name": "stdout",
     "output_type": "stream",
     "text": [
      "2024-01-02 fill buckets 5000.0\n",
      "2024-02-02 fill buckets 5000.0\n",
      "2024-01-05 car payment 500.0\n",
      "2024-02-05 car payment 500.0\n",
      "2024-01-10 Shell Oil 50.0\n",
      "2024-02-26 Shell Oil 60.0\n",
      "2024-01-04 Rocket Mortgage 1800.0\n",
      "2024-02-04 Rocket Mortgage 1800.0\n",
      "2024-03-10 Home Depot 50.0\n",
      "2024-03-12 Home Depot 25.0\n"
     ]
    }
   ],
   "source": [
    "for t in Transaction.objects(description__regex=r'\\s'):\n",
    "    print(t.pdate, t.description, t.pamount)"
   ]
  },
  {
   "cell_type": "markdown",
   "metadata": {},
   "source": [
    "For compound constraints we need another class from MongoEngine."
   ]
  },
  {
   "cell_type": "code",
   "execution_count": 61,
   "metadata": {},
   "outputs": [],
   "source": [
    "from mongoengine.queryset.visitor import Q"
   ]
  },
  {
   "cell_type": "code",
   "execution_count": 62,
   "metadata": {},
   "outputs": [
    {
     "name": "stdout",
     "output_type": "stream",
     "text": [
      "2024-01-10 Shell Oil\n",
      "2024-02-26 Shell Oil\n",
      "2024-01-07 Safeway\n",
      "2024-01-21 Safeway\n",
      "2024-02-07 Safeway\n",
      "2024-02-21 Safeway\n"
     ]
    }
   ],
   "source": [
    "for t in Transaction.objects(Q(description__regex=r'^S')):\n",
    "    print(t.pdate, t.description)"
   ]
  },
  {
   "cell_type": "code",
   "execution_count": 63,
   "metadata": {},
   "outputs": [
    {
     "name": "stdout",
     "output_type": "stream",
     "text": [
      "2024-01-10 Shell Oil\n",
      "2024-02-26 Shell Oil\n"
     ]
    }
   ],
   "source": [
    "for t in Transaction.objects(Q(description__regex=r'^S') & Q(description__regex=r'\\s')):\n",
    "    print(t.pdate, t.description)"
   ]
  },
  {
   "cell_type": "markdown",
   "metadata": {},
   "source": [
    "### QuerySet"
   ]
  },
  {
   "cell_type": "code",
   "execution_count": 64,
   "metadata": {},
   "outputs": [
    {
     "name": "stdout",
     "output_type": "stream",
     "text": [
      "amex\n",
      "visa\n",
      "groceries\n",
      "household\n",
      "mortgage\n",
      "car\n",
      "travel\n"
     ]
    }
   ],
   "source": [
    "for a in Account.nominal_accounts:\n",
    "    print(a.name)"
   ]
  },
  {
   "cell_type": "markdown",
   "metadata": {},
   "source": [
    "### Combining Query Elements"
   ]
  },
  {
   "cell_type": "code",
   "execution_count": 65,
   "metadata": {},
   "outputs": [],
   "source": [
    "q = Q(description__regex=r'^S')"
   ]
  },
  {
   "cell_type": "code",
   "execution_count": 66,
   "metadata": {},
   "outputs": [
    {
     "data": {
      "text/plain": [
       "Q(**{'description__regex': '^S'})"
      ]
     },
     "execution_count": 66,
     "metadata": {},
     "output_type": "execute_result"
    }
   ],
   "source": [
    "q"
   ]
  },
  {
   "cell_type": "code",
   "execution_count": 67,
   "metadata": {},
   "outputs": [
    {
     "data": {
      "text/plain": [
       "mongoengine.queryset.visitor.Q"
      ]
     },
     "execution_count": 67,
     "metadata": {},
     "output_type": "execute_result"
    }
   ],
   "source": [
    "type(q)"
   ]
  },
  {
   "cell_type": "code",
   "execution_count": 68,
   "metadata": {},
   "outputs": [],
   "source": [
    "p = Q(description__regex=r'\\s')"
   ]
  },
  {
   "cell_type": "code",
   "execution_count": 69,
   "metadata": {},
   "outputs": [
    {
     "data": {
      "text/plain": [
       "(Q(**{'description__regex': '\\\\s'}) & Q(**{'description__regex': '^S'}))"
      ]
     },
     "execution_count": 69,
     "metadata": {},
     "output_type": "execute_result"
    }
   ],
   "source": [
    "p & q"
   ]
  },
  {
   "cell_type": "code",
   "execution_count": 70,
   "metadata": {},
   "outputs": [
    {
     "name": "stdout",
     "output_type": "stream",
     "text": [
      "2024-01-10 Shell Oil\n",
      "2024-02-26 Shell Oil\n"
     ]
    }
   ],
   "source": [
    "for t in Transaction.objects(p & q):\n",
    "    print(t.pdate, t.description)"
   ]
  },
  {
   "cell_type": "markdown",
   "metadata": {},
   "source": [
    "Create Q object using dictionaries"
   ]
  },
  {
   "cell_type": "code",
   "execution_count": 71,
   "metadata": {},
   "outputs": [],
   "source": [
    "dct = {'description__regex': r'^S'}"
   ]
  },
  {
   "cell_type": "code",
   "execution_count": 72,
   "metadata": {},
   "outputs": [
    {
     "data": {
      "text/plain": [
       "Q(**{'description__regex': '^S'})"
      ]
     },
     "execution_count": 72,
     "metadata": {},
     "output_type": "execute_result"
    }
   ],
   "source": [
    "Q(**dct)"
   ]
  },
  {
   "cell_type": "markdown",
   "metadata": {},
   "source": [
    "Can an object have multiple constraints?"
   ]
  },
  {
   "cell_type": "code",
   "execution_count": 73,
   "metadata": {},
   "outputs": [],
   "source": [
    "dct = {'description__regex': r'^S', 'pamount__gt': 100}"
   ]
  },
  {
   "cell_type": "code",
   "execution_count": 74,
   "metadata": {},
   "outputs": [
    {
     "data": {
      "text/plain": [
       "Q(**{'description__regex': '^S', 'pamount__gt': 100})"
      ]
     },
     "execution_count": 74,
     "metadata": {},
     "output_type": "execute_result"
    }
   ],
   "source": [
    "Q(**dct)"
   ]
  },
  {
   "cell_type": "code",
   "execution_count": 75,
   "metadata": {},
   "outputs": [
    {
     "name": "stdout",
     "output_type": "stream",
     "text": [
      "2024-01-21 Safeway 175.0\n"
     ]
    }
   ],
   "source": [
    "for t in Transaction.objects(Q(**dct)):\n",
    "    print(t.pdate, t.description, t.pamount)"
   ]
  },
  {
   "cell_type": "markdown",
   "metadata": {},
   "source": [
    "Yep!"
   ]
  },
  {
   "cell_type": "markdown",
   "metadata": {},
   "source": [
    "### Select Method"
   ]
  },
  {
   "cell_type": "markdown",
   "metadata": {},
   "source": [
    "#### Select Transactions"
   ]
  },
  {
   "cell_type": "markdown",
   "metadata": {},
   "source": [
    "All transactions:"
   ]
  },
  {
   "cell_type": "code",
   "execution_count": 76,
   "metadata": {},
   "outputs": [
    {
     "name": "stdout",
     "output_type": "stream",
     "text": [
      "2024-01-02 5000.0 yoyodyne checking\n",
      "2024-01-02 5000.0 groceries/mortgage/car/travel yoyodyne\n",
      "2024-02-02 5000.0 yoyodyne checking\n",
      "2024-02-02 5000.0 groceries/mortgage/car/travel yoyodyne\n",
      "2024-01-05 500.0 checking car\n",
      "2024-02-05 500.0 checking car\n",
      "2024-01-10 50.0 visa car\n",
      "2024-02-26 60.0 visa car\n",
      "2024-01-04 1800.0 checking mortgage\n",
      "2024-02-04 1800.0 checking mortgage\n",
      "2024-01-07 75.0 checking groceries\n",
      "2024-01-21 175.0 visa groceries\n",
      "2024-02-07 75.0 checking groceries\n",
      "2024-02-21 75.0 visa groceries\n",
      "2024-03-10 50.0 amex household\n",
      "2024-03-12 25.0 household amex\n"
     ]
    }
   ],
   "source": [
    "for t in DB.select(Transaction):\n",
    "    print(t.pdate, t.pamount, t.pcredit, t.pdebit)"
   ]
  },
  {
   "cell_type": "markdown",
   "metadata": {},
   "source": [
    "By date:"
   ]
  },
  {
   "cell_type": "code",
   "execution_count": 77,
   "metadata": {},
   "outputs": [
    {
     "name": "stdout",
     "output_type": "stream",
     "text": [
      "2024-01-21 175.0 visa groceries\n"
     ]
    }
   ],
   "source": [
    "for t in DB.select(Transaction, date=date(2024,1,21)):\n",
    "    print(t.pdate, t.pamount, t.pcredit, t.pdebit)"
   ]
  },
  {
   "cell_type": "code",
   "execution_count": 78,
   "metadata": {},
   "outputs": [
    {
     "name": "stdout",
     "output_type": "stream",
     "text": [
      "2024-02-02 5000.0 yoyodyne checking\n",
      "2024-02-02 5000.0 groceries/mortgage/car/travel yoyodyne\n",
      "2024-02-05 500.0 checking car\n",
      "2024-02-26 60.0 visa car\n",
      "2024-02-04 1800.0 checking mortgage\n",
      "2024-01-21 175.0 visa groceries\n",
      "2024-02-07 75.0 checking groceries\n",
      "2024-02-21 75.0 visa groceries\n",
      "2024-03-10 50.0 amex household\n",
      "2024-03-12 25.0 household amex\n"
     ]
    }
   ],
   "source": [
    "for t in DB.select(Transaction, start_date=date(2024,1,21)):\n",
    "    print(t.pdate, t.pamount, t.pcredit, t.pdebit)"
   ]
  },
  {
   "cell_type": "code",
   "execution_count": 79,
   "metadata": {},
   "outputs": [
    {
     "name": "stdout",
     "output_type": "stream",
     "text": [
      "2024-01-02 5000.0 yoyodyne checking\n",
      "2024-01-02 5000.0 groceries/mortgage/car/travel yoyodyne\n",
      "2024-01-05 500.0 checking car\n",
      "2024-01-10 50.0 visa car\n",
      "2024-01-04 1800.0 checking mortgage\n",
      "2024-01-07 75.0 checking groceries\n",
      "2024-01-21 175.0 visa groceries\n"
     ]
    }
   ],
   "source": [
    "for t in DB.select(Transaction, end_date=date(2024,1,21)):\n",
    "    print(t.pdate, t.pamount, t.pcredit, t.pdebit)"
   ]
  },
  {
   "cell_type": "markdown",
   "metadata": {},
   "source": [
    "By amount:"
   ]
  },
  {
   "cell_type": "code",
   "execution_count": 80,
   "metadata": {},
   "outputs": [
    {
     "name": "stdout",
     "output_type": "stream",
     "text": [
      "2024-01-07 75.0 checking groceries\n",
      "2024-02-07 75.0 checking groceries\n",
      "2024-02-21 75.0 visa groceries\n"
     ]
    }
   ],
   "source": [
    "for t in DB.select(Transaction, amount=75):\n",
    "    print(t.pdate, t.pamount, t.pcredit, t.pdebit)"
   ]
  },
  {
   "cell_type": "code",
   "execution_count": 81,
   "metadata": {},
   "outputs": [],
   "source": [
    "lst = DB.select(Transaction, amount=75)"
   ]
  },
  {
   "cell_type": "code",
   "execution_count": 82,
   "metadata": {},
   "outputs": [
    {
     "data": {
      "text/plain": [
       "True"
      ]
     },
     "execution_count": 82,
     "metadata": {},
     "output_type": "execute_result"
    }
   ],
   "source": [
    "all(t.pamount == 75 for t in lst)"
   ]
  },
  {
   "cell_type": "code",
   "execution_count": 83,
   "metadata": {},
   "outputs": [
    {
     "name": "stdout",
     "output_type": "stream",
     "text": [
      "2024-01-10 50.0 visa car\n",
      "2024-02-26 60.0 visa car\n",
      "2024-01-07 75.0 checking groceries\n",
      "2024-02-07 75.0 checking groceries\n",
      "2024-02-21 75.0 visa groceries\n",
      "2024-03-10 50.0 amex household\n",
      "2024-03-12 25.0 household amex\n"
     ]
    }
   ],
   "source": [
    "for t in DB.select(Transaction, max_amount=75):\n",
    "    print(t.pdate, t.pamount, t.pcredit, t.pdebit)"
   ]
  },
  {
   "cell_type": "code",
   "execution_count": 84,
   "metadata": {},
   "outputs": [
    {
     "name": "stdout",
     "output_type": "stream",
     "text": [
      "2024-01-02 5000.0 yoyodyne checking\n",
      "2024-01-02 5000.0 groceries/mortgage/car/travel yoyodyne\n",
      "2024-02-02 5000.0 yoyodyne checking\n",
      "2024-02-02 5000.0 groceries/mortgage/car/travel yoyodyne\n",
      "2024-01-05 500.0 checking car\n",
      "2024-02-05 500.0 checking car\n",
      "2024-01-04 1800.0 checking mortgage\n",
      "2024-02-04 1800.0 checking mortgage\n",
      "2024-01-07 75.0 checking groceries\n",
      "2024-01-21 175.0 visa groceries\n",
      "2024-02-07 75.0 checking groceries\n",
      "2024-02-21 75.0 visa groceries\n"
     ]
    }
   ],
   "source": [
    "for t in DB.select(Transaction, min_amount=75):\n",
    "    print(t.pdate, t.pamount, t.pcredit, t.pdebit)"
   ]
  },
  {
   "cell_type": "markdown",
   "metadata": {},
   "source": [
    "By description:"
   ]
  },
  {
   "cell_type": "code",
   "execution_count": 85,
   "metadata": {},
   "outputs": [
    {
     "name": "stdout",
     "output_type": "stream",
     "text": [
      "2024-01-10 50.0 Shell Oil visa car\n",
      "2024-02-26 60.0 Shell Oil visa car\n",
      "2024-01-07 75.0 Safeway checking groceries\n",
      "2024-01-21 175.0 Safeway visa groceries\n",
      "2024-02-07 75.0 Safeway checking groceries\n",
      "2024-02-21 75.0 Safeway visa groceries\n"
     ]
    }
   ],
   "source": [
    "for t in DB.select(Transaction, description = r'^s'):\n",
    "    print(t.pdate, t.pamount, t.description, t.pcredit, t.pdebit)"
   ]
  },
  {
   "cell_type": "code",
   "execution_count": 86,
   "metadata": {},
   "outputs": [
    {
     "name": "stdout",
     "output_type": "stream",
     "text": [
      "2024-01-02 5000.0 fill buckets 2024 budget groceries/mortgage/car/travel yoyodyne\n",
      "2024-02-02 5000.0 fill buckets 2024 budget groceries/mortgage/car/travel yoyodyne\n"
     ]
    }
   ],
   "source": [
    "for t in DB.select(Transaction, comment=r'budget'):\n",
    "    print(t.pdate, t.pamount, t.description, t.comment, t.pcredit, t.pdebit)"
   ]
  },
  {
   "cell_type": "markdown",
   "metadata": {},
   "source": [
    "By account:"
   ]
  },
  {
   "cell_type": "code",
   "execution_count": 87,
   "metadata": {},
   "outputs": [
    {
     "name": "stdout",
     "output_type": "stream",
     "text": [
      "2024-01-04 1800.0 checking mortgage\n",
      "2024-02-04 1800.0 checking mortgage\n"
     ]
    }
   ],
   "source": [
    "for t in DB.select(Transaction, debit='mortgage'):\n",
    "    print(t.pdate, t.pamount, t.pcredit, t.pdebit)"
   ]
  },
  {
   "cell_type": "code",
   "execution_count": 88,
   "metadata": {},
   "outputs": [
    {
     "name": "stdout",
     "output_type": "stream",
     "text": [
      "2024-01-02 5000.0 groceries/mortgage/car/travel yoyodyne\n",
      "2024-02-02 5000.0 groceries/mortgage/car/travel yoyodyne\n"
     ]
    }
   ],
   "source": [
    "for t in DB.select(Transaction, credit='mortgage'):\n",
    "    print(t.pdate, t.pamount, t.pcredit, t.pdebit)"
   ]
  },
  {
   "cell_type": "markdown",
   "metadata": {},
   "source": [
    "Some random combinations"
   ]
  },
  {
   "cell_type": "code",
   "execution_count": 89,
   "metadata": {},
   "outputs": [
    {
     "name": "stdout",
     "output_type": "stream",
     "text": [
      "2024-01-21 175.0 Safeway visa groceries\n"
     ]
    }
   ],
   "source": [
    "for t in DB.select(Transaction, description = r'^s', min_amount=100):\n",
    "    print(t.pdate, t.pamount, t.description, t.pcredit, t.pdebit)"
   ]
  },
  {
   "cell_type": "code",
   "execution_count": 90,
   "metadata": {},
   "outputs": [
    {
     "name": "stdout",
     "output_type": "stream",
     "text": [
      "2024-02-26 60.0 Shell Oil visa car\n",
      "2024-02-21 75.0 Safeway visa groceries\n"
     ]
    }
   ],
   "source": [
    "for t in DB.select(Transaction, start_date = date(2024,2,1), credit='visa'):\n",
    "    print(t.pdate, t.pamount, t.description, t.pcredit, t.pdebit)"
   ]
  },
  {
   "cell_type": "markdown",
   "metadata": {},
   "source": [
    "#### Select Entries"
   ]
  },
  {
   "cell_type": "markdown",
   "metadata": {},
   "source": [
    "All entries:"
   ]
  },
  {
   "cell_type": "code",
   "execution_count": 91,
   "metadata": {},
   "outputs": [
    {
     "data": {
      "text/plain": [
       "38"
      ]
     },
     "execution_count": 91,
     "metadata": {},
     "output_type": "execute_result"
    }
   ],
   "source": [
    "len(DB.select(Entry))"
   ]
  },
  {
   "cell_type": "code",
   "execution_count": 92,
   "metadata": {},
   "outputs": [
    {
     "name": "stdout",
     "output_type": "stream",
     "text": [
      "2024-01-02 checking 5000.0 debit\n",
      "2024-01-02 yoyodyne 5000.0 credit\n",
      "2024-01-02 yoyodyne 5000.0 debit\n",
      "2024-01-02 groceries 300.0 credit\n",
      "2024-01-02 mortgage 1800.0 credit\n",
      "2024-01-02 car 900.0 credit\n",
      "2024-01-02 travel 2000.0 credit\n",
      "2024-02-02 checking 5000.0 debit\n",
      "2024-02-02 yoyodyne 5000.0 credit\n",
      "2024-02-02 yoyodyne 5000.0 debit\n",
      "2024-02-02 groceries 300.0 credit\n",
      "2024-02-02 mortgage 1800.0 credit\n",
      "2024-02-02 car 900.0 credit\n",
      "2024-02-02 travel 2000.0 credit\n",
      "2024-01-05 car 500.0 debit\n",
      "2024-01-05 checking 500.0 credit\n",
      "2024-02-05 car 500.0 debit\n",
      "2024-02-05 checking 500.0 credit\n",
      "2024-01-10 car 50.0 debit\n",
      "2024-01-10 visa 50.0 credit\n",
      "2024-02-26 car 60.0 debit\n",
      "2024-02-26 visa 60.0 credit\n",
      "2024-01-04 mortgage 1800.0 debit\n",
      "2024-01-04 checking 1800.0 credit\n",
      "2024-02-04 mortgage 1800.0 debit\n",
      "2024-02-04 checking 1800.0 credit\n",
      "2024-01-07 groceries 75.0 debit\n",
      "2024-01-07 checking 75.0 credit\n",
      "2024-01-21 groceries 175.0 debit\n",
      "2024-01-21 visa 175.0 credit\n",
      "2024-02-07 groceries 75.0 debit\n",
      "2024-02-07 checking 75.0 credit\n",
      "2024-02-21 groceries 75.0 debit\n",
      "2024-02-21 visa 75.0 credit\n",
      "2024-03-10 household 50.0 debit\n",
      "2024-03-10 amex 50.0 credit\n",
      "2024-03-12 household 25.0 credit\n",
      "2024-03-12 amex 25.0 debit\n"
     ]
    }
   ],
   "source": [
    "for e in DB.select(Entry):\n",
    "    print(e.date, e.account, e.amount, e.column)"
   ]
  },
  {
   "cell_type": "markdown",
   "metadata": {},
   "source": [
    "By date:"
   ]
  },
  {
   "cell_type": "code",
   "execution_count": 93,
   "metadata": {},
   "outputs": [
    {
     "name": "stdout",
     "output_type": "stream",
     "text": [
      "2024-01-05 car 500.0 debit\n",
      "2024-01-05 checking 500.0 credit\n"
     ]
    }
   ],
   "source": [
    "for e in DB.select(Entry, date=date(2024,1,5)):\n",
    "    print(e.date, e.account, e.amount, e.column)"
   ]
  },
  {
   "cell_type": "code",
   "execution_count": 94,
   "metadata": {},
   "outputs": [
    {
     "name": "stdout",
     "output_type": "stream",
     "text": [
      "2024-02-02 checking 5000.0 debit\n",
      "2024-02-02 yoyodyne 5000.0 credit\n",
      "2024-02-02 yoyodyne 5000.0 debit\n",
      "2024-02-02 groceries 300.0 credit\n",
      "2024-02-02 mortgage 1800.0 credit\n",
      "2024-02-02 car 900.0 credit\n",
      "2024-02-02 travel 2000.0 credit\n",
      "2024-01-05 car 500.0 debit\n",
      "2024-01-05 checking 500.0 credit\n",
      "2024-02-05 car 500.0 debit\n",
      "2024-02-05 checking 500.0 credit\n",
      "2024-01-10 car 50.0 debit\n",
      "2024-01-10 visa 50.0 credit\n",
      "2024-02-26 car 60.0 debit\n",
      "2024-02-26 visa 60.0 credit\n",
      "2024-02-04 mortgage 1800.0 debit\n",
      "2024-02-04 checking 1800.0 credit\n",
      "2024-01-07 groceries 75.0 debit\n",
      "2024-01-07 checking 75.0 credit\n",
      "2024-01-21 groceries 175.0 debit\n",
      "2024-01-21 visa 175.0 credit\n",
      "2024-02-07 groceries 75.0 debit\n",
      "2024-02-07 checking 75.0 credit\n",
      "2024-02-21 groceries 75.0 debit\n",
      "2024-02-21 visa 75.0 credit\n",
      "2024-03-10 household 50.0 debit\n",
      "2024-03-10 amex 50.0 credit\n",
      "2024-03-12 household 25.0 credit\n",
      "2024-03-12 amex 25.0 debit\n"
     ]
    }
   ],
   "source": [
    "for e in DB.select(Entry, start_date=date(2024,1,5)):\n",
    "    print(e.date, e.account, e.amount, e.column)"
   ]
  },
  {
   "cell_type": "code",
   "execution_count": 95,
   "metadata": {},
   "outputs": [
    {
     "name": "stdout",
     "output_type": "stream",
     "text": [
      "2024-01-02 checking 5000.0 debit\n",
      "2024-01-02 yoyodyne 5000.0 credit\n",
      "2024-01-02 yoyodyne 5000.0 debit\n",
      "2024-01-02 groceries 300.0 credit\n",
      "2024-01-02 mortgage 1800.0 credit\n",
      "2024-01-02 car 900.0 credit\n",
      "2024-01-02 travel 2000.0 credit\n",
      "2024-01-05 car 500.0 debit\n",
      "2024-01-05 checking 500.0 credit\n",
      "2024-01-04 mortgage 1800.0 debit\n",
      "2024-01-04 checking 1800.0 credit\n"
     ]
    }
   ],
   "source": [
    "for e in DB.select(Entry, end_date=date(2024,1,5)):\n",
    "    print(e.date, e.account, e.amount, e.column)"
   ]
  },
  {
   "cell_type": "markdown",
   "metadata": {},
   "source": [
    "By amount:"
   ]
  },
  {
   "cell_type": "code",
   "execution_count": 96,
   "metadata": {},
   "outputs": [
    {
     "name": "stdout",
     "output_type": "stream",
     "text": [
      "2024-01-02 car 900.0 credit\n",
      "2024-02-02 car 900.0 credit\n"
     ]
    }
   ],
   "source": [
    "for e in DB.select(Entry, amount=900):\n",
    "    print(e.date, e.account, e.amount, e.column)"
   ]
  },
  {
   "cell_type": "code",
   "execution_count": 97,
   "metadata": {},
   "outputs": [
    {
     "name": "stdout",
     "output_type": "stream",
     "text": [
      "2024-01-02 groceries 300.0 credit\n",
      "2024-01-02 car 900.0 credit\n",
      "2024-02-02 groceries 300.0 credit\n",
      "2024-02-02 car 900.0 credit\n",
      "2024-01-05 car 500.0 debit\n",
      "2024-01-05 checking 500.0 credit\n",
      "2024-02-05 car 500.0 debit\n",
      "2024-02-05 checking 500.0 credit\n",
      "2024-01-10 car 50.0 debit\n",
      "2024-01-10 visa 50.0 credit\n",
      "2024-02-26 car 60.0 debit\n",
      "2024-02-26 visa 60.0 credit\n",
      "2024-01-07 groceries 75.0 debit\n",
      "2024-01-07 checking 75.0 credit\n",
      "2024-01-21 groceries 175.0 debit\n",
      "2024-01-21 visa 175.0 credit\n",
      "2024-02-07 groceries 75.0 debit\n",
      "2024-02-07 checking 75.0 credit\n",
      "2024-02-21 groceries 75.0 debit\n",
      "2024-02-21 visa 75.0 credit\n",
      "2024-03-10 household 50.0 debit\n",
      "2024-03-10 amex 50.0 credit\n",
      "2024-03-12 household 25.0 credit\n",
      "2024-03-12 amex 25.0 debit\n"
     ]
    }
   ],
   "source": [
    "for e in DB.select(Entry, max_amount=900):\n",
    "    print(e.date, e.account, e.amount, e.column)"
   ]
  },
  {
   "cell_type": "code",
   "execution_count": 98,
   "metadata": {},
   "outputs": [
    {
     "name": "stdout",
     "output_type": "stream",
     "text": [
      "2024-01-02 checking 5000.0 debit\n",
      "2024-01-02 yoyodyne 5000.0 credit\n",
      "2024-01-02 yoyodyne 5000.0 debit\n",
      "2024-01-02 mortgage 1800.0 credit\n",
      "2024-01-02 car 900.0 credit\n",
      "2024-01-02 travel 2000.0 credit\n",
      "2024-02-02 checking 5000.0 debit\n",
      "2024-02-02 yoyodyne 5000.0 credit\n",
      "2024-02-02 yoyodyne 5000.0 debit\n",
      "2024-02-02 mortgage 1800.0 credit\n",
      "2024-02-02 car 900.0 credit\n",
      "2024-02-02 travel 2000.0 credit\n",
      "2024-01-04 mortgage 1800.0 debit\n",
      "2024-01-04 checking 1800.0 credit\n",
      "2024-02-04 mortgage 1800.0 debit\n",
      "2024-02-04 checking 1800.0 credit\n"
     ]
    }
   ],
   "source": [
    "for e in DB.select(Entry, min_amount=900):\n",
    "    print(e.date, e.account, e.amount, e.column)"
   ]
  },
  {
   "cell_type": "markdown",
   "metadata": {},
   "source": [
    "By account:"
   ]
  },
  {
   "cell_type": "code",
   "execution_count": 99,
   "metadata": {},
   "outputs": [
    {
     "name": "stdout",
     "output_type": "stream",
     "text": [
      "2024-01-02 groceries 300.0 credit\n",
      "2024-02-02 groceries 300.0 credit\n",
      "2024-01-07 groceries 75.0 debit\n",
      "2024-01-21 groceries 175.0 debit\n",
      "2024-02-07 groceries 75.0 debit\n",
      "2024-02-21 groceries 75.0 debit\n"
     ]
    }
   ],
   "source": [
    "for e in DB.select(Entry, account='groceries'):\n",
    "    print(e.date, e.account, e.amount, e.column)"
   ]
  },
  {
   "cell_type": "markdown",
   "metadata": {},
   "source": [
    "By column:"
   ]
  },
  {
   "cell_type": "code",
   "execution_count": 100,
   "metadata": {},
   "outputs": [
    {
     "name": "stdout",
     "output_type": "stream",
     "text": [
      "2024-01-02 yoyodyne 5000.0 credit\n",
      "2024-01-02 groceries 300.0 credit\n",
      "2024-01-02 mortgage 1800.0 credit\n",
      "2024-01-02 car 900.0 credit\n",
      "2024-01-02 travel 2000.0 credit\n",
      "2024-02-02 yoyodyne 5000.0 credit\n",
      "2024-02-02 groceries 300.0 credit\n",
      "2024-02-02 mortgage 1800.0 credit\n",
      "2024-02-02 car 900.0 credit\n",
      "2024-02-02 travel 2000.0 credit\n",
      "2024-01-05 checking 500.0 credit\n",
      "2024-02-05 checking 500.0 credit\n",
      "2024-01-10 visa 50.0 credit\n",
      "2024-02-26 visa 60.0 credit\n",
      "2024-01-04 checking 1800.0 credit\n",
      "2024-02-04 checking 1800.0 credit\n",
      "2024-01-07 checking 75.0 credit\n",
      "2024-01-21 visa 175.0 credit\n",
      "2024-02-07 checking 75.0 credit\n",
      "2024-02-21 visa 75.0 credit\n",
      "2024-03-10 amex 50.0 credit\n",
      "2024-03-12 household 25.0 credit\n"
     ]
    }
   ],
   "source": [
    "for e in DB.select(Entry, column='credit'):\n",
    "    print(e.date, e.account, e.amount, e.column)"
   ]
  },
  {
   "cell_type": "code",
   "execution_count": 101,
   "metadata": {},
   "outputs": [
    {
     "name": "stdout",
     "output_type": "stream",
     "text": [
      "2024-01-02 checking 5000.0 debit\n",
      "2024-01-02 yoyodyne 5000.0 debit\n",
      "2024-02-02 checking 5000.0 debit\n",
      "2024-02-02 yoyodyne 5000.0 debit\n",
      "2024-01-05 car 500.0 debit\n",
      "2024-02-05 car 500.0 debit\n",
      "2024-01-10 car 50.0 debit\n",
      "2024-02-26 car 60.0 debit\n",
      "2024-01-04 mortgage 1800.0 debit\n",
      "2024-02-04 mortgage 1800.0 debit\n",
      "2024-01-07 groceries 75.0 debit\n",
      "2024-01-21 groceries 175.0 debit\n",
      "2024-02-07 groceries 75.0 debit\n",
      "2024-02-21 groceries 75.0 debit\n",
      "2024-03-10 household 50.0 debit\n",
      "2024-03-12 amex 25.0 debit\n"
     ]
    }
   ],
   "source": [
    "for e in DB.select(Entry, column='debit'):\n",
    "    print(e.date, e.account, e.amount, e.column)"
   ]
  },
  {
   "cell_type": "markdown",
   "metadata": {},
   "source": [
    "### Serializing Objects"
   ]
  },
  {
   "cell_type": "code",
   "execution_count": 102,
   "metadata": {},
   "outputs": [],
   "source": [
    "import json\n",
    "from bson.objectid import ObjectId\n",
    "import datetime"
   ]
  },
  {
   "cell_type": "code",
   "execution_count": 103,
   "metadata": {},
   "outputs": [],
   "source": [
    "lst = DB.select(Transaction, start_date = date(2024,2,1), credit='visa')"
   ]
  },
  {
   "cell_type": "code",
   "execution_count": 104,
   "metadata": {},
   "outputs": [
    {
     "data": {
      "text/plain": [
       "'{\"_id\": {\"$oid\": \"67e41dd9a0fded77104fa354\"}, \"description\": \"Shell Oil\", \"comment\": \"\", \"tags\": [], \"entries\": [{\"$oid\": \"67e41dd9a0fded77104fa33b\"}, {\"$oid\": \"67e41dd9a0fded77104fa33c\"}], \"pdate\": {\"$date\": 1708905600000}, \"pdebit\": \"car\", \"pcredit\": \"visa\", \"pamount\": 60.0}'"
      ]
     },
     "execution_count": 104,
     "metadata": {},
     "output_type": "execute_result"
    }
   ],
   "source": [
    "lst[0].to_json()"
   ]
  },
  {
   "cell_type": "code",
   "execution_count": 105,
   "metadata": {},
   "outputs": [
    {
     "data": {
      "text/plain": [
       "dexter.DB.Transaction"
      ]
     },
     "execution_count": 105,
     "metadata": {},
     "output_type": "execute_result"
    }
   ],
   "source": [
    "type(lst[0])"
   ]
  },
  {
   "cell_type": "code",
   "execution_count": 106,
   "metadata": {},
   "outputs": [],
   "source": [
    "obj = Transaction.objects.as_pymongo()[0]"
   ]
  },
  {
   "cell_type": "code",
   "execution_count": 107,
   "metadata": {},
   "outputs": [
    {
     "data": {
      "text/plain": [
       "dict"
      ]
     },
     "execution_count": 107,
     "metadata": {},
     "output_type": "execute_result"
    }
   ],
   "source": [
    "type(obj)"
   ]
  },
  {
   "cell_type": "code",
   "execution_count": 108,
   "metadata": {},
   "outputs": [
    {
     "data": {
      "text/plain": [
       "{'_id': ObjectId('67e41dd9a0fded77104fa34d'),\n",
       " 'description': 'paycheck',\n",
       " 'comment': '',\n",
       " 'tags': [],\n",
       " 'entries': [ObjectId('67e41dd9a0fded77104fa327'),\n",
       "  ObjectId('67e41dd9a0fded77104fa328')],\n",
       " 'pdate': datetime.datetime(2024, 1, 2, 0, 0),\n",
       " 'pdebit': 'checking',\n",
       " 'pcredit': 'yoyodyne',\n",
       " 'pamount': 5000.0}"
      ]
     },
     "execution_count": 108,
     "metadata": {},
     "output_type": "execute_result"
    }
   ],
   "source": [
    "obj"
   ]
  },
  {
   "cell_type": "code",
   "execution_count": 109,
   "metadata": {},
   "outputs": [],
   "source": [
    "s = lst[0].to_json()"
   ]
  },
  {
   "cell_type": "code",
   "execution_count": 110,
   "metadata": {},
   "outputs": [
    {
     "data": {
      "text/plain": [
       "{'_id': {'$oid': '67e41dd9a0fded77104fa354'},\n",
       " 'description': 'Shell Oil',\n",
       " 'comment': '',\n",
       " 'tags': [],\n",
       " 'entries': [{'$oid': '67e41dd9a0fded77104fa33b'},\n",
       "  {'$oid': '67e41dd9a0fded77104fa33c'}],\n",
       " 'pdate': {'$date': 1708905600000},\n",
       " 'pdebit': 'car',\n",
       " 'pcredit': 'visa',\n",
       " 'pamount': 60.0}"
      ]
     },
     "execution_count": 110,
     "metadata": {},
     "output_type": "execute_result"
    }
   ],
   "source": [
    "json.loads(s)"
   ]
  },
  {
   "cell_type": "code",
   "execution_count": null,
   "metadata": {},
   "outputs": [],
   "source": []
  },
  {
   "cell_type": "code",
   "execution_count": 111,
   "metadata": {},
   "outputs": [
    {
     "data": {
      "text/plain": [
       "<Transaction: <Tr 2024-02-26 visa -> car $60.0 Shell Oil>>"
      ]
     },
     "execution_count": 111,
     "metadata": {},
     "output_type": "execute_result"
    }
   ],
   "source": [
    "Transaction.from_json(s)"
   ]
  },
  {
   "cell_type": "code",
   "execution_count": 112,
   "metadata": {},
   "outputs": [],
   "source": [
    "s = 'account: {...:...}'"
   ]
  },
  {
   "cell_type": "code",
   "execution_count": 113,
   "metadata": {},
   "outputs": [
    {
     "data": {
      "text/plain": [
       "7"
      ]
     },
     "execution_count": 113,
     "metadata": {},
     "output_type": "execute_result"
    }
   ],
   "source": [
    "s.find(':')"
   ]
  },
  {
   "cell_type": "code",
   "execution_count": 114,
   "metadata": {},
   "outputs": [
    {
     "data": {
      "text/plain": [
       "'account'"
      ]
     },
     "execution_count": 114,
     "metadata": {},
     "output_type": "execute_result"
    }
   ],
   "source": [
    "s[:s.find(':')]"
   ]
  },
  {
   "cell_type": "code",
   "execution_count": 115,
   "metadata": {},
   "outputs": [
    {
     "data": {
      "text/plain": [
       "': {...:...}'"
      ]
     },
     "execution_count": 115,
     "metadata": {},
     "output_type": "execute_result"
    }
   ],
   "source": [
    "s[s.find(':'):]"
   ]
  },
  {
   "cell_type": "markdown",
   "metadata": {},
   "source": [
    "### Indexes"
   ]
  },
  {
   "cell_type": "markdown",
   "metadata": {},
   "source": [
    "We want a field in Entry documents that serves as a unique ID so we can tell if an item was imported before."
   ]
  },
  {
   "cell_type": "markdown",
   "metadata": {},
   "source": [
    "MongoEngine has a UUID field.\n",
    "* how is it computed?  is it a hash of all the other field values?\n",
    "* when is it computed?  when the object is made, or when it is saved?"
   ]
  },
  {
   "cell_type": "code",
   "execution_count": 116,
   "metadata": {},
   "outputs": [],
   "source": [
    "from mongoengine import *"
   ]
  },
  {
   "cell_type": "code",
   "execution_count": 117,
   "metadata": {},
   "outputs": [],
   "source": [
    "class Foo(Document):\n",
    "    name = StringField()\n",
    "    amount = FloatField()\n",
    "    uid = UUIDField(binary=False)"
   ]
  },
  {
   "cell_type": "code",
   "execution_count": 118,
   "metadata": {},
   "outputs": [],
   "source": [
    "f = Foo(name='Fred', amount=10)"
   ]
  },
  {
   "cell_type": "markdown",
   "metadata": {},
   "source": [
    "Just declaring it is not enough to give it a value:"
   ]
  },
  {
   "cell_type": "code",
   "execution_count": 119,
   "metadata": {},
   "outputs": [
    {
     "data": {
      "text/plain": [
       "True"
      ]
     },
     "execution_count": 119,
     "metadata": {},
     "output_type": "execute_result"
    }
   ],
   "source": [
    "f.uid is None"
   ]
  },
  {
   "cell_type": "code",
   "execution_count": 120,
   "metadata": {},
   "outputs": [
    {
     "data": {
      "text/plain": [
       "<Foo: Foo object>"
      ]
     },
     "execution_count": 120,
     "metadata": {},
     "output_type": "execute_result"
    }
   ],
   "source": [
    "f.save()"
   ]
  },
  {
   "cell_type": "markdown",
   "metadata": {},
   "source": [
    "This model has an index.  The `#` means it's a \"hashed index\" but no discussion of what that means or why we'd want one (over say a text index that we compute ourselves)."
   ]
  },
  {
   "cell_type": "code",
   "execution_count": 121,
   "metadata": {},
   "outputs": [],
   "source": [
    "class Bar(Document):\n",
    "    name = StringField()\n",
    "    amount = FloatField()\n",
    "    uid = UUIDField(binary=False)\n",
    "    meta = {\n",
    "        'indexes': ['#uid']\n",
    "    }"
   ]
  },
  {
   "cell_type": "code",
   "execution_count": 122,
   "metadata": {},
   "outputs": [],
   "source": [
    "b1 = Bar(name='george', amount=20, uid='123')"
   ]
  },
  {
   "cell_type": "code",
   "execution_count": 123,
   "metadata": {},
   "outputs": [
    {
     "data": {
      "text/plain": [
       "'123'"
      ]
     },
     "execution_count": 123,
     "metadata": {},
     "output_type": "execute_result"
    }
   ],
   "source": [
    "b1.uid"
   ]
  },
  {
   "cell_type": "markdown",
   "metadata": {},
   "source": [
    "Ah -- the UUID is created when the document is saved (the same was true for Foo, above, if a `uid` value passed to the constructor)."
   ]
  },
  {
   "cell_type": "markdown",
   "metadata": {},
   "source": [
    "```\n",
    "b1.save()\n",
    "...\n",
    "ValidationError: ValidationError (Bar:None) (Could not convert to UUID: badly formed hexadecimal UUID string: ['uid'])\n",
    "```"
   ]
  },
  {
   "cell_type": "markdown",
   "metadata": {},
   "source": [
    "So how do we make a UUID?  Do we care?  Why not just use our hashed strings?"
   ]
  },
  {
   "cell_type": "markdown",
   "metadata": {},
   "source": [
    "#### UUID"
   ]
  },
  {
   "cell_type": "markdown",
   "metadata": {},
   "source": [
    "It's in the PyMongo docs (and we had to specify how they're represented when we made the DB connection).  It's also a Python library."
   ]
  },
  {
   "cell_type": "code",
   "execution_count": 124,
   "metadata": {},
   "outputs": [],
   "source": [
    "from uuid import uuid4"
   ]
  },
  {
   "cell_type": "code",
   "execution_count": 125,
   "metadata": {},
   "outputs": [],
   "source": [
    "b2 = Bar(name='ringo', amount=30, uid=uuid4())"
   ]
  },
  {
   "cell_type": "code",
   "execution_count": 126,
   "metadata": {},
   "outputs": [
    {
     "data": {
      "text/plain": [
       "UUID('2946604f-6b2c-46d5-8248-4058a99a9c34')"
      ]
     },
     "execution_count": 126,
     "metadata": {},
     "output_type": "execute_result"
    }
   ],
   "source": [
    "b2.uid"
   ]
  },
  {
   "cell_type": "code",
   "execution_count": 127,
   "metadata": {},
   "outputs": [
    {
     "data": {
      "text/plain": [
       "<Bar: Bar object>"
      ]
     },
     "execution_count": 127,
     "metadata": {},
     "output_type": "execute_result"
    }
   ],
   "source": [
    "b2.save()"
   ]
  },
  {
   "cell_type": "code",
   "execution_count": 128,
   "metadata": {},
   "outputs": [],
   "source": [
    "x = b2.uid"
   ]
  },
  {
   "cell_type": "code",
   "execution_count": 129,
   "metadata": {},
   "outputs": [],
   "source": [
    "b3 = Bar(name='paul', amount=40, uid=x)"
   ]
  },
  {
   "cell_type": "code",
   "execution_count": 130,
   "metadata": {},
   "outputs": [
    {
     "data": {
      "text/plain": [
       "<Bar: Bar object>"
      ]
     },
     "execution_count": 130,
     "metadata": {},
     "output_type": "execute_result"
    }
   ],
   "source": [
    "b3.save()"
   ]
  },
  {
   "cell_type": "code",
   "execution_count": 131,
   "metadata": {},
   "outputs": [
    {
     "data": {
      "text/plain": [
       "True"
      ]
     },
     "execution_count": 131,
     "metadata": {},
     "output_type": "execute_result"
    }
   ],
   "source": [
    "b3.uid == b2.uid"
   ]
  },
  {
   "cell_type": "code",
   "execution_count": 132,
   "metadata": {},
   "outputs": [
    {
     "data": {
      "text/plain": [
       "UUID('c0c2442c-b77c-4d3a-b380-e5d3b4c5cfd7')"
      ]
     },
     "execution_count": 132,
     "metadata": {},
     "output_type": "execute_result"
    }
   ],
   "source": [
    "uuid4()"
   ]
  },
  {
   "cell_type": "markdown",
   "metadata": {},
   "source": [
    "So just defining an index isn't enough to make it unique."
   ]
  },
  {
   "cell_type": "markdown",
   "metadata": {},
   "source": [
    "### Unique"
   ]
  },
  {
   "cell_type": "code",
   "execution_count": 133,
   "metadata": {},
   "outputs": [],
   "source": [
    "class FooBar(Document):\n",
    "    name = StringField()\n",
    "    amount = FloatField()\n",
    "    uid = StringField(unique=True)"
   ]
  },
  {
   "cell_type": "code",
   "execution_count": 134,
   "metadata": {},
   "outputs": [],
   "source": [
    "f1 = FooBar(name='Fred', amount=100, uid='bedrock')"
   ]
  },
  {
   "cell_type": "code",
   "execution_count": 135,
   "metadata": {},
   "outputs": [],
   "source": [
    "f2 = FooBar(name='Barney', amount=200, uid='bedrock')"
   ]
  },
  {
   "cell_type": "code",
   "execution_count": 136,
   "metadata": {},
   "outputs": [
    {
     "ename": "NotUniqueError",
     "evalue": "Tried to save duplicate unique keys (E11000 duplicate key error collection: pytest.foo_bar index: uid_1 dup key: { uid: \"bedrock\" }, full error: {'index': 0, 'code': 11000, 'errmsg': 'E11000 duplicate key error collection: pytest.foo_bar index: uid_1 dup key: { uid: \"bedrock\" }', 'keyPattern': {'uid': 1}, 'keyValue': {'uid': 'bedrock'}})",
     "output_type": "error",
     "traceback": [
      "\u001b[31m---------------------------------------------------------------------------\u001b[39m",
      "\u001b[31mDuplicateKeyError\u001b[39m                         Traceback (most recent call last)",
      "\u001b[36mFile \u001b[39m\u001b[32m~/.pyenv/versions/3.13.1/envs/nosql/lib/python3.13/site-packages/mongoengine/document.py:448\u001b[39m, in \u001b[36mDocument.save\u001b[39m\u001b[34m(self, force_insert, validate, clean, write_concern, cascade, cascade_kwargs, _refs, save_condition, signal_kwargs, **kwargs)\u001b[39m\n\u001b[32m    447\u001b[39m \u001b[38;5;28;01mif\u001b[39;00m created:\n\u001b[32m--> \u001b[39m\u001b[32m448\u001b[39m     object_id = \u001b[38;5;28;43mself\u001b[39;49m\u001b[43m.\u001b[49m\u001b[43m_save_create\u001b[49m\u001b[43m(\u001b[49m\n\u001b[32m    449\u001b[39m \u001b[43m        \u001b[49m\u001b[43mdoc\u001b[49m\u001b[43m=\u001b[49m\u001b[43mdoc\u001b[49m\u001b[43m,\u001b[49m\u001b[43m \u001b[49m\u001b[43mforce_insert\u001b[49m\u001b[43m=\u001b[49m\u001b[43mforce_insert\u001b[49m\u001b[43m,\u001b[49m\u001b[43m \u001b[49m\u001b[43mwrite_concern\u001b[49m\u001b[43m=\u001b[49m\u001b[43mwrite_concern\u001b[49m\n\u001b[32m    450\u001b[39m \u001b[43m    \u001b[49m\u001b[43m)\u001b[49m\n\u001b[32m    451\u001b[39m \u001b[38;5;28;01melse\u001b[39;00m:\n",
      "\u001b[36mFile \u001b[39m\u001b[32m~/.pyenv/versions/3.13.1/envs/nosql/lib/python3.13/site-packages/mongoengine/document.py:515\u001b[39m, in \u001b[36mDocument._save_create\u001b[39m\u001b[34m(self, doc, force_insert, write_concern)\u001b[39m\n\u001b[32m    513\u001b[39m             \u001b[38;5;28;01mreturn\u001b[39;00m doc[\u001b[33m\"\u001b[39m\u001b[33m_id\u001b[39m\u001b[33m\"\u001b[39m]\n\u001b[32m--> \u001b[39m\u001b[32m515\u001b[39m     object_id = \u001b[43mwc_collection\u001b[49m\u001b[43m.\u001b[49m\u001b[43minsert_one\u001b[49m\u001b[43m(\u001b[49m\u001b[43mdoc\u001b[49m\u001b[43m)\u001b[49m.inserted_id\n\u001b[32m    517\u001b[39m \u001b[38;5;28;01mreturn\u001b[39;00m object_id\n",
      "\u001b[36mFile \u001b[39m\u001b[32m~/.pyenv/versions/3.13.1/envs/nosql/lib/python3.13/site-packages/pymongo/synchronous/collection.py:891\u001b[39m, in \u001b[36mCollection.insert_one\u001b[39m\u001b[34m(self, document, bypass_document_validation, session, comment)\u001b[39m\n\u001b[32m    889\u001b[39m write_concern = \u001b[38;5;28mself\u001b[39m._write_concern_for(session)\n\u001b[32m    890\u001b[39m \u001b[38;5;28;01mreturn\u001b[39;00m InsertOneResult(\n\u001b[32m--> \u001b[39m\u001b[32m891\u001b[39m     \u001b[38;5;28;43mself\u001b[39;49m\u001b[43m.\u001b[49m\u001b[43m_insert_one\u001b[49m\u001b[43m(\u001b[49m\n\u001b[32m    892\u001b[39m \u001b[43m        \u001b[49m\u001b[43mdocument\u001b[49m\u001b[43m,\u001b[49m\n\u001b[32m    893\u001b[39m \u001b[43m        \u001b[49m\u001b[43mordered\u001b[49m\u001b[43m=\u001b[49m\u001b[38;5;28;43;01mTrue\u001b[39;49;00m\u001b[43m,\u001b[49m\n\u001b[32m    894\u001b[39m \u001b[43m        \u001b[49m\u001b[43mwrite_concern\u001b[49m\u001b[43m=\u001b[49m\u001b[43mwrite_concern\u001b[49m\u001b[43m,\u001b[49m\n\u001b[32m    895\u001b[39m \u001b[43m        \u001b[49m\u001b[43mop_id\u001b[49m\u001b[43m=\u001b[49m\u001b[38;5;28;43;01mNone\u001b[39;49;00m\u001b[43m,\u001b[49m\n\u001b[32m    896\u001b[39m \u001b[43m        \u001b[49m\u001b[43mbypass_doc_val\u001b[49m\u001b[43m=\u001b[49m\u001b[43mbypass_document_validation\u001b[49m\u001b[43m,\u001b[49m\n\u001b[32m    897\u001b[39m \u001b[43m        \u001b[49m\u001b[43msession\u001b[49m\u001b[43m=\u001b[49m\u001b[43msession\u001b[49m\u001b[43m,\u001b[49m\n\u001b[32m    898\u001b[39m \u001b[43m        \u001b[49m\u001b[43mcomment\u001b[49m\u001b[43m=\u001b[49m\u001b[43mcomment\u001b[49m\u001b[43m,\u001b[49m\n\u001b[32m    899\u001b[39m \u001b[43m    \u001b[49m\u001b[43m)\u001b[49m,\n\u001b[32m    900\u001b[39m     write_concern.acknowledged,\n\u001b[32m    901\u001b[39m )\n",
      "\u001b[36mFile \u001b[39m\u001b[32m~/.pyenv/versions/3.13.1/envs/nosql/lib/python3.13/site-packages/pymongo/synchronous/collection.py:831\u001b[39m, in \u001b[36mCollection._insert_one\u001b[39m\u001b[34m(self, doc, ordered, write_concern, op_id, bypass_doc_val, session, comment)\u001b[39m\n\u001b[32m    829\u001b[39m     _check_write_command_response(result)\n\u001b[32m--> \u001b[39m\u001b[32m831\u001b[39m \u001b[38;5;28;43mself\u001b[39;49m\u001b[43m.\u001b[49m\u001b[43m_database\u001b[49m\u001b[43m.\u001b[49m\u001b[43mclient\u001b[49m\u001b[43m.\u001b[49m\u001b[43m_retryable_write\u001b[49m\u001b[43m(\u001b[49m\n\u001b[32m    832\u001b[39m \u001b[43m    \u001b[49m\u001b[43macknowledged\u001b[49m\u001b[43m,\u001b[49m\u001b[43m \u001b[49m\u001b[43m_insert_command\u001b[49m\u001b[43m,\u001b[49m\u001b[43m \u001b[49m\u001b[43msession\u001b[49m\u001b[43m,\u001b[49m\u001b[43m \u001b[49m\u001b[43moperation\u001b[49m\u001b[43m=\u001b[49m\u001b[43m_Op\u001b[49m\u001b[43m.\u001b[49m\u001b[43mINSERT\u001b[49m\n\u001b[32m    833\u001b[39m \u001b[43m\u001b[49m\u001b[43m)\u001b[49m\n\u001b[32m    835\u001b[39m \u001b[38;5;28;01mif\u001b[39;00m \u001b[38;5;129;01mnot\u001b[39;00m \u001b[38;5;28misinstance\u001b[39m(doc, RawBSONDocument):\n",
      "\u001b[36mFile \u001b[39m\u001b[32m~/.pyenv/versions/3.13.1/envs/nosql/lib/python3.13/site-packages/pymongo/synchronous/mongo_client.py:1896\u001b[39m, in \u001b[36mMongoClient._retryable_write\u001b[39m\u001b[34m(self, retryable, func, session, operation, bulk, operation_id)\u001b[39m\n\u001b[32m   1895\u001b[39m \u001b[38;5;28;01mwith\u001b[39;00m \u001b[38;5;28mself\u001b[39m._tmp_session(session) \u001b[38;5;28;01mas\u001b[39;00m s:\n\u001b[32m-> \u001b[39m\u001b[32m1896\u001b[39m     \u001b[38;5;28;01mreturn\u001b[39;00m \u001b[38;5;28;43mself\u001b[39;49m\u001b[43m.\u001b[49m\u001b[43m_retry_with_session\u001b[49m\u001b[43m(\u001b[49m\u001b[43mretryable\u001b[49m\u001b[43m,\u001b[49m\u001b[43m \u001b[49m\u001b[43mfunc\u001b[49m\u001b[43m,\u001b[49m\u001b[43m \u001b[49m\u001b[43ms\u001b[49m\u001b[43m,\u001b[49m\u001b[43m \u001b[49m\u001b[43mbulk\u001b[49m\u001b[43m,\u001b[49m\u001b[43m \u001b[49m\u001b[43moperation\u001b[49m\u001b[43m,\u001b[49m\u001b[43m \u001b[49m\u001b[43moperation_id\u001b[49m\u001b[43m)\u001b[49m\n",
      "\u001b[36mFile \u001b[39m\u001b[32m~/.pyenv/versions/3.13.1/envs/nosql/lib/python3.13/site-packages/pymongo/synchronous/mongo_client.py:1782\u001b[39m, in \u001b[36mMongoClient._retry_with_session\u001b[39m\u001b[34m(self, retryable, func, session, bulk, operation, operation_id)\u001b[39m\n\u001b[32m   1779\u001b[39m retryable = \u001b[38;5;28mbool\u001b[39m(\n\u001b[32m   1780\u001b[39m     retryable \u001b[38;5;129;01mand\u001b[39;00m \u001b[38;5;28mself\u001b[39m.options.retry_writes \u001b[38;5;129;01mand\u001b[39;00m session \u001b[38;5;129;01mand\u001b[39;00m \u001b[38;5;129;01mnot\u001b[39;00m session.in_transaction\n\u001b[32m   1781\u001b[39m )\n\u001b[32m-> \u001b[39m\u001b[32m1782\u001b[39m \u001b[38;5;28;01mreturn\u001b[39;00m \u001b[38;5;28;43mself\u001b[39;49m\u001b[43m.\u001b[49m\u001b[43m_retry_internal\u001b[49m\u001b[43m(\u001b[49m\n\u001b[32m   1783\u001b[39m \u001b[43m    \u001b[49m\u001b[43mfunc\u001b[49m\u001b[43m=\u001b[49m\u001b[43mfunc\u001b[49m\u001b[43m,\u001b[49m\n\u001b[32m   1784\u001b[39m \u001b[43m    \u001b[49m\u001b[43msession\u001b[49m\u001b[43m=\u001b[49m\u001b[43msession\u001b[49m\u001b[43m,\u001b[49m\n\u001b[32m   1785\u001b[39m \u001b[43m    \u001b[49m\u001b[43mbulk\u001b[49m\u001b[43m=\u001b[49m\u001b[43mbulk\u001b[49m\u001b[43m,\u001b[49m\n\u001b[32m   1786\u001b[39m \u001b[43m    \u001b[49m\u001b[43moperation\u001b[49m\u001b[43m=\u001b[49m\u001b[43moperation\u001b[49m\u001b[43m,\u001b[49m\n\u001b[32m   1787\u001b[39m \u001b[43m    \u001b[49m\u001b[43mretryable\u001b[49m\u001b[43m=\u001b[49m\u001b[43mretryable\u001b[49m\u001b[43m,\u001b[49m\n\u001b[32m   1788\u001b[39m \u001b[43m    \u001b[49m\u001b[43moperation_id\u001b[49m\u001b[43m=\u001b[49m\u001b[43moperation_id\u001b[49m\u001b[43m,\u001b[49m\n\u001b[32m   1789\u001b[39m \u001b[43m\u001b[49m\u001b[43m)\u001b[49m\n",
      "\u001b[36mFile \u001b[39m\u001b[32m~/.pyenv/versions/3.13.1/envs/nosql/lib/python3.13/site-packages/pymongo/_csot.py:119\u001b[39m, in \u001b[36mapply.<locals>.csot_wrapper\u001b[39m\u001b[34m(self, *args, **kwargs)\u001b[39m\n\u001b[32m    118\u001b[39m             \u001b[38;5;28;01mreturn\u001b[39;00m func(\u001b[38;5;28mself\u001b[39m, *args, **kwargs)\n\u001b[32m--> \u001b[39m\u001b[32m119\u001b[39m \u001b[38;5;28;01mreturn\u001b[39;00m \u001b[43mfunc\u001b[49m\u001b[43m(\u001b[49m\u001b[38;5;28;43mself\u001b[39;49m\u001b[43m,\u001b[49m\u001b[43m \u001b[49m\u001b[43m*\u001b[49m\u001b[43margs\u001b[49m\u001b[43m,\u001b[49m\u001b[43m \u001b[49m\u001b[43m*\u001b[49m\u001b[43m*\u001b[49m\u001b[43mkwargs\u001b[49m\u001b[43m)\u001b[49m\n",
      "\u001b[36mFile \u001b[39m\u001b[32m~/.pyenv/versions/3.13.1/envs/nosql/lib/python3.13/site-packages/pymongo/synchronous/mongo_client.py:1828\u001b[39m, in \u001b[36mMongoClient._retry_internal\u001b[39m\u001b[34m(self, func, session, bulk, operation, is_read, address, read_pref, retryable, operation_id)\u001b[39m\n\u001b[32m   1804\u001b[39m \u001b[38;5;250m\u001b[39m\u001b[33;03m\"\"\"Internal retryable helper for all client transactions.\u001b[39;00m\n\u001b[32m   1805\u001b[39m \n\u001b[32m   1806\u001b[39m \u001b[33;03m:param func: Callback function we want to retry\u001b[39;00m\n\u001b[32m   (...)\u001b[39m\u001b[32m   1815\u001b[39m \u001b[33;03m:return: Output of the calling func()\u001b[39;00m\n\u001b[32m   1816\u001b[39m \u001b[33;03m\"\"\"\u001b[39;00m\n\u001b[32m   1817\u001b[39m \u001b[38;5;28;01mreturn\u001b[39;00m \u001b[43m_ClientConnectionRetryable\u001b[49m\u001b[43m(\u001b[49m\n\u001b[32m   1818\u001b[39m \u001b[43m    \u001b[49m\u001b[43mmongo_client\u001b[49m\u001b[43m=\u001b[49m\u001b[38;5;28;43mself\u001b[39;49m\u001b[43m,\u001b[49m\n\u001b[32m   1819\u001b[39m \u001b[43m    \u001b[49m\u001b[43mfunc\u001b[49m\u001b[43m=\u001b[49m\u001b[43mfunc\u001b[49m\u001b[43m,\u001b[49m\n\u001b[32m   1820\u001b[39m \u001b[43m    \u001b[49m\u001b[43mbulk\u001b[49m\u001b[43m=\u001b[49m\u001b[43mbulk\u001b[49m\u001b[43m,\u001b[49m\n\u001b[32m   1821\u001b[39m \u001b[43m    \u001b[49m\u001b[43moperation\u001b[49m\u001b[43m=\u001b[49m\u001b[43moperation\u001b[49m\u001b[43m,\u001b[49m\n\u001b[32m   1822\u001b[39m \u001b[43m    \u001b[49m\u001b[43mis_read\u001b[49m\u001b[43m=\u001b[49m\u001b[43mis_read\u001b[49m\u001b[43m,\u001b[49m\n\u001b[32m   1823\u001b[39m \u001b[43m    \u001b[49m\u001b[43msession\u001b[49m\u001b[43m=\u001b[49m\u001b[43msession\u001b[49m\u001b[43m,\u001b[49m\n\u001b[32m   1824\u001b[39m \u001b[43m    \u001b[49m\u001b[43mread_pref\u001b[49m\u001b[43m=\u001b[49m\u001b[43mread_pref\u001b[49m\u001b[43m,\u001b[49m\n\u001b[32m   1825\u001b[39m \u001b[43m    \u001b[49m\u001b[43maddress\u001b[49m\u001b[43m=\u001b[49m\u001b[43maddress\u001b[49m\u001b[43m,\u001b[49m\n\u001b[32m   1826\u001b[39m \u001b[43m    \u001b[49m\u001b[43mretryable\u001b[49m\u001b[43m=\u001b[49m\u001b[43mretryable\u001b[49m\u001b[43m,\u001b[49m\n\u001b[32m   1827\u001b[39m \u001b[43m    \u001b[49m\u001b[43moperation_id\u001b[49m\u001b[43m=\u001b[49m\u001b[43moperation_id\u001b[49m\u001b[43m,\u001b[49m\n\u001b[32m-> \u001b[39m\u001b[32m1828\u001b[39m \u001b[43m\u001b[49m\u001b[43m)\u001b[49m\u001b[43m.\u001b[49m\u001b[43mrun\u001b[49m\u001b[43m(\u001b[49m\u001b[43m)\u001b[49m\n",
      "\u001b[36mFile \u001b[39m\u001b[32m~/.pyenv/versions/3.13.1/envs/nosql/lib/python3.13/site-packages/pymongo/synchronous/mongo_client.py:2565\u001b[39m, in \u001b[36m_ClientConnectionRetryable.run\u001b[39m\u001b[34m(self)\u001b[39m\n\u001b[32m   2564\u001b[39m \u001b[38;5;28;01mtry\u001b[39;00m:\n\u001b[32m-> \u001b[39m\u001b[32m2565\u001b[39m     \u001b[38;5;28;01mreturn\u001b[39;00m \u001b[38;5;28mself\u001b[39m._read() \u001b[38;5;28;01mif\u001b[39;00m \u001b[38;5;28mself\u001b[39m._is_read \u001b[38;5;28;01melse\u001b[39;00m \u001b[38;5;28;43mself\u001b[39;49m\u001b[43m.\u001b[49m\u001b[43m_write\u001b[49m\u001b[43m(\u001b[49m\u001b[43m)\u001b[49m\n\u001b[32m   2566\u001b[39m \u001b[38;5;28;01mexcept\u001b[39;00m ServerSelectionTimeoutError:\n\u001b[32m   2567\u001b[39m     \u001b[38;5;66;03m# The application may think the write was never attempted\u001b[39;00m\n\u001b[32m   2568\u001b[39m     \u001b[38;5;66;03m# if we raise ServerSelectionTimeoutError on the retry\u001b[39;00m\n\u001b[32m   2569\u001b[39m     \u001b[38;5;66;03m# attempt. Raise the original exception instead.\u001b[39;00m\n",
      "\u001b[36mFile \u001b[39m\u001b[32m~/.pyenv/versions/3.13.1/envs/nosql/lib/python3.13/site-packages/pymongo/synchronous/mongo_client.py:2687\u001b[39m, in \u001b[36m_ClientConnectionRetryable._write\u001b[39m\u001b[34m(self)\u001b[39m\n\u001b[32m   2686\u001b[39m             \u001b[38;5;28mself\u001b[39m._retryable = \u001b[38;5;28;01mFalse\u001b[39;00m\n\u001b[32m-> \u001b[39m\u001b[32m2687\u001b[39m         \u001b[38;5;28;01mreturn\u001b[39;00m \u001b[38;5;28;43mself\u001b[39;49m\u001b[43m.\u001b[49m\u001b[43m_func\u001b[49m\u001b[43m(\u001b[49m\u001b[38;5;28;43mself\u001b[39;49m\u001b[43m.\u001b[49m\u001b[43m_session\u001b[49m\u001b[43m,\u001b[49m\u001b[43m \u001b[49m\u001b[43mconn\u001b[49m\u001b[43m,\u001b[49m\u001b[43m \u001b[49m\u001b[38;5;28;43mself\u001b[39;49m\u001b[43m.\u001b[49m\u001b[43m_retryable\u001b[49m\u001b[43m)\u001b[49m  \u001b[38;5;66;03m# type: ignore\u001b[39;00m\n\u001b[32m   2688\u001b[39m \u001b[38;5;28;01mexcept\u001b[39;00m PyMongoError \u001b[38;5;28;01mas\u001b[39;00m exc:\n",
      "\u001b[36mFile \u001b[39m\u001b[32m~/.pyenv/versions/3.13.1/envs/nosql/lib/python3.13/site-packages/pymongo/synchronous/collection.py:829\u001b[39m, in \u001b[36mCollection._insert_one.<locals>._insert_command\u001b[39m\u001b[34m(session, conn, retryable_write)\u001b[39m\n\u001b[32m    819\u001b[39m result = conn.command(\n\u001b[32m    820\u001b[39m     \u001b[38;5;28mself\u001b[39m._database.name,\n\u001b[32m    821\u001b[39m     command,\n\u001b[32m   (...)\u001b[39m\u001b[32m    826\u001b[39m     retryable_write=retryable_write,\n\u001b[32m    827\u001b[39m )\n\u001b[32m--> \u001b[39m\u001b[32m829\u001b[39m \u001b[43m_check_write_command_response\u001b[49m\u001b[43m(\u001b[49m\u001b[43mresult\u001b[49m\u001b[43m)\u001b[49m\n",
      "\u001b[36mFile \u001b[39m\u001b[32m~/.pyenv/versions/3.13.1/envs/nosql/lib/python3.13/site-packages/pymongo/helpers_shared.py:285\u001b[39m, in \u001b[36m_check_write_command_response\u001b[39m\u001b[34m(result)\u001b[39m\n\u001b[32m    284\u001b[39m \u001b[38;5;28;01mif\u001b[39;00m write_errors:\n\u001b[32m--> \u001b[39m\u001b[32m285\u001b[39m     \u001b[43m_raise_last_write_error\u001b[49m\u001b[43m(\u001b[49m\u001b[43mwrite_errors\u001b[49m\u001b[43m)\u001b[49m\n\u001b[32m    287\u001b[39m wce = _get_wce_doc(result)\n",
      "\u001b[36mFile \u001b[39m\u001b[32m~/.pyenv/versions/3.13.1/envs/nosql/lib/python3.13/site-packages/pymongo/helpers_shared.py:255\u001b[39m, in \u001b[36m_raise_last_write_error\u001b[39m\u001b[34m(write_errors)\u001b[39m\n\u001b[32m    254\u001b[39m \u001b[38;5;28;01mif\u001b[39;00m error.get(\u001b[33m\"\u001b[39m\u001b[33mcode\u001b[39m\u001b[33m\"\u001b[39m) == \u001b[32m11000\u001b[39m:\n\u001b[32m--> \u001b[39m\u001b[32m255\u001b[39m     \u001b[38;5;28;01mraise\u001b[39;00m DuplicateKeyError(error.get(\u001b[33m\"\u001b[39m\u001b[33merrmsg\u001b[39m\u001b[33m\"\u001b[39m), \u001b[32m11000\u001b[39m, error)\n\u001b[32m    256\u001b[39m \u001b[38;5;28;01mraise\u001b[39;00m WriteError(error.get(\u001b[33m\"\u001b[39m\u001b[33merrmsg\u001b[39m\u001b[33m\"\u001b[39m), error.get(\u001b[33m\"\u001b[39m\u001b[33mcode\u001b[39m\u001b[33m\"\u001b[39m), error)\n",
      "\u001b[31mDuplicateKeyError\u001b[39m: E11000 duplicate key error collection: pytest.foo_bar index: uid_1 dup key: { uid: \"bedrock\" }, full error: {'index': 0, 'code': 11000, 'errmsg': 'E11000 duplicate key error collection: pytest.foo_bar index: uid_1 dup key: { uid: \"bedrock\" }', 'keyPattern': {'uid': 1}, 'keyValue': {'uid': 'bedrock'}}",
      "\nDuring handling of the above exception, another exception occurred:\n",
      "\u001b[31mNotUniqueError\u001b[39m                            Traceback (most recent call last)",
      "\u001b[36mCell\u001b[39m\u001b[36m \u001b[39m\u001b[32mIn[136]\u001b[39m\u001b[32m, line 1\u001b[39m\n\u001b[32m----> \u001b[39m\u001b[32m1\u001b[39m \u001b[43mf1\u001b[49m\u001b[43m.\u001b[49m\u001b[43msave\u001b[49m\u001b[43m(\u001b[49m\u001b[43m)\u001b[49m\n",
      "\u001b[36mFile \u001b[39m\u001b[32m~/.pyenv/versions/3.13.1/envs/nosql/lib/python3.13/site-packages/mongoengine/document.py:473\u001b[39m, in \u001b[36mDocument.save\u001b[39m\u001b[34m(self, force_insert, validate, clean, write_concern, cascade, cascade_kwargs, _refs, save_condition, signal_kwargs, **kwargs)\u001b[39m\n\u001b[32m    471\u001b[39m \u001b[38;5;28;01mexcept\u001b[39;00m pymongo.errors.DuplicateKeyError \u001b[38;5;28;01mas\u001b[39;00m err:\n\u001b[32m    472\u001b[39m     message = \u001b[33m\"\u001b[39m\u001b[33mTried to save duplicate unique keys (\u001b[39m\u001b[38;5;132;01m%s\u001b[39;00m\u001b[33m)\u001b[39m\u001b[33m\"\u001b[39m\n\u001b[32m--> \u001b[39m\u001b[32m473\u001b[39m     \u001b[38;5;28;01mraise\u001b[39;00m NotUniqueError(message % err)\n\u001b[32m    474\u001b[39m \u001b[38;5;28;01mexcept\u001b[39;00m pymongo.errors.OperationFailure \u001b[38;5;28;01mas\u001b[39;00m err:\n\u001b[32m    475\u001b[39m     message = \u001b[33m\"\u001b[39m\u001b[33mCould not save document (\u001b[39m\u001b[38;5;132;01m%s\u001b[39;00m\u001b[33m)\u001b[39m\u001b[33m\"\u001b[39m\n",
      "\u001b[31mNotUniqueError\u001b[39m: Tried to save duplicate unique keys (E11000 duplicate key error collection: pytest.foo_bar index: uid_1 dup key: { uid: \"bedrock\" }, full error: {'index': 0, 'code': 11000, 'errmsg': 'E11000 duplicate key error collection: pytest.foo_bar index: uid_1 dup key: { uid: \"bedrock\" }', 'keyPattern': {'uid': 1}, 'keyValue': {'uid': 'bedrock'}})"
     ]
    }
   ],
   "source": [
    "f1.save()"
   ]
  },
  {
   "cell_type": "code",
   "execution_count": null,
   "metadata": {},
   "outputs": [],
   "source": [
    "try:\n",
    "    f2.save()\n",
    "except NotUniqueError as err:\n",
    "    print(err)"
   ]
  },
  {
   "cell_type": "code",
   "execution_count": null,
   "metadata": {},
   "outputs": [],
   "source": [
    "FooBar._meta"
   ]
  },
  {
   "cell_type": "markdown",
   "metadata": {},
   "source": [
    "Awesome!  Just defining a field as unique is enough to have MongoEngine create an index.  Don't know (and don't care, yet, at least) about the ramifications of `sparse = False`.\n",
    "\n",
    "> checked PyMongo docs, it's not what we think, and not something we want (even though we can have it by specifying `sparse=True` in the column spec)"
   ]
  },
  {
   "cell_type": "code",
   "execution_count": null,
   "metadata": {},
   "outputs": [],
   "source": []
  }
 ],
 "metadata": {
  "kernelspec": {
   "display_name": "nosql",
   "language": "python",
   "name": "python3"
  },
  "language_info": {
   "codemirror_mode": {
    "name": "ipython",
    "version": 3
   },
   "file_extension": ".py",
   "mimetype": "text/x-python",
   "name": "python",
   "nbconvert_exporter": "python",
   "pygments_lexer": "ipython3",
   "version": "3.13.1"
  }
 },
 "nbformat": 4,
 "nbformat_minor": 2
}
