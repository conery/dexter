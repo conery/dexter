{
 "cells": [
  {
   "cell_type": "markdown",
   "metadata": {},
   "source": [
    "### Experiment with MongoEngine"
   ]
  },
  {
   "cell_type": "markdown",
   "metadata": {},
   "source": [
    "The ODM we use to access MongoDB"
   ]
  },
  {
   "cell_type": "code",
   "execution_count": 1,
   "metadata": {},
   "outputs": [],
   "source": [
    "from dexter.DB import DB, Account, Entry, Transaction\n",
    "\n",
    "from datetime import date"
   ]
  },
  {
   "cell_type": "markdown",
   "metadata": {},
   "source": [
    "Open the database:"
   ]
  },
  {
   "cell_type": "code",
   "execution_count": 2,
   "metadata": {},
   "outputs": [],
   "source": [
    "DB.open('foo')"
   ]
  },
  {
   "cell_type": "markdown",
   "metadata": {},
   "source": [
    "Make an account:"
   ]
  },
  {
   "cell_type": "code",
   "execution_count": 3,
   "metadata": {},
   "outputs": [],
   "source": [
    "acct = Account(name='equity', group='Q')"
   ]
  },
  {
   "cell_type": "markdown",
   "metadata": {},
   "source": [
    "Save it:"
   ]
  },
  {
   "cell_type": "code",
   "execution_count": 4,
   "metadata": {},
   "outputs": [
    {
     "data": {
      "text/plain": [
       "<Account: Account object>"
      ]
     },
     "execution_count": 4,
     "metadata": {},
     "output_type": "execute_result"
    }
   ],
   "source": [
    "acct.save()"
   ]
  },
  {
   "cell_type": "markdown",
   "metadata": {},
   "source": [
    "If we open that DB with `mongosh` we should see the account.\n",
    "\n",
    "```\n",
    "$ mongosh\n",
    "\n",
    "test> use foo\n",
    "switched to db foo\n",
    "\n",
    "foo> db.account.find()\n",
    "[\n",
    "  {\n",
    "    _id: ObjectId('67c61fa19d0161a19b80469e'),\n",
    "    name: 'equity',\n",
    "    group: 'equity'\n",
    "  }\n",
    "]\n",
    "```\n",
    "\n",
    "It worked!  🎉"
   ]
  },
  {
   "cell_type": "markdown",
   "metadata": {},
   "source": [
    "### Contents of a Collection"
   ]
  },
  {
   "cell_type": "code",
   "execution_count": 5,
   "metadata": {},
   "outputs": [
    {
     "data": {
      "text/plain": [
       "[<Account: Account object>, <Account: Account object>, <Account: Account object>, <Account: Account object>, <Account: Account object>, <Account: Account object>, <Account: Account object>, <Account: Account object>, <Account: Account object>, <Account: Account object>, <Account: Account object>, <Account: Account object>, <Account: Account object>, <Account: Account object>, <Account: Account object>, <Account: Account object>, <Account: Account object>, <Account: Account object>, <Account: Account object>, <Account: Account object>, '...(remaining elements truncated)...']"
      ]
     },
     "execution_count": 5,
     "metadata": {},
     "output_type": "execute_result"
    }
   ],
   "source": [
    "Account.objects"
   ]
  },
  {
   "cell_type": "code",
   "execution_count": 6,
   "metadata": {},
   "outputs": [
    {
     "data": {
      "text/plain": [
       "<Account: Account object>"
      ]
     },
     "execution_count": 6,
     "metadata": {},
     "output_type": "execute_result"
    }
   ],
   "source": [
    "Account.objects[0]"
   ]
  },
  {
   "cell_type": "code",
   "execution_count": 7,
   "metadata": {},
   "outputs": [],
   "source": [
    "acct = Account.objects[0]"
   ]
  },
  {
   "cell_type": "code",
   "execution_count": 8,
   "metadata": {},
   "outputs": [
    {
     "data": {
      "text/plain": [
       "'equity'"
      ]
     },
     "execution_count": 8,
     "metadata": {},
     "output_type": "execute_result"
    }
   ],
   "source": [
    "acct.name"
   ]
  },
  {
   "cell_type": "markdown",
   "metadata": {},
   "source": [
    "### Low Level API"
   ]
  },
  {
   "cell_type": "markdown",
   "metadata": {},
   "source": [
    "We can also connect to the DB directly to use the `pymongo` library, _e.g._ to get collection names.\n",
    "\n",
    "After calling `DB.open` we can get a reference to the client and the current database using static vars of the module:"
   ]
  },
  {
   "cell_type": "code",
   "execution_count": 9,
   "metadata": {},
   "outputs": [
    {
     "data": {
      "text/plain": [
       "MongoClient(host=['localhost:27017'], document_class=dict, tz_aware=False, connect=True, read_preference=Primary(), uuidrepresentation=4, driver=DriverInfo(name='MongoEngine', version='0.29.1', platform=None))"
      ]
     },
     "execution_count": 9,
     "metadata": {},
     "output_type": "execute_result"
    }
   ],
   "source": [
    "DB.client"
   ]
  },
  {
   "cell_type": "code",
   "execution_count": 10,
   "metadata": {},
   "outputs": [
    {
     "data": {
      "text/plain": [
       "Database(MongoClient(host=['localhost:27017'], document_class=dict, tz_aware=False, connect=True, read_preference=Primary(), uuidrepresentation=4, driver=DriverInfo(name='MongoEngine', version='0.29.1', platform=None)), 'foo')"
      ]
     },
     "execution_count": 10,
     "metadata": {},
     "output_type": "execute_result"
    }
   ],
   "source": [
    "DB.database"
   ]
  },
  {
   "cell_type": "code",
   "execution_count": 11,
   "metadata": {},
   "outputs": [],
   "source": [
    "db = DB.database"
   ]
  },
  {
   "cell_type": "code",
   "execution_count": 12,
   "metadata": {},
   "outputs": [
    {
     "data": {
      "text/plain": [
       "Collection(Database(MongoClient(host=['localhost:27017'], document_class=dict, tz_aware=False, connect=True, read_preference=Primary(), uuidrepresentation=4, driver=DriverInfo(name='MongoEngine', version='0.29.1', platform=None)), 'foo'), 'account')"
      ]
     },
     "execution_count": 12,
     "metadata": {},
     "output_type": "execute_result"
    }
   ],
   "source": [
    "db.account"
   ]
  },
  {
   "cell_type": "code",
   "execution_count": 13,
   "metadata": {},
   "outputs": [
    {
     "data": {
      "text/plain": [
       "{'_id': ObjectId('67d0beacedddc777a19856d0'), 'name': 'equity', 'group': 'Q'}"
      ]
     },
     "execution_count": 13,
     "metadata": {},
     "output_type": "execute_result"
    }
   ],
   "source": [
    "db.account.find_one()"
   ]
  },
  {
   "cell_type": "markdown",
   "metadata": {},
   "source": [
    "### The Big Picture"
   ]
  },
  {
   "cell_type": "markdown",
   "metadata": {},
   "source": [
    "Use the high level API when working with data.  MongoEngine converts the documents into objects (which is something we'd be doing ourselves if we didn't use it).\n",
    "\n",
    "Use the low level API for collective operations: exporting, importing, ...\n",
    "\n",
    "**NOTE**  It's possible to get a document using the low level API, as shown above, but it will be a `dict`, not a model instance."
   ]
  },
  {
   "cell_type": "markdown",
   "metadata": {},
   "source": [
    "### Transactions"
   ]
  },
  {
   "cell_type": "code",
   "execution_count": 14,
   "metadata": {},
   "outputs": [],
   "source": [
    "t = Transaction(description='hi', comment='aloha')"
   ]
  },
  {
   "cell_type": "code",
   "execution_count": 15,
   "metadata": {},
   "outputs": [
    {
     "data": {
      "text/plain": [
       "'hi'"
      ]
     },
     "execution_count": 15,
     "metadata": {},
     "output_type": "execute_result"
    }
   ],
   "source": [
    "t.description"
   ]
  },
  {
   "cell_type": "markdown",
   "metadata": {},
   "source": [
    "Nice -- the list fields are initially empty."
   ]
  },
  {
   "cell_type": "code",
   "execution_count": 16,
   "metadata": {},
   "outputs": [
    {
     "data": {
      "text/plain": [
       "[]"
      ]
     },
     "execution_count": 16,
     "metadata": {},
     "output_type": "execute_result"
    }
   ],
   "source": [
    "t.tags"
   ]
  },
  {
   "cell_type": "code",
   "execution_count": 17,
   "metadata": {},
   "outputs": [
    {
     "data": {
      "text/plain": [
       "[]"
      ]
     },
     "execution_count": 17,
     "metadata": {},
     "output_type": "execute_result"
    }
   ],
   "source": [
    "t.entries"
   ]
  },
  {
   "cell_type": "markdown",
   "metadata": {},
   "source": [
    "### Entries"
   ]
  },
  {
   "cell_type": "code",
   "execution_count": 18,
   "metadata": {},
   "outputs": [],
   "source": [
    "p = Entry(uid='xxx', etype='credit', date='2025-03-05', amount=1000, account='unknown')"
   ]
  },
  {
   "cell_type": "code",
   "execution_count": 19,
   "metadata": {},
   "outputs": [
    {
     "data": {
      "text/plain": [
       "<Entry: Entry object>"
      ]
     },
     "execution_count": 19,
     "metadata": {},
     "output_type": "execute_result"
    }
   ],
   "source": [
    "p"
   ]
  },
  {
   "cell_type": "code",
   "execution_count": 20,
   "metadata": {},
   "outputs": [
    {
     "data": {
      "text/plain": [
       "<EntryType.cr: 'credit'>"
      ]
     },
     "execution_count": 20,
     "metadata": {},
     "output_type": "execute_result"
    }
   ],
   "source": [
    "p.etype"
   ]
  },
  {
   "cell_type": "code",
   "execution_count": 21,
   "metadata": {},
   "outputs": [
    {
     "data": {
      "text/plain": [
       "1000.0"
      ]
     },
     "execution_count": 21,
     "metadata": {},
     "output_type": "execute_result"
    }
   ],
   "source": [
    "p.amount"
   ]
  },
  {
   "cell_type": "markdown",
   "metadata": {},
   "source": [
    "### References"
   ]
  },
  {
   "cell_type": "markdown",
   "metadata": {},
   "source": [
    "The big test -- can we add that Entry to the transaction?"
   ]
  },
  {
   "cell_type": "code",
   "execution_count": 22,
   "metadata": {},
   "outputs": [],
   "source": [
    "t.entries.append(p)"
   ]
  },
  {
   "cell_type": "code",
   "execution_count": 23,
   "metadata": {},
   "outputs": [
    {
     "data": {
      "text/plain": [
       "[<Entry: Entry object>]"
      ]
     },
     "execution_count": 23,
     "metadata": {},
     "output_type": "execute_result"
    }
   ],
   "source": [
    "t.entries"
   ]
  },
  {
   "cell_type": "markdown",
   "metadata": {},
   "source": [
    "Yes!  🎉"
   ]
  },
  {
   "cell_type": "markdown",
   "metadata": {},
   "source": [
    "### Misc Commands"
   ]
  },
  {
   "cell_type": "code",
   "execution_count": 24,
   "metadata": {},
   "outputs": [
    {
     "data": {
      "text/plain": [
       "Collection(Database(MongoClient(host=['localhost:27017'], document_class=dict, tz_aware=False, connect=True, read_preference=Primary(), uuidrepresentation=4, driver=DriverInfo(name='MongoEngine', version='0.29.1', platform=None)), 'foo'), 'stats')"
      ]
     },
     "execution_count": 24,
     "metadata": {},
     "output_type": "execute_result"
    }
   ],
   "source": [
    "db.stats"
   ]
  },
  {
   "cell_type": "code",
   "execution_count": 25,
   "metadata": {},
   "outputs": [
    {
     "data": {
      "text/plain": [
       "<bound method Collection.find_one of Collection(Database(MongoClient(host=['localhost:27017'], document_class=dict, tz_aware=False, connect=True, read_preference=Primary(), uuidrepresentation=4, driver=DriverInfo(name='MongoEngine', version='0.29.1', platform=None)), 'foo'), 'stats')>"
      ]
     },
     "execution_count": 25,
     "metadata": {},
     "output_type": "execute_result"
    }
   ],
   "source": [
    "db.stats.find_one"
   ]
  },
  {
   "cell_type": "code",
   "execution_count": 26,
   "metadata": {},
   "outputs": [
    {
     "data": {
      "text/plain": [
       "['entry', 'account', 'transaction']"
      ]
     },
     "execution_count": 26,
     "metadata": {},
     "output_type": "execute_result"
    }
   ],
   "source": [
    "db.list_collection_names()"
   ]
  },
  {
   "cell_type": "code",
   "execution_count": 27,
   "metadata": {},
   "outputs": [
    {
     "data": {
      "text/plain": [
       "{'n': 22, 'ok': 1.0}"
      ]
     },
     "execution_count": 27,
     "metadata": {},
     "output_type": "execute_result"
    }
   ],
   "source": [
    "db.command('count','account')"
   ]
  },
  {
   "cell_type": "code",
   "execution_count": 28,
   "metadata": {},
   "outputs": [
    {
     "data": {
      "text/plain": [
       "{'isWritablePrimary': True,\n",
       " 'topologyVersion': {'processId': ObjectId('67c4fbece8eb6b0fbfe3b917'),\n",
       "  'counter': 0},\n",
       " 'maxBsonObjectSize': 16777216,\n",
       " 'maxMessageSizeBytes': 48000000,\n",
       " 'maxWriteBatchSize': 100000,\n",
       " 'localTime': datetime.datetime(2025, 3, 13, 17, 58, 31, 911000),\n",
       " 'logicalSessionTimeoutMinutes': 30,\n",
       " 'connectionId': 594,\n",
       " 'minWireVersion': 0,\n",
       " 'maxWireVersion': 25,\n",
       " 'readOnly': False,\n",
       " 'ok': 1.0}"
      ]
     },
     "execution_count": 28,
     "metadata": {},
     "output_type": "execute_result"
    }
   ],
   "source": [
    "db.command('hello')"
   ]
  },
  {
   "cell_type": "code",
   "execution_count": 29,
   "metadata": {},
   "outputs": [
    {
     "data": {
      "text/plain": [
       "{'system': {'currentTime': datetime.datetime(2025, 3, 13, 17, 58, 31, 916000),\n",
       "  'hostname': 'cthulhu.local',\n",
       "  'cpuAddrSize': 64,\n",
       "  'memSizeMB': 65536,\n",
       "  'memLimitMB': 65536,\n",
       "  'numCores': 12,\n",
       "  'numCoresAvailableToProcess': 12,\n",
       "  'numPhysicalCores': 12,\n",
       "  'numCpuSockets': 1,\n",
       "  'cpuArch': 'arm64',\n",
       "  'numaEnabled': False,\n",
       "  'numNumaNodes': 1},\n",
       " 'os': {'type': 'Darwin', 'name': 'Mac OS X', 'version': '24.3.0'},\n",
       " 'extra': {'versionString': 'Darwin Kernel Version 24.3.0: Thu Jan  2 20:24:23 PST 2025; root:xnu-11215.81.4~3/RELEASE_ARM64_T6020',\n",
       "  'alwaysFullSync': 0,\n",
       "  'nfsAsync': 0,\n",
       "  'model': 'Mac14,13',\n",
       "  'cpuString': 'Apple M2 Max',\n",
       "  'pageSize': 16384,\n",
       "  'scheduler': 'edge'},\n",
       " 'ok': 1.0}"
      ]
     },
     "execution_count": 29,
     "metadata": {},
     "output_type": "execute_result"
    }
   ],
   "source": [
    "db.command('hostInfo')"
   ]
  },
  {
   "cell_type": "code",
   "execution_count": 30,
   "metadata": {},
   "outputs": [
    {
     "data": {
      "text/plain": [
       "{'ok': 1.0}"
      ]
     },
     "execution_count": 30,
     "metadata": {},
     "output_type": "execute_result"
    }
   ],
   "source": [
    "db.command('ping')"
   ]
  },
  {
   "cell_type": "markdown",
   "metadata": {},
   "source": [
    "### Fetch Transactions"
   ]
  },
  {
   "cell_type": "markdown",
   "metadata": {},
   "source": [
    "Specify constraints on transactions"
   ]
  },
  {
   "cell_type": "code",
   "execution_count": 31,
   "metadata": {},
   "outputs": [
    {
     "data": {
      "text/plain": [
       "[<Transaction: Transaction object>, <Transaction: Transaction object>, <Transaction: Transaction object>, <Transaction: Transaction object>, <Transaction: Transaction object>, <Transaction: Transaction object>, <Transaction: Transaction object>, <Transaction: Transaction object>, <Transaction: Transaction object>, <Transaction: Transaction object>, <Transaction: Transaction object>, <Transaction: Transaction object>, <Transaction: Transaction object>, <Transaction: Transaction object>, <Transaction: Transaction object>, <Transaction: Transaction object>]"
      ]
     },
     "execution_count": 31,
     "metadata": {},
     "output_type": "execute_result"
    }
   ],
   "source": [
    "Transaction.objects"
   ]
  },
  {
   "cell_type": "code",
   "execution_count": 32,
   "metadata": {},
   "outputs": [
    {
     "data": {
      "text/plain": [
       "[<Transaction: Transaction object>, <Transaction: Transaction object>, <Transaction: Transaction object>, <Transaction: Transaction object>]"
      ]
     },
     "execution_count": 32,
     "metadata": {},
     "output_type": "execute_result"
    }
   ],
   "source": [
    "Transaction.objects(description='Safeway')"
   ]
  },
  {
   "cell_type": "code",
   "execution_count": 33,
   "metadata": {},
   "outputs": [
    {
     "name": "stdout",
     "output_type": "stream",
     "text": [
      "2024-01-07 groceries 75.0 EntryType.dr\n",
      "2024-01-07 checking 75.0 EntryType.cr\n",
      "2024-01-21 groceries 175.0 EntryType.dr\n",
      "2024-01-21 visa 175.0 EntryType.cr\n",
      "2024-02-07 groceries 75.0 EntryType.dr\n",
      "2024-02-07 checking 75.0 EntryType.cr\n",
      "2024-02-21 groceries 75.0 EntryType.dr\n",
      "2024-02-21 visa 75.0 EntryType.cr\n"
     ]
    }
   ],
   "source": [
    "for t in Transaction.objects(description='Safeway'):\n",
    "    for e in t.entries:\n",
    "        print(e.date, e.account, e.amount, e.etype)"
   ]
  },
  {
   "cell_type": "code",
   "execution_count": 34,
   "metadata": {},
   "outputs": [
    {
     "name": "stdout",
     "output_type": "stream",
     "text": [
      "{'groceries', 'checking'}\n",
      "{'groceries', 'visa'}\n",
      "{'groceries', 'checking'}\n",
      "{'groceries', 'visa'}\n"
     ]
    }
   ],
   "source": [
    "for t in Transaction.objects(description='Safeway'):\n",
    "    print(t.accounts)"
   ]
  },
  {
   "cell_type": "code",
   "execution_count": 35,
   "metadata": {},
   "outputs": [
    {
     "name": "stdout",
     "output_type": "stream",
     "text": [
      "75.0\n",
      "175.0\n",
      "75.0\n",
      "75.0\n"
     ]
    }
   ],
   "source": [
    "for t in Transaction.objects(description='Safeway'):\n",
    "    print(t.pamount)"
   ]
  },
  {
   "cell_type": "code",
   "execution_count": 36,
   "metadata": {},
   "outputs": [
    {
     "name": "stdout",
     "output_type": "stream",
     "text": [
      "2024-01-07 <class 'datetime.date'>\n",
      "2024-01-21 <class 'datetime.date'>\n",
      "2024-02-07 <class 'datetime.date'>\n",
      "2024-02-21 <class 'datetime.date'>\n"
     ]
    }
   ],
   "source": [
    "for t in Transaction.objects(description='Safeway'):\n",
    "    print(t.pdate, type(t.pdate))"
   ]
  },
  {
   "cell_type": "code",
   "execution_count": 37,
   "metadata": {},
   "outputs": [
    {
     "name": "stdout",
     "output_type": "stream",
     "text": [
      "/\n",
      "big party this weekend/\n",
      "/\n",
      "/\n"
     ]
    }
   ],
   "source": [
    "for t in Transaction.objects(description='Safeway'):\n",
    "    print(t.originals)"
   ]
  },
  {
   "cell_type": "code",
   "execution_count": 38,
   "metadata": {},
   "outputs": [],
   "source": [
    "lst = list(Transaction.objects(description='Safeway'))"
   ]
  },
  {
   "cell_type": "code",
   "execution_count": 39,
   "metadata": {},
   "outputs": [
    {
     "data": {
      "text/plain": [
       "'{\"_id\": {\"$oid\": \"67d0beacedddc777a198570b\"}, \"description\": \"Safeway\", \"comment\": \"weekly groceries\", \"tags\": [], \"entries\": [{\"$oid\": \"67d0beacedddc777a19856f5\"}, {\"$oid\": \"67d0beacedddc777a19856f6\"}], \"pdate\": {\"$date\": 1704585600000}, \"pdebit\": \"groceries\", \"pcredit\": \"checking\", \"pamount\": 75.0}'"
      ]
     },
     "execution_count": 39,
     "metadata": {},
     "output_type": "execute_result"
    }
   ],
   "source": [
    "lst[0].to_json()"
   ]
  },
  {
   "cell_type": "code",
   "execution_count": 40,
   "metadata": {},
   "outputs": [],
   "source": [
    "lst[1].comment"
   ]
  },
  {
   "cell_type": "code",
   "execution_count": 41,
   "metadata": {},
   "outputs": [
    {
     "data": {
      "text/plain": [
       "175.0"
      ]
     },
     "execution_count": 41,
     "metadata": {},
     "output_type": "execute_result"
    }
   ],
   "source": [
    "lst[1].pamount"
   ]
  },
  {
   "cell_type": "code",
   "execution_count": 42,
   "metadata": {},
   "outputs": [
    {
     "data": {
      "text/plain": [
       "datetime.date(2024, 1, 21)"
      ]
     },
     "execution_count": 42,
     "metadata": {},
     "output_type": "execute_result"
    }
   ],
   "source": [
    "lst[1].pdate"
   ]
  },
  {
   "cell_type": "code",
   "execution_count": 43,
   "metadata": {},
   "outputs": [
    {
     "data": {
      "text/plain": [
       "[<Transaction: Transaction object>,\n",
       " <Transaction: Transaction object>,\n",
       " <Transaction: Transaction object>,\n",
       " <Transaction: Transaction object>,\n",
       " <Transaction: Transaction object>,\n",
       " <Transaction: Transaction object>,\n",
       " <Transaction: Transaction object>]"
      ]
     },
     "execution_count": 43,
     "metadata": {},
     "output_type": "execute_result"
    }
   ],
   "source": [
    "list(Transaction.objects(pamount__lt=175.0))"
   ]
  },
  {
   "cell_type": "code",
   "execution_count": 44,
   "metadata": {},
   "outputs": [
    {
     "name": "stdout",
     "output_type": "stream",
     "text": [
      "2024-01-02 5000.0 checking yoyodyne\n",
      "2024-01-02 5000.0 yoyodyne groceries/mortgage/car/travel\n"
     ]
    }
   ],
   "source": [
    "for t in Transaction.objects(pdate=date(2024,1,2)):\n",
    "    print(t.pdate, t.pamount, t.pdebit, t.pcredit)"
   ]
  },
  {
   "cell_type": "code",
   "execution_count": 45,
   "metadata": {},
   "outputs": [
    {
     "name": "stdout",
     "output_type": "stream",
     "text": [
      "2024-01-02 5000.0 checking yoyodyne\n",
      "2024-01-02 5000.0 yoyodyne groceries/mortgage/car/travel\n"
     ]
    }
   ],
   "source": [
    "for t in Transaction.objects(pdate__lte=date(2024,1,2)):\n",
    "    print(t.pdate, t.pamount, t.pdebit, t.pcredit)"
   ]
  },
  {
   "cell_type": "markdown",
   "metadata": {},
   "source": [
    "### Operators"
   ]
  },
  {
   "cell_type": "code",
   "execution_count": 46,
   "metadata": {},
   "outputs": [
    {
     "name": "stdout",
     "output_type": "stream",
     "text": [
      "2024-01-02 paycheck\n",
      "2024-01-02 fill buckets\n",
      "2024-02-02 paycheck\n",
      "2024-02-02 fill buckets\n",
      "2024-01-05 car payment\n",
      "2024-02-05 car payment\n",
      "2024-01-10 Shell Oil\n",
      "2024-02-26 Shell Oil\n",
      "2024-01-07 Safeway\n",
      "2024-01-21 Safeway\n",
      "2024-02-07 Safeway\n",
      "2024-02-21 Safeway\n"
     ]
    }
   ],
   "source": [
    "for t in Transaction.objects(description__gte='Safeway'):\n",
    "    print(t.pdate, t.description)"
   ]
  },
  {
   "cell_type": "code",
   "execution_count": 47,
   "metadata": {},
   "outputs": [
    {
     "name": "stdout",
     "output_type": "stream",
     "text": [
      "2024-01-10 Shell Oil\n",
      "2024-02-26 Shell Oil\n",
      "2024-01-07 Safeway\n",
      "2024-01-21 Safeway\n",
      "2024-02-07 Safeway\n",
      "2024-02-21 Safeway\n"
     ]
    }
   ],
   "source": [
    "for t in Transaction.objects(description__regex='^S'):\n",
    "    print(t.pdate, t.description)"
   ]
  },
  {
   "cell_type": "markdown",
   "metadata": {},
   "source": [
    "The operator automatically applies to list elements."
   ]
  },
  {
   "cell_type": "code",
   "execution_count": 48,
   "metadata": {},
   "outputs": [
    {
     "name": "stdout",
     "output_type": "stream",
     "text": [
      "2024-01-02 fill buckets 5000.0\n",
      "2024-02-02 fill buckets 5000.0\n",
      "2024-01-05 car payment 500.0\n",
      "2024-02-05 car payment 500.0\n",
      "2024-01-10 Shell Oil 50.0\n",
      "2024-02-26 Shell Oil 60.0\n",
      "2024-01-04 Rocket Mortgage 1800.0\n",
      "2024-02-04 Rocket Mortgage 1800.0\n",
      "2024-03-10 Home Depot 50.0\n",
      "2024-03-12 Home Depot 25.0\n"
     ]
    }
   ],
   "source": [
    "for t in Transaction.objects(description__regex=r'\\s'):\n",
    "    print(t.pdate, t.description, t.pamount)"
   ]
  },
  {
   "cell_type": "markdown",
   "metadata": {},
   "source": [
    "For compound constraints we need another class from MongoEngine."
   ]
  },
  {
   "cell_type": "code",
   "execution_count": 49,
   "metadata": {},
   "outputs": [],
   "source": [
    "from mongoengine.queryset.visitor import Q"
   ]
  },
  {
   "cell_type": "code",
   "execution_count": 50,
   "metadata": {},
   "outputs": [
    {
     "name": "stdout",
     "output_type": "stream",
     "text": [
      "2024-01-10 Shell Oil\n",
      "2024-02-26 Shell Oil\n",
      "2024-01-07 Safeway\n",
      "2024-01-21 Safeway\n",
      "2024-02-07 Safeway\n",
      "2024-02-21 Safeway\n"
     ]
    }
   ],
   "source": [
    "for t in Transaction.objects(Q(description__regex=r'^S')):\n",
    "    print(t.pdate, t.description)"
   ]
  },
  {
   "cell_type": "code",
   "execution_count": 51,
   "metadata": {},
   "outputs": [
    {
     "name": "stdout",
     "output_type": "stream",
     "text": [
      "2024-01-10 Shell Oil\n",
      "2024-02-26 Shell Oil\n"
     ]
    }
   ],
   "source": [
    "for t in Transaction.objects(Q(description__regex=r'^S') & Q(description__regex=r'\\s')):\n",
    "    print(t.pdate, t.description)"
   ]
  },
  {
   "cell_type": "markdown",
   "metadata": {},
   "source": [
    "### QuerySet"
   ]
  },
  {
   "cell_type": "code",
   "execution_count": 52,
   "metadata": {},
   "outputs": [
    {
     "name": "stdout",
     "output_type": "stream",
     "text": [
      "amex\n",
      "visa\n",
      "groceries\n",
      "household\n",
      "mortgage\n",
      "car\n",
      "travel\n"
     ]
    }
   ],
   "source": [
    "for a in Account.nominal_accounts:\n",
    "    print(a.name)"
   ]
  },
  {
   "cell_type": "markdown",
   "metadata": {},
   "source": [
    "### Combining Query Elements"
   ]
  },
  {
   "cell_type": "code",
   "execution_count": 53,
   "metadata": {},
   "outputs": [],
   "source": [
    "q = Q(description__regex=r'^S')"
   ]
  },
  {
   "cell_type": "code",
   "execution_count": 54,
   "metadata": {},
   "outputs": [
    {
     "data": {
      "text/plain": [
       "Q(**{'description__regex': '^S'})"
      ]
     },
     "execution_count": 54,
     "metadata": {},
     "output_type": "execute_result"
    }
   ],
   "source": [
    "q"
   ]
  },
  {
   "cell_type": "code",
   "execution_count": 55,
   "metadata": {},
   "outputs": [
    {
     "data": {
      "text/plain": [
       "mongoengine.queryset.visitor.Q"
      ]
     },
     "execution_count": 55,
     "metadata": {},
     "output_type": "execute_result"
    }
   ],
   "source": [
    "type(q)"
   ]
  },
  {
   "cell_type": "code",
   "execution_count": 56,
   "metadata": {},
   "outputs": [],
   "source": [
    "p = Q(description__regex=r'\\s')"
   ]
  },
  {
   "cell_type": "code",
   "execution_count": 57,
   "metadata": {},
   "outputs": [
    {
     "data": {
      "text/plain": [
       "(Q(**{'description__regex': '\\\\s'}) & Q(**{'description__regex': '^S'}))"
      ]
     },
     "execution_count": 57,
     "metadata": {},
     "output_type": "execute_result"
    }
   ],
   "source": [
    "p & q"
   ]
  },
  {
   "cell_type": "code",
   "execution_count": 58,
   "metadata": {},
   "outputs": [
    {
     "name": "stdout",
     "output_type": "stream",
     "text": [
      "2024-01-10 Shell Oil\n",
      "2024-02-26 Shell Oil\n"
     ]
    }
   ],
   "source": [
    "for t in Transaction.objects(p & q):\n",
    "    print(t.pdate, t.description)"
   ]
  },
  {
   "cell_type": "markdown",
   "metadata": {},
   "source": [
    "Create Q object using dictionaries"
   ]
  },
  {
   "cell_type": "code",
   "execution_count": 59,
   "metadata": {},
   "outputs": [],
   "source": [
    "dct = {'description__regex': r'^S'}"
   ]
  },
  {
   "cell_type": "code",
   "execution_count": 60,
   "metadata": {},
   "outputs": [
    {
     "data": {
      "text/plain": [
       "Q(**{'description__regex': '^S'})"
      ]
     },
     "execution_count": 60,
     "metadata": {},
     "output_type": "execute_result"
    }
   ],
   "source": [
    "Q(**dct)"
   ]
  },
  {
   "cell_type": "markdown",
   "metadata": {},
   "source": [
    "Can an object have multiple constraints?"
   ]
  },
  {
   "cell_type": "code",
   "execution_count": 61,
   "metadata": {},
   "outputs": [],
   "source": [
    "dct = {'description__regex': r'^S', 'pamount__gt': 100}"
   ]
  },
  {
   "cell_type": "code",
   "execution_count": 62,
   "metadata": {},
   "outputs": [
    {
     "data": {
      "text/plain": [
       "Q(**{'description__regex': '^S', 'pamount__gt': 100})"
      ]
     },
     "execution_count": 62,
     "metadata": {},
     "output_type": "execute_result"
    }
   ],
   "source": [
    "Q(**dct)"
   ]
  },
  {
   "cell_type": "code",
   "execution_count": 63,
   "metadata": {},
   "outputs": [
    {
     "name": "stdout",
     "output_type": "stream",
     "text": [
      "2024-01-21 Safeway 175.0\n"
     ]
    }
   ],
   "source": [
    "for t in Transaction.objects(Q(**dct)):\n",
    "    print(t.pdate, t.description, t.pamount)"
   ]
  },
  {
   "cell_type": "markdown",
   "metadata": {},
   "source": [
    "Yep!"
   ]
  },
  {
   "cell_type": "markdown",
   "metadata": {},
   "source": [
    "### Select Method"
   ]
  },
  {
   "cell_type": "markdown",
   "metadata": {},
   "source": [
    "#### Select Transactions"
   ]
  },
  {
   "cell_type": "markdown",
   "metadata": {},
   "source": [
    "All transactions:"
   ]
  },
  {
   "cell_type": "code",
   "execution_count": 90,
   "metadata": {},
   "outputs": [
    {
     "name": "stdout",
     "output_type": "stream",
     "text": [
      "2024-01-02 5000.0 yoyodyne checking\n",
      "2024-01-02 5000.0 groceries/mortgage/car/travel yoyodyne\n",
      "2024-02-02 5000.0 yoyodyne checking\n",
      "2024-02-02 5000.0 groceries/mortgage/car/travel yoyodyne\n",
      "2024-01-05 500.0 checking car\n",
      "2024-02-05 500.0 checking car\n",
      "2024-01-10 50.0 visa car\n",
      "2024-02-26 60.0 visa car\n",
      "2024-01-04 1800.0 checking mortgage\n",
      "2024-02-04 1800.0 checking mortgage\n",
      "2024-01-07 75.0 checking groceries\n",
      "2024-01-21 175.0 visa groceries\n",
      "2024-02-07 75.0 checking groceries\n",
      "2024-02-21 75.0 visa groceries\n",
      "2024-03-10 50.0 amex household\n",
      "2024-03-12 25.0 household amex\n"
     ]
    }
   ],
   "source": [
    "for t in DB.select(Transaction):\n",
    "    print(t.pdate, t.pamount, t.pcredit, t.pdebit)"
   ]
  },
  {
   "cell_type": "markdown",
   "metadata": {},
   "source": [
    "By date:"
   ]
  },
  {
   "cell_type": "code",
   "execution_count": 64,
   "metadata": {},
   "outputs": [
    {
     "name": "stdout",
     "output_type": "stream",
     "text": [
      "2024-01-21 175.0 visa groceries\n"
     ]
    }
   ],
   "source": [
    "for t in DB.select(Transaction, date=date(2024,1,21)):\n",
    "    print(t.pdate, t.pamount, t.pcredit, t.pdebit)"
   ]
  },
  {
   "cell_type": "code",
   "execution_count": 65,
   "metadata": {},
   "outputs": [
    {
     "name": "stdout",
     "output_type": "stream",
     "text": [
      "2024-02-02 5000.0 yoyodyne checking\n",
      "2024-02-02 5000.0 groceries/mortgage/car/travel yoyodyne\n",
      "2024-02-05 500.0 checking car\n",
      "2024-02-26 60.0 visa car\n",
      "2024-02-04 1800.0 checking mortgage\n",
      "2024-01-21 175.0 visa groceries\n",
      "2024-02-07 75.0 checking groceries\n",
      "2024-02-21 75.0 visa groceries\n",
      "2024-03-10 50.0 amex household\n",
      "2024-03-12 25.0 household amex\n"
     ]
    }
   ],
   "source": [
    "for t in DB.select(Transaction, start_date=date(2024,1,21)):\n",
    "    print(t.pdate, t.pamount, t.pcredit, t.pdebit)"
   ]
  },
  {
   "cell_type": "code",
   "execution_count": 66,
   "metadata": {},
   "outputs": [
    {
     "name": "stdout",
     "output_type": "stream",
     "text": [
      "2024-01-02 5000.0 yoyodyne checking\n",
      "2024-01-02 5000.0 groceries/mortgage/car/travel yoyodyne\n",
      "2024-01-05 500.0 checking car\n",
      "2024-01-10 50.0 visa car\n",
      "2024-01-04 1800.0 checking mortgage\n",
      "2024-01-07 75.0 checking groceries\n",
      "2024-01-21 175.0 visa groceries\n"
     ]
    }
   ],
   "source": [
    "for t in DB.select(Transaction, end_date=date(2024,1,21)):\n",
    "    print(t.pdate, t.pamount, t.pcredit, t.pdebit)"
   ]
  },
  {
   "cell_type": "markdown",
   "metadata": {},
   "source": [
    "By amount:"
   ]
  },
  {
   "cell_type": "code",
   "execution_count": 67,
   "metadata": {},
   "outputs": [
    {
     "name": "stdout",
     "output_type": "stream",
     "text": [
      "2024-01-07 75.0 checking groceries\n",
      "2024-02-07 75.0 checking groceries\n",
      "2024-02-21 75.0 visa groceries\n"
     ]
    }
   ],
   "source": [
    "for t in DB.select(Transaction, amount=75):\n",
    "    print(t.pdate, t.pamount, t.pcredit, t.pdebit)"
   ]
  },
  {
   "cell_type": "code",
   "execution_count": 92,
   "metadata": {},
   "outputs": [],
   "source": [
    "lst = DB.select(Transaction, amount=75)"
   ]
  },
  {
   "cell_type": "code",
   "execution_count": 100,
   "metadata": {},
   "outputs": [
    {
     "data": {
      "text/plain": [
       "True"
      ]
     },
     "execution_count": 100,
     "metadata": {},
     "output_type": "execute_result"
    }
   ],
   "source": [
    "all(t.pamount == 75 for t in lst)"
   ]
  },
  {
   "cell_type": "code",
   "execution_count": 68,
   "metadata": {},
   "outputs": [
    {
     "name": "stdout",
     "output_type": "stream",
     "text": [
      "2024-01-10 50.0 visa car\n",
      "2024-02-26 60.0 visa car\n",
      "2024-01-07 75.0 checking groceries\n",
      "2024-02-07 75.0 checking groceries\n",
      "2024-02-21 75.0 visa groceries\n",
      "2024-03-10 50.0 amex household\n",
      "2024-03-12 25.0 household amex\n"
     ]
    }
   ],
   "source": [
    "for t in DB.select(Transaction, max_amount=75):\n",
    "    print(t.pdate, t.pamount, t.pcredit, t.pdebit)"
   ]
  },
  {
   "cell_type": "code",
   "execution_count": 69,
   "metadata": {},
   "outputs": [
    {
     "name": "stdout",
     "output_type": "stream",
     "text": [
      "2024-01-02 5000.0 yoyodyne checking\n",
      "2024-01-02 5000.0 groceries/mortgage/car/travel yoyodyne\n",
      "2024-02-02 5000.0 yoyodyne checking\n",
      "2024-02-02 5000.0 groceries/mortgage/car/travel yoyodyne\n",
      "2024-01-05 500.0 checking car\n",
      "2024-02-05 500.0 checking car\n",
      "2024-01-04 1800.0 checking mortgage\n",
      "2024-02-04 1800.0 checking mortgage\n",
      "2024-01-07 75.0 checking groceries\n",
      "2024-01-21 175.0 visa groceries\n",
      "2024-02-07 75.0 checking groceries\n",
      "2024-02-21 75.0 visa groceries\n"
     ]
    }
   ],
   "source": [
    "for t in DB.select(Transaction, min_amount=75):\n",
    "    print(t.pdate, t.pamount, t.pcredit, t.pdebit)"
   ]
  },
  {
   "cell_type": "markdown",
   "metadata": {},
   "source": [
    "By description:"
   ]
  },
  {
   "cell_type": "code",
   "execution_count": 70,
   "metadata": {},
   "outputs": [
    {
     "name": "stdout",
     "output_type": "stream",
     "text": [
      "2024-01-10 50.0 Shell Oil visa car\n",
      "2024-02-26 60.0 Shell Oil visa car\n",
      "2024-01-07 75.0 Safeway checking groceries\n",
      "2024-01-21 175.0 Safeway visa groceries\n",
      "2024-02-07 75.0 Safeway checking groceries\n",
      "2024-02-21 75.0 Safeway visa groceries\n"
     ]
    }
   ],
   "source": [
    "for t in DB.select(Transaction, description = r'^s'):\n",
    "    print(t.pdate, t.pamount, t.description, t.pcredit, t.pdebit)"
   ]
  },
  {
   "cell_type": "code",
   "execution_count": 76,
   "metadata": {},
   "outputs": [
    {
     "name": "stdout",
     "output_type": "stream",
     "text": [
      "2024-01-02 5000.0 fill buckets 2024 budget groceries/mortgage/car/travel yoyodyne\n",
      "2024-02-02 5000.0 fill buckets 2024 budget groceries/mortgage/car/travel yoyodyne\n"
     ]
    }
   ],
   "source": [
    "for t in DB.select(Transaction, comment=r'budget'):\n",
    "    print(t.pdate, t.pamount, t.description, t.comment, t.pcredit, t.pdebit)"
   ]
  },
  {
   "cell_type": "markdown",
   "metadata": {},
   "source": [
    "By account:"
   ]
  },
  {
   "cell_type": "code",
   "execution_count": 79,
   "metadata": {},
   "outputs": [
    {
     "name": "stdout",
     "output_type": "stream",
     "text": [
      "2024-01-04 1800.0 checking mortgage\n",
      "2024-02-04 1800.0 checking mortgage\n"
     ]
    }
   ],
   "source": [
    "for t in DB.select(Transaction, debit='mortgage'):\n",
    "    print(t.pdate, t.pamount, t.pcredit, t.pdebit)"
   ]
  },
  {
   "cell_type": "code",
   "execution_count": 80,
   "metadata": {},
   "outputs": [
    {
     "name": "stdout",
     "output_type": "stream",
     "text": [
      "2024-01-02 5000.0 groceries/mortgage/car/travel yoyodyne\n",
      "2024-02-02 5000.0 groceries/mortgage/car/travel yoyodyne\n"
     ]
    }
   ],
   "source": [
    "for t in DB.select(Transaction, credit='mortgage'):\n",
    "    print(t.pdate, t.pamount, t.pcredit, t.pdebit)"
   ]
  },
  {
   "cell_type": "markdown",
   "metadata": {},
   "source": [
    "Some random combinations"
   ]
  },
  {
   "cell_type": "code",
   "execution_count": 101,
   "metadata": {},
   "outputs": [
    {
     "name": "stdout",
     "output_type": "stream",
     "text": [
      "2024-01-21 175.0 Safeway visa groceries\n"
     ]
    }
   ],
   "source": [
    "for t in DB.select(Transaction, description = r'^s', min_amount=100):\n",
    "    print(t.pdate, t.pamount, t.description, t.pcredit, t.pdebit)"
   ]
  },
  {
   "cell_type": "code",
   "execution_count": null,
   "metadata": {},
   "outputs": [
    {
     "name": "stdout",
     "output_type": "stream",
     "text": [
      "2024-02-26 60.0 Shell Oil visa car\n",
      "2024-02-21 75.0 Safeway visa groceries\n"
     ]
    }
   ],
   "source": [
    "for t in DB.select(Transaction, start_date = date(2024,2,1), credit='visa'):\n",
    "    print(t.pdate, t.pamount, t.description, t.pcredit, t.pdebit)"
   ]
  },
  {
   "cell_type": "markdown",
   "metadata": {},
   "source": [
    "#### Select Entries"
   ]
  },
  {
   "cell_type": "markdown",
   "metadata": {},
   "source": [
    "All entries:"
   ]
  },
  {
   "cell_type": "code",
   "execution_count": 103,
   "metadata": {},
   "outputs": [
    {
     "data": {
      "text/plain": [
       "38"
      ]
     },
     "execution_count": 103,
     "metadata": {},
     "output_type": "execute_result"
    }
   ],
   "source": [
    "len(DB.select(Entry))"
   ]
  },
  {
   "cell_type": "code",
   "execution_count": 91,
   "metadata": {},
   "outputs": [
    {
     "name": "stdout",
     "output_type": "stream",
     "text": [
      "2024-01-02 checking 5000.0 EntryType.dr\n",
      "2024-01-02 yoyodyne 5000.0 EntryType.cr\n",
      "2024-01-02 yoyodyne 5000.0 EntryType.dr\n",
      "2024-01-02 groceries 300.0 EntryType.cr\n",
      "2024-01-02 mortgage 1800.0 EntryType.cr\n",
      "2024-01-02 car 900.0 EntryType.cr\n",
      "2024-01-02 travel 2000.0 EntryType.cr\n",
      "2024-02-02 checking 5000.0 EntryType.dr\n",
      "2024-02-02 yoyodyne 5000.0 EntryType.cr\n",
      "2024-02-02 yoyodyne 5000.0 EntryType.dr\n",
      "2024-02-02 groceries 300.0 EntryType.cr\n",
      "2024-02-02 mortgage 1800.0 EntryType.cr\n",
      "2024-02-02 car 900.0 EntryType.cr\n",
      "2024-02-02 travel 2000.0 EntryType.cr\n",
      "2024-01-05 car 500.0 EntryType.dr\n",
      "2024-01-05 checking 500.0 EntryType.cr\n",
      "2024-02-05 car 500.0 EntryType.dr\n",
      "2024-02-05 checking 500.0 EntryType.cr\n",
      "2024-01-10 car 50.0 EntryType.dr\n",
      "2024-01-10 visa 50.0 EntryType.cr\n",
      "2024-02-26 car 60.0 EntryType.dr\n",
      "2024-02-26 visa 60.0 EntryType.cr\n",
      "2024-01-04 mortgage 1800.0 EntryType.dr\n",
      "2024-01-04 checking 1800.0 EntryType.cr\n",
      "2024-02-04 mortgage 1800.0 EntryType.dr\n",
      "2024-02-04 checking 1800.0 EntryType.cr\n",
      "2024-01-07 groceries 75.0 EntryType.dr\n",
      "2024-01-07 checking 75.0 EntryType.cr\n",
      "2024-01-21 groceries 175.0 EntryType.dr\n",
      "2024-01-21 visa 175.0 EntryType.cr\n",
      "2024-02-07 groceries 75.0 EntryType.dr\n",
      "2024-02-07 checking 75.0 EntryType.cr\n",
      "2024-02-21 groceries 75.0 EntryType.dr\n",
      "2024-02-21 visa 75.0 EntryType.cr\n",
      "2024-03-10 household 50.0 EntryType.dr\n",
      "2024-03-10 amex 50.0 EntryType.cr\n",
      "2024-03-12 household 25.0 EntryType.cr\n",
      "2024-03-12 amex 25.0 EntryType.dr\n"
     ]
    }
   ],
   "source": [
    "for e in DB.select(Entry):\n",
    "    print(e.date, e.account, e.amount, e.etype)"
   ]
  },
  {
   "cell_type": "markdown",
   "metadata": {},
   "source": [
    "By date:"
   ]
  },
  {
   "cell_type": "code",
   "execution_count": 81,
   "metadata": {},
   "outputs": [
    {
     "name": "stdout",
     "output_type": "stream",
     "text": [
      "2024-01-05 car 500.0 EntryType.dr\n",
      "2024-01-05 checking 500.0 EntryType.cr\n"
     ]
    }
   ],
   "source": [
    "for e in DB.select(Entry, date=date(2024,1,5)):\n",
    "    print(e.date, e.account, e.amount, e.etype)"
   ]
  },
  {
   "cell_type": "code",
   "execution_count": 82,
   "metadata": {},
   "outputs": [
    {
     "name": "stdout",
     "output_type": "stream",
     "text": [
      "2024-02-02 checking 5000.0 EntryType.dr\n",
      "2024-02-02 yoyodyne 5000.0 EntryType.cr\n",
      "2024-02-02 yoyodyne 5000.0 EntryType.dr\n",
      "2024-02-02 groceries 300.0 EntryType.cr\n",
      "2024-02-02 mortgage 1800.0 EntryType.cr\n",
      "2024-02-02 car 900.0 EntryType.cr\n",
      "2024-02-02 travel 2000.0 EntryType.cr\n",
      "2024-01-05 car 500.0 EntryType.dr\n",
      "2024-01-05 checking 500.0 EntryType.cr\n",
      "2024-02-05 car 500.0 EntryType.dr\n",
      "2024-02-05 checking 500.0 EntryType.cr\n",
      "2024-01-10 car 50.0 EntryType.dr\n",
      "2024-01-10 visa 50.0 EntryType.cr\n",
      "2024-02-26 car 60.0 EntryType.dr\n",
      "2024-02-26 visa 60.0 EntryType.cr\n",
      "2024-02-04 mortgage 1800.0 EntryType.dr\n",
      "2024-02-04 checking 1800.0 EntryType.cr\n",
      "2024-01-07 groceries 75.0 EntryType.dr\n",
      "2024-01-07 checking 75.0 EntryType.cr\n",
      "2024-01-21 groceries 175.0 EntryType.dr\n",
      "2024-01-21 visa 175.0 EntryType.cr\n",
      "2024-02-07 groceries 75.0 EntryType.dr\n",
      "2024-02-07 checking 75.0 EntryType.cr\n",
      "2024-02-21 groceries 75.0 EntryType.dr\n",
      "2024-02-21 visa 75.0 EntryType.cr\n",
      "2024-03-10 household 50.0 EntryType.dr\n",
      "2024-03-10 amex 50.0 EntryType.cr\n",
      "2024-03-12 household 25.0 EntryType.cr\n",
      "2024-03-12 amex 25.0 EntryType.dr\n"
     ]
    }
   ],
   "source": [
    "for e in DB.select(Entry, start_date=date(2024,1,5)):\n",
    "    print(e.date, e.account, e.amount, e.etype)"
   ]
  },
  {
   "cell_type": "code",
   "execution_count": 83,
   "metadata": {},
   "outputs": [
    {
     "name": "stdout",
     "output_type": "stream",
     "text": [
      "2024-01-02 checking 5000.0 EntryType.dr\n",
      "2024-01-02 yoyodyne 5000.0 EntryType.cr\n",
      "2024-01-02 yoyodyne 5000.0 EntryType.dr\n",
      "2024-01-02 groceries 300.0 EntryType.cr\n",
      "2024-01-02 mortgage 1800.0 EntryType.cr\n",
      "2024-01-02 car 900.0 EntryType.cr\n",
      "2024-01-02 travel 2000.0 EntryType.cr\n",
      "2024-01-05 car 500.0 EntryType.dr\n",
      "2024-01-05 checking 500.0 EntryType.cr\n",
      "2024-01-04 mortgage 1800.0 EntryType.dr\n",
      "2024-01-04 checking 1800.0 EntryType.cr\n"
     ]
    }
   ],
   "source": [
    "for e in DB.select(Entry, end_date=date(2024,1,5)):\n",
    "    print(e.date, e.account, e.amount, e.etype)"
   ]
  },
  {
   "cell_type": "markdown",
   "metadata": {},
   "source": [
    "By amount:"
   ]
  },
  {
   "cell_type": "code",
   "execution_count": 84,
   "metadata": {},
   "outputs": [
    {
     "name": "stdout",
     "output_type": "stream",
     "text": [
      "2024-01-02 car 900.0 EntryType.cr\n",
      "2024-02-02 car 900.0 EntryType.cr\n"
     ]
    }
   ],
   "source": [
    "for e in DB.select(Entry, amount=900):\n",
    "    print(e.date, e.account, e.amount, e.etype)"
   ]
  },
  {
   "cell_type": "code",
   "execution_count": 85,
   "metadata": {},
   "outputs": [
    {
     "name": "stdout",
     "output_type": "stream",
     "text": [
      "2024-01-02 groceries 300.0 EntryType.cr\n",
      "2024-01-02 car 900.0 EntryType.cr\n",
      "2024-02-02 groceries 300.0 EntryType.cr\n",
      "2024-02-02 car 900.0 EntryType.cr\n",
      "2024-01-05 car 500.0 EntryType.dr\n",
      "2024-01-05 checking 500.0 EntryType.cr\n",
      "2024-02-05 car 500.0 EntryType.dr\n",
      "2024-02-05 checking 500.0 EntryType.cr\n",
      "2024-01-10 car 50.0 EntryType.dr\n",
      "2024-01-10 visa 50.0 EntryType.cr\n",
      "2024-02-26 car 60.0 EntryType.dr\n",
      "2024-02-26 visa 60.0 EntryType.cr\n",
      "2024-01-07 groceries 75.0 EntryType.dr\n",
      "2024-01-07 checking 75.0 EntryType.cr\n",
      "2024-01-21 groceries 175.0 EntryType.dr\n",
      "2024-01-21 visa 175.0 EntryType.cr\n",
      "2024-02-07 groceries 75.0 EntryType.dr\n",
      "2024-02-07 checking 75.0 EntryType.cr\n",
      "2024-02-21 groceries 75.0 EntryType.dr\n",
      "2024-02-21 visa 75.0 EntryType.cr\n",
      "2024-03-10 household 50.0 EntryType.dr\n",
      "2024-03-10 amex 50.0 EntryType.cr\n",
      "2024-03-12 household 25.0 EntryType.cr\n",
      "2024-03-12 amex 25.0 EntryType.dr\n"
     ]
    }
   ],
   "source": [
    "for e in DB.select(Entry, max_amount=900):\n",
    "    print(e.date, e.account, e.amount, e.etype)"
   ]
  },
  {
   "cell_type": "code",
   "execution_count": 86,
   "metadata": {},
   "outputs": [
    {
     "name": "stdout",
     "output_type": "stream",
     "text": [
      "2024-01-02 checking 5000.0 EntryType.dr\n",
      "2024-01-02 yoyodyne 5000.0 EntryType.cr\n",
      "2024-01-02 yoyodyne 5000.0 EntryType.dr\n",
      "2024-01-02 mortgage 1800.0 EntryType.cr\n",
      "2024-01-02 car 900.0 EntryType.cr\n",
      "2024-01-02 travel 2000.0 EntryType.cr\n",
      "2024-02-02 checking 5000.0 EntryType.dr\n",
      "2024-02-02 yoyodyne 5000.0 EntryType.cr\n",
      "2024-02-02 yoyodyne 5000.0 EntryType.dr\n",
      "2024-02-02 mortgage 1800.0 EntryType.cr\n",
      "2024-02-02 car 900.0 EntryType.cr\n",
      "2024-02-02 travel 2000.0 EntryType.cr\n",
      "2024-01-04 mortgage 1800.0 EntryType.dr\n",
      "2024-01-04 checking 1800.0 EntryType.cr\n",
      "2024-02-04 mortgage 1800.0 EntryType.dr\n",
      "2024-02-04 checking 1800.0 EntryType.cr\n"
     ]
    }
   ],
   "source": [
    "for e in DB.select(Entry, min_amount=900):\n",
    "    print(e.date, e.account, e.amount, e.etype)"
   ]
  },
  {
   "cell_type": "markdown",
   "metadata": {},
   "source": [
    "By account:"
   ]
  },
  {
   "cell_type": "code",
   "execution_count": 87,
   "metadata": {},
   "outputs": [
    {
     "name": "stdout",
     "output_type": "stream",
     "text": [
      "2024-01-02 groceries 300.0 EntryType.cr\n",
      "2024-02-02 groceries 300.0 EntryType.cr\n",
      "2024-01-07 groceries 75.0 EntryType.dr\n",
      "2024-01-21 groceries 175.0 EntryType.dr\n",
      "2024-02-07 groceries 75.0 EntryType.dr\n",
      "2024-02-21 groceries 75.0 EntryType.dr\n"
     ]
    }
   ],
   "source": [
    "for e in DB.select(Entry, account='groceries'):\n",
    "    print(e.date, e.account, e.amount, e.etype)"
   ]
  },
  {
   "cell_type": "markdown",
   "metadata": {},
   "source": [
    "By column:"
   ]
  },
  {
   "cell_type": "code",
   "execution_count": 88,
   "metadata": {},
   "outputs": [
    {
     "name": "stdout",
     "output_type": "stream",
     "text": [
      "2024-01-02 yoyodyne 5000.0 EntryType.cr\n",
      "2024-01-02 groceries 300.0 EntryType.cr\n",
      "2024-01-02 mortgage 1800.0 EntryType.cr\n",
      "2024-01-02 car 900.0 EntryType.cr\n",
      "2024-01-02 travel 2000.0 EntryType.cr\n",
      "2024-02-02 yoyodyne 5000.0 EntryType.cr\n",
      "2024-02-02 groceries 300.0 EntryType.cr\n",
      "2024-02-02 mortgage 1800.0 EntryType.cr\n",
      "2024-02-02 car 900.0 EntryType.cr\n",
      "2024-02-02 travel 2000.0 EntryType.cr\n",
      "2024-01-05 checking 500.0 EntryType.cr\n",
      "2024-02-05 checking 500.0 EntryType.cr\n",
      "2024-01-10 visa 50.0 EntryType.cr\n",
      "2024-02-26 visa 60.0 EntryType.cr\n",
      "2024-01-04 checking 1800.0 EntryType.cr\n",
      "2024-02-04 checking 1800.0 EntryType.cr\n",
      "2024-01-07 checking 75.0 EntryType.cr\n",
      "2024-01-21 visa 175.0 EntryType.cr\n",
      "2024-02-07 checking 75.0 EntryType.cr\n",
      "2024-02-21 visa 75.0 EntryType.cr\n",
      "2024-03-10 amex 50.0 EntryType.cr\n",
      "2024-03-12 household 25.0 EntryType.cr\n"
     ]
    }
   ],
   "source": [
    "for e in DB.select(Entry, column='credit'):\n",
    "    print(e.date, e.account, e.amount, e.etype)"
   ]
  },
  {
   "cell_type": "code",
   "execution_count": 89,
   "metadata": {},
   "outputs": [
    {
     "name": "stdout",
     "output_type": "stream",
     "text": [
      "2024-01-02 checking 5000.0 EntryType.dr\n",
      "2024-01-02 yoyodyne 5000.0 EntryType.dr\n",
      "2024-02-02 checking 5000.0 EntryType.dr\n",
      "2024-02-02 yoyodyne 5000.0 EntryType.dr\n",
      "2024-01-05 car 500.0 EntryType.dr\n",
      "2024-02-05 car 500.0 EntryType.dr\n",
      "2024-01-10 car 50.0 EntryType.dr\n",
      "2024-02-26 car 60.0 EntryType.dr\n",
      "2024-01-04 mortgage 1800.0 EntryType.dr\n",
      "2024-02-04 mortgage 1800.0 EntryType.dr\n",
      "2024-01-07 groceries 75.0 EntryType.dr\n",
      "2024-01-21 groceries 175.0 EntryType.dr\n",
      "2024-02-07 groceries 75.0 EntryType.dr\n",
      "2024-02-21 groceries 75.0 EntryType.dr\n",
      "2024-03-10 household 50.0 EntryType.dr\n",
      "2024-03-12 amex 25.0 EntryType.dr\n"
     ]
    }
   ],
   "source": [
    "for e in DB.select(Entry, column='debit'):\n",
    "    print(e.date, e.account, e.amount, e.etype)"
   ]
  },
  {
   "cell_type": "code",
   "execution_count": null,
   "metadata": {},
   "outputs": [],
   "source": []
  }
 ],
 "metadata": {
  "kernelspec": {
   "display_name": "nosql",
   "language": "python",
   "name": "python3"
  },
  "language_info": {
   "codemirror_mode": {
    "name": "ipython",
    "version": 3
   },
   "file_extension": ".py",
   "mimetype": "text/x-python",
   "name": "python",
   "nbconvert_exporter": "python",
   "pygments_lexer": "ipython3",
   "version": "3.13.1"
  }
 },
 "nbformat": 4,
 "nbformat_minor": 2
}
