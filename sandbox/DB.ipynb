{
 "cells": [
  {
   "cell_type": "markdown",
   "metadata": {},
   "source": [
    "### Experiment with MongoEngine"
   ]
  },
  {
   "cell_type": "markdown",
   "metadata": {},
   "source": [
    "The ODM we use to access MongoDB"
   ]
  },
  {
   "cell_type": "code",
   "execution_count": 1,
   "metadata": {},
   "outputs": [],
   "source": [
    "from dexter.DB import DB, Account, Entry, Transaction\n",
    "\n",
    "from datetime import date"
   ]
  },
  {
   "cell_type": "markdown",
   "metadata": {},
   "source": [
    "Open the database:"
   ]
  },
  {
   "cell_type": "code",
   "execution_count": 2,
   "metadata": {},
   "outputs": [],
   "source": [
    "DB.open('pytest')"
   ]
  },
  {
   "cell_type": "markdown",
   "metadata": {},
   "source": [
    "Make an account:"
   ]
  },
  {
   "cell_type": "code",
   "execution_count": 3,
   "metadata": {},
   "outputs": [],
   "source": [
    "acct = Account(name='equity', category='Q')"
   ]
  },
  {
   "cell_type": "markdown",
   "metadata": {},
   "source": [
    "Save it:"
   ]
  },
  {
   "cell_type": "code",
   "execution_count": 4,
   "metadata": {},
   "outputs": [
    {
     "data": {
      "text/plain": [
       "<Account: Account object>"
      ]
     },
     "execution_count": 4,
     "metadata": {},
     "output_type": "execute_result"
    }
   ],
   "source": [
    "acct.save()"
   ]
  },
  {
   "cell_type": "markdown",
   "metadata": {},
   "source": [
    "If we open that DB with `mongosh` we should see the account.\n",
    "\n",
    "```\n",
    "$ mongosh\n",
    "\n",
    "test> use foo\n",
    "switched to db foo\n",
    "\n",
    "foo> db.account.find()\n",
    "[\n",
    "  {\n",
    "    _id: ObjectId('67c61fa19d0161a19b80469e'),\n",
    "    name: 'equity',\n",
    "    group: 'equity'\n",
    "  }\n",
    "]\n",
    "```\n",
    "\n",
    "It worked!  🎉"
   ]
  },
  {
   "cell_type": "markdown",
   "metadata": {},
   "source": [
    "### Contents of a Collection"
   ]
  },
  {
   "cell_type": "code",
   "execution_count": 5,
   "metadata": {},
   "outputs": [
    {
     "data": {
      "text/plain": [
       "[<Account: Account object>, <Account: Account object>, <Account: Account object>, <Account: Account object>, <Account: Account object>, <Account: Account object>, <Account: Account object>, <Account: Account object>, <Account: Account object>, <Account: Account object>, <Account: Account object>, <Account: Account object>, <Account: Account object>]"
      ]
     },
     "execution_count": 5,
     "metadata": {},
     "output_type": "execute_result"
    }
   ],
   "source": [
    "Account.objects"
   ]
  },
  {
   "cell_type": "code",
   "execution_count": 6,
   "metadata": {},
   "outputs": [
    {
     "data": {
      "text/plain": [
       "<Account: Account object>"
      ]
     },
     "execution_count": 6,
     "metadata": {},
     "output_type": "execute_result"
    }
   ],
   "source": [
    "Account.objects[0]"
   ]
  },
  {
   "cell_type": "code",
   "execution_count": 7,
   "metadata": {},
   "outputs": [],
   "source": [
    "acct = Account.objects[0]"
   ]
  },
  {
   "cell_type": "code",
   "execution_count": 8,
   "metadata": {},
   "outputs": [
    {
     "data": {
      "text/plain": [
       "'equity'"
      ]
     },
     "execution_count": 8,
     "metadata": {},
     "output_type": "execute_result"
    }
   ],
   "source": [
    "acct.name"
   ]
  },
  {
   "cell_type": "markdown",
   "metadata": {},
   "source": [
    "### Low Level API"
   ]
  },
  {
   "cell_type": "markdown",
   "metadata": {},
   "source": [
    "We can also connect to the DB directly to use the `pymongo` library, _e.g._ to get collection names.\n",
    "\n",
    "After calling `DB.open` we can get a reference to the client and the current database using static vars of the module:"
   ]
  },
  {
   "cell_type": "code",
   "execution_count": 9,
   "metadata": {},
   "outputs": [
    {
     "data": {
      "text/plain": [
       "MongoClient(host=['localhost:27017'], document_class=dict, tz_aware=False, connect=True, read_preference=Primary(), uuidrepresentation=4, driver=DriverInfo(name='MongoEngine', version='0.29.1', platform=None))"
      ]
     },
     "execution_count": 9,
     "metadata": {},
     "output_type": "execute_result"
    }
   ],
   "source": [
    "DB.client"
   ]
  },
  {
   "cell_type": "code",
   "execution_count": 10,
   "metadata": {},
   "outputs": [
    {
     "data": {
      "text/plain": [
       "Database(MongoClient(host=['localhost:27017'], document_class=dict, tz_aware=False, connect=True, read_preference=Primary(), uuidrepresentation=4, driver=DriverInfo(name='MongoEngine', version='0.29.1', platform=None)), 'pytest')"
      ]
     },
     "execution_count": 10,
     "metadata": {},
     "output_type": "execute_result"
    }
   ],
   "source": [
    "DB.database"
   ]
  },
  {
   "cell_type": "code",
   "execution_count": 11,
   "metadata": {},
   "outputs": [],
   "source": [
    "db = DB.database"
   ]
  },
  {
   "cell_type": "code",
   "execution_count": 12,
   "metadata": {},
   "outputs": [
    {
     "data": {
      "text/plain": [
       "Collection(Database(MongoClient(host=['localhost:27017'], document_class=dict, tz_aware=False, connect=True, read_preference=Primary(), uuidrepresentation=4, driver=DriverInfo(name='MongoEngine', version='0.29.1', platform=None)), 'pytest'), 'account')"
      ]
     },
     "execution_count": 12,
     "metadata": {},
     "output_type": "execute_result"
    }
   ],
   "source": [
    "db.account"
   ]
  },
  {
   "cell_type": "code",
   "execution_count": 13,
   "metadata": {},
   "outputs": [
    {
     "data": {
      "text/plain": [
       "{'_id': ObjectId('67d8a6899a2cc4f5379b0ff1'),\n",
       " 'name': 'equity',\n",
       " 'category': 'Q'}"
      ]
     },
     "execution_count": 13,
     "metadata": {},
     "output_type": "execute_result"
    }
   ],
   "source": [
    "db.account.find_one()"
   ]
  },
  {
   "cell_type": "markdown",
   "metadata": {},
   "source": [
    "### The Big Picture"
   ]
  },
  {
   "cell_type": "markdown",
   "metadata": {},
   "source": [
    "Use the high level API when working with data.  MongoEngine converts the documents into objects (which is something we'd be doing ourselves if we didn't use it).\n",
    "\n",
    "Use the low level API for collective operations: exporting, importing, ...\n",
    "\n",
    "**NOTE**  It's possible to get a document using the low level API, as shown above, but it will be a `dict`, not a model instance."
   ]
  },
  {
   "cell_type": "markdown",
   "metadata": {},
   "source": [
    "### Transactions"
   ]
  },
  {
   "cell_type": "code",
   "execution_count": 14,
   "metadata": {},
   "outputs": [],
   "source": [
    "t = Transaction(description='hi', comment='aloha')"
   ]
  },
  {
   "cell_type": "code",
   "execution_count": 15,
   "metadata": {},
   "outputs": [
    {
     "data": {
      "text/plain": [
       "'hi'"
      ]
     },
     "execution_count": 15,
     "metadata": {},
     "output_type": "execute_result"
    }
   ],
   "source": [
    "t.description"
   ]
  },
  {
   "cell_type": "markdown",
   "metadata": {},
   "source": [
    "Nice -- the list fields are initially empty."
   ]
  },
  {
   "cell_type": "code",
   "execution_count": 16,
   "metadata": {},
   "outputs": [
    {
     "data": {
      "text/plain": [
       "[]"
      ]
     },
     "execution_count": 16,
     "metadata": {},
     "output_type": "execute_result"
    }
   ],
   "source": [
    "t.tags"
   ]
  },
  {
   "cell_type": "code",
   "execution_count": 17,
   "metadata": {},
   "outputs": [
    {
     "data": {
      "text/plain": [
       "[]"
      ]
     },
     "execution_count": 17,
     "metadata": {},
     "output_type": "execute_result"
    }
   ],
   "source": [
    "t.entries"
   ]
  },
  {
   "cell_type": "markdown",
   "metadata": {},
   "source": [
    "### Entries"
   ]
  },
  {
   "cell_type": "code",
   "execution_count": 18,
   "metadata": {},
   "outputs": [],
   "source": [
    "p = Entry(uid='xxx', column='credit', date='2025-03-05', amount=1000, account='unknown')"
   ]
  },
  {
   "cell_type": "code",
   "execution_count": 19,
   "metadata": {},
   "outputs": [
    {
     "data": {
      "text/plain": [
       "<Entry: <En 2025-03-05 unknown -$1000.0>>"
      ]
     },
     "execution_count": 19,
     "metadata": {},
     "output_type": "execute_result"
    }
   ],
   "source": [
    "p"
   ]
  },
  {
   "cell_type": "code",
   "execution_count": 20,
   "metadata": {},
   "outputs": [
    {
     "data": {
      "text/plain": [
       "<Column.cr: 'credit'>"
      ]
     },
     "execution_count": 20,
     "metadata": {},
     "output_type": "execute_result"
    }
   ],
   "source": [
    "p.column"
   ]
  },
  {
   "cell_type": "code",
   "execution_count": 21,
   "metadata": {},
   "outputs": [
    {
     "data": {
      "text/plain": [
       "1000.0"
      ]
     },
     "execution_count": 21,
     "metadata": {},
     "output_type": "execute_result"
    }
   ],
   "source": [
    "p.amount"
   ]
  },
  {
   "cell_type": "markdown",
   "metadata": {},
   "source": [
    "### References"
   ]
  },
  {
   "cell_type": "markdown",
   "metadata": {},
   "source": [
    "The big test -- can we add that Entry to the transaction?"
   ]
  },
  {
   "cell_type": "code",
   "execution_count": 22,
   "metadata": {},
   "outputs": [],
   "source": [
    "t.entries.append(p)"
   ]
  },
  {
   "cell_type": "code",
   "execution_count": 23,
   "metadata": {},
   "outputs": [
    {
     "data": {
      "text/plain": [
       "[<Entry: <En 2025-03-05 unknown -$1000.0>>]"
      ]
     },
     "execution_count": 23,
     "metadata": {},
     "output_type": "execute_result"
    }
   ],
   "source": [
    "t.entries"
   ]
  },
  {
   "cell_type": "markdown",
   "metadata": {},
   "source": [
    "Yes!  🎉"
   ]
  },
  {
   "cell_type": "markdown",
   "metadata": {},
   "source": [
    "### Misc Commands"
   ]
  },
  {
   "cell_type": "code",
   "execution_count": 24,
   "metadata": {},
   "outputs": [
    {
     "data": {
      "text/plain": [
       "Collection(Database(MongoClient(host=['localhost:27017'], document_class=dict, tz_aware=False, connect=True, read_preference=Primary(), uuidrepresentation=4, driver=DriverInfo(name='MongoEngine', version='0.29.1', platform=None)), 'pytest'), 'stats')"
      ]
     },
     "execution_count": 24,
     "metadata": {},
     "output_type": "execute_result"
    }
   ],
   "source": [
    "db.stats"
   ]
  },
  {
   "cell_type": "code",
   "execution_count": 25,
   "metadata": {},
   "outputs": [
    {
     "data": {
      "text/plain": [
       "<bound method Collection.find_one of Collection(Database(MongoClient(host=['localhost:27017'], document_class=dict, tz_aware=False, connect=True, read_preference=Primary(), uuidrepresentation=4, driver=DriverInfo(name='MongoEngine', version='0.29.1', platform=None)), 'pytest'), 'stats')>"
      ]
     },
     "execution_count": 25,
     "metadata": {},
     "output_type": "execute_result"
    }
   ],
   "source": [
    "db.stats.find_one"
   ]
  },
  {
   "cell_type": "code",
   "execution_count": 26,
   "metadata": {},
   "outputs": [
    {
     "data": {
      "text/plain": [
       "['transaction', 'account', 'entry']"
      ]
     },
     "execution_count": 26,
     "metadata": {},
     "output_type": "execute_result"
    }
   ],
   "source": [
    "db.list_collection_names()"
   ]
  },
  {
   "cell_type": "code",
   "execution_count": 27,
   "metadata": {},
   "outputs": [
    {
     "data": {
      "text/plain": [
       "{'n': 13, 'ok': 1.0}"
      ]
     },
     "execution_count": 27,
     "metadata": {},
     "output_type": "execute_result"
    }
   ],
   "source": [
    "db.command('count','account')"
   ]
  },
  {
   "cell_type": "code",
   "execution_count": 28,
   "metadata": {},
   "outputs": [
    {
     "data": {
      "text/plain": [
       "{'isWritablePrimary': True,\n",
       " 'topologyVersion': {'processId': ObjectId('67d82d956572fe0fb182796b'),\n",
       "  'counter': 0},\n",
       " 'maxBsonObjectSize': 16777216,\n",
       " 'maxMessageSizeBytes': 48000000,\n",
       " 'maxWriteBatchSize': 100000,\n",
       " 'localTime': datetime.datetime(2025, 3, 19, 23, 57, 4, 834000),\n",
       " 'logicalSessionTimeoutMinutes': 30,\n",
       " 'connectionId': 66,\n",
       " 'minWireVersion': 0,\n",
       " 'maxWireVersion': 25,\n",
       " 'readOnly': False,\n",
       " 'ok': 1.0}"
      ]
     },
     "execution_count": 28,
     "metadata": {},
     "output_type": "execute_result"
    }
   ],
   "source": [
    "db.command('hello')"
   ]
  },
  {
   "cell_type": "code",
   "execution_count": 29,
   "metadata": {},
   "outputs": [
    {
     "data": {
      "text/plain": [
       "{'system': {'currentTime': datetime.datetime(2025, 3, 19, 23, 57, 4, 838000),\n",
       "  'hostname': 'fiontán.local',\n",
       "  'cpuAddrSize': 64,\n",
       "  'memSizeMB': 32768,\n",
       "  'memLimitMB': 32768,\n",
       "  'numCores': 10,\n",
       "  'numCoresAvailableToProcess': 10,\n",
       "  'numPhysicalCores': 10,\n",
       "  'numCpuSockets': 1,\n",
       "  'cpuArch': 'arm64',\n",
       "  'numaEnabled': False,\n",
       "  'numNumaNodes': 1},\n",
       " 'os': {'type': 'Darwin', 'name': 'Mac OS X', 'version': '24.3.0'},\n",
       " 'extra': {'versionString': 'Darwin Kernel Version 24.3.0: Thu Jan  2 20:24:16 PST 2025; root:xnu-11215.81.4~3/RELEASE_ARM64_T6000',\n",
       "  'alwaysFullSync': 0,\n",
       "  'nfsAsync': 0,\n",
       "  'model': 'MacBookPro18,3',\n",
       "  'cpuString': 'Apple M1 Pro',\n",
       "  'pageSize': 16384,\n",
       "  'scheduler': 'edge'},\n",
       " 'ok': 1.0}"
      ]
     },
     "execution_count": 29,
     "metadata": {},
     "output_type": "execute_result"
    }
   ],
   "source": [
    "db.command('hostInfo')"
   ]
  },
  {
   "cell_type": "code",
   "execution_count": 30,
   "metadata": {},
   "outputs": [
    {
     "data": {
      "text/plain": [
       "{'ok': 1.0}"
      ]
     },
     "execution_count": 30,
     "metadata": {},
     "output_type": "execute_result"
    }
   ],
   "source": [
    "db.command('ping')"
   ]
  },
  {
   "cell_type": "markdown",
   "metadata": {},
   "source": [
    "### Fetch Transactions"
   ]
  },
  {
   "cell_type": "markdown",
   "metadata": {},
   "source": [
    "Specify constraints on transactions"
   ]
  },
  {
   "cell_type": "code",
   "execution_count": 31,
   "metadata": {},
   "outputs": [
    {
     "data": {
      "text/plain": [
       "[<Transaction: <Tr 2024-01-02 yoyodyne -> checking $5000.0 paycheck>>, <Transaction: <Tr 2024-01-02 groceries/mortgage/car/travel -> yoyodyne $5000.0 fill buckets>>, <Transaction: <Tr 2024-02-02 yoyodyne -> checking $5000.0 paycheck>>, <Transaction: <Tr 2024-02-02 groceries/mortgage/car/travel -> yoyodyne $5000.0 fill buckets>>, <Transaction: <Tr 2024-01-05 checking -> car $500.0 car payment>>, <Transaction: <Tr 2024-02-05 checking -> car $500.0 car payment>>, <Transaction: <Tr 2024-01-10 visa -> car $50.0 Shell Oil>>, <Transaction: <Tr 2024-02-26 visa -> car $60.0 Shell Oil>>, <Transaction: <Tr 2024-01-04 checking -> mortgage $1800.0 Rocket Mortgage>>, <Transaction: <Tr 2024-02-04 checking -> mortgage $1800.0 Rocket Mortgage>>, <Transaction: <Tr 2024-01-07 checking -> groceries $75.0 Safeway>>, <Transaction: <Tr 2024-01-21 visa -> groceries $175.0 Safeway>>, <Transaction: <Tr 2024-02-07 checking -> groceries $75.0 Safeway>>, <Transaction: <Tr 2024-02-21 visa -> groceries $75.0 Safeway>>, <Transaction: <Tr 2024-03-10 amex -> household $50.0 Home Depot>>, <Transaction: <Tr 2024-03-12 household -> amex $25.0 Home Depot>>]"
      ]
     },
     "execution_count": 31,
     "metadata": {},
     "output_type": "execute_result"
    }
   ],
   "source": [
    "Transaction.objects"
   ]
  },
  {
   "cell_type": "code",
   "execution_count": 32,
   "metadata": {},
   "outputs": [
    {
     "data": {
      "text/plain": [
       "[<Transaction: <Tr 2024-01-07 checking -> groceries $75.0 Safeway>>, <Transaction: <Tr 2024-01-21 visa -> groceries $175.0 Safeway>>, <Transaction: <Tr 2024-02-07 checking -> groceries $75.0 Safeway>>, <Transaction: <Tr 2024-02-21 visa -> groceries $75.0 Safeway>>]"
      ]
     },
     "execution_count": 32,
     "metadata": {},
     "output_type": "execute_result"
    }
   ],
   "source": [
    "Transaction.objects(description='Safeway')"
   ]
  },
  {
   "cell_type": "code",
   "execution_count": 33,
   "metadata": {},
   "outputs": [
    {
     "name": "stdout",
     "output_type": "stream",
     "text": [
      "2024-01-07 groceries 75.0 debit\n",
      "2024-01-07 checking 75.0 credit\n",
      "2024-01-21 groceries 175.0 debit\n",
      "2024-01-21 visa 175.0 credit\n",
      "2024-02-07 groceries 75.0 debit\n",
      "2024-02-07 checking 75.0 credit\n",
      "2024-02-21 groceries 75.0 debit\n",
      "2024-02-21 visa 75.0 credit\n"
     ]
    }
   ],
   "source": [
    "for t in Transaction.objects(description='Safeway'):\n",
    "    for e in t.entries:\n",
    "        print(e.date, e.account, e.amount, e.column)"
   ]
  },
  {
   "cell_type": "code",
   "execution_count": 34,
   "metadata": {},
   "outputs": [
    {
     "name": "stdout",
     "output_type": "stream",
     "text": [
      "{'checking', 'groceries'}\n",
      "{'visa', 'groceries'}\n",
      "{'checking', 'groceries'}\n",
      "{'visa', 'groceries'}\n"
     ]
    }
   ],
   "source": [
    "for t in Transaction.objects(description='Safeway'):\n",
    "    print(t.accounts)"
   ]
  },
  {
   "cell_type": "code",
   "execution_count": 35,
   "metadata": {},
   "outputs": [
    {
     "name": "stdout",
     "output_type": "stream",
     "text": [
      "75.0\n",
      "175.0\n",
      "75.0\n",
      "75.0\n"
     ]
    }
   ],
   "source": [
    "for t in Transaction.objects(description='Safeway'):\n",
    "    print(t.pamount)"
   ]
  },
  {
   "cell_type": "code",
   "execution_count": 36,
   "metadata": {},
   "outputs": [
    {
     "name": "stdout",
     "output_type": "stream",
     "text": [
      "2024-01-07 <class 'datetime.date'>\n",
      "2024-01-21 <class 'datetime.date'>\n",
      "2024-02-07 <class 'datetime.date'>\n",
      "2024-02-21 <class 'datetime.date'>\n"
     ]
    }
   ],
   "source": [
    "for t in Transaction.objects(description='Safeway'):\n",
    "    print(t.pdate, type(t.pdate))"
   ]
  },
  {
   "cell_type": "code",
   "execution_count": 37,
   "metadata": {},
   "outputs": [
    {
     "name": "stdout",
     "output_type": "stream",
     "text": [
      "/\n",
      "big party this weekend/\n",
      "/\n",
      "/\n"
     ]
    }
   ],
   "source": [
    "for t in Transaction.objects(description='Safeway'):\n",
    "    print(t.originals)"
   ]
  },
  {
   "cell_type": "code",
   "execution_count": 38,
   "metadata": {},
   "outputs": [],
   "source": [
    "lst = list(Transaction.objects(description='Safeway'))"
   ]
  },
  {
   "cell_type": "code",
   "execution_count": 39,
   "metadata": {},
   "outputs": [
    {
     "data": {
      "text/plain": [
       "'{\"_id\": {\"$oid\": \"67d8a68a9a2cc4f5379b102b\"}, \"description\": \"Safeway\", \"comment\": \"weekly groceries\", \"tags\": [], \"entries\": [{\"$oid\": \"67d8a6899a2cc4f5379b1015\"}, {\"$oid\": \"67d8a6899a2cc4f5379b1016\"}], \"pdate\": {\"$date\": 1704585600000}, \"pdebit\": \"groceries\", \"pcredit\": \"checking\", \"pamount\": 75.0}'"
      ]
     },
     "execution_count": 39,
     "metadata": {},
     "output_type": "execute_result"
    }
   ],
   "source": [
    "lst[0].to_json()"
   ]
  },
  {
   "cell_type": "code",
   "execution_count": 40,
   "metadata": {},
   "outputs": [],
   "source": [
    "lst[1].comment"
   ]
  },
  {
   "cell_type": "code",
   "execution_count": 41,
   "metadata": {},
   "outputs": [
    {
     "data": {
      "text/plain": [
       "175.0"
      ]
     },
     "execution_count": 41,
     "metadata": {},
     "output_type": "execute_result"
    }
   ],
   "source": [
    "lst[1].pamount"
   ]
  },
  {
   "cell_type": "code",
   "execution_count": 42,
   "metadata": {},
   "outputs": [
    {
     "data": {
      "text/plain": [
       "datetime.date(2024, 1, 21)"
      ]
     },
     "execution_count": 42,
     "metadata": {},
     "output_type": "execute_result"
    }
   ],
   "source": [
    "lst[1].pdate"
   ]
  },
  {
   "cell_type": "code",
   "execution_count": 43,
   "metadata": {},
   "outputs": [
    {
     "data": {
      "text/plain": [
       "[<Transaction: <Tr 2024-01-10 visa -> car $50.0 Shell Oil>>,\n",
       " <Transaction: <Tr 2024-02-26 visa -> car $60.0 Shell Oil>>,\n",
       " <Transaction: <Tr 2024-01-07 checking -> groceries $75.0 Safeway>>,\n",
       " <Transaction: <Tr 2024-02-07 checking -> groceries $75.0 Safeway>>,\n",
       " <Transaction: <Tr 2024-02-21 visa -> groceries $75.0 Safeway>>,\n",
       " <Transaction: <Tr 2024-03-10 amex -> household $50.0 Home Depot>>,\n",
       " <Transaction: <Tr 2024-03-12 household -> amex $25.0 Home Depot>>]"
      ]
     },
     "execution_count": 43,
     "metadata": {},
     "output_type": "execute_result"
    }
   ],
   "source": [
    "list(Transaction.objects(pamount__lt=175.0))"
   ]
  },
  {
   "cell_type": "code",
   "execution_count": 44,
   "metadata": {},
   "outputs": [
    {
     "name": "stdout",
     "output_type": "stream",
     "text": [
      "2024-01-02 5000.0 checking yoyodyne\n",
      "2024-01-02 5000.0 yoyodyne groceries/mortgage/car/travel\n"
     ]
    }
   ],
   "source": [
    "for t in Transaction.objects(pdate=date(2024,1,2)):\n",
    "    print(t.pdate, t.pamount, t.pdebit, t.pcredit)"
   ]
  },
  {
   "cell_type": "code",
   "execution_count": 45,
   "metadata": {},
   "outputs": [
    {
     "name": "stdout",
     "output_type": "stream",
     "text": [
      "2024-01-02 5000.0 checking yoyodyne\n",
      "2024-01-02 5000.0 yoyodyne groceries/mortgage/car/travel\n"
     ]
    }
   ],
   "source": [
    "for t in Transaction.objects(pdate__lte=date(2024,1,2)):\n",
    "    print(t.pdate, t.pamount, t.pdebit, t.pcredit)"
   ]
  },
  {
   "cell_type": "markdown",
   "metadata": {},
   "source": [
    "### Operators"
   ]
  },
  {
   "cell_type": "code",
   "execution_count": 46,
   "metadata": {},
   "outputs": [
    {
     "name": "stdout",
     "output_type": "stream",
     "text": [
      "2024-01-02 paycheck\n",
      "2024-01-02 fill buckets\n",
      "2024-02-02 paycheck\n",
      "2024-02-02 fill buckets\n",
      "2024-01-05 car payment\n",
      "2024-02-05 car payment\n",
      "2024-01-10 Shell Oil\n",
      "2024-02-26 Shell Oil\n",
      "2024-01-07 Safeway\n",
      "2024-01-21 Safeway\n",
      "2024-02-07 Safeway\n",
      "2024-02-21 Safeway\n"
     ]
    }
   ],
   "source": [
    "for t in Transaction.objects(description__gte='Safeway'):\n",
    "    print(t.pdate, t.description)"
   ]
  },
  {
   "cell_type": "code",
   "execution_count": 47,
   "metadata": {},
   "outputs": [
    {
     "name": "stdout",
     "output_type": "stream",
     "text": [
      "2024-01-10 Shell Oil\n",
      "2024-02-26 Shell Oil\n",
      "2024-01-07 Safeway\n",
      "2024-01-21 Safeway\n",
      "2024-02-07 Safeway\n",
      "2024-02-21 Safeway\n"
     ]
    }
   ],
   "source": [
    "for t in Transaction.objects(description__regex='^S'):\n",
    "    print(t.pdate, t.description)"
   ]
  },
  {
   "cell_type": "markdown",
   "metadata": {},
   "source": [
    "The operator automatically applies to list elements."
   ]
  },
  {
   "cell_type": "code",
   "execution_count": 48,
   "metadata": {},
   "outputs": [
    {
     "name": "stdout",
     "output_type": "stream",
     "text": [
      "2024-01-02 fill buckets 5000.0\n",
      "2024-02-02 fill buckets 5000.0\n",
      "2024-01-05 car payment 500.0\n",
      "2024-02-05 car payment 500.0\n",
      "2024-01-10 Shell Oil 50.0\n",
      "2024-02-26 Shell Oil 60.0\n",
      "2024-01-04 Rocket Mortgage 1800.0\n",
      "2024-02-04 Rocket Mortgage 1800.0\n",
      "2024-03-10 Home Depot 50.0\n",
      "2024-03-12 Home Depot 25.0\n"
     ]
    }
   ],
   "source": [
    "for t in Transaction.objects(description__regex=r'\\s'):\n",
    "    print(t.pdate, t.description, t.pamount)"
   ]
  },
  {
   "cell_type": "markdown",
   "metadata": {},
   "source": [
    "For compound constraints we need another class from MongoEngine."
   ]
  },
  {
   "cell_type": "code",
   "execution_count": 49,
   "metadata": {},
   "outputs": [],
   "source": [
    "from mongoengine.queryset.visitor import Q"
   ]
  },
  {
   "cell_type": "code",
   "execution_count": 50,
   "metadata": {},
   "outputs": [
    {
     "name": "stdout",
     "output_type": "stream",
     "text": [
      "2024-01-10 Shell Oil\n",
      "2024-02-26 Shell Oil\n",
      "2024-01-07 Safeway\n",
      "2024-01-21 Safeway\n",
      "2024-02-07 Safeway\n",
      "2024-02-21 Safeway\n"
     ]
    }
   ],
   "source": [
    "for t in Transaction.objects(Q(description__regex=r'^S')):\n",
    "    print(t.pdate, t.description)"
   ]
  },
  {
   "cell_type": "code",
   "execution_count": 51,
   "metadata": {},
   "outputs": [
    {
     "name": "stdout",
     "output_type": "stream",
     "text": [
      "2024-01-10 Shell Oil\n",
      "2024-02-26 Shell Oil\n"
     ]
    }
   ],
   "source": [
    "for t in Transaction.objects(Q(description__regex=r'^S') & Q(description__regex=r'\\s')):\n",
    "    print(t.pdate, t.description)"
   ]
  },
  {
   "cell_type": "markdown",
   "metadata": {},
   "source": [
    "### QuerySet"
   ]
  },
  {
   "cell_type": "code",
   "execution_count": 52,
   "metadata": {},
   "outputs": [
    {
     "name": "stdout",
     "output_type": "stream",
     "text": [
      "amex\n",
      "visa\n",
      "groceries\n",
      "household\n",
      "mortgage\n",
      "car\n",
      "travel\n"
     ]
    }
   ],
   "source": [
    "for a in Account.nominal_accounts:\n",
    "    print(a.name)"
   ]
  },
  {
   "cell_type": "markdown",
   "metadata": {},
   "source": [
    "### Combining Query Elements"
   ]
  },
  {
   "cell_type": "code",
   "execution_count": 53,
   "metadata": {},
   "outputs": [],
   "source": [
    "q = Q(description__regex=r'^S')"
   ]
  },
  {
   "cell_type": "code",
   "execution_count": 54,
   "metadata": {},
   "outputs": [
    {
     "data": {
      "text/plain": [
       "Q(**{'description__regex': '^S'})"
      ]
     },
     "execution_count": 54,
     "metadata": {},
     "output_type": "execute_result"
    }
   ],
   "source": [
    "q"
   ]
  },
  {
   "cell_type": "code",
   "execution_count": 55,
   "metadata": {},
   "outputs": [
    {
     "data": {
      "text/plain": [
       "mongoengine.queryset.visitor.Q"
      ]
     },
     "execution_count": 55,
     "metadata": {},
     "output_type": "execute_result"
    }
   ],
   "source": [
    "type(q)"
   ]
  },
  {
   "cell_type": "code",
   "execution_count": 56,
   "metadata": {},
   "outputs": [],
   "source": [
    "p = Q(description__regex=r'\\s')"
   ]
  },
  {
   "cell_type": "code",
   "execution_count": 57,
   "metadata": {},
   "outputs": [
    {
     "data": {
      "text/plain": [
       "(Q(**{'description__regex': '\\\\s'}) & Q(**{'description__regex': '^S'}))"
      ]
     },
     "execution_count": 57,
     "metadata": {},
     "output_type": "execute_result"
    }
   ],
   "source": [
    "p & q"
   ]
  },
  {
   "cell_type": "code",
   "execution_count": 58,
   "metadata": {},
   "outputs": [
    {
     "name": "stdout",
     "output_type": "stream",
     "text": [
      "2024-01-10 Shell Oil\n",
      "2024-02-26 Shell Oil\n"
     ]
    }
   ],
   "source": [
    "for t in Transaction.objects(p & q):\n",
    "    print(t.pdate, t.description)"
   ]
  },
  {
   "cell_type": "markdown",
   "metadata": {},
   "source": [
    "Create Q object using dictionaries"
   ]
  },
  {
   "cell_type": "code",
   "execution_count": 59,
   "metadata": {},
   "outputs": [],
   "source": [
    "dct = {'description__regex': r'^S'}"
   ]
  },
  {
   "cell_type": "code",
   "execution_count": 60,
   "metadata": {},
   "outputs": [
    {
     "data": {
      "text/plain": [
       "Q(**{'description__regex': '^S'})"
      ]
     },
     "execution_count": 60,
     "metadata": {},
     "output_type": "execute_result"
    }
   ],
   "source": [
    "Q(**dct)"
   ]
  },
  {
   "cell_type": "markdown",
   "metadata": {},
   "source": [
    "Can an object have multiple constraints?"
   ]
  },
  {
   "cell_type": "code",
   "execution_count": 61,
   "metadata": {},
   "outputs": [],
   "source": [
    "dct = {'description__regex': r'^S', 'pamount__gt': 100}"
   ]
  },
  {
   "cell_type": "code",
   "execution_count": 62,
   "metadata": {},
   "outputs": [
    {
     "data": {
      "text/plain": [
       "Q(**{'description__regex': '^S', 'pamount__gt': 100})"
      ]
     },
     "execution_count": 62,
     "metadata": {},
     "output_type": "execute_result"
    }
   ],
   "source": [
    "Q(**dct)"
   ]
  },
  {
   "cell_type": "code",
   "execution_count": 63,
   "metadata": {},
   "outputs": [
    {
     "name": "stdout",
     "output_type": "stream",
     "text": [
      "2024-01-21 Safeway 175.0\n"
     ]
    }
   ],
   "source": [
    "for t in Transaction.objects(Q(**dct)):\n",
    "    print(t.pdate, t.description, t.pamount)"
   ]
  },
  {
   "cell_type": "markdown",
   "metadata": {},
   "source": [
    "Yep!"
   ]
  },
  {
   "cell_type": "markdown",
   "metadata": {},
   "source": [
    "### Select Method"
   ]
  },
  {
   "cell_type": "markdown",
   "metadata": {},
   "source": [
    "#### Select Transactions"
   ]
  },
  {
   "cell_type": "markdown",
   "metadata": {},
   "source": [
    "All transactions:"
   ]
  },
  {
   "cell_type": "code",
   "execution_count": 64,
   "metadata": {},
   "outputs": [
    {
     "name": "stdout",
     "output_type": "stream",
     "text": [
      "2024-01-02 5000.0 yoyodyne checking\n",
      "2024-01-02 5000.0 groceries/mortgage/car/travel yoyodyne\n",
      "2024-02-02 5000.0 yoyodyne checking\n",
      "2024-02-02 5000.0 groceries/mortgage/car/travel yoyodyne\n",
      "2024-01-05 500.0 checking car\n",
      "2024-02-05 500.0 checking car\n",
      "2024-01-10 50.0 visa car\n",
      "2024-02-26 60.0 visa car\n",
      "2024-01-04 1800.0 checking mortgage\n",
      "2024-02-04 1800.0 checking mortgage\n",
      "2024-01-07 75.0 checking groceries\n",
      "2024-01-21 175.0 visa groceries\n",
      "2024-02-07 75.0 checking groceries\n",
      "2024-02-21 75.0 visa groceries\n",
      "2024-03-10 50.0 amex household\n",
      "2024-03-12 25.0 household amex\n"
     ]
    }
   ],
   "source": [
    "for t in DB.select(Transaction):\n",
    "    print(t.pdate, t.pamount, t.pcredit, t.pdebit)"
   ]
  },
  {
   "cell_type": "markdown",
   "metadata": {},
   "source": [
    "By date:"
   ]
  },
  {
   "cell_type": "code",
   "execution_count": 65,
   "metadata": {},
   "outputs": [
    {
     "name": "stdout",
     "output_type": "stream",
     "text": [
      "2024-01-21 175.0 visa groceries\n"
     ]
    }
   ],
   "source": [
    "for t in DB.select(Transaction, date=date(2024,1,21)):\n",
    "    print(t.pdate, t.pamount, t.pcredit, t.pdebit)"
   ]
  },
  {
   "cell_type": "code",
   "execution_count": 66,
   "metadata": {},
   "outputs": [
    {
     "name": "stdout",
     "output_type": "stream",
     "text": [
      "2024-02-02 5000.0 yoyodyne checking\n",
      "2024-02-02 5000.0 groceries/mortgage/car/travel yoyodyne\n",
      "2024-02-05 500.0 checking car\n",
      "2024-02-26 60.0 visa car\n",
      "2024-02-04 1800.0 checking mortgage\n",
      "2024-01-21 175.0 visa groceries\n",
      "2024-02-07 75.0 checking groceries\n",
      "2024-02-21 75.0 visa groceries\n",
      "2024-03-10 50.0 amex household\n",
      "2024-03-12 25.0 household amex\n"
     ]
    }
   ],
   "source": [
    "for t in DB.select(Transaction, start_date=date(2024,1,21)):\n",
    "    print(t.pdate, t.pamount, t.pcredit, t.pdebit)"
   ]
  },
  {
   "cell_type": "code",
   "execution_count": 67,
   "metadata": {},
   "outputs": [
    {
     "name": "stdout",
     "output_type": "stream",
     "text": [
      "2024-01-02 5000.0 yoyodyne checking\n",
      "2024-01-02 5000.0 groceries/mortgage/car/travel yoyodyne\n",
      "2024-01-05 500.0 checking car\n",
      "2024-01-10 50.0 visa car\n",
      "2024-01-04 1800.0 checking mortgage\n",
      "2024-01-07 75.0 checking groceries\n",
      "2024-01-21 175.0 visa groceries\n"
     ]
    }
   ],
   "source": [
    "for t in DB.select(Transaction, end_date=date(2024,1,21)):\n",
    "    print(t.pdate, t.pamount, t.pcredit, t.pdebit)"
   ]
  },
  {
   "cell_type": "markdown",
   "metadata": {},
   "source": [
    "By amount:"
   ]
  },
  {
   "cell_type": "code",
   "execution_count": 68,
   "metadata": {},
   "outputs": [
    {
     "name": "stdout",
     "output_type": "stream",
     "text": [
      "2024-01-07 75.0 checking groceries\n",
      "2024-02-07 75.0 checking groceries\n",
      "2024-02-21 75.0 visa groceries\n"
     ]
    }
   ],
   "source": [
    "for t in DB.select(Transaction, amount=75):\n",
    "    print(t.pdate, t.pamount, t.pcredit, t.pdebit)"
   ]
  },
  {
   "cell_type": "code",
   "execution_count": 69,
   "metadata": {},
   "outputs": [],
   "source": [
    "lst = DB.select(Transaction, amount=75)"
   ]
  },
  {
   "cell_type": "code",
   "execution_count": 70,
   "metadata": {},
   "outputs": [
    {
     "data": {
      "text/plain": [
       "True"
      ]
     },
     "execution_count": 70,
     "metadata": {},
     "output_type": "execute_result"
    }
   ],
   "source": [
    "all(t.pamount == 75 for t in lst)"
   ]
  },
  {
   "cell_type": "code",
   "execution_count": 71,
   "metadata": {},
   "outputs": [
    {
     "name": "stdout",
     "output_type": "stream",
     "text": [
      "2024-01-10 50.0 visa car\n",
      "2024-02-26 60.0 visa car\n",
      "2024-01-07 75.0 checking groceries\n",
      "2024-02-07 75.0 checking groceries\n",
      "2024-02-21 75.0 visa groceries\n",
      "2024-03-10 50.0 amex household\n",
      "2024-03-12 25.0 household amex\n"
     ]
    }
   ],
   "source": [
    "for t in DB.select(Transaction, max_amount=75):\n",
    "    print(t.pdate, t.pamount, t.pcredit, t.pdebit)"
   ]
  },
  {
   "cell_type": "code",
   "execution_count": 72,
   "metadata": {},
   "outputs": [
    {
     "name": "stdout",
     "output_type": "stream",
     "text": [
      "2024-01-02 5000.0 yoyodyne checking\n",
      "2024-01-02 5000.0 groceries/mortgage/car/travel yoyodyne\n",
      "2024-02-02 5000.0 yoyodyne checking\n",
      "2024-02-02 5000.0 groceries/mortgage/car/travel yoyodyne\n",
      "2024-01-05 500.0 checking car\n",
      "2024-02-05 500.0 checking car\n",
      "2024-01-04 1800.0 checking mortgage\n",
      "2024-02-04 1800.0 checking mortgage\n",
      "2024-01-07 75.0 checking groceries\n",
      "2024-01-21 175.0 visa groceries\n",
      "2024-02-07 75.0 checking groceries\n",
      "2024-02-21 75.0 visa groceries\n"
     ]
    }
   ],
   "source": [
    "for t in DB.select(Transaction, min_amount=75):\n",
    "    print(t.pdate, t.pamount, t.pcredit, t.pdebit)"
   ]
  },
  {
   "cell_type": "markdown",
   "metadata": {},
   "source": [
    "By description:"
   ]
  },
  {
   "cell_type": "code",
   "execution_count": 73,
   "metadata": {},
   "outputs": [
    {
     "name": "stdout",
     "output_type": "stream",
     "text": [
      "2024-01-10 50.0 Shell Oil visa car\n",
      "2024-02-26 60.0 Shell Oil visa car\n",
      "2024-01-07 75.0 Safeway checking groceries\n",
      "2024-01-21 175.0 Safeway visa groceries\n",
      "2024-02-07 75.0 Safeway checking groceries\n",
      "2024-02-21 75.0 Safeway visa groceries\n"
     ]
    }
   ],
   "source": [
    "for t in DB.select(Transaction, description = r'^s'):\n",
    "    print(t.pdate, t.pamount, t.description, t.pcredit, t.pdebit)"
   ]
  },
  {
   "cell_type": "code",
   "execution_count": 74,
   "metadata": {},
   "outputs": [
    {
     "name": "stdout",
     "output_type": "stream",
     "text": [
      "2024-01-02 5000.0 fill buckets 2024 budget groceries/mortgage/car/travel yoyodyne\n",
      "2024-02-02 5000.0 fill buckets 2024 budget groceries/mortgage/car/travel yoyodyne\n"
     ]
    }
   ],
   "source": [
    "for t in DB.select(Transaction, comment=r'budget'):\n",
    "    print(t.pdate, t.pamount, t.description, t.comment, t.pcredit, t.pdebit)"
   ]
  },
  {
   "cell_type": "markdown",
   "metadata": {},
   "source": [
    "By account:"
   ]
  },
  {
   "cell_type": "code",
   "execution_count": 75,
   "metadata": {},
   "outputs": [
    {
     "name": "stdout",
     "output_type": "stream",
     "text": [
      "2024-01-04 1800.0 checking mortgage\n",
      "2024-02-04 1800.0 checking mortgage\n"
     ]
    }
   ],
   "source": [
    "for t in DB.select(Transaction, debit='mortgage'):\n",
    "    print(t.pdate, t.pamount, t.pcredit, t.pdebit)"
   ]
  },
  {
   "cell_type": "code",
   "execution_count": 76,
   "metadata": {},
   "outputs": [
    {
     "name": "stdout",
     "output_type": "stream",
     "text": [
      "2024-01-02 5000.0 groceries/mortgage/car/travel yoyodyne\n",
      "2024-02-02 5000.0 groceries/mortgage/car/travel yoyodyne\n"
     ]
    }
   ],
   "source": [
    "for t in DB.select(Transaction, credit='mortgage'):\n",
    "    print(t.pdate, t.pamount, t.pcredit, t.pdebit)"
   ]
  },
  {
   "cell_type": "markdown",
   "metadata": {},
   "source": [
    "Some random combinations"
   ]
  },
  {
   "cell_type": "code",
   "execution_count": 77,
   "metadata": {},
   "outputs": [
    {
     "name": "stdout",
     "output_type": "stream",
     "text": [
      "2024-01-21 175.0 Safeway visa groceries\n"
     ]
    }
   ],
   "source": [
    "for t in DB.select(Transaction, description = r'^s', min_amount=100):\n",
    "    print(t.pdate, t.pamount, t.description, t.pcredit, t.pdebit)"
   ]
  },
  {
   "cell_type": "code",
   "execution_count": 78,
   "metadata": {},
   "outputs": [
    {
     "name": "stdout",
     "output_type": "stream",
     "text": [
      "2024-02-26 60.0 Shell Oil visa car\n",
      "2024-02-21 75.0 Safeway visa groceries\n"
     ]
    }
   ],
   "source": [
    "for t in DB.select(Transaction, start_date = date(2024,2,1), credit='visa'):\n",
    "    print(t.pdate, t.pamount, t.description, t.pcredit, t.pdebit)"
   ]
  },
  {
   "cell_type": "markdown",
   "metadata": {},
   "source": [
    "#### Select Entries"
   ]
  },
  {
   "cell_type": "markdown",
   "metadata": {},
   "source": [
    "All entries:"
   ]
  },
  {
   "cell_type": "code",
   "execution_count": 79,
   "metadata": {},
   "outputs": [
    {
     "data": {
      "text/plain": [
       "38"
      ]
     },
     "execution_count": 79,
     "metadata": {},
     "output_type": "execute_result"
    }
   ],
   "source": [
    "len(DB.select(Entry))"
   ]
  },
  {
   "cell_type": "code",
   "execution_count": 80,
   "metadata": {},
   "outputs": [
    {
     "name": "stdout",
     "output_type": "stream",
     "text": [
      "2024-01-02 checking 5000.0 debit\n",
      "2024-01-02 yoyodyne 5000.0 credit\n",
      "2024-01-02 yoyodyne 5000.0 debit\n",
      "2024-01-02 groceries 300.0 credit\n",
      "2024-01-02 mortgage 1800.0 credit\n",
      "2024-01-02 car 900.0 credit\n",
      "2024-01-02 travel 2000.0 credit\n",
      "2024-02-02 checking 5000.0 debit\n",
      "2024-02-02 yoyodyne 5000.0 credit\n",
      "2024-02-02 yoyodyne 5000.0 debit\n",
      "2024-02-02 groceries 300.0 credit\n",
      "2024-02-02 mortgage 1800.0 credit\n",
      "2024-02-02 car 900.0 credit\n",
      "2024-02-02 travel 2000.0 credit\n",
      "2024-01-05 car 500.0 debit\n",
      "2024-01-05 checking 500.0 credit\n",
      "2024-02-05 car 500.0 debit\n",
      "2024-02-05 checking 500.0 credit\n",
      "2024-01-10 car 50.0 debit\n",
      "2024-01-10 visa 50.0 credit\n",
      "2024-02-26 car 60.0 debit\n",
      "2024-02-26 visa 60.0 credit\n",
      "2024-01-04 mortgage 1800.0 debit\n",
      "2024-01-04 checking 1800.0 credit\n",
      "2024-02-04 mortgage 1800.0 debit\n",
      "2024-02-04 checking 1800.0 credit\n",
      "2024-01-07 groceries 75.0 debit\n",
      "2024-01-07 checking 75.0 credit\n",
      "2024-01-21 groceries 175.0 debit\n",
      "2024-01-21 visa 175.0 credit\n",
      "2024-02-07 groceries 75.0 debit\n",
      "2024-02-07 checking 75.0 credit\n",
      "2024-02-21 groceries 75.0 debit\n",
      "2024-02-21 visa 75.0 credit\n",
      "2024-03-10 household 50.0 debit\n",
      "2024-03-10 amex 50.0 credit\n",
      "2024-03-12 household 25.0 credit\n",
      "2024-03-12 amex 25.0 debit\n"
     ]
    }
   ],
   "source": [
    "for e in DB.select(Entry):\n",
    "    print(e.date, e.account, e.amount, e.column)"
   ]
  },
  {
   "cell_type": "markdown",
   "metadata": {},
   "source": [
    "By date:"
   ]
  },
  {
   "cell_type": "code",
   "execution_count": 81,
   "metadata": {},
   "outputs": [
    {
     "name": "stdout",
     "output_type": "stream",
     "text": [
      "2024-01-05 car 500.0 debit\n",
      "2024-01-05 checking 500.0 credit\n"
     ]
    }
   ],
   "source": [
    "for e in DB.select(Entry, date=date(2024,1,5)):\n",
    "    print(e.date, e.account, e.amount, e.column)"
   ]
  },
  {
   "cell_type": "code",
   "execution_count": 82,
   "metadata": {},
   "outputs": [
    {
     "name": "stdout",
     "output_type": "stream",
     "text": [
      "2024-02-02 checking 5000.0 debit\n",
      "2024-02-02 yoyodyne 5000.0 credit\n",
      "2024-02-02 yoyodyne 5000.0 debit\n",
      "2024-02-02 groceries 300.0 credit\n",
      "2024-02-02 mortgage 1800.0 credit\n",
      "2024-02-02 car 900.0 credit\n",
      "2024-02-02 travel 2000.0 credit\n",
      "2024-01-05 car 500.0 debit\n",
      "2024-01-05 checking 500.0 credit\n",
      "2024-02-05 car 500.0 debit\n",
      "2024-02-05 checking 500.0 credit\n",
      "2024-01-10 car 50.0 debit\n",
      "2024-01-10 visa 50.0 credit\n",
      "2024-02-26 car 60.0 debit\n",
      "2024-02-26 visa 60.0 credit\n",
      "2024-02-04 mortgage 1800.0 debit\n",
      "2024-02-04 checking 1800.0 credit\n",
      "2024-01-07 groceries 75.0 debit\n",
      "2024-01-07 checking 75.0 credit\n",
      "2024-01-21 groceries 175.0 debit\n",
      "2024-01-21 visa 175.0 credit\n",
      "2024-02-07 groceries 75.0 debit\n",
      "2024-02-07 checking 75.0 credit\n",
      "2024-02-21 groceries 75.0 debit\n",
      "2024-02-21 visa 75.0 credit\n",
      "2024-03-10 household 50.0 debit\n",
      "2024-03-10 amex 50.0 credit\n",
      "2024-03-12 household 25.0 credit\n",
      "2024-03-12 amex 25.0 debit\n"
     ]
    }
   ],
   "source": [
    "for e in DB.select(Entry, start_date=date(2024,1,5)):\n",
    "    print(e.date, e.account, e.amount, e.column)"
   ]
  },
  {
   "cell_type": "code",
   "execution_count": 83,
   "metadata": {},
   "outputs": [
    {
     "name": "stdout",
     "output_type": "stream",
     "text": [
      "2024-01-02 checking 5000.0 debit\n",
      "2024-01-02 yoyodyne 5000.0 credit\n",
      "2024-01-02 yoyodyne 5000.0 debit\n",
      "2024-01-02 groceries 300.0 credit\n",
      "2024-01-02 mortgage 1800.0 credit\n",
      "2024-01-02 car 900.0 credit\n",
      "2024-01-02 travel 2000.0 credit\n",
      "2024-01-05 car 500.0 debit\n",
      "2024-01-05 checking 500.0 credit\n",
      "2024-01-04 mortgage 1800.0 debit\n",
      "2024-01-04 checking 1800.0 credit\n"
     ]
    }
   ],
   "source": [
    "for e in DB.select(Entry, end_date=date(2024,1,5)):\n",
    "    print(e.date, e.account, e.amount, e.column)"
   ]
  },
  {
   "cell_type": "markdown",
   "metadata": {},
   "source": [
    "By amount:"
   ]
  },
  {
   "cell_type": "code",
   "execution_count": 84,
   "metadata": {},
   "outputs": [
    {
     "name": "stdout",
     "output_type": "stream",
     "text": [
      "2024-01-02 car 900.0 credit\n",
      "2024-02-02 car 900.0 credit\n"
     ]
    }
   ],
   "source": [
    "for e in DB.select(Entry, amount=900):\n",
    "    print(e.date, e.account, e.amount, e.column)"
   ]
  },
  {
   "cell_type": "code",
   "execution_count": 85,
   "metadata": {},
   "outputs": [
    {
     "name": "stdout",
     "output_type": "stream",
     "text": [
      "2024-01-02 groceries 300.0 credit\n",
      "2024-01-02 car 900.0 credit\n",
      "2024-02-02 groceries 300.0 credit\n",
      "2024-02-02 car 900.0 credit\n",
      "2024-01-05 car 500.0 debit\n",
      "2024-01-05 checking 500.0 credit\n",
      "2024-02-05 car 500.0 debit\n",
      "2024-02-05 checking 500.0 credit\n",
      "2024-01-10 car 50.0 debit\n",
      "2024-01-10 visa 50.0 credit\n",
      "2024-02-26 car 60.0 debit\n",
      "2024-02-26 visa 60.0 credit\n",
      "2024-01-07 groceries 75.0 debit\n",
      "2024-01-07 checking 75.0 credit\n",
      "2024-01-21 groceries 175.0 debit\n",
      "2024-01-21 visa 175.0 credit\n",
      "2024-02-07 groceries 75.0 debit\n",
      "2024-02-07 checking 75.0 credit\n",
      "2024-02-21 groceries 75.0 debit\n",
      "2024-02-21 visa 75.0 credit\n",
      "2024-03-10 household 50.0 debit\n",
      "2024-03-10 amex 50.0 credit\n",
      "2024-03-12 household 25.0 credit\n",
      "2024-03-12 amex 25.0 debit\n"
     ]
    }
   ],
   "source": [
    "for e in DB.select(Entry, max_amount=900):\n",
    "    print(e.date, e.account, e.amount, e.column)"
   ]
  },
  {
   "cell_type": "code",
   "execution_count": 86,
   "metadata": {},
   "outputs": [
    {
     "name": "stdout",
     "output_type": "stream",
     "text": [
      "2024-01-02 checking 5000.0 debit\n",
      "2024-01-02 yoyodyne 5000.0 credit\n",
      "2024-01-02 yoyodyne 5000.0 debit\n",
      "2024-01-02 mortgage 1800.0 credit\n",
      "2024-01-02 car 900.0 credit\n",
      "2024-01-02 travel 2000.0 credit\n",
      "2024-02-02 checking 5000.0 debit\n",
      "2024-02-02 yoyodyne 5000.0 credit\n",
      "2024-02-02 yoyodyne 5000.0 debit\n",
      "2024-02-02 mortgage 1800.0 credit\n",
      "2024-02-02 car 900.0 credit\n",
      "2024-02-02 travel 2000.0 credit\n",
      "2024-01-04 mortgage 1800.0 debit\n",
      "2024-01-04 checking 1800.0 credit\n",
      "2024-02-04 mortgage 1800.0 debit\n",
      "2024-02-04 checking 1800.0 credit\n"
     ]
    }
   ],
   "source": [
    "for e in DB.select(Entry, min_amount=900):\n",
    "    print(e.date, e.account, e.amount, e.column)"
   ]
  },
  {
   "cell_type": "markdown",
   "metadata": {},
   "source": [
    "By account:"
   ]
  },
  {
   "cell_type": "code",
   "execution_count": 87,
   "metadata": {},
   "outputs": [
    {
     "name": "stdout",
     "output_type": "stream",
     "text": [
      "2024-01-02 groceries 300.0 credit\n",
      "2024-02-02 groceries 300.0 credit\n",
      "2024-01-07 groceries 75.0 debit\n",
      "2024-01-21 groceries 175.0 debit\n",
      "2024-02-07 groceries 75.0 debit\n",
      "2024-02-21 groceries 75.0 debit\n"
     ]
    }
   ],
   "source": [
    "for e in DB.select(Entry, account='groceries'):\n",
    "    print(e.date, e.account, e.amount, e.column)"
   ]
  },
  {
   "cell_type": "markdown",
   "metadata": {},
   "source": [
    "By column:"
   ]
  },
  {
   "cell_type": "code",
   "execution_count": 88,
   "metadata": {},
   "outputs": [
    {
     "name": "stdout",
     "output_type": "stream",
     "text": [
      "2024-01-02 yoyodyne 5000.0 credit\n",
      "2024-01-02 groceries 300.0 credit\n",
      "2024-01-02 mortgage 1800.0 credit\n",
      "2024-01-02 car 900.0 credit\n",
      "2024-01-02 travel 2000.0 credit\n",
      "2024-02-02 yoyodyne 5000.0 credit\n",
      "2024-02-02 groceries 300.0 credit\n",
      "2024-02-02 mortgage 1800.0 credit\n",
      "2024-02-02 car 900.0 credit\n",
      "2024-02-02 travel 2000.0 credit\n",
      "2024-01-05 checking 500.0 credit\n",
      "2024-02-05 checking 500.0 credit\n",
      "2024-01-10 visa 50.0 credit\n",
      "2024-02-26 visa 60.0 credit\n",
      "2024-01-04 checking 1800.0 credit\n",
      "2024-02-04 checking 1800.0 credit\n",
      "2024-01-07 checking 75.0 credit\n",
      "2024-01-21 visa 175.0 credit\n",
      "2024-02-07 checking 75.0 credit\n",
      "2024-02-21 visa 75.0 credit\n",
      "2024-03-10 amex 50.0 credit\n",
      "2024-03-12 household 25.0 credit\n"
     ]
    }
   ],
   "source": [
    "for e in DB.select(Entry, column='credit'):\n",
    "    print(e.date, e.account, e.amount, e.column)"
   ]
  },
  {
   "cell_type": "code",
   "execution_count": 89,
   "metadata": {},
   "outputs": [
    {
     "name": "stdout",
     "output_type": "stream",
     "text": [
      "2024-01-02 checking 5000.0 debit\n",
      "2024-01-02 yoyodyne 5000.0 debit\n",
      "2024-02-02 checking 5000.0 debit\n",
      "2024-02-02 yoyodyne 5000.0 debit\n",
      "2024-01-05 car 500.0 debit\n",
      "2024-02-05 car 500.0 debit\n",
      "2024-01-10 car 50.0 debit\n",
      "2024-02-26 car 60.0 debit\n",
      "2024-01-04 mortgage 1800.0 debit\n",
      "2024-02-04 mortgage 1800.0 debit\n",
      "2024-01-07 groceries 75.0 debit\n",
      "2024-01-21 groceries 175.0 debit\n",
      "2024-02-07 groceries 75.0 debit\n",
      "2024-02-21 groceries 75.0 debit\n",
      "2024-03-10 household 50.0 debit\n",
      "2024-03-12 amex 25.0 debit\n"
     ]
    }
   ],
   "source": [
    "for e in DB.select(Entry, column='debit'):\n",
    "    print(e.date, e.account, e.amount, e.column)"
   ]
  },
  {
   "cell_type": "markdown",
   "metadata": {},
   "source": [
    "### Serializing Objects"
   ]
  },
  {
   "cell_type": "code",
   "execution_count": 90,
   "metadata": {},
   "outputs": [],
   "source": [
    "import json\n",
    "from bson.objectid import ObjectId\n",
    "import datetime"
   ]
  },
  {
   "cell_type": "markdown",
   "metadata": {},
   "source": [
    "A document created by calling `as_pymongo':"
   ]
  },
  {
   "cell_type": "code",
   "execution_count": 91,
   "metadata": {},
   "outputs": [],
   "source": [
    "obj = \"{'_id': ObjectId('67d5c38ea57aba579a76abe8'), 'description': 'Home Depot', 'comment': '', 'tags': [], 'entries': [ObjectId('67d5c38ea57aba579a76abd7'), ObjectId('67d5c38ea57aba579a76abd8')], 'pdate': datetime.datetime(2024, 3, 12, 0, 0), 'pdebit': 'amex', 'pcredit': 'household', 'pamount': 25.0}\""
   ]
  },
  {
   "cell_type": "code",
   "execution_count": 92,
   "metadata": {},
   "outputs": [
    {
     "data": {
      "text/plain": [
       "\"{'_id': ObjectId('67d5c38ea57aba579a76abe8'), 'description': 'Home Depot', 'comment': '', 'tags': [], 'entries': [ObjectId('67d5c38ea57aba579a76abd7'), ObjectId('67d5c38ea57aba579a76abd8')], 'pdate': datetime.datetime(2024, 3, 12, 0, 0), 'pdebit': 'amex', 'pcredit': 'household', 'pamount': 25.0}\""
      ]
     },
     "execution_count": 92,
     "metadata": {},
     "output_type": "execute_result"
    }
   ],
   "source": [
    "obj"
   ]
  },
  {
   "cell_type": "code",
   "execution_count": 93,
   "metadata": {},
   "outputs": [
    {
     "data": {
      "text/plain": [
       "'{\"_id\": ObjectId(\"67d5c38ea57aba579a76abe8\"), \"description\": \"Home Depot\", \"comment\": \"\", \"tags\": [], \"entries\": [ObjectId(\"67d5c38ea57aba579a76abd7\"), ObjectId(\"67d5c38ea57aba579a76abd8\")], \"pdate\": datetime.datetime(2024, 3, 12, 0, 0), \"pdebit\": \"amex\", \"pcredit\": \"household\", \"pamount\": 25.0}'"
      ]
     },
     "execution_count": 93,
     "metadata": {},
     "output_type": "execute_result"
    }
   ],
   "source": [
    "obj.replace(\"'\",'\"')"
   ]
  },
  {
   "cell_type": "code",
   "execution_count": 94,
   "metadata": {},
   "outputs": [],
   "source": [
    "rec = f'[\"accounts\", {obj.replace(\"'\",'\"')}]'"
   ]
  },
  {
   "cell_type": "code",
   "execution_count": 95,
   "metadata": {},
   "outputs": [
    {
     "data": {
      "text/plain": [
       "'[\"accounts\", {\"_id\": ObjectId(\"67d5c38ea57aba579a76abe8\"), \"description\": \"Home Depot\", \"comment\": \"\", \"tags\": [], \"entries\": [ObjectId(\"67d5c38ea57aba579a76abd7\"), ObjectId(\"67d5c38ea57aba579a76abd8\")], \"pdate\": datetime.datetime(2024, 3, 12, 0, 0), \"pdebit\": \"amex\", \"pcredit\": \"household\", \"pamount\": 25.0}]'"
      ]
     },
     "execution_count": 95,
     "metadata": {},
     "output_type": "execute_result"
    }
   ],
   "source": [
    "rec"
   ]
  },
  {
   "cell_type": "code",
   "execution_count": 96,
   "metadata": {},
   "outputs": [
    {
     "ename": "JSONDecodeError",
     "evalue": "Expecting value: line 1 column 22 (char 21)",
     "output_type": "error",
     "traceback": [
      "\u001b[31m---------------------------------------------------------------------------\u001b[39m",
      "\u001b[31mJSONDecodeError\u001b[39m                           Traceback (most recent call last)",
      "\u001b[36mCell\u001b[39m\u001b[36m \u001b[39m\u001b[32mIn[96]\u001b[39m\u001b[32m, line 1\u001b[39m\n\u001b[32m----> \u001b[39m\u001b[32m1\u001b[39m \u001b[43mjson\u001b[49m\u001b[43m.\u001b[49m\u001b[43mloads\u001b[49m\u001b[43m(\u001b[49m\u001b[43mrec\u001b[49m\u001b[43m)\u001b[49m\n",
      "\u001b[36mFile \u001b[39m\u001b[32m~/.pyenv/versions/3.13.1/lib/python3.13/json/__init__.py:346\u001b[39m, in \u001b[36mloads\u001b[39m\u001b[34m(s, cls, object_hook, parse_float, parse_int, parse_constant, object_pairs_hook, **kw)\u001b[39m\n\u001b[32m    341\u001b[39m     s = s.decode(detect_encoding(s), \u001b[33m'\u001b[39m\u001b[33msurrogatepass\u001b[39m\u001b[33m'\u001b[39m)\n\u001b[32m    343\u001b[39m \u001b[38;5;28;01mif\u001b[39;00m (\u001b[38;5;28mcls\u001b[39m \u001b[38;5;129;01mis\u001b[39;00m \u001b[38;5;28;01mNone\u001b[39;00m \u001b[38;5;129;01mand\u001b[39;00m object_hook \u001b[38;5;129;01mis\u001b[39;00m \u001b[38;5;28;01mNone\u001b[39;00m \u001b[38;5;129;01mand\u001b[39;00m\n\u001b[32m    344\u001b[39m         parse_int \u001b[38;5;129;01mis\u001b[39;00m \u001b[38;5;28;01mNone\u001b[39;00m \u001b[38;5;129;01mand\u001b[39;00m parse_float \u001b[38;5;129;01mis\u001b[39;00m \u001b[38;5;28;01mNone\u001b[39;00m \u001b[38;5;129;01mand\u001b[39;00m\n\u001b[32m    345\u001b[39m         parse_constant \u001b[38;5;129;01mis\u001b[39;00m \u001b[38;5;28;01mNone\u001b[39;00m \u001b[38;5;129;01mand\u001b[39;00m object_pairs_hook \u001b[38;5;129;01mis\u001b[39;00m \u001b[38;5;28;01mNone\u001b[39;00m \u001b[38;5;129;01mand\u001b[39;00m \u001b[38;5;129;01mnot\u001b[39;00m kw):\n\u001b[32m--> \u001b[39m\u001b[32m346\u001b[39m     \u001b[38;5;28;01mreturn\u001b[39;00m \u001b[43m_default_decoder\u001b[49m\u001b[43m.\u001b[49m\u001b[43mdecode\u001b[49m\u001b[43m(\u001b[49m\u001b[43ms\u001b[49m\u001b[43m)\u001b[49m\n\u001b[32m    347\u001b[39m \u001b[38;5;28;01mif\u001b[39;00m \u001b[38;5;28mcls\u001b[39m \u001b[38;5;129;01mis\u001b[39;00m \u001b[38;5;28;01mNone\u001b[39;00m:\n\u001b[32m    348\u001b[39m     \u001b[38;5;28mcls\u001b[39m = JSONDecoder\n",
      "\u001b[36mFile \u001b[39m\u001b[32m~/.pyenv/versions/3.13.1/lib/python3.13/json/decoder.py:345\u001b[39m, in \u001b[36mJSONDecoder.decode\u001b[39m\u001b[34m(self, s, _w)\u001b[39m\n\u001b[32m    340\u001b[39m \u001b[38;5;28;01mdef\u001b[39;00m\u001b[38;5;250m \u001b[39m\u001b[34mdecode\u001b[39m(\u001b[38;5;28mself\u001b[39m, s, _w=WHITESPACE.match):\n\u001b[32m    341\u001b[39m \u001b[38;5;250m    \u001b[39m\u001b[33;03m\"\"\"Return the Python representation of ``s`` (a ``str`` instance\u001b[39;00m\n\u001b[32m    342\u001b[39m \u001b[33;03m    containing a JSON document).\u001b[39;00m\n\u001b[32m    343\u001b[39m \n\u001b[32m    344\u001b[39m \u001b[33;03m    \"\"\"\u001b[39;00m\n\u001b[32m--> \u001b[39m\u001b[32m345\u001b[39m     obj, end = \u001b[38;5;28;43mself\u001b[39;49m\u001b[43m.\u001b[49m\u001b[43mraw_decode\u001b[49m\u001b[43m(\u001b[49m\u001b[43ms\u001b[49m\u001b[43m,\u001b[49m\u001b[43m \u001b[49m\u001b[43midx\u001b[49m\u001b[43m=\u001b[49m\u001b[43m_w\u001b[49m\u001b[43m(\u001b[49m\u001b[43ms\u001b[49m\u001b[43m,\u001b[49m\u001b[43m \u001b[49m\u001b[32;43m0\u001b[39;49m\u001b[43m)\u001b[49m\u001b[43m.\u001b[49m\u001b[43mend\u001b[49m\u001b[43m(\u001b[49m\u001b[43m)\u001b[49m\u001b[43m)\u001b[49m\n\u001b[32m    346\u001b[39m     end = _w(s, end).end()\n\u001b[32m    347\u001b[39m     \u001b[38;5;28;01mif\u001b[39;00m end != \u001b[38;5;28mlen\u001b[39m(s):\n",
      "\u001b[36mFile \u001b[39m\u001b[32m~/.pyenv/versions/3.13.1/lib/python3.13/json/decoder.py:363\u001b[39m, in \u001b[36mJSONDecoder.raw_decode\u001b[39m\u001b[34m(self, s, idx)\u001b[39m\n\u001b[32m    361\u001b[39m     obj, end = \u001b[38;5;28mself\u001b[39m.scan_once(s, idx)\n\u001b[32m    362\u001b[39m \u001b[38;5;28;01mexcept\u001b[39;00m \u001b[38;5;167;01mStopIteration\u001b[39;00m \u001b[38;5;28;01mas\u001b[39;00m err:\n\u001b[32m--> \u001b[39m\u001b[32m363\u001b[39m     \u001b[38;5;28;01mraise\u001b[39;00m JSONDecodeError(\u001b[33m\"\u001b[39m\u001b[33mExpecting value\u001b[39m\u001b[33m\"\u001b[39m, s, err.value) \u001b[38;5;28;01mfrom\u001b[39;00m\u001b[38;5;250m \u001b[39m\u001b[38;5;28;01mNone\u001b[39;00m\n\u001b[32m    364\u001b[39m \u001b[38;5;28;01mreturn\u001b[39;00m obj, end\n",
      "\u001b[31mJSONDecodeError\u001b[39m: Expecting value: line 1 column 22 (char 21)"
     ]
    }
   ],
   "source": [
    "json.loads(rec)"
   ]
  },
  {
   "cell_type": "code",
   "execution_count": 98,
   "metadata": {},
   "outputs": [],
   "source": [
    "collection = DB.database[\"foo\"]"
   ]
  },
  {
   "cell_type": "code",
   "execution_count": 99,
   "metadata": {},
   "outputs": [
    {
     "ename": "TypeError",
     "evalue": "document must be an instance of dict, bson.son.SON, bson.raw_bson.RawBSONDocument, or a type that inherits from collections.MutableMapping",
     "output_type": "error",
     "traceback": [
      "\u001b[31m---------------------------------------------------------------------------\u001b[39m",
      "\u001b[31mTypeError\u001b[39m                                 Traceback (most recent call last)",
      "\u001b[36mCell\u001b[39m\u001b[36m \u001b[39m\u001b[32mIn[99]\u001b[39m\u001b[32m, line 1\u001b[39m\n\u001b[32m----> \u001b[39m\u001b[32m1\u001b[39m \u001b[43mcollection\u001b[49m\u001b[43m.\u001b[49m\u001b[43minsert_one\u001b[49m\u001b[43m(\u001b[49m\u001b[43mobj\u001b[49m\u001b[43m)\u001b[49m\n",
      "\u001b[36mFile \u001b[39m\u001b[32m~/.pyenv/versions/nosql/lib/python3.13/site-packages/pymongo/synchronous/collection.py:885\u001b[39m, in \u001b[36mCollection.insert_one\u001b[39m\u001b[34m(self, document, bypass_document_validation, session, comment)\u001b[39m\n\u001b[32m    839\u001b[39m \u001b[38;5;28;01mdef\u001b[39;00m\u001b[38;5;250m \u001b[39m\u001b[34minsert_one\u001b[39m(\n\u001b[32m    840\u001b[39m     \u001b[38;5;28mself\u001b[39m,\n\u001b[32m    841\u001b[39m     document: Union[_DocumentType, RawBSONDocument],\n\u001b[32m   (...)\u001b[39m\u001b[32m    844\u001b[39m     comment: Optional[Any] = \u001b[38;5;28;01mNone\u001b[39;00m,\n\u001b[32m    845\u001b[39m ) -> InsertOneResult:\n\u001b[32m    846\u001b[39m \u001b[38;5;250m    \u001b[39m\u001b[33;03m\"\"\"Insert a single document.\u001b[39;00m\n\u001b[32m    847\u001b[39m \n\u001b[32m    848\u001b[39m \u001b[33;03m      >>> db.test.count_documents({'x': 1})\u001b[39;00m\n\u001b[32m   (...)\u001b[39m\u001b[32m    883\u001b[39m \u001b[33;03m    .. versionadded:: 3.0\u001b[39;00m\n\u001b[32m    884\u001b[39m \u001b[33;03m    \"\"\"\u001b[39;00m\n\u001b[32m--> \u001b[39m\u001b[32m885\u001b[39m     \u001b[43mcommon\u001b[49m\u001b[43m.\u001b[49m\u001b[43mvalidate_is_document_type\u001b[49m\u001b[43m(\u001b[49m\u001b[33;43m\"\u001b[39;49m\u001b[33;43mdocument\u001b[39;49m\u001b[33;43m\"\u001b[39;49m\u001b[43m,\u001b[49m\u001b[43m \u001b[49m\u001b[43mdocument\u001b[49m\u001b[43m)\u001b[49m\n\u001b[32m    886\u001b[39m     \u001b[38;5;28;01mif\u001b[39;00m \u001b[38;5;129;01mnot\u001b[39;00m (\u001b[38;5;28misinstance\u001b[39m(document, RawBSONDocument) \u001b[38;5;129;01mor\u001b[39;00m \u001b[33m\"\u001b[39m\u001b[33m_id\u001b[39m\u001b[33m\"\u001b[39m \u001b[38;5;129;01min\u001b[39;00m document):\n\u001b[32m    887\u001b[39m         document[\u001b[33m\"\u001b[39m\u001b[33m_id\u001b[39m\u001b[33m\"\u001b[39m] = ObjectId()  \u001b[38;5;66;03m# type: ignore[index]\u001b[39;00m\n",
      "\u001b[36mFile \u001b[39m\u001b[32m~/.pyenv/versions/nosql/lib/python3.13/site-packages/pymongo/common.py:557\u001b[39m, in \u001b[36mvalidate_is_document_type\u001b[39m\u001b[34m(option, value)\u001b[39m\n\u001b[32m    555\u001b[39m \u001b[38;5;250m\u001b[39m\u001b[33;03m\"\"\"Validate the type of method arguments that expect a MongoDB document.\"\"\"\u001b[39;00m\n\u001b[32m    556\u001b[39m \u001b[38;5;28;01mif\u001b[39;00m \u001b[38;5;129;01mnot\u001b[39;00m \u001b[38;5;28misinstance\u001b[39m(value, (abc.MutableMapping, RawBSONDocument)):\n\u001b[32m--> \u001b[39m\u001b[32m557\u001b[39m     \u001b[38;5;28;01mraise\u001b[39;00m \u001b[38;5;167;01mTypeError\u001b[39;00m(\n\u001b[32m    558\u001b[39m         \u001b[33mf\u001b[39m\u001b[33m\"\u001b[39m\u001b[38;5;132;01m{\u001b[39;00moption\u001b[38;5;132;01m}\u001b[39;00m\u001b[33m must be an instance of dict, bson.son.SON, \u001b[39m\u001b[33m\"\u001b[39m\n\u001b[32m    559\u001b[39m         \u001b[33m\"\u001b[39m\u001b[33mbson.raw_bson.RawBSONDocument, or \u001b[39m\u001b[33m\"\u001b[39m\n\u001b[32m    560\u001b[39m         \u001b[33m\"\u001b[39m\u001b[33ma type that inherits from \u001b[39m\u001b[33m\"\u001b[39m\n\u001b[32m    561\u001b[39m         \u001b[33m\"\u001b[39m\u001b[33mcollections.MutableMapping\u001b[39m\u001b[33m\"\u001b[39m\n\u001b[32m    562\u001b[39m     )\n",
      "\u001b[31mTypeError\u001b[39m: document must be an instance of dict, bson.son.SON, bson.raw_bson.RawBSONDocument, or a type that inherits from collections.MutableMapping"
     ]
    }
   ],
   "source": [
    "collection.insert_one(obj)"
   ]
  },
  {
   "cell_type": "code",
   "execution_count": 97,
   "metadata": {},
   "outputs": [
    {
     "data": {
      "text/plain": [
       "{'_id': ObjectId('67d5c38ea57aba579a76abe8'),\n",
       " 'description': 'Home Depot',\n",
       " 'comment': '',\n",
       " 'tags': [],\n",
       " 'entries': [ObjectId('67d5c38ea57aba579a76abd7'),\n",
       "  ObjectId('67d5c38ea57aba579a76abd8')],\n",
       " 'pdate': datetime.datetime(2024, 3, 12, 0, 0),\n",
       " 'pdebit': 'amex',\n",
       " 'pcredit': 'household',\n",
       " 'pamount': 25.0}"
      ]
     },
     "execution_count": 97,
     "metadata": {},
     "output_type": "execute_result"
    }
   ],
   "source": [
    "eval(obj)"
   ]
  },
  {
   "cell_type": "code",
   "execution_count": 102,
   "metadata": {},
   "outputs": [
    {
     "data": {
      "text/plain": [
       "InsertOneResult(ObjectId('67d5c38ea57aba579a76abe8'), acknowledged=True)"
      ]
     },
     "execution_count": 102,
     "metadata": {},
     "output_type": "execute_result"
    }
   ],
   "source": [
    "collection.insert_one(eval(obj))"
   ]
  },
  {
   "cell_type": "code",
   "execution_count": 101,
   "metadata": {},
   "outputs": [],
   "source": [
    "collection = DB.database[\"bar\"]"
   ]
  },
  {
   "cell_type": "code",
   "execution_count": null,
   "metadata": {},
   "outputs": [],
   "source": []
  }
 ],
 "metadata": {
  "kernelspec": {
   "display_name": "nosql",
   "language": "python",
   "name": "python3"
  },
  "language_info": {
   "codemirror_mode": {
    "name": "ipython",
    "version": 3
   },
   "file_extension": ".py",
   "mimetype": "text/x-python",
   "name": "python",
   "nbconvert_exporter": "python",
   "pygments_lexer": "ipython3",
   "version": "3.13.1"
  }
 },
 "nbformat": 4,
 "nbformat_minor": 2
}
