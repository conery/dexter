{
 "cells": [
  {
   "cell_type": "markdown",
   "metadata": {},
   "source": [
    "### Experiment with MongoEngine"
   ]
  },
  {
   "cell_type": "markdown",
   "metadata": {},
   "source": [
    "The ODM we use to access MongoDB"
   ]
  },
  {
   "cell_type": "code",
   "execution_count": 1,
   "metadata": {},
   "outputs": [],
   "source": [
    "from dexter.DB import DB, Account, Entry, Transaction, Document\n",
    "from dexter.config import Tag\n",
    "\n",
    "from datetime import date"
   ]
  },
  {
   "cell_type": "markdown",
   "metadata": {},
   "source": [
    "Open the database:"
   ]
  },
  {
   "cell_type": "code",
   "execution_count": 2,
   "metadata": {},
   "outputs": [],
   "source": [
    "DB.open('pytest')"
   ]
  },
  {
   "cell_type": "markdown",
   "metadata": {},
   "source": [
    "Make an account:"
   ]
  },
  {
   "cell_type": "code",
   "execution_count": 3,
   "metadata": {},
   "outputs": [],
   "source": [
    "acct = Account(name='equity', category='equity')"
   ]
  },
  {
   "cell_type": "markdown",
   "metadata": {},
   "source": [
    "Save it:"
   ]
  },
  {
   "cell_type": "code",
   "execution_count": 4,
   "metadata": {},
   "outputs": [
    {
     "data": {
      "text/plain": [
       "<Account: <Acct equity equity>>"
      ]
     },
     "execution_count": 4,
     "metadata": {},
     "output_type": "execute_result"
    }
   ],
   "source": [
    "acct.save()"
   ]
  },
  {
   "cell_type": "markdown",
   "metadata": {},
   "source": [
    "If we open that DB with `mongosh` we should see the account.\n",
    "\n",
    "```\n",
    "$ mongosh\n",
    "\n",
    "test> use foo\n",
    "switched to db foo\n",
    "\n",
    "foo> db.account.find()\n",
    "[\n",
    "  {\n",
    "    _id: ObjectId('67c61fa19d0161a19b80469e'),\n",
    "    name: 'equity',\n",
    "    group: 'equity'\n",
    "  }\n",
    "]\n",
    "```\n",
    "\n",
    "It worked!  🎉"
   ]
  },
  {
   "cell_type": "markdown",
   "metadata": {},
   "source": [
    "### Contents of a Collection"
   ]
  },
  {
   "cell_type": "code",
   "execution_count": 5,
   "metadata": {},
   "outputs": [
    {
     "data": {
      "text/plain": [
       "[<Account: <Acct equity equity>>, <Account: <Acct yoyodyne income>>, <Account: <Acct bank:checking asset>>, <Account: <Acct amex:blue liability>>, <Account: <Acct chase:visa liability>>, <Account: <Acct groceries expense>>, <Account: <Acct household expense>>, <Account: <Acct mortgage expense>>, <Account: <Acct car expense>>, <Account: <Acct travel expense>>, <Account: <Acct equity equity>>, <Account: <Acct equity equity>>]"
      ]
     },
     "execution_count": 5,
     "metadata": {},
     "output_type": "execute_result"
    }
   ],
   "source": [
    "Account.objects"
   ]
  },
  {
   "cell_type": "code",
   "execution_count": 6,
   "metadata": {},
   "outputs": [
    {
     "data": {
      "text/plain": [
       "<Account: <Acct equity equity>>"
      ]
     },
     "execution_count": 6,
     "metadata": {},
     "output_type": "execute_result"
    }
   ],
   "source": [
    "Account.objects[0]"
   ]
  },
  {
   "cell_type": "code",
   "execution_count": 7,
   "metadata": {},
   "outputs": [],
   "source": [
    "acct = Account.objects[0]"
   ]
  },
  {
   "cell_type": "code",
   "execution_count": 8,
   "metadata": {},
   "outputs": [
    {
     "data": {
      "text/plain": [
       "'equity'"
      ]
     },
     "execution_count": 8,
     "metadata": {},
     "output_type": "execute_result"
    }
   ],
   "source": [
    "acct.name"
   ]
  },
  {
   "cell_type": "code",
   "execution_count": 9,
   "metadata": {},
   "outputs": [
    {
     "data": {
      "text/plain": [
       "'equity'"
      ]
     },
     "execution_count": 9,
     "metadata": {},
     "output_type": "execute_result"
    }
   ],
   "source": [
    "acct['name']"
   ]
  },
  {
   "cell_type": "markdown",
   "metadata": {},
   "source": [
    "### Low Level API"
   ]
  },
  {
   "cell_type": "markdown",
   "metadata": {},
   "source": [
    "We can also connect to the DB directly to use the `pymongo` library, _e.g._ to get collection names.\n",
    "\n",
    "After calling `DB.open` we can get a reference to the client and the current database using static vars of the module:"
   ]
  },
  {
   "cell_type": "code",
   "execution_count": 10,
   "metadata": {},
   "outputs": [
    {
     "data": {
      "text/plain": [
       "MongoClient(host=['localhost:27017'], document_class=dict, tz_aware=False, connect=True, read_preference=Primary(), uuidrepresentation=4, driver=DriverInfo(name='MongoEngine', version='0.29.1', platform=None))"
      ]
     },
     "execution_count": 10,
     "metadata": {},
     "output_type": "execute_result"
    }
   ],
   "source": [
    "DB.client"
   ]
  },
  {
   "cell_type": "code",
   "execution_count": 11,
   "metadata": {},
   "outputs": [
    {
     "data": {
      "text/plain": [
       "['admin', 'config', 'dev', 'dexter', 'local', 'pytest']"
      ]
     },
     "execution_count": 11,
     "metadata": {},
     "output_type": "execute_result"
    }
   ],
   "source": [
    "DB.client.list_database_names()"
   ]
  },
  {
   "cell_type": "code",
   "execution_count": 12,
   "metadata": {},
   "outputs": [
    {
     "data": {
      "text/plain": [
       "Database(MongoClient(host=['localhost:27017'], document_class=dict, tz_aware=False, connect=True, read_preference=Primary(), uuidrepresentation=4, driver=DriverInfo(name='MongoEngine', version='0.29.1', platform=None)), 'pytest')"
      ]
     },
     "execution_count": 12,
     "metadata": {},
     "output_type": "execute_result"
    }
   ],
   "source": [
    "DB.database"
   ]
  },
  {
   "cell_type": "code",
   "execution_count": 13,
   "metadata": {},
   "outputs": [],
   "source": [
    "db = DB.database"
   ]
  },
  {
   "cell_type": "code",
   "execution_count": 14,
   "metadata": {},
   "outputs": [
    {
     "data": {
      "text/plain": [
       "Collection(Database(MongoClient(host=['localhost:27017'], document_class=dict, tz_aware=False, connect=True, read_preference=Primary(), uuidrepresentation=4, driver=DriverInfo(name='MongoEngine', version='0.29.1', platform=None)), 'pytest'), 'account')"
      ]
     },
     "execution_count": 14,
     "metadata": {},
     "output_type": "execute_result"
    }
   ],
   "source": [
    "db.account"
   ]
  },
  {
   "cell_type": "code",
   "execution_count": 15,
   "metadata": {},
   "outputs": [
    {
     "data": {
      "text/plain": [
       "{'_id': ObjectId('67f16179bcd0bf7da28fa44f'),\n",
       " 'name': 'equity',\n",
       " 'category': 'equity',\n",
       " 'comment': 'type: equity'}"
      ]
     },
     "execution_count": 15,
     "metadata": {},
     "output_type": "execute_result"
    }
   ],
   "source": [
    "db.account.find_one()"
   ]
  },
  {
   "cell_type": "code",
   "execution_count": 16,
   "metadata": {},
   "outputs": [
    {
     "name": "stdout",
     "output_type": "stream",
     "text": [
      "{'name': 'entry', 'type': 'collection', 'options': {}, 'info': {'readOnly': False, 'uuid': Binary(b'<j\\xa3Z\\x13\\xf3F\\x8d\\xb7\\x9fJ\\xb7\\xde\\x8a\\x07\\xe3', 4)}, 'idIndex': {'v': 2, 'key': {'_id': 1}, 'name': '_id_'}}\n",
      "{'name': 'transaction', 'type': 'collection', 'options': {}, 'info': {'readOnly': False, 'uuid': Binary(b\"_\\x1e\\xb9c0\\xa9A2\\xa2'\\xb9\\xd5\\x85D \\x14\", 4)}, 'idIndex': {'v': 2, 'key': {'_id': 1}, 'name': '_id_'}}\n",
      "{'name': 'reg_exp', 'type': 'collection', 'options': {}, 'info': {'readOnly': False, 'uuid': Binary(b'\\xa2\\xf9\\xee\\xa4\\xed*Ja\\x97\\rl\\xceDA\\xb7\\xaf', 4)}, 'idIndex': {'v': 2, 'key': {'_id': 1}, 'name': '_id_'}}\n",
      "{'name': 'account', 'type': 'collection', 'options': {}, 'info': {'readOnly': False, 'uuid': Binary(b'\\xaa\\xfe\\xa4l\\x96XAo\\x93\\xd0\\x82\\x00{\\xba\\x7fe', 4)}, 'idIndex': {'v': 2, 'key': {'_id': 1}, 'name': '_id_'}}\n"
     ]
    }
   ],
   "source": [
    "for c in db.list_collections():\n",
    "    print(c)"
   ]
  },
  {
   "cell_type": "code",
   "execution_count": 17,
   "metadata": {},
   "outputs": [
    {
     "name": "stdout",
     "output_type": "stream",
     "text": [
      "entry\n",
      "transaction\n",
      "reg_exp\n",
      "account\n"
     ]
    }
   ],
   "source": [
    "for name in db.list_collection_names():\n",
    "    print(name)"
   ]
  },
  {
   "cell_type": "code",
   "execution_count": 18,
   "metadata": {},
   "outputs": [
    {
     "data": {
      "text/plain": [
       "Collection(Database(MongoClient(host=['localhost:27017'], document_class=dict, tz_aware=False, connect=True, read_preference=Primary(), uuidrepresentation=4, driver=DriverInfo(name='MongoEngine', version='0.29.1', platform=None)), 'pytest'), 'account')"
      ]
     },
     "execution_count": 18,
     "metadata": {},
     "output_type": "execute_result"
    }
   ],
   "source": [
    "db['account']"
   ]
  },
  {
   "cell_type": "markdown",
   "metadata": {},
   "source": []
  },
  {
   "cell_type": "code",
   "execution_count": 19,
   "metadata": {},
   "outputs": [
    {
     "data": {
      "text/plain": [
       "{'_id': ObjectId('67f16179bcd0bf7da28fa44f'),\n",
       " 'name': 'equity',\n",
       " 'category': 'equity',\n",
       " 'comment': 'type: equity'}"
      ]
     },
     "execution_count": 19,
     "metadata": {},
     "output_type": "execute_result"
    }
   ],
   "source": [
    "db['account'].find_one()"
   ]
  },
  {
   "cell_type": "code",
   "execution_count": 20,
   "metadata": {},
   "outputs": [
    {
     "name": "stdout",
     "output_type": "stream",
     "text": [
      "{'_id': ObjectId('67f16179bcd0bf7da28fa44f'), 'name': 'equity', 'category': 'equity', 'comment': 'type: equity'}\n",
      "{'_id': ObjectId('67f16179bcd0bf7da28fa450'), 'name': 'yoyodyne', 'category': 'income', 'comment': 'type: income'}\n",
      "{'_id': ObjectId('67f16179bcd0bf7da28fa451'), 'name': 'bank:checking', 'category': 'asset', 'comment': 'type: asset'}\n",
      "{'_id': ObjectId('67f16179bcd0bf7da28fa452'), 'name': 'amex:blue', 'category': 'liability', 'comment': 'type: liability'}\n",
      "{'_id': ObjectId('67f16179bcd0bf7da28fa453'), 'name': 'chase:visa', 'category': 'liability', 'comment': 'type: liability'}\n",
      "{'_id': ObjectId('67f16179bcd0bf7da28fa454'), 'name': 'groceries', 'category': 'expense', 'comment': 'type: expense'}\n",
      "{'_id': ObjectId('67f16179bcd0bf7da28fa455'), 'name': 'household', 'category': 'expense', 'comment': 'type: expense'}\n",
      "{'_id': ObjectId('67f16179bcd0bf7da28fa456'), 'name': 'mortgage', 'category': 'expense', 'comment': 'type: expense'}\n",
      "{'_id': ObjectId('67f16179bcd0bf7da28fa457'), 'name': 'car', 'category': 'expense', 'comment': 'type: expense'}\n",
      "{'_id': ObjectId('67f16179bcd0bf7da28fa458'), 'name': 'travel', 'category': 'expense', 'comment': 'type: expense'}\n",
      "{'_id': ObjectId('67f179c99aecc179a6b38acf'), 'name': 'equity', 'category': 'equity'}\n",
      "{'_id': ObjectId('67f2b70295477cfde0e2bb64'), 'name': 'equity', 'category': 'equity'}\n"
     ]
    }
   ],
   "source": [
    "for obj in db['account'].find():\n",
    "    print(obj)"
   ]
  },
  {
   "cell_type": "markdown",
   "metadata": {},
   "source": [
    "### From Low Level to High Level"
   ]
  },
  {
   "cell_type": "markdown",
   "metadata": {},
   "source": [
    "Question:  given a collection name (\"account\") can we find the corresponding MongoEngine class (Account)?"
   ]
  },
  {
   "cell_type": "code",
   "execution_count": 21,
   "metadata": {},
   "outputs": [
    {
     "data": {
      "text/plain": [
       "mongoengine.document.Document"
      ]
     },
     "execution_count": 21,
     "metadata": {},
     "output_type": "execute_result"
    }
   ],
   "source": [
    "Document"
   ]
  },
  {
   "cell_type": "code",
   "execution_count": 22,
   "metadata": {},
   "outputs": [
    {
     "data": {
      "text/plain": [
       "[mongoengine.document.DynamicDocument,\n",
       " dexter.DB.Account,\n",
       " dexter.DB.Entry,\n",
       " dexter.DB.Transaction,\n",
       " dexter.DB.RegExp]"
      ]
     },
     "execution_count": 22,
     "metadata": {},
     "output_type": "execute_result"
    }
   ],
   "source": [
    "Document.__subclasses__()"
   ]
  },
  {
   "cell_type": "code",
   "execution_count": 23,
   "metadata": {},
   "outputs": [
    {
     "data": {
      "text/plain": [
       "[dexter.DB.Account, dexter.DB.Entry, dexter.DB.Transaction, dexter.DB.RegExp]"
      ]
     },
     "execution_count": 23,
     "metadata": {},
     "output_type": "execute_result"
    }
   ],
   "source": [
    "[cls for cls in Document.__subclasses__() if hasattr(cls, 'objects')]"
   ]
  },
  {
   "cell_type": "code",
   "execution_count": 24,
   "metadata": {},
   "outputs": [
    {
     "data": {
      "text/plain": [
       "{'abstract': False,\n",
       " 'max_documents': None,\n",
       " 'max_size': None,\n",
       " 'ordering': [],\n",
       " 'indexes': [],\n",
       " 'id_field': 'id',\n",
       " 'index_background': False,\n",
       " 'index_opts': None,\n",
       " 'delete_rules': None,\n",
       " 'allow_inheritance': None,\n",
       " 'collection': 'account',\n",
       " 'index_specs': []}"
      ]
     },
     "execution_count": 24,
     "metadata": {},
     "output_type": "execute_result"
    }
   ],
   "source": [
    "Account._meta"
   ]
  },
  {
   "cell_type": "code",
   "execution_count": 25,
   "metadata": {},
   "outputs": [
    {
     "name": "stdout",
     "output_type": "stream",
     "text": [
      "account <class 'dexter.DB.Account'>\n",
      "entry <class 'dexter.DB.Entry'>\n",
      "transaction <class 'dexter.DB.Transaction'>\n",
      "reg_exp <class 'dexter.DB.RegExp'>\n"
     ]
    }
   ],
   "source": [
    "for cls in Document.__subclasses__():\n",
    "    if not hasattr(cls, 'objects'):\n",
    "        continue\n",
    "    print(cls._meta['collection'], cls)"
   ]
  },
  {
   "cell_type": "markdown",
   "metadata": {},
   "source": [
    "### The Big Picture"
   ]
  },
  {
   "cell_type": "markdown",
   "metadata": {},
   "source": [
    "Use the high level API when working with data.  MongoEngine converts the documents into objects (which is something we'd be doing ourselves if we didn't use it).\n",
    "\n",
    "Use the low level API for collective operations: exporting, importing, ...\n",
    "\n",
    "**NOTE**  It's possible to get a document using the low level API, as shown above, but it will be a `dict`, not a model instance."
   ]
  },
  {
   "cell_type": "markdown",
   "metadata": {},
   "source": [
    "### Transactions"
   ]
  },
  {
   "cell_type": "code",
   "execution_count": 26,
   "metadata": {},
   "outputs": [],
   "source": [
    "t = Transaction(description='hi', comment='aloha')"
   ]
  },
  {
   "cell_type": "code",
   "execution_count": 27,
   "metadata": {},
   "outputs": [
    {
     "data": {
      "text/plain": [
       "'hi'"
      ]
     },
     "execution_count": 27,
     "metadata": {},
     "output_type": "execute_result"
    }
   ],
   "source": [
    "t.description"
   ]
  },
  {
   "cell_type": "markdown",
   "metadata": {},
   "source": [
    "Nice -- the list fields are initially empty."
   ]
  },
  {
   "cell_type": "code",
   "execution_count": 28,
   "metadata": {},
   "outputs": [
    {
     "data": {
      "text/plain": [
       "[]"
      ]
     },
     "execution_count": 28,
     "metadata": {},
     "output_type": "execute_result"
    }
   ],
   "source": [
    "t.tags"
   ]
  },
  {
   "cell_type": "code",
   "execution_count": 29,
   "metadata": {},
   "outputs": [
    {
     "data": {
      "text/plain": [
       "[]"
      ]
     },
     "execution_count": 29,
     "metadata": {},
     "output_type": "execute_result"
    }
   ],
   "source": [
    "t.entries"
   ]
  },
  {
   "cell_type": "markdown",
   "metadata": {},
   "source": [
    "### Entries"
   ]
  },
  {
   "cell_type": "code",
   "execution_count": 30,
   "metadata": {},
   "outputs": [],
   "source": [
    "e = Entry(uid='xxx', column='credit', date='2025-03-05', amount=1000, account='unknown')"
   ]
  },
  {
   "cell_type": "code",
   "execution_count": 31,
   "metadata": {},
   "outputs": [
    {
     "data": {
      "text/plain": [
       "dexter.DB.Entry"
      ]
     },
     "execution_count": 31,
     "metadata": {},
     "output_type": "execute_result"
    }
   ],
   "source": [
    "type(e)"
   ]
  },
  {
   "cell_type": "code",
   "execution_count": 32,
   "metadata": {},
   "outputs": [
    {
     "data": {
      "text/plain": [
       "<Entry: <En 2025-03-05 unknown -$1000.0>>"
      ]
     },
     "execution_count": 32,
     "metadata": {},
     "output_type": "execute_result"
    }
   ],
   "source": [
    "e"
   ]
  },
  {
   "cell_type": "code",
   "execution_count": 33,
   "metadata": {},
   "outputs": [
    {
     "data": {
      "text/plain": [
       "<Column.cr: 'credit'>"
      ]
     },
     "execution_count": 33,
     "metadata": {},
     "output_type": "execute_result"
    }
   ],
   "source": [
    "e.column"
   ]
  },
  {
   "cell_type": "code",
   "execution_count": 34,
   "metadata": {},
   "outputs": [
    {
     "data": {
      "text/plain": [
       "<Column.dr: 'debit'>"
      ]
     },
     "execution_count": 34,
     "metadata": {},
     "output_type": "execute_result"
    }
   ],
   "source": [
    "e.column.opposite()"
   ]
  },
  {
   "cell_type": "code",
   "execution_count": 35,
   "metadata": {},
   "outputs": [
    {
     "data": {
      "text/plain": [
       "<Column.cr: 'credit'>"
      ]
     },
     "execution_count": 35,
     "metadata": {},
     "output_type": "execute_result"
    }
   ],
   "source": [
    "e.column.opposite().opposite()"
   ]
  },
  {
   "cell_type": "code",
   "execution_count": 36,
   "metadata": {},
   "outputs": [
    {
     "data": {
      "text/plain": [
       "1000.0"
      ]
     },
     "execution_count": 36,
     "metadata": {},
     "output_type": "execute_result"
    }
   ],
   "source": [
    "e.amount"
   ]
  },
  {
   "cell_type": "code",
   "execution_count": 37,
   "metadata": {},
   "outputs": [
    {
     "data": {
      "text/plain": [
       "'6fce51cdae9a1803b7c8d26e12244edc'"
      ]
     },
     "execution_count": 37,
     "metadata": {},
     "output_type": "execute_result"
    }
   ],
   "source": [
    "e.hash"
   ]
  },
  {
   "cell_type": "code",
   "execution_count": 38,
   "metadata": {},
   "outputs": [
    {
     "data": {
      "text/plain": [
       "32"
      ]
     },
     "execution_count": 38,
     "metadata": {},
     "output_type": "execute_result"
    }
   ],
   "source": [
    "len(e.hash)"
   ]
  },
  {
   "cell_type": "code",
   "execution_count": 39,
   "metadata": {},
   "outputs": [
    {
     "data": {
      "text/plain": [
       "{'01a6c8b9c5ea155bcf6a294036ee0fef',\n",
       " '141acd760303ee498c538ae564cf7bd3',\n",
       " '1732e5ef3f64fc8fc28429a867b994f2',\n",
       " '1e39a44e4a688705805c48993d8a1c86',\n",
       " '20c32394280e4bf00f0faf05aab51d3d',\n",
       " '2837965e0b02ce267303b66e66ac9c2c',\n",
       " '34bee8ca5e3faf0497a19cf7b1e9e65c',\n",
       " '35495d5b5ddb481fa571b055d8aa0c1c',\n",
       " '379f5e4e8736f038e5f447cb1ad698dd',\n",
       " '39ba02cf76f55e736d48eecaa9e8fd2a',\n",
       " '3f734f34bd78107418621a2e01ba8540',\n",
       " '48529d349536ef30fdb673e9ccbe2b16',\n",
       " '51935235b5aae2032057b14d142d0b22',\n",
       " '528bebc00189689329b3e5d54ec73989',\n",
       " '55b550d1058f42f0ababbce1e096c420',\n",
       " '6f2d599c07e27edc03feeb8bf2acdc80',\n",
       " '6ff8eec43005d6834a414d4f307655a9',\n",
       " '731e7aa206d4703144631e63852e3ad8',\n",
       " '8291d7bf3f1960e028944879cf5f8690',\n",
       " '86b576cc0caca598e7947359344d4f6d',\n",
       " '87c83a9615a2780e3680c684faa0f073',\n",
       " '950f17ee230abc8e769a4b8189c100b9',\n",
       " '9a274abe41d85356d391269f0795967b',\n",
       " '9c50e74c3edb5c897ad523a4aaa278e0',\n",
       " 'a1e1ac32faad7a5ac3b74ad2e481ae53',\n",
       " 'a726755edba7d26587e9b126fb8f0b83',\n",
       " 'a8841c89a2931321c4e271de5ebb8064',\n",
       " 'b7823db4ea4dad5a07436b39198adb5c',\n",
       " 'ba5feedc7eba378198432c459e5546b0',\n",
       " 'bbc2effcbdfa3b4d6ed21a042da873f7',\n",
       " 'c3554becc80b972b1705d6d58c96c0e7',\n",
       " 'c6001712ec82b2b969a9e41c38c87795',\n",
       " 'c9b11fcb39561c5af839e473aff9d923',\n",
       " 'cd96a0ee6a17c10c08c9d0356037faea',\n",
       " 'd2f0d526b911e4026e87e029a11ab46e',\n",
       " 'd536c0320864885510c6813e00e50e6f',\n",
       " 'd548909397f2d415930043875dd36de9',\n",
       " 'da926f4c6d627231b5d53ef086ba564f'}"
      ]
     },
     "execution_count": 39,
     "metadata": {},
     "output_type": "execute_result"
    }
   ],
   "source": [
    "{e.uid for e in Entry.objects}"
   ]
  },
  {
   "cell_type": "code",
   "execution_count": 40,
   "metadata": {},
   "outputs": [],
   "source": [
    "s = set()\n",
    "for e in Entry.objects:\n",
    "    if e in s:\n",
    "        print(e.date, e.amount, e.description)\n",
    "    s.add(e.uid)"
   ]
  },
  {
   "cell_type": "code",
   "execution_count": 41,
   "metadata": {},
   "outputs": [
    {
     "data": {
      "text/plain": [
       "38"
      ]
     },
     "execution_count": 41,
     "metadata": {},
     "output_type": "execute_result"
    }
   ],
   "source": [
    "len(s)"
   ]
  },
  {
   "cell_type": "code",
   "execution_count": 42,
   "metadata": {},
   "outputs": [
    {
     "data": {
      "text/plain": [
       "38"
      ]
     },
     "execution_count": 42,
     "metadata": {},
     "output_type": "execute_result"
    }
   ],
   "source": [
    "len(Entry.objects)"
   ]
  },
  {
   "cell_type": "code",
   "execution_count": 43,
   "metadata": {},
   "outputs": [],
   "source": [
    "lst = sorted([e.uid for e in Entry.objects])"
   ]
  },
  {
   "cell_type": "code",
   "execution_count": 44,
   "metadata": {},
   "outputs": [
    {
     "data": {
      "text/plain": [
       "38"
      ]
     },
     "execution_count": 44,
     "metadata": {},
     "output_type": "execute_result"
    }
   ],
   "source": [
    "len(lst)"
   ]
  },
  {
   "cell_type": "code",
   "execution_count": 45,
   "metadata": {},
   "outputs": [],
   "source": [
    "dup = []\n",
    "for i in range(len(lst)-1):\n",
    "    if lst[i] == lst[i+1]:\n",
    "        dup.append(lst[i])"
   ]
  },
  {
   "cell_type": "code",
   "execution_count": 46,
   "metadata": {},
   "outputs": [
    {
     "data": {
      "text/plain": [
       "[]"
      ]
     },
     "execution_count": 46,
     "metadata": {},
     "output_type": "execute_result"
    }
   ],
   "source": [
    "dup"
   ]
  },
  {
   "cell_type": "code",
   "execution_count": 47,
   "metadata": {},
   "outputs": [],
   "source": [
    "for e in Entry.objects:\n",
    "    if e.uid in dup:\n",
    "        print(e.date, e.amount, e.account, e.description)"
   ]
  },
  {
   "cell_type": "markdown",
   "metadata": {},
   "source": [
    "### Tags"
   ]
  },
  {
   "cell_type": "code",
   "execution_count": 48,
   "metadata": {},
   "outputs": [],
   "source": [
    "e = Entry.objects[0]"
   ]
  },
  {
   "cell_type": "code",
   "execution_count": 49,
   "metadata": {},
   "outputs": [
    {
     "data": {
      "text/plain": [
       "'Jan pay'"
      ]
     },
     "execution_count": 49,
     "metadata": {},
     "output_type": "execute_result"
    }
   ],
   "source": [
    "e.description"
   ]
  },
  {
   "cell_type": "code",
   "execution_count": 50,
   "metadata": {},
   "outputs": [
    {
     "data": {
      "text/plain": [
       "[]"
      ]
     },
     "execution_count": 50,
     "metadata": {},
     "output_type": "execute_result"
    }
   ],
   "source": [
    "e.tags"
   ]
  },
  {
   "cell_type": "code",
   "execution_count": 51,
   "metadata": {},
   "outputs": [],
   "source": [
    "e.tags.append(Tag.U)"
   ]
  },
  {
   "cell_type": "code",
   "execution_count": 52,
   "metadata": {},
   "outputs": [
    {
     "data": {
      "text/plain": [
       "<Entry: <En 2024-01-02 bank:checking +$5000.0>>"
      ]
     },
     "execution_count": 52,
     "metadata": {},
     "output_type": "execute_result"
    }
   ],
   "source": [
    "e.save()"
   ]
  },
  {
   "cell_type": "code",
   "execution_count": 53,
   "metadata": {},
   "outputs": [
    {
     "data": {
      "text/plain": [
       "[<Tag.U: 'unpaired'>]"
      ]
     },
     "execution_count": 53,
     "metadata": {},
     "output_type": "execute_result"
    }
   ],
   "source": [
    "e.tags"
   ]
  },
  {
   "cell_type": "code",
   "execution_count": 54,
   "metadata": {},
   "outputs": [],
   "source": [
    "e.note = \"hello\""
   ]
  },
  {
   "cell_type": "code",
   "execution_count": 55,
   "metadata": {},
   "outputs": [
    {
     "data": {
      "text/plain": [
       "<Entry: <En 2024-01-02 bank:checking +$5000.0>>"
      ]
     },
     "execution_count": 55,
     "metadata": {},
     "output_type": "execute_result"
    }
   ],
   "source": [
    "e.save()"
   ]
  },
  {
   "cell_type": "markdown",
   "metadata": {},
   "source": [
    "### References"
   ]
  },
  {
   "cell_type": "markdown",
   "metadata": {},
   "source": [
    "The big test -- can we add that Entry to the transaction?"
   ]
  },
  {
   "cell_type": "code",
   "execution_count": 56,
   "metadata": {},
   "outputs": [],
   "source": [
    "t.entries.append(e)"
   ]
  },
  {
   "cell_type": "code",
   "execution_count": 57,
   "metadata": {},
   "outputs": [
    {
     "data": {
      "text/plain": [
       "[<Entry: <En 2024-01-02 bank:checking +$5000.0>>]"
      ]
     },
     "execution_count": 57,
     "metadata": {},
     "output_type": "execute_result"
    }
   ],
   "source": [
    "t.entries"
   ]
  },
  {
   "cell_type": "markdown",
   "metadata": {},
   "source": [
    "Yes!  🎉"
   ]
  },
  {
   "cell_type": "markdown",
   "metadata": {},
   "source": [
    "### Misc Commands"
   ]
  },
  {
   "cell_type": "code",
   "execution_count": 58,
   "metadata": {},
   "outputs": [
    {
     "data": {
      "text/plain": [
       "Collection(Database(MongoClient(host=['localhost:27017'], document_class=dict, tz_aware=False, connect=True, read_preference=Primary(), uuidrepresentation=4, driver=DriverInfo(name='MongoEngine', version='0.29.1', platform=None)), 'pytest'), 'stats')"
      ]
     },
     "execution_count": 58,
     "metadata": {},
     "output_type": "execute_result"
    }
   ],
   "source": [
    "db.stats"
   ]
  },
  {
   "cell_type": "code",
   "execution_count": 59,
   "metadata": {},
   "outputs": [
    {
     "data": {
      "text/plain": [
       "<bound method Collection.find_one of Collection(Database(MongoClient(host=['localhost:27017'], document_class=dict, tz_aware=False, connect=True, read_preference=Primary(), uuidrepresentation=4, driver=DriverInfo(name='MongoEngine', version='0.29.1', platform=None)), 'pytest'), 'stats')>"
      ]
     },
     "execution_count": 59,
     "metadata": {},
     "output_type": "execute_result"
    }
   ],
   "source": [
    "db.stats.find_one"
   ]
  },
  {
   "cell_type": "code",
   "execution_count": 60,
   "metadata": {},
   "outputs": [
    {
     "data": {
      "text/plain": [
       "['entry', 'transaction', 'reg_exp', 'account']"
      ]
     },
     "execution_count": 60,
     "metadata": {},
     "output_type": "execute_result"
    }
   ],
   "source": [
    "db.list_collection_names()"
   ]
  },
  {
   "cell_type": "code",
   "execution_count": 61,
   "metadata": {},
   "outputs": [
    {
     "data": {
      "text/plain": [
       "{'n': 12, 'ok': 1.0}"
      ]
     },
     "execution_count": 61,
     "metadata": {},
     "output_type": "execute_result"
    }
   ],
   "source": [
    "db.command('count','account')"
   ]
  },
  {
   "cell_type": "code",
   "execution_count": 62,
   "metadata": {},
   "outputs": [
    {
     "data": {
      "text/plain": [
       "{'isWritablePrimary': True,\n",
       " 'topologyVersion': {'processId': ObjectId('67f140001cbe7d77833a339b'),\n",
       "  'counter': 0},\n",
       " 'maxBsonObjectSize': 16777216,\n",
       " 'maxMessageSizeBytes': 48000000,\n",
       " 'maxWriteBatchSize': 100000,\n",
       " 'localTime': datetime.datetime(2025, 4, 6, 17, 16, 51, 168000),\n",
       " 'logicalSessionTimeoutMinutes': 30,\n",
       " 'connectionId': 292,\n",
       " 'minWireVersion': 0,\n",
       " 'maxWireVersion': 25,\n",
       " 'readOnly': False,\n",
       " 'ok': 1.0}"
      ]
     },
     "execution_count": 62,
     "metadata": {},
     "output_type": "execute_result"
    }
   ],
   "source": [
    "db.command('hello')"
   ]
  },
  {
   "cell_type": "code",
   "execution_count": 63,
   "metadata": {},
   "outputs": [
    {
     "data": {
      "text/plain": [
       "{'system': {'currentTime': datetime.datetime(2025, 4, 6, 17, 16, 51, 172000),\n",
       "  'hostname': 'cthulhu.local',\n",
       "  'cpuAddrSize': 64,\n",
       "  'memSizeMB': 65536,\n",
       "  'memLimitMB': 65536,\n",
       "  'numCores': 12,\n",
       "  'numCoresAvailableToProcess': 12,\n",
       "  'numPhysicalCores': 12,\n",
       "  'numCpuSockets': 1,\n",
       "  'cpuArch': 'arm64',\n",
       "  'numaEnabled': False,\n",
       "  'numNumaNodes': 1},\n",
       " 'os': {'type': 'Darwin', 'name': 'Mac OS X', 'version': '24.4.0'},\n",
       " 'extra': {'versionString': 'Darwin Kernel Version 24.4.0: Wed Mar 19 21:17:25 PDT 2025; root:xnu-11417.101.15~1/RELEASE_ARM64_T6020',\n",
       "  'alwaysFullSync': 0,\n",
       "  'nfsAsync': 0,\n",
       "  'model': 'Mac14,13',\n",
       "  'cpuString': 'Apple M2 Max',\n",
       "  'pageSize': 16384,\n",
       "  'scheduler': 'edge'},\n",
       " 'ok': 1.0}"
      ]
     },
     "execution_count": 63,
     "metadata": {},
     "output_type": "execute_result"
    }
   ],
   "source": [
    "db.command('hostInfo')"
   ]
  },
  {
   "cell_type": "code",
   "execution_count": 64,
   "metadata": {},
   "outputs": [
    {
     "data": {
      "text/plain": [
       "{'ok': 1.0}"
      ]
     },
     "execution_count": 64,
     "metadata": {},
     "output_type": "execute_result"
    }
   ],
   "source": [
    "db.command('ping')"
   ]
  },
  {
   "cell_type": "markdown",
   "metadata": {},
   "source": [
    "### Fetch Transactions"
   ]
  },
  {
   "cell_type": "markdown",
   "metadata": {},
   "source": [
    "Specify constraints on transactions"
   ]
  },
  {
   "cell_type": "code",
   "execution_count": 65,
   "metadata": {},
   "outputs": [
    {
     "data": {
      "text/plain": [
       "[<Transaction: <Tr 2024-01-02 yoyodyne -> bank:checking $5000.0 paycheck>>, <Transaction: <Tr 2024-01-02 groceries/mortgage/car/travel -> yoyodyne $5000.0 fill buckets>>, <Transaction: <Tr 2024-02-02 yoyodyne -> bank:checking $5000.0 paycheck>>, <Transaction: <Tr 2024-02-02 groceries/mortgage/car/travel -> yoyodyne $5000.0 fill buckets>>, <Transaction: <Tr 2024-01-05 bank:checking -> car $500.0 car payment>>, <Transaction: <Tr 2024-02-05 bank:checking -> car $500.0 car payment>>, <Transaction: <Tr 2024-01-10 chase:visa -> car $50.0 Shell Oil>>, <Transaction: <Tr 2024-02-26 chase:visa -> car $60.0 Shell Oil>>, <Transaction: <Tr 2024-01-04 bank:checking -> mortgage $1800.0 Rocket Mortgage>>, <Transaction: <Tr 2024-02-04 bank:checking -> mortgage $1800.0 Rocket Mortgage>>, <Transaction: <Tr 2024-01-07 bank:checking -> groceries $75.0 Safeway>>, <Transaction: <Tr 2024-01-21 chase:visa -> groceries $175.0 Safeway>>, <Transaction: <Tr 2024-02-07 bank:checking -> groceries $75.0 Safeway>>, <Transaction: <Tr 2024-02-21 chase:visa -> groceries $75.0 Safeway>>, <Transaction: <Tr 2024-03-10 amex:blue -> household $50.0 Home Depot>>, <Transaction: <Tr 2024-03-12 household -> amex:blue $25.0 Home Depot>>]"
      ]
     },
     "execution_count": 65,
     "metadata": {},
     "output_type": "execute_result"
    }
   ],
   "source": [
    "Transaction.objects"
   ]
  },
  {
   "cell_type": "code",
   "execution_count": 66,
   "metadata": {},
   "outputs": [
    {
     "data": {
      "text/plain": [
       "[<Transaction: <Tr 2024-01-07 bank:checking -> groceries $75.0 Safeway>>, <Transaction: <Tr 2024-01-21 chase:visa -> groceries $175.0 Safeway>>, <Transaction: <Tr 2024-02-07 bank:checking -> groceries $75.0 Safeway>>, <Transaction: <Tr 2024-02-21 chase:visa -> groceries $75.0 Safeway>>]"
      ]
     },
     "execution_count": 66,
     "metadata": {},
     "output_type": "execute_result"
    }
   ],
   "source": [
    "Transaction.objects(description='Safeway')"
   ]
  },
  {
   "cell_type": "code",
   "execution_count": 67,
   "metadata": {},
   "outputs": [
    {
     "name": "stdout",
     "output_type": "stream",
     "text": [
      "2024-01-07 groceries 75.0 debit\n",
      "2024-01-07 bank:checking 75.0 credit\n",
      "2024-01-21 groceries 175.0 debit\n",
      "2024-01-21 chase:visa 175.0 credit\n",
      "2024-02-07 groceries 75.0 debit\n",
      "2024-02-07 bank:checking 75.0 credit\n",
      "2024-02-21 groceries 75.0 debit\n",
      "2024-02-21 chase:visa 75.0 credit\n"
     ]
    }
   ],
   "source": [
    "for t in Transaction.objects(description='Safeway'):\n",
    "    for e in t.entries:\n",
    "        print(e.date, e.account, e.amount, e.column)"
   ]
  },
  {
   "cell_type": "code",
   "execution_count": 68,
   "metadata": {},
   "outputs": [
    {
     "name": "stdout",
     "output_type": "stream",
     "text": [
      "{'groceries', 'bank:checking'}\n",
      "{'groceries', 'chase:visa'}\n",
      "{'groceries', 'bank:checking'}\n",
      "{'groceries', 'chase:visa'}\n"
     ]
    }
   ],
   "source": [
    "for t in Transaction.objects(description='Safeway'):\n",
    "    print(t.accounts)"
   ]
  },
  {
   "cell_type": "code",
   "execution_count": 69,
   "metadata": {},
   "outputs": [
    {
     "name": "stdout",
     "output_type": "stream",
     "text": [
      "75.0\n",
      "175.0\n",
      "75.0\n",
      "75.0\n"
     ]
    }
   ],
   "source": [
    "for t in Transaction.objects(description='Safeway'):\n",
    "    print(t.pamount)"
   ]
  },
  {
   "cell_type": "code",
   "execution_count": 70,
   "metadata": {},
   "outputs": [
    {
     "name": "stdout",
     "output_type": "stream",
     "text": [
      "2024-01-07 <class 'datetime.date'>\n",
      "2024-01-21 <class 'datetime.date'>\n",
      "2024-02-07 <class 'datetime.date'>\n",
      "2024-02-21 <class 'datetime.date'>\n"
     ]
    }
   ],
   "source": [
    "for t in Transaction.objects(description='Safeway'):\n",
    "    print(t.pdate, type(t.pdate))"
   ]
  },
  {
   "cell_type": "code",
   "execution_count": 71,
   "metadata": {},
   "outputs": [
    {
     "name": "stdout",
     "output_type": "stream",
     "text": [
      "weekly/Safeway\n",
      "big party this weekend/Safeway\n",
      "weekly/Safeway\n",
      "normal/Safeway\n"
     ]
    }
   ],
   "source": [
    "for t in Transaction.objects(description='Safeway'):\n",
    "    print(t.originals)"
   ]
  },
  {
   "cell_type": "code",
   "execution_count": 72,
   "metadata": {},
   "outputs": [],
   "source": [
    "lst = list(Transaction.objects(description='Safeway'))"
   ]
  },
  {
   "cell_type": "code",
   "execution_count": 73,
   "metadata": {},
   "outputs": [
    {
     "data": {
      "text/plain": [
       "''"
      ]
     },
     "execution_count": 73,
     "metadata": {},
     "output_type": "execute_result"
    }
   ],
   "source": [
    "lst[1].comment"
   ]
  },
  {
   "cell_type": "code",
   "execution_count": 74,
   "metadata": {},
   "outputs": [
    {
     "data": {
      "text/plain": [
       "175.0"
      ]
     },
     "execution_count": 74,
     "metadata": {},
     "output_type": "execute_result"
    }
   ],
   "source": [
    "lst[1].pamount"
   ]
  },
  {
   "cell_type": "code",
   "execution_count": 75,
   "metadata": {},
   "outputs": [
    {
     "data": {
      "text/plain": [
       "datetime.date(2024, 1, 21)"
      ]
     },
     "execution_count": 75,
     "metadata": {},
     "output_type": "execute_result"
    }
   ],
   "source": [
    "lst[1].pdate"
   ]
  },
  {
   "cell_type": "code",
   "execution_count": 76,
   "metadata": {},
   "outputs": [
    {
     "data": {
      "text/plain": [
       "[<Transaction: <Tr 2024-01-10 chase:visa -> car $50.0 Shell Oil>>,\n",
       " <Transaction: <Tr 2024-02-26 chase:visa -> car $60.0 Shell Oil>>,\n",
       " <Transaction: <Tr 2024-01-07 bank:checking -> groceries $75.0 Safeway>>,\n",
       " <Transaction: <Tr 2024-02-07 bank:checking -> groceries $75.0 Safeway>>,\n",
       " <Transaction: <Tr 2024-02-21 chase:visa -> groceries $75.0 Safeway>>,\n",
       " <Transaction: <Tr 2024-03-10 amex:blue -> household $50.0 Home Depot>>,\n",
       " <Transaction: <Tr 2024-03-12 household -> amex:blue $25.0 Home Depot>>]"
      ]
     },
     "execution_count": 76,
     "metadata": {},
     "output_type": "execute_result"
    }
   ],
   "source": [
    "list(Transaction.objects(pamount__lt=175.0))"
   ]
  },
  {
   "cell_type": "code",
   "execution_count": 77,
   "metadata": {},
   "outputs": [
    {
     "name": "stdout",
     "output_type": "stream",
     "text": [
      "2024-01-02 5000.0 bank:checking yoyodyne\n",
      "2024-01-02 5000.0 yoyodyne groceries/mortgage/car/travel\n"
     ]
    }
   ],
   "source": [
    "for t in Transaction.objects(pdate=date(2024,1,2)):\n",
    "    print(t.pdate, t.pamount, t.pdebit, t.pcredit)"
   ]
  },
  {
   "cell_type": "code",
   "execution_count": 78,
   "metadata": {},
   "outputs": [
    {
     "name": "stdout",
     "output_type": "stream",
     "text": [
      "2024-01-02 5000.0 bank:checking yoyodyne\n",
      "2024-01-02 5000.0 yoyodyne groceries/mortgage/car/travel\n"
     ]
    }
   ],
   "source": [
    "for t in Transaction.objects(pdate__lte=date(2024,1,2)):\n",
    "    print(t.pdate, t.pamount, t.pdebit, t.pcredit)"
   ]
  },
  {
   "cell_type": "markdown",
   "metadata": {},
   "source": [
    "### Operators"
   ]
  },
  {
   "cell_type": "code",
   "execution_count": 79,
   "metadata": {},
   "outputs": [
    {
     "name": "stdout",
     "output_type": "stream",
     "text": [
      "2024-01-02 paycheck\n",
      "2024-01-02 fill buckets\n",
      "2024-02-02 paycheck\n",
      "2024-02-02 fill buckets\n",
      "2024-01-05 car payment\n",
      "2024-02-05 car payment\n",
      "2024-01-10 Shell Oil\n",
      "2024-02-26 Shell Oil\n",
      "2024-01-07 Safeway\n",
      "2024-01-21 Safeway\n",
      "2024-02-07 Safeway\n",
      "2024-02-21 Safeway\n"
     ]
    }
   ],
   "source": [
    "for t in Transaction.objects(description__gte='Safeway'):\n",
    "    print(t.pdate, t.description)"
   ]
  },
  {
   "cell_type": "code",
   "execution_count": 80,
   "metadata": {},
   "outputs": [
    {
     "name": "stdout",
     "output_type": "stream",
     "text": [
      "2024-01-10 Shell Oil\n",
      "2024-02-26 Shell Oil\n",
      "2024-01-07 Safeway\n",
      "2024-01-21 Safeway\n",
      "2024-02-07 Safeway\n",
      "2024-02-21 Safeway\n"
     ]
    }
   ],
   "source": [
    "for t in Transaction.objects(description__regex='^S'):\n",
    "    print(t.pdate, t.description)"
   ]
  },
  {
   "cell_type": "markdown",
   "metadata": {},
   "source": [
    "The operator automatically applies to list elements."
   ]
  },
  {
   "cell_type": "code",
   "execution_count": 81,
   "metadata": {},
   "outputs": [
    {
     "name": "stdout",
     "output_type": "stream",
     "text": [
      "2024-01-02 fill buckets 5000.0\n",
      "2024-02-02 fill buckets 5000.0\n",
      "2024-01-05 car payment 500.0\n",
      "2024-02-05 car payment 500.0\n",
      "2024-01-10 Shell Oil 50.0\n",
      "2024-02-26 Shell Oil 60.0\n",
      "2024-01-04 Rocket Mortgage 1800.0\n",
      "2024-02-04 Rocket Mortgage 1800.0\n",
      "2024-03-10 Home Depot 50.0\n",
      "2024-03-12 Home Depot 25.0\n"
     ]
    }
   ],
   "source": [
    "for t in Transaction.objects(description__regex=r'\\s'):\n",
    "    print(t.pdate, t.description, t.pamount)"
   ]
  },
  {
   "cell_type": "markdown",
   "metadata": {},
   "source": [
    "For compound constraints we need another class from MongoEngine."
   ]
  },
  {
   "cell_type": "code",
   "execution_count": 82,
   "metadata": {},
   "outputs": [],
   "source": [
    "from mongoengine.queryset.visitor import Q"
   ]
  },
  {
   "cell_type": "code",
   "execution_count": 83,
   "metadata": {},
   "outputs": [
    {
     "name": "stdout",
     "output_type": "stream",
     "text": [
      "2024-01-10 Shell Oil\n",
      "2024-02-26 Shell Oil\n",
      "2024-01-07 Safeway\n",
      "2024-01-21 Safeway\n",
      "2024-02-07 Safeway\n",
      "2024-02-21 Safeway\n"
     ]
    }
   ],
   "source": [
    "for t in Transaction.objects(Q(description__regex=r'^S')):\n",
    "    print(t.pdate, t.description)"
   ]
  },
  {
   "cell_type": "code",
   "execution_count": 84,
   "metadata": {},
   "outputs": [
    {
     "name": "stdout",
     "output_type": "stream",
     "text": [
      "2024-01-10 Shell Oil\n",
      "2024-02-26 Shell Oil\n"
     ]
    }
   ],
   "source": [
    "for t in Transaction.objects(Q(description__regex=r'^S') & Q(description__regex=r'\\s')):\n",
    "    print(t.pdate, t.description)"
   ]
  },
  {
   "cell_type": "markdown",
   "metadata": {},
   "source": [
    "### QuerySet"
   ]
  },
  {
   "cell_type": "code",
   "execution_count": 85,
   "metadata": {},
   "outputs": [],
   "source": [
    "for a in Account.nominal_accounts:\n",
    "    print(a.name)"
   ]
  },
  {
   "cell_type": "markdown",
   "metadata": {},
   "source": [
    "### Combining Query Elements"
   ]
  },
  {
   "cell_type": "code",
   "execution_count": 86,
   "metadata": {},
   "outputs": [],
   "source": [
    "q = Q(description__regex=r'^S')"
   ]
  },
  {
   "cell_type": "code",
   "execution_count": 87,
   "metadata": {},
   "outputs": [
    {
     "data": {
      "text/plain": [
       "Q(**{'description__regex': '^S'})"
      ]
     },
     "execution_count": 87,
     "metadata": {},
     "output_type": "execute_result"
    }
   ],
   "source": [
    "q"
   ]
  },
  {
   "cell_type": "code",
   "execution_count": 88,
   "metadata": {},
   "outputs": [
    {
     "data": {
      "text/plain": [
       "mongoengine.queryset.visitor.Q"
      ]
     },
     "execution_count": 88,
     "metadata": {},
     "output_type": "execute_result"
    }
   ],
   "source": [
    "type(q)"
   ]
  },
  {
   "cell_type": "code",
   "execution_count": 89,
   "metadata": {},
   "outputs": [],
   "source": [
    "p = Q(description__regex=r'\\s')"
   ]
  },
  {
   "cell_type": "code",
   "execution_count": 90,
   "metadata": {},
   "outputs": [
    {
     "data": {
      "text/plain": [
       "(Q(**{'description__regex': '\\\\s'}) & Q(**{'description__regex': '^S'}))"
      ]
     },
     "execution_count": 90,
     "metadata": {},
     "output_type": "execute_result"
    }
   ],
   "source": [
    "p & q"
   ]
  },
  {
   "cell_type": "code",
   "execution_count": 91,
   "metadata": {},
   "outputs": [
    {
     "name": "stdout",
     "output_type": "stream",
     "text": [
      "2024-01-10 Shell Oil\n",
      "2024-02-26 Shell Oil\n"
     ]
    }
   ],
   "source": [
    "for t in Transaction.objects(p & q):\n",
    "    print(t.pdate, t.description)"
   ]
  },
  {
   "cell_type": "markdown",
   "metadata": {},
   "source": [
    "Create Q object using dictionaries"
   ]
  },
  {
   "cell_type": "code",
   "execution_count": 92,
   "metadata": {},
   "outputs": [],
   "source": [
    "dct = {'description__regex': r'^S'}"
   ]
  },
  {
   "cell_type": "code",
   "execution_count": 93,
   "metadata": {},
   "outputs": [
    {
     "data": {
      "text/plain": [
       "Q(**{'description__regex': '^S'})"
      ]
     },
     "execution_count": 93,
     "metadata": {},
     "output_type": "execute_result"
    }
   ],
   "source": [
    "Q(**dct)"
   ]
  },
  {
   "cell_type": "markdown",
   "metadata": {},
   "source": [
    "Can an object have multiple constraints?"
   ]
  },
  {
   "cell_type": "code",
   "execution_count": 94,
   "metadata": {},
   "outputs": [],
   "source": [
    "dct = {'description__regex': r'^S', 'pamount__gt': 100}"
   ]
  },
  {
   "cell_type": "code",
   "execution_count": 95,
   "metadata": {},
   "outputs": [
    {
     "data": {
      "text/plain": [
       "Q(**{'description__regex': '^S', 'pamount__gt': 100})"
      ]
     },
     "execution_count": 95,
     "metadata": {},
     "output_type": "execute_result"
    }
   ],
   "source": [
    "Q(**dct)"
   ]
  },
  {
   "cell_type": "code",
   "execution_count": 96,
   "metadata": {},
   "outputs": [
    {
     "name": "stdout",
     "output_type": "stream",
     "text": [
      "2024-01-21 Safeway 175.0\n"
     ]
    }
   ],
   "source": [
    "for t in Transaction.objects(Q(**dct)):\n",
    "    print(t.pdate, t.description, t.pamount)"
   ]
  },
  {
   "cell_type": "markdown",
   "metadata": {},
   "source": [
    "Yep!"
   ]
  },
  {
   "cell_type": "markdown",
   "metadata": {},
   "source": [
    "### Select Method"
   ]
  },
  {
   "cell_type": "markdown",
   "metadata": {},
   "source": [
    "#### Select Transactions"
   ]
  },
  {
   "cell_type": "markdown",
   "metadata": {},
   "source": [
    "All transactions:"
   ]
  },
  {
   "cell_type": "code",
   "execution_count": 97,
   "metadata": {},
   "outputs": [
    {
     "name": "stdout",
     "output_type": "stream",
     "text": [
      "2024-01-02 5000.0 yoyodyne bank:checking\n",
      "2024-01-02 5000.0 groceries/mortgage/car/travel yoyodyne\n",
      "2024-02-02 5000.0 yoyodyne bank:checking\n",
      "2024-02-02 5000.0 groceries/mortgage/car/travel yoyodyne\n",
      "2024-01-05 500.0 bank:checking car\n",
      "2024-02-05 500.0 bank:checking car\n",
      "2024-01-10 50.0 chase:visa car\n",
      "2024-02-26 60.0 chase:visa car\n",
      "2024-01-04 1800.0 bank:checking mortgage\n",
      "2024-02-04 1800.0 bank:checking mortgage\n",
      "2024-01-07 75.0 bank:checking groceries\n",
      "2024-01-21 175.0 chase:visa groceries\n",
      "2024-02-07 75.0 bank:checking groceries\n",
      "2024-02-21 75.0 chase:visa groceries\n",
      "2024-03-10 50.0 amex:blue household\n",
      "2024-03-12 25.0 household amex:blue\n"
     ]
    }
   ],
   "source": [
    "for t in DB.select(Transaction):\n",
    "    print(t.pdate, t.pamount, t.pcredit, t.pdebit)"
   ]
  },
  {
   "cell_type": "markdown",
   "metadata": {},
   "source": [
    "By date:"
   ]
  },
  {
   "cell_type": "code",
   "execution_count": 98,
   "metadata": {},
   "outputs": [
    {
     "name": "stdout",
     "output_type": "stream",
     "text": [
      "2024-01-21 175.0 chase:visa groceries\n"
     ]
    }
   ],
   "source": [
    "for t in DB.select(Transaction, date=date(2024,1,21)):\n",
    "    print(t.pdate, t.pamount, t.pcredit, t.pdebit)"
   ]
  },
  {
   "cell_type": "code",
   "execution_count": 99,
   "metadata": {},
   "outputs": [
    {
     "name": "stdout",
     "output_type": "stream",
     "text": [
      "2024-02-02 5000.0 yoyodyne bank:checking\n",
      "2024-02-02 5000.0 groceries/mortgage/car/travel yoyodyne\n",
      "2024-02-05 500.0 bank:checking car\n",
      "2024-02-26 60.0 chase:visa car\n",
      "2024-02-04 1800.0 bank:checking mortgage\n",
      "2024-01-21 175.0 chase:visa groceries\n",
      "2024-02-07 75.0 bank:checking groceries\n",
      "2024-02-21 75.0 chase:visa groceries\n",
      "2024-03-10 50.0 amex:blue household\n",
      "2024-03-12 25.0 household amex:blue\n"
     ]
    }
   ],
   "source": [
    "for t in DB.select(Transaction, start_date=date(2024,1,21)):\n",
    "    print(t.pdate, t.pamount, t.pcredit, t.pdebit)"
   ]
  },
  {
   "cell_type": "code",
   "execution_count": 100,
   "metadata": {},
   "outputs": [
    {
     "name": "stdout",
     "output_type": "stream",
     "text": [
      "2024-01-02 5000.0 yoyodyne bank:checking\n",
      "2024-01-02 5000.0 groceries/mortgage/car/travel yoyodyne\n",
      "2024-01-05 500.0 bank:checking car\n",
      "2024-01-10 50.0 chase:visa car\n",
      "2024-01-04 1800.0 bank:checking mortgage\n",
      "2024-01-07 75.0 bank:checking groceries\n",
      "2024-01-21 175.0 chase:visa groceries\n"
     ]
    }
   ],
   "source": [
    "for t in DB.select(Transaction, end_date=date(2024,1,21)):\n",
    "    print(t.pdate, t.pamount, t.pcredit, t.pdebit)"
   ]
  },
  {
   "cell_type": "markdown",
   "metadata": {},
   "source": [
    "By amount:"
   ]
  },
  {
   "cell_type": "code",
   "execution_count": 101,
   "metadata": {},
   "outputs": [
    {
     "name": "stdout",
     "output_type": "stream",
     "text": [
      "2024-01-07 75.0 bank:checking groceries\n",
      "2024-02-07 75.0 bank:checking groceries\n",
      "2024-02-21 75.0 chase:visa groceries\n"
     ]
    }
   ],
   "source": [
    "for t in DB.select(Transaction, amount=75):\n",
    "    print(t.pdate, t.pamount, t.pcredit, t.pdebit)"
   ]
  },
  {
   "cell_type": "code",
   "execution_count": 102,
   "metadata": {},
   "outputs": [],
   "source": [
    "lst = DB.select(Transaction, amount=75)"
   ]
  },
  {
   "cell_type": "code",
   "execution_count": 103,
   "metadata": {},
   "outputs": [
    {
     "data": {
      "text/plain": [
       "True"
      ]
     },
     "execution_count": 103,
     "metadata": {},
     "output_type": "execute_result"
    }
   ],
   "source": [
    "all(t.pamount == 75 for t in lst)"
   ]
  },
  {
   "cell_type": "code",
   "execution_count": 104,
   "metadata": {},
   "outputs": [
    {
     "name": "stdout",
     "output_type": "stream",
     "text": [
      "2024-01-10 50.0 chase:visa car\n",
      "2024-02-26 60.0 chase:visa car\n",
      "2024-01-07 75.0 bank:checking groceries\n",
      "2024-02-07 75.0 bank:checking groceries\n",
      "2024-02-21 75.0 chase:visa groceries\n",
      "2024-03-10 50.0 amex:blue household\n",
      "2024-03-12 25.0 household amex:blue\n"
     ]
    }
   ],
   "source": [
    "for t in DB.select(Transaction, max_amount=75):\n",
    "    print(t.pdate, t.pamount, t.pcredit, t.pdebit)"
   ]
  },
  {
   "cell_type": "code",
   "execution_count": 105,
   "metadata": {},
   "outputs": [
    {
     "name": "stdout",
     "output_type": "stream",
     "text": [
      "2024-01-02 5000.0 yoyodyne bank:checking\n",
      "2024-01-02 5000.0 groceries/mortgage/car/travel yoyodyne\n",
      "2024-02-02 5000.0 yoyodyne bank:checking\n",
      "2024-02-02 5000.0 groceries/mortgage/car/travel yoyodyne\n",
      "2024-01-05 500.0 bank:checking car\n",
      "2024-02-05 500.0 bank:checking car\n",
      "2024-01-04 1800.0 bank:checking mortgage\n",
      "2024-02-04 1800.0 bank:checking mortgage\n",
      "2024-01-07 75.0 bank:checking groceries\n",
      "2024-01-21 175.0 chase:visa groceries\n",
      "2024-02-07 75.0 bank:checking groceries\n",
      "2024-02-21 75.0 chase:visa groceries\n"
     ]
    }
   ],
   "source": [
    "for t in DB.select(Transaction, min_amount=75):\n",
    "    print(t.pdate, t.pamount, t.pcredit, t.pdebit)"
   ]
  },
  {
   "cell_type": "markdown",
   "metadata": {},
   "source": [
    "By description:"
   ]
  },
  {
   "cell_type": "code",
   "execution_count": 106,
   "metadata": {},
   "outputs": [
    {
     "name": "stdout",
     "output_type": "stream",
     "text": [
      "2024-01-10 50.0 Shell Oil chase:visa car\n",
      "2024-02-26 60.0 Shell Oil chase:visa car\n",
      "2024-01-07 75.0 Safeway bank:checking groceries\n",
      "2024-01-21 175.0 Safeway chase:visa groceries\n",
      "2024-02-07 75.0 Safeway bank:checking groceries\n",
      "2024-02-21 75.0 Safeway chase:visa groceries\n"
     ]
    }
   ],
   "source": [
    "for t in DB.select(Transaction, description = r'^s'):\n",
    "    print(t.pdate, t.pamount, t.description, t.pcredit, t.pdebit)"
   ]
  },
  {
   "cell_type": "code",
   "execution_count": 107,
   "metadata": {},
   "outputs": [
    {
     "name": "stdout",
     "output_type": "stream",
     "text": [
      "2024-01-02 5000.0 fill buckets 2024 budget groceries/mortgage/car/travel yoyodyne\n",
      "2024-02-02 5000.0 fill buckets 2024 budget groceries/mortgage/car/travel yoyodyne\n"
     ]
    }
   ],
   "source": [
    "for t in DB.select(Transaction, comment=r'budget'):\n",
    "    print(t.pdate, t.pamount, t.description, t.comment, t.pcredit, t.pdebit)"
   ]
  },
  {
   "cell_type": "markdown",
   "metadata": {},
   "source": [
    "By account:"
   ]
  },
  {
   "cell_type": "code",
   "execution_count": 108,
   "metadata": {},
   "outputs": [
    {
     "name": "stdout",
     "output_type": "stream",
     "text": [
      "2024-01-04 1800.0 bank:checking mortgage\n",
      "2024-02-04 1800.0 bank:checking mortgage\n"
     ]
    }
   ],
   "source": [
    "for t in DB.select(Transaction, debit='mortgage'):\n",
    "    print(t.pdate, t.pamount, t.pcredit, t.pdebit)"
   ]
  },
  {
   "cell_type": "code",
   "execution_count": 109,
   "metadata": {},
   "outputs": [
    {
     "name": "stdout",
     "output_type": "stream",
     "text": [
      "2024-01-02 5000.0 groceries/mortgage/car/travel yoyodyne\n",
      "2024-02-02 5000.0 groceries/mortgage/car/travel yoyodyne\n"
     ]
    }
   ],
   "source": [
    "for t in DB.select(Transaction, credit='mortgage'):\n",
    "    print(t.pdate, t.pamount, t.pcredit, t.pdebit)"
   ]
  },
  {
   "cell_type": "markdown",
   "metadata": {},
   "source": [
    "Some random combinations"
   ]
  },
  {
   "cell_type": "code",
   "execution_count": 110,
   "metadata": {},
   "outputs": [
    {
     "name": "stdout",
     "output_type": "stream",
     "text": [
      "2024-01-21 175.0 Safeway chase:visa groceries\n"
     ]
    }
   ],
   "source": [
    "for t in DB.select(Transaction, description = r'^s', min_amount=100):\n",
    "    print(t.pdate, t.pamount, t.description, t.pcredit, t.pdebit)"
   ]
  },
  {
   "cell_type": "code",
   "execution_count": 111,
   "metadata": {},
   "outputs": [
    {
     "name": "stdout",
     "output_type": "stream",
     "text": [
      "2024-02-26 60.0 Shell Oil chase:visa car\n",
      "2024-02-21 75.0 Safeway chase:visa groceries\n"
     ]
    }
   ],
   "source": [
    "for t in DB.select(Transaction, start_date = date(2024,2,1), credit='visa'):\n",
    "    print(t.pdate, t.pamount, t.description, t.pcredit, t.pdebit)"
   ]
  },
  {
   "cell_type": "markdown",
   "metadata": {},
   "source": [
    "#### Select Entries"
   ]
  },
  {
   "cell_type": "markdown",
   "metadata": {},
   "source": [
    "All entries:"
   ]
  },
  {
   "cell_type": "code",
   "execution_count": 112,
   "metadata": {},
   "outputs": [
    {
     "data": {
      "text/plain": [
       "38"
      ]
     },
     "execution_count": 112,
     "metadata": {},
     "output_type": "execute_result"
    }
   ],
   "source": [
    "len(DB.select(Entry))"
   ]
  },
  {
   "cell_type": "code",
   "execution_count": 113,
   "metadata": {},
   "outputs": [
    {
     "name": "stdout",
     "output_type": "stream",
     "text": [
      "2024-01-02 bank:checking 5000.0 debit\n",
      "2024-01-02 yoyodyne 5000.0 credit\n",
      "2024-01-02 yoyodyne 5000.0 debit\n",
      "2024-01-02 groceries 300.0 credit\n",
      "2024-01-02 mortgage 1800.0 credit\n",
      "2024-01-02 car 900.0 credit\n",
      "2024-01-02 travel 2000.0 credit\n",
      "2024-02-02 bank:checking 5000.0 debit\n",
      "2024-02-02 yoyodyne 5000.0 credit\n",
      "2024-02-02 yoyodyne 5000.0 debit\n",
      "2024-02-02 groceries 300.0 credit\n",
      "2024-02-02 mortgage 1800.0 credit\n",
      "2024-02-02 car 900.0 credit\n",
      "2024-02-02 travel 2000.0 credit\n",
      "2024-01-05 car 500.0 debit\n",
      "2024-01-05 bank:checking 500.0 credit\n",
      "2024-02-05 car 500.0 debit\n",
      "2024-02-05 bank:checking 500.0 credit\n",
      "2024-01-10 car 50.0 debit\n",
      "2024-01-10 chase:visa 50.0 credit\n",
      "2024-02-26 car 60.0 debit\n",
      "2024-02-26 chase:visa 60.0 credit\n",
      "2024-01-04 mortgage 1800.0 debit\n",
      "2024-01-04 bank:checking 1800.0 credit\n",
      "2024-02-04 mortgage 1800.0 debit\n",
      "2024-02-04 bank:checking 1800.0 credit\n",
      "2024-01-07 groceries 75.0 debit\n",
      "2024-01-07 bank:checking 75.0 credit\n",
      "2024-01-21 groceries 175.0 debit\n",
      "2024-01-21 chase:visa 175.0 credit\n",
      "2024-02-07 groceries 75.0 debit\n",
      "2024-02-07 bank:checking 75.0 credit\n",
      "2024-02-21 groceries 75.0 debit\n",
      "2024-02-21 chase:visa 75.0 credit\n",
      "2024-03-10 household 50.0 debit\n",
      "2024-03-10 amex:blue 50.0 credit\n",
      "2024-03-12 household 25.0 credit\n",
      "2024-03-12 amex:blue 25.0 debit\n"
     ]
    }
   ],
   "source": [
    "for e in DB.select(Entry):\n",
    "    print(e.date, e.account, e.amount, e.column)"
   ]
  },
  {
   "cell_type": "markdown",
   "metadata": {},
   "source": [
    "By date:"
   ]
  },
  {
   "cell_type": "code",
   "execution_count": 114,
   "metadata": {},
   "outputs": [
    {
     "name": "stdout",
     "output_type": "stream",
     "text": [
      "2024-01-05 car 500.0 debit\n",
      "2024-01-05 bank:checking 500.0 credit\n"
     ]
    }
   ],
   "source": [
    "for e in DB.select(Entry, date=date(2024,1,5)):\n",
    "    print(e.date, e.account, e.amount, e.column)"
   ]
  },
  {
   "cell_type": "code",
   "execution_count": 115,
   "metadata": {},
   "outputs": [
    {
     "name": "stdout",
     "output_type": "stream",
     "text": [
      "2024-02-02 bank:checking 5000.0 debit\n",
      "2024-02-02 yoyodyne 5000.0 credit\n",
      "2024-02-02 yoyodyne 5000.0 debit\n",
      "2024-02-02 groceries 300.0 credit\n",
      "2024-02-02 mortgage 1800.0 credit\n",
      "2024-02-02 car 900.0 credit\n",
      "2024-02-02 travel 2000.0 credit\n",
      "2024-01-05 car 500.0 debit\n",
      "2024-01-05 bank:checking 500.0 credit\n",
      "2024-02-05 car 500.0 debit\n",
      "2024-02-05 bank:checking 500.0 credit\n",
      "2024-01-10 car 50.0 debit\n",
      "2024-01-10 chase:visa 50.0 credit\n",
      "2024-02-26 car 60.0 debit\n",
      "2024-02-26 chase:visa 60.0 credit\n",
      "2024-02-04 mortgage 1800.0 debit\n",
      "2024-02-04 bank:checking 1800.0 credit\n",
      "2024-01-07 groceries 75.0 debit\n",
      "2024-01-07 bank:checking 75.0 credit\n",
      "2024-01-21 groceries 175.0 debit\n",
      "2024-01-21 chase:visa 175.0 credit\n",
      "2024-02-07 groceries 75.0 debit\n",
      "2024-02-07 bank:checking 75.0 credit\n",
      "2024-02-21 groceries 75.0 debit\n",
      "2024-02-21 chase:visa 75.0 credit\n",
      "2024-03-10 household 50.0 debit\n",
      "2024-03-10 amex:blue 50.0 credit\n",
      "2024-03-12 household 25.0 credit\n",
      "2024-03-12 amex:blue 25.0 debit\n"
     ]
    }
   ],
   "source": [
    "for e in DB.select(Entry, start_date=date(2024,1,5)):\n",
    "    print(e.date, e.account, e.amount, e.column)"
   ]
  },
  {
   "cell_type": "code",
   "execution_count": 116,
   "metadata": {},
   "outputs": [
    {
     "name": "stdout",
     "output_type": "stream",
     "text": [
      "2024-01-02 bank:checking 5000.0 debit\n",
      "2024-01-02 yoyodyne 5000.0 credit\n",
      "2024-01-02 yoyodyne 5000.0 debit\n",
      "2024-01-02 groceries 300.0 credit\n",
      "2024-01-02 mortgage 1800.0 credit\n",
      "2024-01-02 car 900.0 credit\n",
      "2024-01-02 travel 2000.0 credit\n",
      "2024-01-05 car 500.0 debit\n",
      "2024-01-05 bank:checking 500.0 credit\n",
      "2024-01-04 mortgage 1800.0 debit\n",
      "2024-01-04 bank:checking 1800.0 credit\n"
     ]
    }
   ],
   "source": [
    "for e in DB.select(Entry, end_date=date(2024,1,5)):\n",
    "    print(e.date, e.account, e.amount, e.column)"
   ]
  },
  {
   "cell_type": "markdown",
   "metadata": {},
   "source": [
    "By amount:"
   ]
  },
  {
   "cell_type": "code",
   "execution_count": 117,
   "metadata": {},
   "outputs": [
    {
     "name": "stdout",
     "output_type": "stream",
     "text": [
      "2024-01-02 car 900.0 credit\n",
      "2024-02-02 car 900.0 credit\n"
     ]
    }
   ],
   "source": [
    "for e in DB.select(Entry, amount=900):\n",
    "    print(e.date, e.account, e.amount, e.column)"
   ]
  },
  {
   "cell_type": "code",
   "execution_count": 118,
   "metadata": {},
   "outputs": [
    {
     "name": "stdout",
     "output_type": "stream",
     "text": [
      "2024-01-02 groceries 300.0 credit\n",
      "2024-01-02 car 900.0 credit\n",
      "2024-02-02 groceries 300.0 credit\n",
      "2024-02-02 car 900.0 credit\n",
      "2024-01-05 car 500.0 debit\n",
      "2024-01-05 bank:checking 500.0 credit\n",
      "2024-02-05 car 500.0 debit\n",
      "2024-02-05 bank:checking 500.0 credit\n",
      "2024-01-10 car 50.0 debit\n",
      "2024-01-10 chase:visa 50.0 credit\n",
      "2024-02-26 car 60.0 debit\n",
      "2024-02-26 chase:visa 60.0 credit\n",
      "2024-01-07 groceries 75.0 debit\n",
      "2024-01-07 bank:checking 75.0 credit\n",
      "2024-01-21 groceries 175.0 debit\n",
      "2024-01-21 chase:visa 175.0 credit\n",
      "2024-02-07 groceries 75.0 debit\n",
      "2024-02-07 bank:checking 75.0 credit\n",
      "2024-02-21 groceries 75.0 debit\n",
      "2024-02-21 chase:visa 75.0 credit\n",
      "2024-03-10 household 50.0 debit\n",
      "2024-03-10 amex:blue 50.0 credit\n",
      "2024-03-12 household 25.0 credit\n",
      "2024-03-12 amex:blue 25.0 debit\n"
     ]
    }
   ],
   "source": [
    "for e in DB.select(Entry, max_amount=900):\n",
    "    print(e.date, e.account, e.amount, e.column)"
   ]
  },
  {
   "cell_type": "code",
   "execution_count": 119,
   "metadata": {},
   "outputs": [
    {
     "name": "stdout",
     "output_type": "stream",
     "text": [
      "2024-01-02 bank:checking 5000.0 debit\n",
      "2024-01-02 yoyodyne 5000.0 credit\n",
      "2024-01-02 yoyodyne 5000.0 debit\n",
      "2024-01-02 mortgage 1800.0 credit\n",
      "2024-01-02 car 900.0 credit\n",
      "2024-01-02 travel 2000.0 credit\n",
      "2024-02-02 bank:checking 5000.0 debit\n",
      "2024-02-02 yoyodyne 5000.0 credit\n",
      "2024-02-02 yoyodyne 5000.0 debit\n",
      "2024-02-02 mortgage 1800.0 credit\n",
      "2024-02-02 car 900.0 credit\n",
      "2024-02-02 travel 2000.0 credit\n",
      "2024-01-04 mortgage 1800.0 debit\n",
      "2024-01-04 bank:checking 1800.0 credit\n",
      "2024-02-04 mortgage 1800.0 debit\n",
      "2024-02-04 bank:checking 1800.0 credit\n"
     ]
    }
   ],
   "source": [
    "for e in DB.select(Entry, min_amount=900):\n",
    "    print(e.date, e.account, e.amount, e.column)"
   ]
  },
  {
   "cell_type": "markdown",
   "metadata": {},
   "source": [
    "By account:"
   ]
  },
  {
   "cell_type": "code",
   "execution_count": 120,
   "metadata": {},
   "outputs": [],
   "source": [
    "for e in DB.select(Entry, account='medical'):\n",
    "    print(e.date, e.account, e.amount, e.column)"
   ]
  },
  {
   "cell_type": "markdown",
   "metadata": {},
   "source": [
    "By column:"
   ]
  },
  {
   "cell_type": "code",
   "execution_count": 121,
   "metadata": {},
   "outputs": [
    {
     "name": "stdout",
     "output_type": "stream",
     "text": [
      "2024-01-02 yoyodyne 5000.0 credit\n",
      "2024-01-02 groceries 300.0 credit\n",
      "2024-01-02 mortgage 1800.0 credit\n",
      "2024-01-02 car 900.0 credit\n",
      "2024-01-02 travel 2000.0 credit\n",
      "2024-02-02 yoyodyne 5000.0 credit\n",
      "2024-02-02 groceries 300.0 credit\n",
      "2024-02-02 mortgage 1800.0 credit\n",
      "2024-02-02 car 900.0 credit\n",
      "2024-02-02 travel 2000.0 credit\n",
      "2024-01-05 bank:checking 500.0 credit\n",
      "2024-02-05 bank:checking 500.0 credit\n",
      "2024-01-10 chase:visa 50.0 credit\n",
      "2024-02-26 chase:visa 60.0 credit\n",
      "2024-01-04 bank:checking 1800.0 credit\n",
      "2024-02-04 bank:checking 1800.0 credit\n",
      "2024-01-07 bank:checking 75.0 credit\n",
      "2024-01-21 chase:visa 175.0 credit\n",
      "2024-02-07 bank:checking 75.0 credit\n",
      "2024-02-21 chase:visa 75.0 credit\n",
      "2024-03-10 amex:blue 50.0 credit\n",
      "2024-03-12 household 25.0 credit\n"
     ]
    }
   ],
   "source": [
    "for e in DB.select(Entry, column='credit'):\n",
    "    print(e.date, e.account, e.amount, e.column)"
   ]
  },
  {
   "cell_type": "code",
   "execution_count": 122,
   "metadata": {},
   "outputs": [
    {
     "name": "stdout",
     "output_type": "stream",
     "text": [
      "2024-01-02 bank:checking 5000.0 debit\n",
      "2024-01-02 yoyodyne 5000.0 debit\n",
      "2024-02-02 bank:checking 5000.0 debit\n",
      "2024-02-02 yoyodyne 5000.0 debit\n",
      "2024-01-05 car 500.0 debit\n",
      "2024-02-05 car 500.0 debit\n",
      "2024-01-10 car 50.0 debit\n",
      "2024-02-26 car 60.0 debit\n",
      "2024-01-04 mortgage 1800.0 debit\n",
      "2024-02-04 mortgage 1800.0 debit\n",
      "2024-01-07 groceries 75.0 debit\n",
      "2024-01-21 groceries 175.0 debit\n",
      "2024-02-07 groceries 75.0 debit\n",
      "2024-02-21 groceries 75.0 debit\n",
      "2024-03-10 household 50.0 debit\n",
      "2024-03-12 amex:blue 25.0 debit\n"
     ]
    }
   ],
   "source": [
    "for e in DB.select(Entry, column='debit'):\n",
    "    print(e.date, e.account, e.amount, e.column)"
   ]
  },
  {
   "cell_type": "markdown",
   "metadata": {},
   "source": [
    "By tag:"
   ]
  },
  {
   "cell_type": "code",
   "execution_count": 123,
   "metadata": {},
   "outputs": [
    {
     "name": "stdout",
     "output_type": "stream",
     "text": [
      "2024-01-02 bank:checking 5000.0 debit\n"
     ]
    }
   ],
   "source": [
    "for e in DB.select(Entry, tag='unpaired'):\n",
    "    print(e.date, e.account, e.amount, e.column)"
   ]
  },
  {
   "cell_type": "markdown",
   "metadata": {},
   "source": [
    "### Serializing Objects"
   ]
  },
  {
   "cell_type": "code",
   "execution_count": null,
   "metadata": {},
   "outputs": [],
   "source": []
  },
  {
   "cell_type": "code",
   "execution_count": 124,
   "metadata": {},
   "outputs": [],
   "source": [
    "import json\n",
    "from bson.objectid import ObjectId\n",
    "import datetime"
   ]
  },
  {
   "cell_type": "code",
   "execution_count": 125,
   "metadata": {},
   "outputs": [],
   "source": [
    "lst = DB.select(Transaction, start_date = date(2024,2,1), credit='visa')"
   ]
  },
  {
   "cell_type": "code",
   "execution_count": 126,
   "metadata": {},
   "outputs": [
    {
     "data": {
      "text/plain": [
       "'{\"_id\": {\"$oid\": \"67f1617abcd0bf7da28fa486\"}, \"description\": \"Shell Oil\", \"comment\": \"\", \"tags\": [], \"entries\": [{\"$oid\": \"67f1617abcd0bf7da28fa46d\"}, {\"$oid\": \"67f1617abcd0bf7da28fa46e\"}], \"pdate\": {\"$date\": 1708905600000}, \"pdebit\": \"car\", \"pcredit\": \"chase:visa\", \"pamount\": 60.0}'"
      ]
     },
     "execution_count": 126,
     "metadata": {},
     "output_type": "execute_result"
    }
   ],
   "source": [
    "lst[0].to_json()"
   ]
  },
  {
   "cell_type": "code",
   "execution_count": 127,
   "metadata": {},
   "outputs": [
    {
     "data": {
      "text/plain": [
       "dexter.DB.Transaction"
      ]
     },
     "execution_count": 127,
     "metadata": {},
     "output_type": "execute_result"
    }
   ],
   "source": [
    "type(lst[0])"
   ]
  },
  {
   "cell_type": "code",
   "execution_count": 128,
   "metadata": {},
   "outputs": [],
   "source": [
    "obj = Transaction.objects.as_pymongo()[0]"
   ]
  },
  {
   "cell_type": "code",
   "execution_count": 129,
   "metadata": {},
   "outputs": [
    {
     "data": {
      "text/plain": [
       "dict"
      ]
     },
     "execution_count": 129,
     "metadata": {},
     "output_type": "execute_result"
    }
   ],
   "source": [
    "type(obj)"
   ]
  },
  {
   "cell_type": "code",
   "execution_count": 130,
   "metadata": {},
   "outputs": [
    {
     "data": {
      "text/plain": [
       "{'_id': ObjectId('67f1617abcd0bf7da28fa47f'),\n",
       " 'description': 'paycheck',\n",
       " 'comment': '',\n",
       " 'tags': [],\n",
       " 'entries': [ObjectId('67f16179bcd0bf7da28fa459'),\n",
       "  ObjectId('67f1617abcd0bf7da28fa45a')],\n",
       " 'pdate': datetime.datetime(2024, 1, 2, 0, 0),\n",
       " 'pdebit': 'bank:checking',\n",
       " 'pcredit': 'yoyodyne',\n",
       " 'pamount': 5000.0}"
      ]
     },
     "execution_count": 130,
     "metadata": {},
     "output_type": "execute_result"
    }
   ],
   "source": [
    "obj"
   ]
  },
  {
   "cell_type": "code",
   "execution_count": 131,
   "metadata": {},
   "outputs": [],
   "source": [
    "s = lst[0].to_json()"
   ]
  },
  {
   "cell_type": "code",
   "execution_count": 132,
   "metadata": {},
   "outputs": [
    {
     "data": {
      "text/plain": [
       "{'_id': {'$oid': '67f1617abcd0bf7da28fa486'},\n",
       " 'description': 'Shell Oil',\n",
       " 'comment': '',\n",
       " 'tags': [],\n",
       " 'entries': [{'$oid': '67f1617abcd0bf7da28fa46d'},\n",
       "  {'$oid': '67f1617abcd0bf7da28fa46e'}],\n",
       " 'pdate': {'$date': 1708905600000},\n",
       " 'pdebit': 'car',\n",
       " 'pcredit': 'chase:visa',\n",
       " 'pamount': 60.0}"
      ]
     },
     "execution_count": 132,
     "metadata": {},
     "output_type": "execute_result"
    }
   ],
   "source": [
    "json.loads(s)"
   ]
  },
  {
   "cell_type": "code",
   "execution_count": null,
   "metadata": {},
   "outputs": [],
   "source": []
  },
  {
   "cell_type": "code",
   "execution_count": 133,
   "metadata": {},
   "outputs": [
    {
     "data": {
      "text/plain": [
       "<Transaction: <Tr 2024-02-26 chase:visa -> car $60.0 Shell Oil>>"
      ]
     },
     "execution_count": 133,
     "metadata": {},
     "output_type": "execute_result"
    }
   ],
   "source": [
    "Transaction.from_json(s)"
   ]
  },
  {
   "cell_type": "code",
   "execution_count": 134,
   "metadata": {},
   "outputs": [],
   "source": [
    "s = 'account: {...:...}'"
   ]
  },
  {
   "cell_type": "code",
   "execution_count": 135,
   "metadata": {},
   "outputs": [
    {
     "data": {
      "text/plain": [
       "7"
      ]
     },
     "execution_count": 135,
     "metadata": {},
     "output_type": "execute_result"
    }
   ],
   "source": [
    "s.find(':')"
   ]
  },
  {
   "cell_type": "code",
   "execution_count": 136,
   "metadata": {},
   "outputs": [
    {
     "data": {
      "text/plain": [
       "'account'"
      ]
     },
     "execution_count": 136,
     "metadata": {},
     "output_type": "execute_result"
    }
   ],
   "source": [
    "s[:s.find(':')]"
   ]
  },
  {
   "cell_type": "code",
   "execution_count": 137,
   "metadata": {},
   "outputs": [
    {
     "data": {
      "text/plain": [
       "': {...:...}'"
      ]
     },
     "execution_count": 137,
     "metadata": {},
     "output_type": "execute_result"
    }
   ],
   "source": [
    "s[s.find(':'):]"
   ]
  },
  {
   "cell_type": "markdown",
   "metadata": {},
   "source": [
    "### Indexes"
   ]
  },
  {
   "cell_type": "markdown",
   "metadata": {},
   "source": [
    "We want a field in Entry documents that serves as a unique ID so we can tell if an item was imported before."
   ]
  },
  {
   "cell_type": "markdown",
   "metadata": {},
   "source": [
    "MongoEngine has a UUID field.\n",
    "* how is it computed?  is it a hash of all the other field values?\n",
    "* when is it computed?  when the object is made, or when it is saved?"
   ]
  },
  {
   "cell_type": "code",
   "execution_count": 138,
   "metadata": {},
   "outputs": [],
   "source": [
    "from mongoengine import *"
   ]
  },
  {
   "cell_type": "code",
   "execution_count": 139,
   "metadata": {},
   "outputs": [],
   "source": [
    "class Foo(Document):\n",
    "    name = StringField()\n",
    "    amount = FloatField()\n",
    "    uid = UUIDField(binary=False)"
   ]
  },
  {
   "cell_type": "code",
   "execution_count": 140,
   "metadata": {},
   "outputs": [],
   "source": [
    "f = Foo(name='Fred', amount=10)"
   ]
  },
  {
   "cell_type": "markdown",
   "metadata": {},
   "source": [
    "Just declaring it is not enough to give it a value:"
   ]
  },
  {
   "cell_type": "code",
   "execution_count": 141,
   "metadata": {},
   "outputs": [
    {
     "data": {
      "text/plain": [
       "True"
      ]
     },
     "execution_count": 141,
     "metadata": {},
     "output_type": "execute_result"
    }
   ],
   "source": [
    "f.uid is None"
   ]
  },
  {
   "cell_type": "code",
   "execution_count": 142,
   "metadata": {},
   "outputs": [
    {
     "data": {
      "text/plain": [
       "<Foo: Foo object>"
      ]
     },
     "execution_count": 142,
     "metadata": {},
     "output_type": "execute_result"
    }
   ],
   "source": [
    "f.save()"
   ]
  },
  {
   "cell_type": "markdown",
   "metadata": {},
   "source": [
    "This model has an index.  The `#` means it's a \"hashed index\" but no discussion of what that means or why we'd want one (over say a text index that we compute ourselves)."
   ]
  },
  {
   "cell_type": "code",
   "execution_count": 143,
   "metadata": {},
   "outputs": [],
   "source": [
    "class Bar(Document):\n",
    "    name = StringField()\n",
    "    amount = FloatField()\n",
    "    uid = UUIDField(binary=False)\n",
    "    meta = {\n",
    "        'indexes': ['#uid']\n",
    "    }"
   ]
  },
  {
   "cell_type": "code",
   "execution_count": 144,
   "metadata": {},
   "outputs": [],
   "source": [
    "b1 = Bar(name='george', amount=20, uid='123')"
   ]
  },
  {
   "cell_type": "code",
   "execution_count": 145,
   "metadata": {},
   "outputs": [
    {
     "data": {
      "text/plain": [
       "'123'"
      ]
     },
     "execution_count": 145,
     "metadata": {},
     "output_type": "execute_result"
    }
   ],
   "source": [
    "b1.uid"
   ]
  },
  {
   "cell_type": "markdown",
   "metadata": {},
   "source": [
    "Ah -- the UUID is created when the document is saved (the same was true for Foo, above, if a `uid` value passed to the constructor)."
   ]
  },
  {
   "cell_type": "markdown",
   "metadata": {},
   "source": [
    "```\n",
    "b1.save()\n",
    "...\n",
    "ValidationError: ValidationError (Bar:None) (Could not convert to UUID: badly formed hexadecimal UUID string: ['uid'])\n",
    "```"
   ]
  },
  {
   "cell_type": "markdown",
   "metadata": {},
   "source": [
    "So how do we make a UUID?  Do we care?  Why not just use our hashed strings?"
   ]
  },
  {
   "cell_type": "markdown",
   "metadata": {},
   "source": [
    "#### UUID"
   ]
  },
  {
   "cell_type": "markdown",
   "metadata": {},
   "source": [
    "It's in the PyMongo docs (and we had to specify how they're represented when we made the DB connection).  It's also a Python library."
   ]
  },
  {
   "cell_type": "code",
   "execution_count": 146,
   "metadata": {},
   "outputs": [],
   "source": [
    "from uuid import uuid4"
   ]
  },
  {
   "cell_type": "code",
   "execution_count": 147,
   "metadata": {},
   "outputs": [],
   "source": [
    "b2 = Bar(name='ringo', amount=30, uid=uuid4())"
   ]
  },
  {
   "cell_type": "code",
   "execution_count": 148,
   "metadata": {},
   "outputs": [
    {
     "data": {
      "text/plain": [
       "UUID('3f7011dc-4ca5-4444-ab31-4eda72db1667')"
      ]
     },
     "execution_count": 148,
     "metadata": {},
     "output_type": "execute_result"
    }
   ],
   "source": [
    "b2.uid"
   ]
  },
  {
   "cell_type": "code",
   "execution_count": 149,
   "metadata": {},
   "outputs": [
    {
     "data": {
      "text/plain": [
       "<Bar: Bar object>"
      ]
     },
     "execution_count": 149,
     "metadata": {},
     "output_type": "execute_result"
    }
   ],
   "source": [
    "b2.save()"
   ]
  },
  {
   "cell_type": "code",
   "execution_count": 150,
   "metadata": {},
   "outputs": [],
   "source": [
    "x = b2.uid"
   ]
  },
  {
   "cell_type": "code",
   "execution_count": 151,
   "metadata": {},
   "outputs": [],
   "source": [
    "b3 = Bar(name='paul', amount=40, uid=x)"
   ]
  },
  {
   "cell_type": "code",
   "execution_count": 152,
   "metadata": {},
   "outputs": [
    {
     "data": {
      "text/plain": [
       "<Bar: Bar object>"
      ]
     },
     "execution_count": 152,
     "metadata": {},
     "output_type": "execute_result"
    }
   ],
   "source": [
    "b3.save()"
   ]
  },
  {
   "cell_type": "code",
   "execution_count": 153,
   "metadata": {},
   "outputs": [
    {
     "data": {
      "text/plain": [
       "True"
      ]
     },
     "execution_count": 153,
     "metadata": {},
     "output_type": "execute_result"
    }
   ],
   "source": [
    "b3.uid == b2.uid"
   ]
  },
  {
   "cell_type": "code",
   "execution_count": 154,
   "metadata": {},
   "outputs": [
    {
     "data": {
      "text/plain": [
       "UUID('93b6c212-6d0f-4d5d-a8b2-81f04a613b2f')"
      ]
     },
     "execution_count": 154,
     "metadata": {},
     "output_type": "execute_result"
    }
   ],
   "source": [
    "uuid4()"
   ]
  },
  {
   "cell_type": "markdown",
   "metadata": {},
   "source": [
    "So just defining an index isn't enough to make it unique."
   ]
  },
  {
   "cell_type": "markdown",
   "metadata": {},
   "source": [
    "### Unique"
   ]
  },
  {
   "cell_type": "code",
   "execution_count": 155,
   "metadata": {},
   "outputs": [],
   "source": [
    "class FooBar(Document):\n",
    "    name = StringField()\n",
    "    amount = FloatField()\n",
    "    uid = StringField(unique=True)"
   ]
  },
  {
   "cell_type": "code",
   "execution_count": 156,
   "metadata": {},
   "outputs": [],
   "source": [
    "f1 = FooBar(name='Fred', amount=100, uid='bedrock')"
   ]
  },
  {
   "cell_type": "code",
   "execution_count": 157,
   "metadata": {},
   "outputs": [],
   "source": [
    "f2 = FooBar(name='Barney', amount=200, uid='bedrock')"
   ]
  },
  {
   "cell_type": "markdown",
   "metadata": {},
   "source": [
    "If uncommented this cell will add a record to the database.  To reset the database to its original condition run pytest again."
   ]
  },
  {
   "cell_type": "code",
   "execution_count": 158,
   "metadata": {},
   "outputs": [],
   "source": [
    "# f1.save()"
   ]
  },
  {
   "cell_type": "code",
   "execution_count": 159,
   "metadata": {},
   "outputs": [],
   "source": [
    "# try:\n",
    "#     f2.save()\n",
    "# except NotUniqueError as err:\n",
    "#     print(err)"
   ]
  },
  {
   "cell_type": "code",
   "execution_count": 160,
   "metadata": {},
   "outputs": [
    {
     "data": {
      "text/plain": [
       "{'abstract': False,\n",
       " 'max_documents': None,\n",
       " 'max_size': None,\n",
       " 'ordering': [],\n",
       " 'indexes': [],\n",
       " 'id_field': 'id',\n",
       " 'index_background': False,\n",
       " 'index_opts': None,\n",
       " 'delete_rules': None,\n",
       " 'allow_inheritance': None,\n",
       " 'collection': 'foo_bar',\n",
       " 'index_specs': [{'fields': [('uid', 1)], 'unique': True, 'sparse': False}]}"
      ]
     },
     "execution_count": 160,
     "metadata": {},
     "output_type": "execute_result"
    }
   ],
   "source": [
    "FooBar._meta"
   ]
  },
  {
   "cell_type": "markdown",
   "metadata": {},
   "source": [
    "Awesome!  Just defining a field as unique is enough to have MongoEngine create an index.  Don't know (and don't care, yet, at least) about the ramifications of `sparse = False`.\n",
    "\n",
    "> checked PyMongo docs, it's not what we think, and not something we want (even though we can have it by specifying `sparse=True` in the column spec)"
   ]
  },
  {
   "cell_type": "markdown",
   "metadata": {},
   "source": [
    "### Match Account Names"
   ]
  },
  {
   "cell_type": "code",
   "execution_count": 161,
   "metadata": {},
   "outputs": [
    {
     "data": {
      "text/plain": [
       "[<Account: <Acct bank:checking asset>>]"
      ]
     },
     "execution_count": 161,
     "metadata": {},
     "output_type": "execute_result"
    }
   ],
   "source": [
    "Account.objects(name__contains='checking')"
   ]
  },
  {
   "cell_type": "code",
   "execution_count": 162,
   "metadata": {},
   "outputs": [
    {
     "data": {
      "text/plain": [
       "[<Account: <Acct bank:checking asset>>, <Account: <Acct groceries expense>>, <Account: <Acct mortgage expense>>]"
      ]
     },
     "execution_count": 162,
     "metadata": {},
     "output_type": "execute_result"
    }
   ],
   "source": [
    "Account.objects(name__contains='g')"
   ]
  },
  {
   "cell_type": "code",
   "execution_count": 163,
   "metadata": {},
   "outputs": [
    {
     "data": {
      "text/plain": [
       "[<Account: <Acct bank:checking asset>>, <Account: <Acct groceries expense>>, <Account: <Acct mortgage expense>>]"
      ]
     },
     "execution_count": 163,
     "metadata": {},
     "output_type": "execute_result"
    }
   ],
   "source": [
    "DB.find_account('g')"
   ]
  },
  {
   "cell_type": "code",
   "execution_count": 164,
   "metadata": {},
   "outputs": [
    {
     "data": {
      "text/plain": [
       "{'amex',\n",
       " 'bank',\n",
       " 'blue',\n",
       " 'car',\n",
       " 'chase',\n",
       " 'checking',\n",
       " 'equity',\n",
       " 'groceries',\n",
       " 'household',\n",
       " 'mortgage',\n",
       " 'travel',\n",
       " 'visa',\n",
       " 'yoyodyne'}"
      ]
     },
     "execution_count": 164,
     "metadata": {},
     "output_type": "execute_result"
    }
   ],
   "source": [
    "DB.account_name_parts()"
   ]
  },
  {
   "cell_type": "code",
   "execution_count": 165,
   "metadata": {},
   "outputs": [
    {
     "data": {
      "text/plain": [
       "{'car', 'groceries', 'household', 'mortgage', 'travel'}"
      ]
     },
     "execution_count": 165,
     "metadata": {},
     "output_type": "execute_result"
    }
   ],
   "source": [
    "DB.account_name_parts('expense')"
   ]
  },
  {
   "cell_type": "code",
   "execution_count": 166,
   "metadata": {},
   "outputs": [
    {
     "data": {
      "text/plain": [
       "{'equity': ['equity', 'equity', 'equity'],\n",
       " 'yoyodyne': ['yoyodyne'],\n",
       " 'bank': ['bank:checking'],\n",
       " 'checking': ['bank:checking'],\n",
       " 'amex': ['amex:blue'],\n",
       " 'blue': ['amex:blue'],\n",
       " 'chase': ['chase:visa'],\n",
       " 'visa': ['chase:visa'],\n",
       " 'groceries': ['groceries'],\n",
       " 'household': ['household'],\n",
       " 'mortgage': ['mortgage'],\n",
       " 'car': ['car'],\n",
       " 'travel': ['travel']}"
      ]
     },
     "execution_count": 166,
     "metadata": {},
     "output_type": "execute_result"
    }
   ],
   "source": [
    "DB.full_names()"
   ]
  },
  {
   "cell_type": "code",
   "execution_count": 167,
   "metadata": {},
   "outputs": [
    {
     "data": {
      "text/plain": [
       "{'groceries': ['groceries'],\n",
       " 'household': ['household'],\n",
       " 'mortgage': ['mortgage'],\n",
       " 'car': ['car'],\n",
       " 'travel': ['travel']}"
      ]
     },
     "execution_count": 167,
     "metadata": {},
     "output_type": "execute_result"
    }
   ],
   "source": [
    "DB.full_names('expense')"
   ]
  },
  {
   "cell_type": "markdown",
   "metadata": {},
   "source": [
    "### Aggregation"
   ]
  },
  {
   "cell_type": "code",
   "execution_count": 169,
   "metadata": {},
   "outputs": [
    {
     "data": {
      "text/plain": [
       "50370.0"
      ]
     },
     "execution_count": 169,
     "metadata": {},
     "output_type": "execute_result"
    }
   ],
   "source": [
    "Entry.objects.sum('amount')"
   ]
  },
  {
   "cell_type": "code",
   "execution_count": 171,
   "metadata": {},
   "outputs": [
    {
     "data": {
      "text/plain": [
       "[<Entry: <En 2024-01-02 yoyodyne -$5000.0>>, <Entry: <En 2024-01-02 groceries -$300.0>>, <Entry: <En 2024-01-02 mortgage -$1800.0>>, <Entry: <En 2024-01-02 car -$900.0>>, <Entry: <En 2024-01-02 travel -$2000.0>>, <Entry: <En 2024-02-02 yoyodyne -$5000.0>>, <Entry: <En 2024-02-02 groceries -$300.0>>, <Entry: <En 2024-02-02 mortgage -$1800.0>>, <Entry: <En 2024-02-02 car -$900.0>>, <Entry: <En 2024-02-02 travel -$2000.0>>, <Entry: <En 2024-01-05 bank:checking -$500.0>>, <Entry: <En 2024-02-05 bank:checking -$500.0>>, <Entry: <En 2024-01-10 chase:visa -$50.0>>, <Entry: <En 2024-02-26 chase:visa -$60.0>>, <Entry: <En 2024-01-04 bank:checking -$1800.0>>, <Entry: <En 2024-02-04 bank:checking -$1800.0>>, <Entry: <En 2024-01-07 bank:checking -$75.0>>, <Entry: <En 2024-01-21 chase:visa -$175.0>>, <Entry: <En 2024-02-07 bank:checking -$75.0>>, <Entry: <En 2024-02-21 chase:visa -$75.0>>, '...(remaining elements truncated)...']"
      ]
     },
     "execution_count": 171,
     "metadata": {},
     "output_type": "execute_result"
    }
   ],
   "source": [
    "Entry.objects(column='credit')"
   ]
  },
  {
   "cell_type": "code",
   "execution_count": 172,
   "metadata": {},
   "outputs": [
    {
     "data": {
      "text/plain": [
       "25185.0"
      ]
     },
     "execution_count": 172,
     "metadata": {},
     "output_type": "execute_result"
    }
   ],
   "source": [
    "Entry.objects(column='credit').sum('amount')"
   ]
  },
  {
   "cell_type": "code",
   "execution_count": 176,
   "metadata": {},
   "outputs": [
    {
     "data": {
      "text/plain": [
       "600.0"
      ]
     },
     "execution_count": 176,
     "metadata": {},
     "output_type": "execute_result"
    }
   ],
   "source": [
    "Entry.objects(Q(account=\"groceries\") & Q(column='credit')).sum('amount')"
   ]
  },
  {
   "cell_type": "code",
   "execution_count": 174,
   "metadata": {},
   "outputs": [
    {
     "name": "stdout",
     "output_type": "stream",
     "text": [
      "<En 2024-01-02 yoyodyne -$5000.0>\n",
      "<En 2024-01-02 groceries -$300.0>\n",
      "<En 2024-01-02 mortgage -$1800.0>\n",
      "<En 2024-01-02 car -$900.0>\n",
      "<En 2024-01-02 travel -$2000.0>\n",
      "<En 2024-02-02 yoyodyne -$5000.0>\n",
      "<En 2024-02-02 groceries -$300.0>\n",
      "<En 2024-02-02 mortgage -$1800.0>\n",
      "<En 2024-02-02 car -$900.0>\n",
      "<En 2024-02-02 travel -$2000.0>\n",
      "<En 2024-01-05 bank:checking -$500.0>\n",
      "<En 2024-02-05 bank:checking -$500.0>\n",
      "<En 2024-01-10 chase:visa -$50.0>\n",
      "<En 2024-02-26 chase:visa -$60.0>\n",
      "<En 2024-01-04 bank:checking -$1800.0>\n",
      "<En 2024-02-04 bank:checking -$1800.0>\n",
      "<En 2024-01-07 bank:checking -$75.0>\n",
      "<En 2024-01-21 chase:visa -$175.0>\n",
      "<En 2024-02-07 bank:checking -$75.0>\n",
      "<En 2024-02-21 chase:visa -$75.0>\n",
      "<En 2024-03-10 amex:blue -$50.0>\n",
      "<En 2024-03-12 household -$25.0>\n"
     ]
    }
   ],
   "source": [
    "for e in Entry.objects(column='credit'):\n",
    "    print(e)"
   ]
  },
  {
   "cell_type": "code",
   "execution_count": null,
   "metadata": {},
   "outputs": [],
   "source": []
  }
 ],
 "metadata": {
  "kernelspec": {
   "display_name": "nosql",
   "language": "python",
   "name": "python3"
  },
  "language_info": {
   "codemirror_mode": {
    "name": "ipython",
    "version": 3
   },
   "file_extension": ".py",
   "mimetype": "text/x-python",
   "name": "python",
   "nbconvert_exporter": "python",
   "pygments_lexer": "ipython3",
   "version": "3.13.1"
  }
 },
 "nbformat": 4,
 "nbformat_minor": 2
}
