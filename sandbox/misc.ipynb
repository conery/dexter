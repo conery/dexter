{
 "cells": [
  {
   "cell_type": "code",
   "execution_count": 1,
   "id": "43c1e4f7",
   "metadata": {},
   "outputs": [],
   "source": [
    "from dexter.DB import DB, Entry, Category, Account\n",
    "from dexter.config import Config, initialize_config, load_toml_file, find_toml_file\n",
    "\n",
    "DB.init()\n",
    "DB.open('finances')"
   ]
  },
  {
   "cell_type": "code",
   "execution_count": null,
   "id": "5a64741e",
   "metadata": {},
   "outputs": [],
   "source": [
    "find_toml_file(None)"
   ]
  },
  {
   "cell_type": "code",
   "execution_count": null,
   "id": "718d442b",
   "metadata": {},
   "outputs": [],
   "source": [
    "conf = load_toml_file(find_toml_file(None))"
   ]
  },
  {
   "cell_type": "code",
   "execution_count": null,
   "id": "5a4392e0",
   "metadata": {},
   "outputs": [],
   "source": [
    "conf.get('database')"
   ]
  },
  {
   "cell_type": "code",
   "execution_count": null,
   "id": "cc8d6160",
   "metadata": {},
   "outputs": [],
   "source": [
    "c = initialize_config()"
   ]
  },
  {
   "cell_type": "code",
   "execution_count": null,
   "id": "af471f72",
   "metadata": {},
   "outputs": [],
   "source": [
    "Config.DB.name"
   ]
  },
  {
   "cell_type": "code",
   "execution_count": null,
   "id": "bb45a9b0",
   "metadata": {},
   "outputs": [],
   "source": [
    "Config.CSV.colmaps['occu']"
   ]
  },
  {
   "cell_type": "code",
   "execution_count": null,
   "id": "3f4375b7",
   "metadata": {},
   "outputs": [],
   "source": [
    "setattr(Config.DB, \"foo\", 5)"
   ]
  },
  {
   "cell_type": "code",
   "execution_count": null,
   "id": "05287366",
   "metadata": {},
   "outputs": [],
   "source": [
    "Config.DB.foo"
   ]
  },
  {
   "cell_type": "code",
   "execution_count": null,
   "id": "31a5197c",
   "metadata": {},
   "outputs": [],
   "source": [
    "args = {\n",
    "    'amount': 100,\n",
    "    'comment': 'howdy',\n",
    "    'column': 'credit'\n",
    "}"
   ]
  },
  {
   "cell_type": "code",
   "execution_count": null,
   "id": "ebfcfdbb",
   "metadata": {},
   "outputs": [],
   "source": [
    "any(lambda x: x in DB.transaction_unused for x in args.keys())"
   ]
  },
  {
   "cell_type": "code",
   "execution_count": null,
   "id": "b5f1b502",
   "metadata": {},
   "outputs": [],
   "source": [
    "DB.transaction_unused"
   ]
  },
  {
   "cell_type": "code",
   "execution_count": null,
   "id": "87ab1f02",
   "metadata": {},
   "outputs": [],
   "source": [
    "set(args.keys()) & DB.transaction_unused"
   ]
  },
  {
   "cell_type": "code",
   "execution_count": null,
   "id": "bd7cf23a",
   "metadata": {},
   "outputs": [],
   "source": [
    "cls = Entry"
   ]
  },
  {
   "cell_type": "code",
   "execution_count": null,
   "id": "c4d192ba",
   "metadata": {},
   "outputs": [],
   "source": [
    "cls"
   ]
  },
  {
   "cell_type": "code",
   "execution_count": null,
   "id": "467e1ecc",
   "metadata": {},
   "outputs": [],
   "source": [
    "cls.__name__"
   ]
  },
  {
   "cell_type": "code",
   "execution_count": null,
   "id": "41626ff8",
   "metadata": {},
   "outputs": [],
   "source": [
    "DB.account_names(Category.L)"
   ]
  },
  {
   "cell_type": "code",
   "execution_count": null,
   "id": "f834ff8c",
   "metadata": {},
   "outputs": [],
   "source": [
    "Account.objects(category=Category.L)"
   ]
  },
  {
   "cell_type": "code",
   "execution_count": null,
   "id": "c335eb3d",
   "metadata": {},
   "outputs": [],
   "source": [
    "[a.name for a in Account.objects(category=Category.L)]"
   ]
  },
  {
   "cell_type": "code",
   "execution_count": null,
   "id": "7b1df1da",
   "metadata": {},
   "outputs": [],
   "source": [
    "DB.real_accounts"
   ]
  },
  {
   "cell_type": "code",
   "execution_count": null,
   "id": "1d4ed134",
   "metadata": {},
   "outputs": [],
   "source": [
    "# [e.description for e in DB.select(Entry, start_date='2025-01-25') if e.account in DB.real_accounts]"
   ]
  },
  {
   "cell_type": "code",
   "execution_count": null,
   "id": "368f2da9",
   "metadata": {},
   "outputs": [],
   "source": [
    "DB.balance('assets:occu:checking-jc', ending='2024-12-31')"
   ]
  },
  {
   "cell_type": "code",
   "execution_count": null,
   "id": "6b29af65",
   "metadata": {},
   "outputs": [],
   "source": [
    "from datetime import datetime, timedelta"
   ]
  },
  {
   "cell_type": "code",
   "execution_count": null,
   "id": "81f848ee",
   "metadata": {},
   "outputs": [],
   "source": [
    "DB.balance('assets:occu:checking-jc', ending=datetime(2024,12,31))"
   ]
  },
  {
   "cell_type": "code",
   "execution_count": null,
   "id": "1c39cea6",
   "metadata": {},
   "outputs": [],
   "source": [
    "DB.balance('assets:occu:checking-jc', ending=datetime(2025,1,1))"
   ]
  },
  {
   "cell_type": "code",
   "execution_count": null,
   "id": "e4704b70",
   "metadata": {},
   "outputs": [],
   "source": [
    "DB.balance('assets:occu:checking-jc', ending=datetime(2025,1,1)-timedelta(days=1))"
   ]
  },
  {
   "cell_type": "code",
   "execution_count": null,
   "id": "0103d906",
   "metadata": {},
   "outputs": [],
   "source": [
    "def foo(**d):\n",
    "    print(d)"
   ]
  },
  {
   "cell_type": "code",
   "execution_count": null,
   "id": "57e7a3b9",
   "metadata": {},
   "outputs": [],
   "source": [
    "foo(a=1, b=2)"
   ]
  },
  {
   "cell_type": "code",
   "execution_count": null,
   "id": "2e7f8831",
   "metadata": {},
   "outputs": [],
   "source": [
    "dct = {'a': 1, 'b': 2}"
   ]
  },
  {
   "cell_type": "code",
   "execution_count": null,
   "id": "a0a51126",
   "metadata": {},
   "outputs": [],
   "source": [
    "dct | {'c': 3}"
   ]
  },
  {
   "cell_type": "code",
   "execution_count": null,
   "id": "bb9c9b5e",
   "metadata": {},
   "outputs": [],
   "source": [
    "foo(**(dct | {'c': 3}))"
   ]
  },
  {
   "cell_type": "code",
   "execution_count": null,
   "id": "aadb583b",
   "metadata": {},
   "outputs": [],
   "source": [
    "dct.pop('b')"
   ]
  },
  {
   "cell_type": "code",
   "execution_count": null,
   "id": "bba45897",
   "metadata": {},
   "outputs": [],
   "source": [
    "dct"
   ]
  },
  {
   "cell_type": "code",
   "execution_count": 4,
   "id": "06200df5",
   "metadata": {},
   "outputs": [],
   "source": [
    "res = DB.select(Entry, account='expenses:car:fuel')"
   ]
  },
  {
   "cell_type": "code",
   "execution_count": 5,
   "id": "e16c2da2",
   "metadata": {},
   "outputs": [
    {
     "data": {
      "text/plain": [
       "4"
      ]
     },
     "execution_count": 5,
     "metadata": {},
     "output_type": "execute_result"
    }
   ],
   "source": [
    "len(res)"
   ]
  },
  {
   "cell_type": "code",
   "execution_count": 6,
   "id": "265b5a1f",
   "metadata": {},
   "outputs": [
    {
     "data": {
      "text/plain": [
       "<Entry: <En 2024-11-16 expenses:car:fuel +$32.68 []>>"
      ]
     },
     "execution_count": 6,
     "metadata": {},
     "output_type": "execute_result"
    }
   ],
   "source": [
    "res[0]"
   ]
  },
  {
   "cell_type": "code",
   "execution_count": 8,
   "id": "d38ff14c",
   "metadata": {},
   "outputs": [],
   "source": [
    "recs = list(res)"
   ]
  },
  {
   "cell_type": "code",
   "execution_count": 11,
   "id": "87dc24d4",
   "metadata": {},
   "outputs": [
    {
     "data": {
      "text/plain": [
       "datetime.date(2024, 11, 16)"
      ]
     },
     "execution_count": 11,
     "metadata": {},
     "output_type": "execute_result"
    }
   ],
   "source": [
    "res[0]['date']"
   ]
  },
  {
   "cell_type": "code",
   "execution_count": 12,
   "id": "d67cf5c3",
   "metadata": {},
   "outputs": [
    {
     "data": {
      "text/plain": [
       "[<Entry: <En 2024-11-16 expenses:car:fuel +$32.68 []>>,\n",
       " <Entry: <En 2024-12-04 expenses:car:fuel +$43.73 []>>,\n",
       " <Entry: <En 2025-01-12 expenses:car:fuel +$44.86 []>>,\n",
       " <Entry: <En 2025-01-12 expenses:car:fuel +$17.5 []>>]"
      ]
     },
     "execution_count": 12,
     "metadata": {},
     "output_type": "execute_result"
    }
   ],
   "source": [
    "sorted(recs, key=lambda x: x['date'])"
   ]
  },
  {
   "cell_type": "code",
   "execution_count": 13,
   "id": "a60290b1",
   "metadata": {},
   "outputs": [
    {
     "data": {
      "text/plain": [
       "[<Entry: <En 2025-01-12 expenses:car:fuel +$17.5 []>>,\n",
       " <Entry: <En 2024-11-16 expenses:car:fuel +$32.68 []>>,\n",
       " <Entry: <En 2024-12-04 expenses:car:fuel +$43.73 []>>,\n",
       " <Entry: <En 2025-01-12 expenses:car:fuel +$44.86 []>>]"
      ]
     },
     "execution_count": 13,
     "metadata": {},
     "output_type": "execute_result"
    }
   ],
   "source": [
    "sorted(recs, key=lambda x: x['amount'])"
   ]
  },
  {
   "cell_type": "code",
   "execution_count": 14,
   "id": "a86dbeff",
   "metadata": {},
   "outputs": [
    {
     "ename": "AttributeError",
     "evalue": "'list' object has no attribute 'uniq'",
     "output_type": "error",
     "traceback": [
      "\u001b[31m---------------------------------------------------------------------------\u001b[39m",
      "\u001b[31mAttributeError\u001b[39m                            Traceback (most recent call last)",
      "\u001b[36mCell\u001b[39m\u001b[36m \u001b[39m\u001b[32mIn[14]\u001b[39m\u001b[32m, line 1\u001b[39m\n\u001b[32m----> \u001b[39m\u001b[32m1\u001b[39m \u001b[43m[\u001b[49m\u001b[33;43m'\u001b[39;49m\u001b[33;43ma\u001b[39;49m\u001b[33;43m'\u001b[39;49m\u001b[43m,\u001b[49m\u001b[43m \u001b[49m\u001b[33;43m'\u001b[39;49m\u001b[33;43mb\u001b[39;49m\u001b[33;43m'\u001b[39;49m\u001b[43m,\u001b[49m\u001b[43m \u001b[49m\u001b[33;43m'\u001b[39;49m\u001b[33;43ma\u001b[39;49m\u001b[33;43m'\u001b[39;49m\u001b[43m,\u001b[49m\u001b[43m \u001b[49m\u001b[33;43m'\u001b[39;49m\u001b[33;43mc\u001b[39;49m\u001b[33;43m'\u001b[39;49m\u001b[43m,\u001b[49m\u001b[43m \u001b[49m\u001b[33;43m'\u001b[39;49m\u001b[33;43mb\u001b[39;49m\u001b[33;43m'\u001b[39;49m\u001b[43m]\u001b[49m\u001b[43m.\u001b[49m\u001b[43muniq\u001b[49m()\n",
      "\u001b[31mAttributeError\u001b[39m: 'list' object has no attribute 'uniq'"
     ]
    }
   ],
   "source": [
    "['a', 'b', 'a', 'c', 'b'].uniq()"
   ]
  },
  {
   "cell_type": "code",
   "execution_count": null,
   "id": "96f8f335",
   "metadata": {},
   "outputs": [],
   "source": []
  }
 ],
 "metadata": {
  "kernelspec": {
   "display_name": "nosql",
   "language": "python",
   "name": "python3"
  },
  "language_info": {
   "codemirror_mode": {
    "name": "ipython",
    "version": 3
   },
   "file_extension": ".py",
   "mimetype": "text/x-python",
   "name": "python",
   "nbconvert_exporter": "python",
   "pygments_lexer": "ipython3",
   "version": "3.13.1"
  }
 },
 "nbformat": 4,
 "nbformat_minor": 5
}
