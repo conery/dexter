{
 "cells": [
  {
   "cell_type": "code",
   "execution_count": null,
   "id": "43c1e4f7",
   "metadata": {},
   "outputs": [
    {
     "ename": "ImportError",
     "evalue": "cannot import name 'find_t' from 'dexter.config' (/Users/conery/Projects/dexter/src/dexter/config.py)",
     "output_type": "error",
     "traceback": [
      "\u001b[31m---------------------------------------------------------------------------\u001b[39m",
      "\u001b[31mImportError\u001b[39m                               Traceback (most recent call last)",
      "\u001b[36mCell\u001b[39m\u001b[36m \u001b[39m\u001b[32mIn[1]\u001b[39m\u001b[32m, line 2\u001b[39m\n\u001b[32m      1\u001b[39m \u001b[38;5;28;01mfrom\u001b[39;00m\u001b[38;5;250m \u001b[39m\u001b[34;01mdexter\u001b[39;00m\u001b[34;01m.\u001b[39;00m\u001b[34;01mDB\u001b[39;00m\u001b[38;5;250m \u001b[39m\u001b[38;5;28;01mimport\u001b[39;00m DB, Entry, Category, Account\n\u001b[32m----> \u001b[39m\u001b[32m2\u001b[39m \u001b[38;5;28;01mfrom\u001b[39;00m\u001b[38;5;250m \u001b[39m\u001b[34;01mdexter\u001b[39;00m\u001b[34;01m.\u001b[39;00m\u001b[34;01mconfig\u001b[39;00m\u001b[38;5;250m \u001b[39m\u001b[38;5;28;01mimport\u001b[39;00m Config, initialize_config, load_toml_file, find_t\n\u001b[32m      4\u001b[39m DB.init()\n\u001b[32m      5\u001b[39m DB.open(\u001b[33m'\u001b[39m\u001b[33mfinances\u001b[39m\u001b[33m'\u001b[39m)\n",
      "\u001b[31mImportError\u001b[39m: cannot import name 'find_t' from 'dexter.config' (/Users/conery/Projects/dexter/src/dexter/config.py)"
     ]
    }
   ],
   "source": [
    "from dexter.DB import DB, Entry, Category, Account\n",
    "from dexter.config import Config, initialize_config, load_toml_file, find_toml_file\n",
    "\n",
    "DB.init()\n",
    "DB.open('finances')"
   ]
  },
  {
   "cell_type": "code",
   "execution_count": 2,
   "id": "5a64741e",
   "metadata": {},
   "outputs": [
    {
     "data": {
      "text/plain": [
       "PosixPath('/Users/conery/Projects/dexter/src/dexter/dex.toml')"
      ]
     },
     "execution_count": 2,
     "metadata": {},
     "output_type": "execute_result"
    }
   ],
   "source": [
    "find_toml_file(None)"
   ]
  },
  {
   "cell_type": "code",
   "execution_count": 3,
   "id": "718d442b",
   "metadata": {},
   "outputs": [],
   "source": [
    "conf = load_toml_file(find_toml_file(None))"
   ]
  },
  {
   "cell_type": "code",
   "execution_count": 4,
   "id": "5a4392e0",
   "metadata": {},
   "outputs": [
    {
     "data": {
      "text/plain": [
       "{'name': 'finances', 'start_date': '2025-01-01'}"
      ]
     },
     "execution_count": 4,
     "metadata": {},
     "output_type": "execute_result"
    }
   ],
   "source": [
    "conf.get('database')"
   ]
  },
  {
   "cell_type": "code",
   "execution_count": 5,
   "id": "cc8d6160",
   "metadata": {},
   "outputs": [],
   "source": [
    "c = inititialize_config()"
   ]
  },
  {
   "cell_type": "code",
   "execution_count": 6,
   "id": "af471f72",
   "metadata": {},
   "outputs": [
    {
     "data": {
      "text/plain": [
       "'dexter'"
      ]
     },
     "execution_count": 6,
     "metadata": {},
     "output_type": "execute_result"
    }
   ],
   "source": [
    "Config.DB.name"
   ]
  },
  {
   "cell_type": "code",
   "execution_count": 8,
   "id": "bb45a9b0",
   "metadata": {},
   "outputs": [
    {
     "data": {
      "text/plain": [
       "{'description': <function <lambda>(rec)>,\n",
       " 'date': <function <lambda>(rec)>,\n",
       " 'amount': <function <lambda>(rec)>,\n",
       " 'credit': <function <lambda>(rec)>}"
      ]
     },
     "execution_count": 8,
     "metadata": {},
     "output_type": "execute_result"
    }
   ],
   "source": [
    "Config.CSV.colmaps['occu']"
   ]
  },
  {
   "cell_type": "code",
   "execution_count": 9,
   "id": "3f4375b7",
   "metadata": {},
   "outputs": [],
   "source": [
    "setattr(Config.DB, \"foo\", 5)"
   ]
  },
  {
   "cell_type": "code",
   "execution_count": 10,
   "id": "05287366",
   "metadata": {},
   "outputs": [
    {
     "data": {
      "text/plain": [
       "5"
      ]
     },
     "execution_count": 10,
     "metadata": {},
     "output_type": "execute_result"
    }
   ],
   "source": [
    "Config.DB.foo"
   ]
  },
  {
   "cell_type": "code",
   "execution_count": null,
   "id": "31a5197c",
   "metadata": {},
   "outputs": [],
   "source": [
    "args = {\n",
    "    'amount': 100,\n",
    "    'comment': 'howdy',\n",
    "    'column': 'credit'\n",
    "}"
   ]
  },
  {
   "cell_type": "code",
   "execution_count": null,
   "id": "ebfcfdbb",
   "metadata": {},
   "outputs": [],
   "source": [
    "any(lambda x: x in DB.transaction_unused for x in args.keys())"
   ]
  },
  {
   "cell_type": "code",
   "execution_count": null,
   "id": "b5f1b502",
   "metadata": {},
   "outputs": [],
   "source": [
    "DB.transaction_unused"
   ]
  },
  {
   "cell_type": "code",
   "execution_count": null,
   "id": "87ab1f02",
   "metadata": {},
   "outputs": [],
   "source": [
    "set(args.keys()) & DB.transaction_unused"
   ]
  },
  {
   "cell_type": "code",
   "execution_count": null,
   "id": "bd7cf23a",
   "metadata": {},
   "outputs": [],
   "source": [
    "cls = Entry"
   ]
  },
  {
   "cell_type": "code",
   "execution_count": null,
   "id": "c4d192ba",
   "metadata": {},
   "outputs": [],
   "source": [
    "cls"
   ]
  },
  {
   "cell_type": "code",
   "execution_count": null,
   "id": "467e1ecc",
   "metadata": {},
   "outputs": [],
   "source": [
    "cls.__name__"
   ]
  },
  {
   "cell_type": "code",
   "execution_count": null,
   "id": "41626ff8",
   "metadata": {},
   "outputs": [],
   "source": [
    "DB.account_names(Category.L)"
   ]
  },
  {
   "cell_type": "code",
   "execution_count": null,
   "id": "f834ff8c",
   "metadata": {},
   "outputs": [],
   "source": [
    "Account.objects(category=Category.L)"
   ]
  },
  {
   "cell_type": "code",
   "execution_count": null,
   "id": "c335eb3d",
   "metadata": {},
   "outputs": [],
   "source": [
    "[a.name for a in Account.objects(category=Category.L)]"
   ]
  },
  {
   "cell_type": "code",
   "execution_count": null,
   "id": "7b1df1da",
   "metadata": {},
   "outputs": [],
   "source": [
    "DB.real_accounts"
   ]
  },
  {
   "cell_type": "code",
   "execution_count": null,
   "id": "1d4ed134",
   "metadata": {},
   "outputs": [],
   "source": [
    "[e.description for e in DB.select(Entry, start_date='2025-01-25') if e.account in DB.real_accounts]"
   ]
  },
  {
   "cell_type": "code",
   "execution_count": null,
   "id": "368f2da9",
   "metadata": {},
   "outputs": [],
   "source": []
  }
 ],
 "metadata": {
  "kernelspec": {
   "display_name": "nosql",
   "language": "python",
   "name": "python3"
  },
  "language_info": {
   "codemirror_mode": {
    "name": "ipython",
    "version": 3
   },
   "file_extension": ".py",
   "mimetype": "text/x-python",
   "name": "python",
   "nbconvert_exporter": "python",
   "pygments_lexer": "ipython3",
   "version": "3.13.1"
  }
 },
 "nbformat": 4,
 "nbformat_minor": 5
}
