{
 "cells": [
  {
   "cell_type": "code",
   "execution_count": 14,
   "id": "43c1e4f7",
   "metadata": {},
   "outputs": [],
   "source": [
    "from dexter.DB import DB, Entry, Category, Account\n",
    "from dexter.config import Config\n",
    "\n",
    "DB.init()\n",
    "DB.open('finances')"
   ]
  },
  {
   "cell_type": "code",
   "execution_count": 2,
   "id": "31a5197c",
   "metadata": {},
   "outputs": [],
   "source": [
    "args = {\n",
    "    'amount': 100,\n",
    "    'comment': 'howdy',\n",
    "    'column': 'credit'\n",
    "}"
   ]
  },
  {
   "cell_type": "code",
   "execution_count": 3,
   "id": "ebfcfdbb",
   "metadata": {},
   "outputs": [
    {
     "data": {
      "text/plain": [
       "True"
      ]
     },
     "execution_count": 3,
     "metadata": {},
     "output_type": "execute_result"
    }
   ],
   "source": [
    "any(lambda x: x in DB.transaction_unused for x in args.keys())"
   ]
  },
  {
   "cell_type": "code",
   "execution_count": 4,
   "id": "b5f1b502",
   "metadata": {},
   "outputs": [
    {
     "data": {
      "text/plain": [
       "{'column'}"
      ]
     },
     "execution_count": 4,
     "metadata": {},
     "output_type": "execute_result"
    }
   ],
   "source": [
    "DB.transaction_unused"
   ]
  },
  {
   "cell_type": "code",
   "execution_count": 5,
   "id": "87ab1f02",
   "metadata": {},
   "outputs": [
    {
     "data": {
      "text/plain": [
       "{'column'}"
      ]
     },
     "execution_count": 5,
     "metadata": {},
     "output_type": "execute_result"
    }
   ],
   "source": [
    "set(args.keys()) & DB.transaction_unused"
   ]
  },
  {
   "cell_type": "code",
   "execution_count": 6,
   "id": "bd7cf23a",
   "metadata": {},
   "outputs": [],
   "source": [
    "cls = Entry"
   ]
  },
  {
   "cell_type": "code",
   "execution_count": 7,
   "id": "c4d192ba",
   "metadata": {},
   "outputs": [
    {
     "data": {
      "text/plain": [
       "dexter.DB.Entry"
      ]
     },
     "execution_count": 7,
     "metadata": {},
     "output_type": "execute_result"
    }
   ],
   "source": [
    "cls"
   ]
  },
  {
   "cell_type": "code",
   "execution_count": 8,
   "id": "467e1ecc",
   "metadata": {},
   "outputs": [
    {
     "data": {
      "text/plain": [
       "'Entry'"
      ]
     },
     "execution_count": 8,
     "metadata": {},
     "output_type": "execute_result"
    }
   ],
   "source": [
    "cls.__name__"
   ]
  },
  {
   "cell_type": "code",
   "execution_count": 9,
   "id": "41626ff8",
   "metadata": {},
   "outputs": [
    {
     "data": {
      "text/plain": [
       "{'liabilities:amex:blue': {'liabilities:amex:blue'},\n",
       " 'blue': {'liabilities:amex:blue'},\n",
       " 'liabilities': {'liabilities:amex:blue',\n",
       "  'liabilities:amex:hilton',\n",
       "  'liabilities:amex:platinum',\n",
       "  'liabilities:chase:amazon',\n",
       "  'liabilities:chase:freedom',\n",
       "  'liabilities:chase:sapphire-jc',\n",
       "  'liabilities:chase:sapphire-lc',\n",
       "  'liabilities:chase:united',\n",
       "  'liabilities:citi:costco',\n",
       "  'liabilities:gsb:apple'},\n",
       " 'amex': {'liabilities:amex:blue',\n",
       "  'liabilities:amex:hilton',\n",
       "  'liabilities:amex:platinum'},\n",
       " 'liabilities:amex:hilton': {'liabilities:amex:hilton'},\n",
       " 'hilton': {'liabilities:amex:hilton'},\n",
       " 'liabilities:amex:platinum': {'liabilities:amex:platinum'},\n",
       " 'platinum': {'liabilities:amex:platinum'},\n",
       " 'liabilities:gsb:apple': {'liabilities:gsb:apple'},\n",
       " 'apple': {'liabilities:gsb:apple'},\n",
       " 'gsb': {'liabilities:gsb:apple'},\n",
       " 'liabilities:chase:amazon': {'liabilities:chase:amazon'},\n",
       " 'amazon': {'liabilities:chase:amazon'},\n",
       " 'chase': {'liabilities:chase:amazon',\n",
       "  'liabilities:chase:freedom',\n",
       "  'liabilities:chase:sapphire-jc',\n",
       "  'liabilities:chase:sapphire-lc',\n",
       "  'liabilities:chase:united'},\n",
       " 'liabilities:chase:freedom': {'liabilities:chase:freedom'},\n",
       " 'freedom': {'liabilities:chase:freedom'},\n",
       " 'liabilities:chase:sapphire-lc': {'liabilities:chase:sapphire-lc'},\n",
       " 'sapphire-lc': {'liabilities:chase:sapphire-lc'},\n",
       " 'liabilities:chase:united': {'liabilities:chase:united'},\n",
       " 'united': {'liabilities:chase:united'},\n",
       " 'liabilities:chase:sapphire-jc': {'liabilities:chase:sapphire-jc'},\n",
       " 'sapphire-jc': {'liabilities:chase:sapphire-jc'},\n",
       " 'liabilities:citi:costco': {'liabilities:citi:costco'},\n",
       " 'costco': {'liabilities:citi:costco'},\n",
       " 'citi': {'liabilities:citi:costco'}}"
      ]
     },
     "execution_count": 9,
     "metadata": {},
     "output_type": "execute_result"
    }
   ],
   "source": [
    "DB.account_names(Category.L)"
   ]
  },
  {
   "cell_type": "code",
   "execution_count": 10,
   "id": "f834ff8c",
   "metadata": {},
   "outputs": [
    {
     "data": {
      "text/plain": [
       "[<Account: <Ac liabilities:amex:blue liabilities blue>>, <Account: <Ac liabilities:amex:hilton liabilities hilton>>, <Account: <Ac liabilities:amex:platinum liabilities platinum>>, <Account: <Ac liabilities:gsb:apple liabilities apple>>, <Account: <Ac liabilities:chase:amazon liabilities amazon>>, <Account: <Ac liabilities:chase:freedom liabilities freedom>>, <Account: <Ac liabilities:chase:sapphire-lc liabilities sapphire-lc>>, <Account: <Ac liabilities:chase:united liabilities united>>, <Account: <Ac liabilities:chase:sapphire-jc liabilities sapphire-jc>>, <Account: <Ac liabilities:citi:costco liabilities costco>>]"
      ]
     },
     "execution_count": 10,
     "metadata": {},
     "output_type": "execute_result"
    }
   ],
   "source": [
    "Account.objects(category=Category.L)"
   ]
  },
  {
   "cell_type": "code",
   "execution_count": 16,
   "id": "c335eb3d",
   "metadata": {},
   "outputs": [
    {
     "data": {
      "text/plain": [
       "['liabilities:amex:blue',\n",
       " 'liabilities:amex:hilton',\n",
       " 'liabilities:amex:platinum',\n",
       " 'liabilities:gsb:apple',\n",
       " 'liabilities:chase:amazon',\n",
       " 'liabilities:chase:freedom',\n",
       " 'liabilities:chase:sapphire-lc',\n",
       " 'liabilities:chase:united',\n",
       " 'liabilities:chase:sapphire-jc',\n",
       " 'liabilities:citi:costco']"
      ]
     },
     "execution_count": 16,
     "metadata": {},
     "output_type": "execute_result"
    }
   ],
   "source": [
    "[a.name for a in Account.objects(category=Category.L)]"
   ]
  },
  {
   "cell_type": "code",
   "execution_count": 11,
   "id": "7b1df1da",
   "metadata": {},
   "outputs": [
    {
     "data": {
      "text/plain": [
       "{'assets:apple:savings',\n",
       " 'assets:occu:buckets',\n",
       " 'assets:occu:cd-jc',\n",
       " 'assets:occu:cd-lc',\n",
       " 'assets:occu:checking-jc',\n",
       " 'assets:occu:checking-lc',\n",
       " 'assets:occu:reservoir',\n",
       " 'assets:occu:savings-jc',\n",
       " 'assets:occu:savings-lc',\n",
       " 'liabilities:amex:blue',\n",
       " 'liabilities:amex:hilton',\n",
       " 'liabilities:amex:platinum',\n",
       " 'liabilities:chase:amazon',\n",
       " 'liabilities:chase:freedom',\n",
       " 'liabilities:chase:sapphire-jc',\n",
       " 'liabilities:chase:sapphire-lc',\n",
       " 'liabilities:chase:united',\n",
       " 'liabilities:citi:costco',\n",
       " 'liabilities:gsb:apple'}"
      ]
     },
     "execution_count": 11,
     "metadata": {},
     "output_type": "execute_result"
    }
   ],
   "source": [
    "DB.real_accounts"
   ]
  },
  {
   "cell_type": "code",
   "execution_count": 13,
   "id": "1d4ed134",
   "metadata": {},
   "outputs": [
    {
     "data": {
      "text/plain": [
       "['Interest Income§Credit Interest',\n",
       " 'Transfer to PayPal§PAYPAL INSTANT TRANSFER - INST XFER',\n",
       " 'Interest Income§Credit Interest',\n",
       " 'Interest Income§Credit Interest',\n",
       " 'Public Employees Retirement System§PERS BENEFITS  - PERS CHECK',\n",
       " 'Public Employees Retirement System§PERS BENEFITS  - PERS CHECK',\n",
       " 'Transfer from Venmo§VENMO  - CASHOUT',\n",
       " 'Interest Income§Credit Interest',\n",
       " 'Interest Income§Credit Interest',\n",
       " 'Interest Income§Credit Interest',\n",
       " 'AMAZON MKTPL*Z74BF68Y2',\n",
       " 'BI-MART 602',\n",
       " 'Wise',\n",
       " 'Prime Video Channels',\n",
       " 'FMS DENTAL - OR',\n",
       " 'AMAZON MKTPL*ZG5O05NS1',\n",
       " 'SQ *AREKIE - INDIAN FUSIO',\n",
       " 'Amazon.com*ZG8E137G0',\n",
       " 'The Atlantic',\n",
       " 'Audible*ZC66379S0',\n",
       " 'ALASKA AIR  0272394992901',\n",
       " 'IZUMI JAPANESE RESTAURANT',\n",
       " 'CONDOR',\n",
       " 'ALLIANZ TRAVEL INS',\n",
       " 'CHOOOSE* ALASKA',\n",
       " 'UOF*ATHLETICS',\n",
       " 'UO ATHLETIC DEPT',\n",
       " 'KING ESTATE WINERY',\n",
       " 'AMERICAN AIR0012208886458',\n",
       " 'AMERICAN AIR0012208886459',\n",
       " 'ALLIANZ TRAVEL INS',\n",
       " 'PY *PROVISIONS SOUTH 296 E 5TH AVE EUGENE 97401 OR USA',\n",
       " 'SQ *MOUNTAIN ROSE HERB152 W. 5TH AVE STE. 3 EUGENE 97401 OR USA',\n",
       " 'MARKET OF CHOICE #9 67 WEST 29TH AVE EUGENE 97405 OR USA',\n",
       " 'ACH DEPOSIT INTERNET TRANSFER FROM ACCOUNT ENDING IN 9841',\n",
       " 'SAFEWAY #4513 350 EAST 40TH EUGENE 97405 OR USA',\n",
       " 'SAFEWAY #4513 350 EAST 40TH EUGENE 97405 OR USA',\n",
       " 'MARKET OF CHOICE #9 67 WEST 29TH AVE EUGENE 97405 OR USA',\n",
       " 'SQ *DOZO 1130 WEST 25TH AVENUE EUGENE 97405 OR USA',\n",
       " 'SQ *THE GARDEN ON FRIE245 W BROADWAY EUGENE 97401 OR USA',\n",
       " 'SQ *THE GARDEN ON FRIE245 W BROADWAY EUGENE 97401 OR USA']"
      ]
     },
     "execution_count": 13,
     "metadata": {},
     "output_type": "execute_result"
    }
   ],
   "source": [
    "[e.description for e in DB.select(Entry, start_date='2025-01-25') if e.account in DB.real_accounts]"
   ]
  },
  {
   "cell_type": "code",
   "execution_count": null,
   "id": "cc8d6160",
   "metadata": {},
   "outputs": [],
   "source": []
  }
 ],
 "metadata": {
  "kernelspec": {
   "display_name": "nosql",
   "language": "python",
   "name": "python3"
  },
  "language_info": {
   "codemirror_mode": {
    "name": "ipython",
    "version": 3
   },
   "file_extension": ".py",
   "mimetype": "text/x-python",
   "name": "python",
   "nbconvert_exporter": "python",
   "pygments_lexer": "ipython3",
   "version": "3.13.1"
  }
 },
 "nbformat": 4,
 "nbformat_minor": 5
}
