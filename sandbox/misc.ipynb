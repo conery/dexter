{
 "cells": [
  {
   "cell_type": "code",
   "execution_count": 12,
   "id": "43c1e4f7",
   "metadata": {},
   "outputs": [],
   "source": [
    "from dexter.DB import DB, Entry\n",
    "\n",
    "DB.init()\n",
    "DB.open('finances')"
   ]
  },
  {
   "cell_type": "code",
   "execution_count": 4,
   "id": "31a5197c",
   "metadata": {},
   "outputs": [],
   "source": [
    "args = {\n",
    "    'amount': 100,\n",
    "    'comment': 'howdy',\n",
    "    'column': 'credit'\n",
    "}"
   ]
  },
  {
   "cell_type": "code",
   "execution_count": 5,
   "id": "ebfcfdbb",
   "metadata": {},
   "outputs": [
    {
     "data": {
      "text/plain": [
       "True"
      ]
     },
     "execution_count": 5,
     "metadata": {},
     "output_type": "execute_result"
    }
   ],
   "source": [
    "any(lambda x: x in DB.transaction_unused for x in args.keys())"
   ]
  },
  {
   "cell_type": "code",
   "execution_count": 6,
   "id": "b5f1b502",
   "metadata": {},
   "outputs": [
    {
     "data": {
      "text/plain": [
       "{'column'}"
      ]
     },
     "execution_count": 6,
     "metadata": {},
     "output_type": "execute_result"
    }
   ],
   "source": [
    "DB.transaction_unused"
   ]
  },
  {
   "cell_type": "code",
   "execution_count": 10,
   "id": "87ab1f02",
   "metadata": {},
   "outputs": [
    {
     "data": {
      "text/plain": [
       "{'column'}"
      ]
     },
     "execution_count": 10,
     "metadata": {},
     "output_type": "execute_result"
    }
   ],
   "source": [
    "set(args.keys()) & DB.transaction_unused"
   ]
  },
  {
   "cell_type": "code",
   "execution_count": 13,
   "id": "bd7cf23a",
   "metadata": {},
   "outputs": [],
   "source": [
    "cls = Entry"
   ]
  },
  {
   "cell_type": "code",
   "execution_count": 14,
   "id": "c4d192ba",
   "metadata": {},
   "outputs": [
    {
     "data": {
      "text/plain": [
       "dexter.DB.Entry"
      ]
     },
     "execution_count": 14,
     "metadata": {},
     "output_type": "execute_result"
    }
   ],
   "source": [
    "cls"
   ]
  },
  {
   "cell_type": "code",
   "execution_count": 15,
   "id": "467e1ecc",
   "metadata": {},
   "outputs": [
    {
     "data": {
      "text/plain": [
       "'Entry'"
      ]
     },
     "execution_count": 15,
     "metadata": {},
     "output_type": "execute_result"
    }
   ],
   "source": [
    "cls.__name__"
   ]
  },
  {
   "cell_type": "code",
   "execution_count": null,
   "id": "41626ff8",
   "metadata": {},
   "outputs": [],
   "source": []
  }
 ],
 "metadata": {
  "kernelspec": {
   "display_name": "nosql",
   "language": "python",
   "name": "python3"
  },
  "language_info": {
   "codemirror_mode": {
    "name": "ipython",
    "version": 3
   },
   "file_extension": ".py",
   "mimetype": "text/x-python",
   "name": "python",
   "nbconvert_exporter": "python",
   "pygments_lexer": "ipython3",
   "version": "3.13.1"
  }
 },
 "nbformat": 4,
 "nbformat_minor": 5
}
