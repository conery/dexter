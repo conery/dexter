{
 "cells": [
  {
   "cell_type": "markdown",
   "id": "715df571",
   "metadata": {},
   "source": [
    "### Experiments with Mongoengine methods"
   ]
  },
  {
   "cell_type": "code",
   "execution_count": 1,
   "id": "e0193e66",
   "metadata": {},
   "outputs": [],
   "source": [
    "from dexter.DB import DB, Account, Entry, Transaction, RegExp, Document, Tag\n",
    "\n",
    "from datetime import date, datetime, timedelta"
   ]
  },
  {
   "cell_type": "code",
   "execution_count": 2,
   "id": "060c3e56",
   "metadata": {},
   "outputs": [],
   "source": [
    "DB.init()"
   ]
  },
  {
   "cell_type": "code",
   "execution_count": 3,
   "id": "f9aedc94",
   "metadata": {},
   "outputs": [],
   "source": [
    "DB.open('pytest')"
   ]
  },
  {
   "cell_type": "code",
   "execution_count": 4,
   "id": "0cd3a211",
   "metadata": {},
   "outputs": [],
   "source": [
    "for t in Transaction.objects(description__contains='Home'):\n",
    "    print(t)"
   ]
  },
  {
   "cell_type": "code",
   "execution_count": 5,
   "id": "c11151ba",
   "metadata": {},
   "outputs": [
    {
     "data": {
      "text/plain": [
       "0"
      ]
     },
     "execution_count": 5,
     "metadata": {},
     "output_type": "execute_result"
    }
   ],
   "source": [
    "Transaction.objects(description__contains='Home').update(set__description='House')"
   ]
  },
  {
   "cell_type": "code",
   "execution_count": 6,
   "id": "fc6ae547",
   "metadata": {},
   "outputs": [
    {
     "name": "stdout",
     "output_type": "stream",
     "text": [
      "<Tr 2024-03-10 liabilities:chase:visa -> expenses:home:household $50.0 House []>\n",
      "<Tr 2024-03-12 expenses:home:household -> liabilities:chase:visa $25.0 House []>\n"
     ]
    }
   ],
   "source": [
    "for t in Transaction.objects(description__contains='House'):\n",
    "    print(t)"
   ]
  },
  {
   "cell_type": "code",
   "execution_count": 7,
   "id": "605fd55d",
   "metadata": {},
   "outputs": [
    {
     "data": {
      "text/plain": [
       "2"
      ]
     },
     "execution_count": 7,
     "metadata": {},
     "output_type": "execute_result"
    }
   ],
   "source": [
    "Transaction.objects(description__contains='House').update(push__tags='#foo')"
   ]
  },
  {
   "cell_type": "code",
   "execution_count": 8,
   "id": "54fcf416",
   "metadata": {},
   "outputs": [
    {
     "name": "stdout",
     "output_type": "stream",
     "text": [
      "<Tr 2024-03-10 liabilities:chase:visa -> expenses:home:household $50.0 House ['#foo']>\n",
      "<Tr 2024-03-12 expenses:home:household -> liabilities:chase:visa $25.0 House ['#foo']>\n"
     ]
    }
   ],
   "source": [
    "for t in Transaction.objects(description__contains='House'):\n",
    "    print(t)"
   ]
  },
  {
   "cell_type": "code",
   "execution_count": 9,
   "id": "76ec56b9",
   "metadata": {},
   "outputs": [
    {
     "data": {
      "text/plain": [
       "2"
      ]
     },
     "execution_count": 9,
     "metadata": {},
     "output_type": "execute_result"
    }
   ],
   "source": [
    "Transaction.objects(description__contains='House').update(pull__tags='#foo')"
   ]
  },
  {
   "cell_type": "code",
   "execution_count": 10,
   "id": "0d13c3af",
   "metadata": {},
   "outputs": [
    {
     "name": "stdout",
     "output_type": "stream",
     "text": [
      "<Tr 2024-03-10 liabilities:chase:visa -> expenses:home:household $50.0 House []>\n",
      "<Tr 2024-03-12 expenses:home:household -> liabilities:chase:visa $25.0 House []>\n"
     ]
    }
   ],
   "source": [
    "for t in Transaction.objects(description__contains='House'):\n",
    "    print(t)"
   ]
  },
  {
   "cell_type": "code",
   "execution_count": 11,
   "id": "9bbd6650",
   "metadata": {},
   "outputs": [
    {
     "name": "stdout",
     "output_type": "stream",
     "text": [
      "<En 2024-01-02 income:yoyodyne +$5000.0 ['#budget']>\n",
      "<En 2024-01-02 expenses:food -$500.0 ['#budget']>\n",
      "<En 2024-01-02 expenses:home -$2500.0 ['#budget']>\n",
      "<En 2024-01-02 expenses:car -$1000.0 ['#budget']>\n",
      "<En 2024-01-02 expenses:travel -$500.0 ['#budget']>\n",
      "<En 2024-01-02 equity -$500.0 ['#budget']>\n",
      "<En 2024-02-02 income:yoyodyne +$5000.0 ['#budget']>\n",
      "<En 2024-02-02 expenses:food -$500.0 ['#budget']>\n",
      "<En 2024-02-02 expenses:home -$2500.0 ['#budget']>\n",
      "<En 2024-02-02 expenses:car -$1000.0 ['#budget']>\n",
      "<En 2024-02-02 expenses:travel -$500.0 ['#budget']>\n",
      "<En 2024-02-02 equity -$500.0 ['#budget']>\n"
     ]
    }
   ],
   "source": [
    "for e in DB.select(Entry, tag='budget'):\n",
    "    print(e)"
   ]
  },
  {
   "cell_type": "code",
   "execution_count": 21,
   "id": "512b6697",
   "metadata": {},
   "outputs": [],
   "source": [
    "lst = list(DB.select(Entry, tag='budget'))"
   ]
  },
  {
   "cell_type": "code",
   "execution_count": 22,
   "id": "4a223ca5",
   "metadata": {},
   "outputs": [],
   "source": [
    "e = lst[0]"
   ]
  },
  {
   "cell_type": "code",
   "execution_count": 23,
   "id": "434e6f85",
   "metadata": {},
   "outputs": [
    {
     "data": {
      "text/plain": [
       "['#budget']"
      ]
     },
     "execution_count": 23,
     "metadata": {},
     "output_type": "execute_result"
    }
   ],
   "source": [
    "e.tags"
   ]
  },
  {
   "cell_type": "code",
   "execution_count": 24,
   "id": "cee6b3d1",
   "metadata": {},
   "outputs": [
    {
     "data": {
      "text/plain": [
       "1"
      ]
     },
     "execution_count": 24,
     "metadata": {},
     "output_type": "execute_result"
    }
   ],
   "source": [
    "e.update(pull__tags='#budget')"
   ]
  },
  {
   "cell_type": "code",
   "execution_count": 25,
   "id": "6b525fd7",
   "metadata": {},
   "outputs": [
    {
     "data": {
      "text/plain": [
       "<Entry: <En 2024-01-02 expenses:food -$500.0 ['#budget']>>"
      ]
     },
     "execution_count": 25,
     "metadata": {},
     "output_type": "execute_result"
    }
   ],
   "source": [
    "e"
   ]
  },
  {
   "cell_type": "code",
   "execution_count": 26,
   "id": "d76d4849",
   "metadata": {},
   "outputs": [
    {
     "data": {
      "text/plain": [
       "<Entry: <En 2024-01-02 expenses:food -$500.0 []>>"
      ]
     },
     "execution_count": 26,
     "metadata": {},
     "output_type": "execute_result"
    }
   ],
   "source": [
    "e.reload()"
   ]
  },
  {
   "cell_type": "code",
   "execution_count": 27,
   "id": "7ed2a668",
   "metadata": {},
   "outputs": [
    {
     "data": {
      "text/plain": [
       "[<Entry: <En 2024-01-02 expenses:food -$500.0 []>>,\n",
       " <Entry: <En 2024-01-02 expenses:home -$2500.0 ['#budget']>>,\n",
       " <Entry: <En 2024-01-02 expenses:car -$1000.0 ['#budget']>>,\n",
       " <Entry: <En 2024-01-02 expenses:travel -$500.0 ['#budget']>>,\n",
       " <Entry: <En 2024-01-02 equity -$500.0 ['#budget']>>,\n",
       " <Entry: <En 2024-02-02 income:yoyodyne +$5000.0 ['#budget']>>,\n",
       " <Entry: <En 2024-02-02 expenses:food -$500.0 ['#budget']>>,\n",
       " <Entry: <En 2024-02-02 expenses:home -$2500.0 ['#budget']>>,\n",
       " <Entry: <En 2024-02-02 expenses:car -$1000.0 ['#budget']>>,\n",
       " <Entry: <En 2024-02-02 expenses:travel -$500.0 ['#budget']>>,\n",
       " <Entry: <En 2024-02-02 equity -$500.0 ['#budget']>>]"
      ]
     },
     "execution_count": 27,
     "metadata": {},
     "output_type": "execute_result"
    }
   ],
   "source": [
    "lst"
   ]
  },
  {
   "cell_type": "code",
   "execution_count": 28,
   "id": "7f1fd464",
   "metadata": {},
   "outputs": [
    {
     "name": "stdout",
     "output_type": "stream",
     "text": [
      "<En 2024-01-02 expenses:food -$500.0 []>\n",
      "<En 2024-01-02 expenses:home -$2500.0 ['#budget']>\n",
      "<En 2024-01-02 expenses:car -$1000.0 ['#budget']>\n",
      "<En 2024-01-02 expenses:travel -$500.0 ['#budget']>\n",
      "<En 2024-01-02 equity -$500.0 ['#budget']>\n",
      "<En 2024-02-02 income:yoyodyne +$5000.0 ['#budget']>\n",
      "<En 2024-02-02 expenses:food -$500.0 ['#budget']>\n",
      "<En 2024-02-02 expenses:home -$2500.0 ['#budget']>\n",
      "<En 2024-02-02 expenses:car -$1000.0 ['#budget']>\n",
      "<En 2024-02-02 expenses:travel -$500.0 ['#budget']>\n",
      "<En 2024-02-02 equity -$500.0 ['#budget']>\n"
     ]
    }
   ],
   "source": [
    "for x in lst:\n",
    "    print(x)"
   ]
  },
  {
   "cell_type": "code",
   "execution_count": null,
   "id": "a5a3f6eb",
   "metadata": {},
   "outputs": [],
   "source": []
  }
 ],
 "metadata": {
  "kernelspec": {
   "display_name": "nosql",
   "language": "python",
   "name": "python3"
  },
  "language_info": {
   "codemirror_mode": {
    "name": "ipython",
    "version": 3
   },
   "file_extension": ".py",
   "mimetype": "text/x-python",
   "name": "python",
   "nbconvert_exporter": "python",
   "pygments_lexer": "ipython3",
   "version": "3.13.1"
  }
 },
 "nbformat": 4,
 "nbformat_minor": 5
}
