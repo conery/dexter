{
 "cells": [
  {
   "cell_type": "markdown",
   "id": "715df571",
   "metadata": {},
   "source": [
    "### Experiments with Mongoengine methods"
   ]
  },
  {
   "cell_type": "code",
   "execution_count": 2,
   "id": "e0193e66",
   "metadata": {},
   "outputs": [],
   "source": [
    "from dexter.DB import DB, Account, Entry, Transaction, RegExp, Document, Tag\n",
    "\n",
    "from datetime import date, datetime, timedelta"
   ]
  },
  {
   "cell_type": "code",
   "execution_count": 3,
   "id": "060c3e56",
   "metadata": {},
   "outputs": [],
   "source": [
    "DB.init()"
   ]
  },
  {
   "cell_type": "code",
   "execution_count": 4,
   "id": "f9aedc94",
   "metadata": {},
   "outputs": [],
   "source": [
    "DB.open('pytest')"
   ]
  },
  {
   "cell_type": "code",
   "execution_count": 5,
   "id": "0cd3a211",
   "metadata": {},
   "outputs": [
    {
     "name": "stdout",
     "output_type": "stream",
     "text": [
      "<Tr 2024-03-10 liabilities:chase:visa -> expenses:home:household $50.0 Home Depot []>\n",
      "<Tr 2024-03-12 expenses:home:household -> liabilities:chase:visa $25.0 Home Depot []>\n"
     ]
    }
   ],
   "source": [
    "for t in Transaction.objects(description__contains='Home'):\n",
    "    print(t)"
   ]
  },
  {
   "cell_type": "code",
   "execution_count": 8,
   "id": "c11151ba",
   "metadata": {},
   "outputs": [
    {
     "data": {
      "text/plain": [
       "2"
      ]
     },
     "execution_count": 8,
     "metadata": {},
     "output_type": "execute_result"
    }
   ],
   "source": [
    "Transaction.objects(description__contains='Home').update(set__description='House')"
   ]
  },
  {
   "cell_type": "code",
   "execution_count": 9,
   "id": "fc6ae547",
   "metadata": {},
   "outputs": [
    {
     "name": "stdout",
     "output_type": "stream",
     "text": [
      "<Tr 2024-03-10 liabilities:chase:visa -> expenses:home:household $50.0 House []>\n",
      "<Tr 2024-03-12 expenses:home:household -> liabilities:chase:visa $25.0 House []>\n"
     ]
    }
   ],
   "source": [
    "for t in Transaction.objects(description__contains='House'):\n",
    "    print(t)"
   ]
  },
  {
   "cell_type": "code",
   "execution_count": 10,
   "id": "605fd55d",
   "metadata": {},
   "outputs": [
    {
     "data": {
      "text/plain": [
       "2"
      ]
     },
     "execution_count": 10,
     "metadata": {},
     "output_type": "execute_result"
    }
   ],
   "source": [
    "Transaction.objects(description__contains='House').update(push__tags='#foo')"
   ]
  },
  {
   "cell_type": "code",
   "execution_count": 11,
   "id": "54fcf416",
   "metadata": {},
   "outputs": [
    {
     "name": "stdout",
     "output_type": "stream",
     "text": [
      "<Tr 2024-03-10 liabilities:chase:visa -> expenses:home:household $50.0 House ['#foo']>\n",
      "<Tr 2024-03-12 expenses:home:household -> liabilities:chase:visa $25.0 House ['#foo']>\n"
     ]
    }
   ],
   "source": [
    "for t in Transaction.objects(description__contains='House'):\n",
    "    print(t)"
   ]
  },
  {
   "cell_type": "code",
   "execution_count": 12,
   "id": "76ec56b9",
   "metadata": {},
   "outputs": [
    {
     "data": {
      "text/plain": [
       "2"
      ]
     },
     "execution_count": 12,
     "metadata": {},
     "output_type": "execute_result"
    }
   ],
   "source": [
    "Transaction.objects(description__contains='House').update(pull__tags='#foo')"
   ]
  },
  {
   "cell_type": "code",
   "execution_count": 13,
   "id": "0d13c3af",
   "metadata": {},
   "outputs": [
    {
     "name": "stdout",
     "output_type": "stream",
     "text": [
      "<Tr 2024-03-10 liabilities:chase:visa -> expenses:home:household $50.0 House []>\n",
      "<Tr 2024-03-12 expenses:home:household -> liabilities:chase:visa $25.0 House []>\n"
     ]
    }
   ],
   "source": [
    "for t in Transaction.objects(description__contains='House'):\n",
    "    print(t)"
   ]
  },
  {
   "cell_type": "code",
   "execution_count": null,
   "id": "154b3b10",
   "metadata": {},
   "outputs": [],
   "source": []
  }
 ],
 "metadata": {
  "kernelspec": {
   "display_name": "nosql",
   "language": "python",
   "name": "python3"
  },
  "language_info": {
   "codemirror_mode": {
    "name": "ipython",
    "version": 3
   },
   "file_extension": ".py",
   "mimetype": "text/x-python",
   "name": "python",
   "nbconvert_exporter": "python",
   "pygments_lexer": "ipython3",
   "version": "3.13.1"
  }
 },
 "nbformat": 4,
 "nbformat_minor": 5
}
