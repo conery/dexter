{
 "cells": [
  {
   "cell_type": "markdown",
   "metadata": {},
   "source": [
    "### Code for parsers"
   ]
  },
  {
   "cell_type": "code",
   "execution_count": 1,
   "metadata": {},
   "outputs": [],
   "source": [
    "import re"
   ]
  },
  {
   "cell_type": "markdown",
   "metadata": {},
   "source": [
    "Text sample from a Journal"
   ]
  },
  {
   "cell_type": "code",
   "execution_count": 2,
   "metadata": {},
   "outputs": [],
   "source": [
    "lines = [\n",
    "    '# Groceries',\n",
    "    '; account equity',\n",
    "    '2024-02-02 paycheck',\n",
    "    '2024-01-07  Safeway ; weekly groceries',\n",
    "    '    income:yoyodyne      $5,000.00',\n",
    "    '    income:yoyodyne      $5,000.00  ; Feb',\n",
    "]"
   ]
  },
  {
   "cell_type": "code",
   "execution_count": 3,
   "metadata": {},
   "outputs": [
    {
     "name": "stdout",
     "output_type": "stream",
     "text": [
      " [' Groceries']\n",
      " [' account equity']\n",
      "2024-02-02 paycheck []\n",
      "2024-01-07  Safeway  [' weekly groceries']\n",
      "    income:yoyodyne      $5,000.00 []\n",
      "    income:yoyodyne      $5,000.00   [' Feb']\n"
     ]
    }
   ],
   "source": [
    "for s in lines:\n",
    "    cmnd, *comment = re.split(r'[;#]', s)\n",
    "    print(cmnd, comment)\n"
   ]
  },
  {
   "cell_type": "markdown",
   "metadata": {},
   "source": [
    "Make sure `re.sub` strips out the chars we want from an amount."
   ]
  },
  {
   "cell_type": "code",
   "execution_count": 4,
   "metadata": {},
   "outputs": [],
   "source": [
    "amounts = [\n",
    "    '123.45',\n",
    "    '$123.45',\n",
    "    '-123.45',\n",
    "    '$-123.45',\n",
    "    '-$123.45',\n",
    "    '9,123.45',\n",
    "    '$9,123.45',\n",
    "    '-9,123.45',\n",
    "    '$-9,123.45',\n",
    "    '-$9,123.45',    \n",
    "]"
   ]
  },
  {
   "cell_type": "code",
   "execution_count": 5,
   "metadata": {},
   "outputs": [
    {
     "name": "stdout",
     "output_type": "stream",
     "text": [
      "123.45\n",
      "123.45\n",
      "-123.45\n",
      "-123.45\n",
      "-123.45\n",
      "9123.45\n",
      "9123.45\n",
      "-9123.45\n",
      "-9123.45\n",
      "-9123.45\n"
     ]
    }
   ],
   "source": [
    "for s in amounts:\n",
    "    t = re.sub(r'[,$]','',s)\n",
    "    print(float(t))\n"
   ]
  },
  {
   "cell_type": "code",
   "execution_count": 6,
   "metadata": {},
   "outputs": [],
   "source": [
    "s = ' type: A'"
   ]
  },
  {
   "cell_type": "code",
   "execution_count": 7,
   "metadata": {},
   "outputs": [],
   "source": [
    "m = re.search(r'(.*?)type: (\\w)(.*)', s)"
   ]
  },
  {
   "cell_type": "code",
   "execution_count": 8,
   "metadata": {},
   "outputs": [
    {
     "data": {
      "text/plain": [
       "' '"
      ]
     },
     "execution_count": 8,
     "metadata": {},
     "output_type": "execute_result"
    }
   ],
   "source": [
    "m[1] + m[3]"
   ]
  },
  {
   "cell_type": "code",
   "execution_count": 9,
   "metadata": {},
   "outputs": [
    {
     "data": {
      "text/plain": [
       "'A'"
      ]
     },
     "execution_count": 9,
     "metadata": {},
     "output_type": "execute_result"
    }
   ],
   "source": [
    "m[2]"
   ]
  },
  {
   "cell_type": "markdown",
   "metadata": {},
   "source": [
    "### TOML"
   ]
  },
  {
   "cell_type": "markdown",
   "metadata": {},
   "source": [
    "We're using TOML (a JSON alternative) for configuration files."
   ]
  },
  {
   "cell_type": "code",
   "execution_count": 10,
   "metadata": {},
   "outputs": [],
   "source": [
    "import tomllib\n",
    "from pathlib import Path"
   ]
  },
  {
   "cell_type": "code",
   "execution_count": 11,
   "metadata": {},
   "outputs": [],
   "source": [
    "p = Path.home() / 'Personal/Finances/dex.toml'"
   ]
  },
  {
   "cell_type": "code",
   "execution_count": 12,
   "metadata": {},
   "outputs": [
    {
     "data": {
      "text/plain": [
       "True"
      ]
     },
     "execution_count": 12,
     "metadata": {},
     "output_type": "execute_result"
    }
   ],
   "source": [
    "p.is_file()"
   ]
  },
  {
   "cell_type": "code",
   "execution_count": 13,
   "metadata": {},
   "outputs": [],
   "source": [
    "with open(p, 'rb') as f:\n",
    "    res = tomllib.load(f)"
   ]
  },
  {
   "cell_type": "code",
   "execution_count": 14,
   "metadata": {},
   "outputs": [
    {
     "data": {
      "text/plain": [
       "{'terminology': {'cname': 'credit', 'dname': 'debit'},\n",
       " 'csv': {'occu': {'description': 'rec[\"Description\"] + rec[\"Extended Description\"]',\n",
       "   'date': 'rec[\"Posting Date\"]',\n",
       "   'amount': 'abs(float(rec[\"Amount\"]))',\n",
       "   'credit': 'rec[\"Amount\"].startswith(\"-\")'},\n",
       "  'chase': {'description': 'rec[\"Description\"]',\n",
       "   'date': 'rec[\"Post Date\"]',\n",
       "   'amount': 'abs(float(rec[\"Amount\"]))',\n",
       "   'column': 'rec[\"Amount\"].startswith(\"-\")'},\n",
       "  'citi': {'description': 'desc',\n",
       "   'date': 'date',\n",
       "   'amount': 'amount',\n",
       "   'column': 'column'}}}"
      ]
     },
     "execution_count": 14,
     "metadata": {},
     "output_type": "execute_result"
    }
   ],
   "source": [
    "res"
   ]
  },
  {
   "cell_type": "markdown",
   "metadata": {},
   "source": [
    "What we learned:\n",
    "* each section in the TOML document is a key in the resulting dict\n",
    "* if a section has subsections, the section name associated with another dictionary where the key is the subsection name (minus the section name)"
   ]
  },
  {
   "cell_type": "code",
   "execution_count": 15,
   "metadata": {},
   "outputs": [],
   "source": [
    "from collections import namedtuple"
   ]
  },
  {
   "cell_type": "code",
   "execution_count": 16,
   "metadata": {},
   "outputs": [],
   "source": [
    "ColMap = namedtuple('ColMap', ['description', 'date', 'amount', 'column'])"
   ]
  },
  {
   "cell_type": "code",
   "execution_count": 17,
   "metadata": {},
   "outputs": [
    {
     "data": {
      "text/plain": [
       "{'terminology': {'cname': 'credit', 'dname': 'debit'},\n",
       " 'csv': {'occu': {'description': 'rec[\"Description\"] + rec[\"Extended Description\"]',\n",
       "   'date': 'rec[\"Posting Date\"]',\n",
       "   'amount': 'abs(float(rec[\"Amount\"]))',\n",
       "   'credit': 'rec[\"Amount\"].startswith(\"-\")'},\n",
       "  'chase': {'description': 'rec[\"Description\"]',\n",
       "   'date': 'rec[\"Post Date\"]',\n",
       "   'amount': 'abs(float(rec[\"Amount\"]))',\n",
       "   'column': 'rec[\"Amount\"].startswith(\"-\")'},\n",
       "  'citi': {'description': 'desc',\n",
       "   'date': 'date',\n",
       "   'amount': 'amount',\n",
       "   'column': 'column'}}}"
      ]
     },
     "execution_count": 17,
     "metadata": {},
     "output_type": "execute_result"
    }
   ],
   "source": [
    "res"
   ]
  },
  {
   "cell_type": "code",
   "execution_count": 19,
   "metadata": {},
   "outputs": [],
   "source": [
    "from dexter.config import Config"
   ]
  },
  {
   "cell_type": "code",
   "execution_count": 20,
   "metadata": {},
   "outputs": [],
   "source": [
    "Config.init('/Users/conery/Personal/Finances/dex.toml')"
   ]
  },
  {
   "cell_type": "code",
   "execution_count": 21,
   "metadata": {},
   "outputs": [
    {
     "data": {
      "text/plain": [
       "'credit'"
      ]
     },
     "execution_count": 21,
     "metadata": {},
     "output_type": "execute_result"
    }
   ],
   "source": [
    "Config.cname"
   ]
  },
  {
   "cell_type": "code",
   "execution_count": 22,
   "metadata": {},
   "outputs": [
    {
     "data": {
      "text/plain": [
       "{'occu': {'description': <function <lambda>(rec)>,\n",
       "  'date': <function <lambda>(rec)>,\n",
       "  'amount': <function <lambda>(rec)>,\n",
       "  'credit': <function <lambda>(rec)>},\n",
       " 'chase': {'description': <function <lambda>(rec)>,\n",
       "  'date': <function <lambda>(rec)>,\n",
       "  'amount': <function <lambda>(rec)>,\n",
       "  'column': <function <lambda>(rec)>},\n",
       " 'citi': {'description': <function <lambda>(rec)>,\n",
       "  'date': <function <lambda>(rec)>,\n",
       "  'amount': <function <lambda>(rec)>,\n",
       "  'column': <function <lambda>(rec)>}}"
      ]
     },
     "execution_count": 22,
     "metadata": {},
     "output_type": "execute_result"
    }
   ],
   "source": [
    "Config.colmaps"
   ]
  },
  {
   "cell_type": "markdown",
   "metadata": {},
   "source": [
    "### Colmaps"
   ]
  },
  {
   "cell_type": "code",
   "execution_count": 23,
   "metadata": {},
   "outputs": [],
   "source": [
    "rec = {'amount': -123, 'description': 'aloha'}"
   ]
  },
  {
   "cell_type": "code",
   "execution_count": 24,
   "metadata": {},
   "outputs": [
    {
     "data": {
      "text/plain": [
       "123"
      ]
     },
     "execution_count": 24,
     "metadata": {},
     "output_type": "execute_result"
    }
   ],
   "source": [
    "eval(f'abs(dct[\"amount\"])', locals = {'dct': rec}, globals={})"
   ]
  },
  {
   "cell_type": "code",
   "execution_count": 25,
   "metadata": {},
   "outputs": [],
   "source": [
    "import os"
   ]
  },
  {
   "cell_type": "markdown",
   "metadata": {},
   "source": []
  },
  {
   "cell_type": "code",
   "execution_count": 26,
   "metadata": {},
   "outputs": [
    {
     "data": {
      "text/plain": [
       "'/Users/conery'"
      ]
     },
     "execution_count": 26,
     "metadata": {},
     "output_type": "execute_result"
    }
   ],
   "source": [
    "os.getenv('HOME')"
   ]
  },
  {
   "cell_type": "code",
   "execution_count": 27,
   "metadata": {},
   "outputs": [
    {
     "data": {
      "text/plain": [
       "'/Users/conery'"
      ]
     },
     "execution_count": 27,
     "metadata": {},
     "output_type": "execute_result"
    }
   ],
   "source": [
    "eval('os.getenv(\"HOME\")')"
   ]
  },
  {
   "cell_type": "code",
   "execution_count": 28,
   "metadata": {},
   "outputs": [],
   "source": [
    "# eval('os.getenv(\"HOME\")', locals = {'dct': rec}, globals={})"
   ]
  },
  {
   "cell_type": "code",
   "execution_count": 29,
   "metadata": {},
   "outputs": [
    {
     "data": {
      "text/plain": [
       "<function __main__.<lambda>(dct)>"
      ]
     },
     "execution_count": 29,
     "metadata": {},
     "output_type": "execute_result"
    }
   ],
   "source": [
    "lambda dct: abs(dct['amount'])"
   ]
  },
  {
   "cell_type": "code",
   "execution_count": 30,
   "metadata": {},
   "outputs": [],
   "source": [
    "f = lambda dct: abs(dct['amount'])"
   ]
  },
  {
   "cell_type": "code",
   "execution_count": 31,
   "metadata": {},
   "outputs": [
    {
     "data": {
      "text/plain": [
       "123"
      ]
     },
     "execution_count": 31,
     "metadata": {},
     "output_type": "execute_result"
    }
   ],
   "source": [
    "f(rec)"
   ]
  },
  {
   "cell_type": "code",
   "execution_count": 32,
   "metadata": {},
   "outputs": [
    {
     "data": {
      "text/plain": [
       "'Aloha'"
      ]
     },
     "execution_count": 32,
     "metadata": {},
     "output_type": "execute_result"
    }
   ],
   "source": [
    "eval(f'dct[\"description\"].capitalize()', locals = {'dct': rec}, globals={})"
   ]
  },
  {
   "cell_type": "code",
   "execution_count": 36,
   "metadata": {},
   "outputs": [],
   "source": [
    "s = '; a budget: aloha:'"
   ]
  },
  {
   "cell_type": "code",
   "execution_count": 37,
   "metadata": {},
   "outputs": [
    {
     "data": {
      "text/plain": [
       "['budget:', 'aloha:']"
      ]
     },
     "execution_count": 37,
     "metadata": {},
     "output_type": "execute_result"
    }
   ],
   "source": [
    "re.findall(r'\\w+:', s)"
   ]
  },
  {
   "cell_type": "code",
   "execution_count": 38,
   "metadata": {},
   "outputs": [
    {
     "data": {
      "text/plain": [
       "['#budget', '#aloha']"
      ]
     },
     "execution_count": 38,
     "metadata": {},
     "output_type": "execute_result"
    }
   ],
   "source": [
    "[f'#{s[:-1]}' for s in re.findall(r'\\w+:', s)]"
   ]
  },
  {
   "cell_type": "code",
   "execution_count": null,
   "metadata": {},
   "outputs": [],
   "source": []
  }
 ],
 "metadata": {
  "kernelspec": {
   "display_name": "nosql",
   "language": "python",
   "name": "python3"
  },
  "language_info": {
   "codemirror_mode": {
    "name": "ipython",
    "version": 3
   },
   "file_extension": ".py",
   "mimetype": "text/x-python",
   "name": "python",
   "nbconvert_exporter": "python",
   "pygments_lexer": "ipython3",
   "version": "3.13.1"
  }
 },
 "nbformat": 4,
 "nbformat_minor": 2
}
