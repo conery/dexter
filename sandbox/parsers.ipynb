{
 "cells": [
  {
   "cell_type": "markdown",
   "metadata": {},
   "source": [
    "### Code for parsers"
   ]
  },
  {
   "cell_type": "code",
   "execution_count": 1,
   "metadata": {},
   "outputs": [],
   "source": [
    "import re"
   ]
  },
  {
   "cell_type": "markdown",
   "metadata": {},
   "source": [
    "Text sample from a Journal"
   ]
  },
  {
   "cell_type": "code",
   "execution_count": 2,
   "metadata": {},
   "outputs": [],
   "source": [
    "lines = [\n",
    "    '# Groceries',\n",
    "    '; account equity',\n",
    "    '2024-02-02 paycheck',\n",
    "    '2024-01-07  Safeway ; weekly groceries',\n",
    "    '    income:yoyodyne      $5,000.00',\n",
    "    '    income:yoyodyne      $5,000.00  ; Feb',\n",
    "]"
   ]
  },
  {
   "cell_type": "code",
   "execution_count": 3,
   "metadata": {},
   "outputs": [
    {
     "name": "stdout",
     "output_type": "stream",
     "text": [
      " [' Groceries']\n",
      " [' account equity']\n",
      "2024-02-02 paycheck []\n",
      "2024-01-07  Safeway  [' weekly groceries']\n",
      "    income:yoyodyne      $5,000.00 []\n",
      "    income:yoyodyne      $5,000.00   [' Feb']\n"
     ]
    }
   ],
   "source": [
    "for s in lines:\n",
    "    cmnd, *comment = re.split(r'[;#]', s)\n",
    "    print(cmnd, comment)\n"
   ]
  },
  {
   "cell_type": "markdown",
   "metadata": {},
   "source": [
    "Make sure `re.sub` strips out the chars we want from an amount."
   ]
  },
  {
   "cell_type": "code",
   "execution_count": 4,
   "metadata": {},
   "outputs": [],
   "source": [
    "amounts = [\n",
    "    '123.45',\n",
    "    '$123.45',\n",
    "    '-123.45',\n",
    "    '$-123.45',\n",
    "    '-$123.45',\n",
    "    '9,123.45',\n",
    "    '$9,123.45',\n",
    "    '-9,123.45',\n",
    "    '$-9,123.45',\n",
    "    '-$9,123.45',    \n",
    "]"
   ]
  },
  {
   "cell_type": "code",
   "execution_count": 5,
   "metadata": {},
   "outputs": [
    {
     "name": "stdout",
     "output_type": "stream",
     "text": [
      "123.45\n",
      "123.45\n",
      "-123.45\n",
      "-123.45\n",
      "-123.45\n",
      "9123.45\n",
      "9123.45\n",
      "-9123.45\n",
      "-9123.45\n",
      "-9123.45\n"
     ]
    }
   ],
   "source": [
    "for s in amounts:\n",
    "    t = re.sub(r'[,$]','',s)\n",
    "    print(float(t))\n"
   ]
  },
  {
   "cell_type": "markdown",
   "metadata": {},
   "source": [
    "### TOML"
   ]
  },
  {
   "cell_type": "markdown",
   "metadata": {},
   "source": [
    "We're using TOML (a JSON alternative) for configuration files."
   ]
  },
  {
   "cell_type": "code",
   "execution_count": 7,
   "metadata": {},
   "outputs": [],
   "source": [
    "import tomllib\n",
    "from pathlib import Path"
   ]
  },
  {
   "cell_type": "code",
   "execution_count": 10,
   "metadata": {},
   "outputs": [],
   "source": [
    "p = Path.home() / 'Personal/Finances/dex.toml'"
   ]
  },
  {
   "cell_type": "code",
   "execution_count": 11,
   "metadata": {},
   "outputs": [
    {
     "data": {
      "text/plain": [
       "True"
      ]
     },
     "execution_count": 11,
     "metadata": {},
     "output_type": "execute_result"
    }
   ],
   "source": [
    "p.is_file()"
   ]
  },
  {
   "cell_type": "code",
   "execution_count": 27,
   "metadata": {},
   "outputs": [],
   "source": [
    "with open(p, 'rb') as f:\n",
    "    res = tomllib.load(f)"
   ]
  },
  {
   "cell_type": "code",
   "execution_count": 28,
   "metadata": {},
   "outputs": [
    {
     "data": {
      "text/plain": [
       "{'terminology': {'credit': 'credit', 'debit': 'debit'},\n",
       " 'csv': {'occu': {'accounts': ['buckets',\n",
       "    'checking-jc',\n",
       "    'checking-lc',\n",
       "    'savings-jc',\n",
       "    'savings-lc',\n",
       "    'reservoir'],\n",
       "   'description': 'desc',\n",
       "   'date': 'date',\n",
       "   'amount': 'amount',\n",
       "   'column': 'column'}}}"
      ]
     },
     "execution_count": 28,
     "metadata": {},
     "output_type": "execute_result"
    }
   ],
   "source": [
    "res"
   ]
  },
  {
   "cell_type": "markdown",
   "metadata": {},
   "source": [
    "What we learned:\n",
    "* each section in the TOML document is a key in the resulting dict\n",
    "* if a section has subsections, the section name associated with another dictionary where the key is the subsection name (minus the section name)"
   ]
  },
  {
   "cell_type": "code",
   "execution_count": 30,
   "metadata": {},
   "outputs": [],
   "source": [
    "from collections import namedtuple"
   ]
  },
  {
   "cell_type": "code",
   "execution_count": 31,
   "metadata": {},
   "outputs": [],
   "source": [
    "ColMap = namedtuple('ColMap', ['description', 'date', 'amount', 'column'])"
   ]
  },
  {
   "cell_type": "code",
   "execution_count": 32,
   "metadata": {},
   "outputs": [
    {
     "data": {
      "text/plain": [
       "{'terminology': {'credit': 'credit', 'debit': 'debit'},\n",
       " 'csv': {'occu': {'accounts': ['buckets',\n",
       "    'checking-jc',\n",
       "    'checking-lc',\n",
       "    'savings-jc',\n",
       "    'savings-lc',\n",
       "    'reservoir'],\n",
       "   'description': 'desc',\n",
       "   'date': 'date',\n",
       "   'amount': 'amount',\n",
       "   'column': 'column'}}}"
      ]
     },
     "execution_count": 32,
     "metadata": {},
     "output_type": "execute_result"
    }
   ],
   "source": [
    "res"
   ]
  },
  {
   "cell_type": "code",
   "execution_count": 35,
   "metadata": {},
   "outputs": [],
   "source": [
    "dct = res['csv']['occu']"
   ]
  },
  {
   "cell_type": "code",
   "execution_count": 36,
   "metadata": {},
   "outputs": [
    {
     "data": {
      "text/plain": [
       "['buckets',\n",
       " 'checking-jc',\n",
       " 'checking-lc',\n",
       " 'savings-jc',\n",
       " 'savings-lc',\n",
       " 'reservoir']"
      ]
     },
     "execution_count": 36,
     "metadata": {},
     "output_type": "execute_result"
    }
   ],
   "source": [
    "dct.pop('accounts')"
   ]
  },
  {
   "cell_type": "code",
   "execution_count": 37,
   "metadata": {},
   "outputs": [
    {
     "data": {
      "text/plain": [
       "{'description': 'desc', 'date': 'date', 'amount': 'amount', 'column': 'column'}"
      ]
     },
     "execution_count": 37,
     "metadata": {},
     "output_type": "execute_result"
    }
   ],
   "source": [
    "dct"
   ]
  },
  {
   "cell_type": "code",
   "execution_count": 38,
   "metadata": {},
   "outputs": [],
   "source": [
    "p = {'a': 0, 'b': 1}"
   ]
  },
  {
   "cell_type": "code",
   "execution_count": 40,
   "metadata": {},
   "outputs": [],
   "source": [
    "p |= dct"
   ]
  },
  {
   "cell_type": "code",
   "execution_count": 42,
   "metadata": {},
   "outputs": [
    {
     "data": {
      "text/plain": [
       "{'a': 0,\n",
       " 'b': 1,\n",
       " 'description': 'desc',\n",
       " 'date': 'date',\n",
       " 'amount': 'amount',\n",
       " 'column': 'column'}"
      ]
     },
     "execution_count": 42,
     "metadata": {},
     "output_type": "execute_result"
    }
   ],
   "source": [
    "p"
   ]
  },
  {
   "cell_type": "code",
   "execution_count": null,
   "metadata": {},
   "outputs": [],
   "source": []
  }
 ],
 "metadata": {
  "kernelspec": {
   "display_name": "nosql",
   "language": "python",
   "name": "python3"
  },
  "language_info": {
   "codemirror_mode": {
    "name": "ipython",
    "version": 3
   },
   "file_extension": ".py",
   "mimetype": "text/x-python",
   "name": "python",
   "nbconvert_exporter": "python",
   "pygments_lexer": "ipython3",
   "version": "3.13.1"
  }
 },
 "nbformat": 4,
 "nbformat_minor": 2
}
