{
 "cells": [
  {
   "cell_type": "markdown",
   "metadata": {},
   "source": [
    "### Code for parsers"
   ]
  },
  {
   "cell_type": "code",
   "execution_count": 1,
   "metadata": {},
   "outputs": [],
   "source": [
    "import re"
   ]
  },
  {
   "cell_type": "code",
   "execution_count": 8,
   "metadata": {},
   "outputs": [],
   "source": [
    "lines = [\n",
    "    '# Groceries',\n",
    "    '; account equity',\n",
    "    '2024-02-02 paycheck',\n",
    "    '2024-01-07  Safeway ; weekly groceries',\n",
    "    '    income:yoyodyne      $5,000.00',\n",
    "    '    income:yoyodyne      $5,000.00  ; Feb',\n",
    "]"
   ]
  },
  {
   "cell_type": "code",
   "execution_count": 9,
   "metadata": {},
   "outputs": [
    {
     "name": "stdout",
     "output_type": "stream",
     "text": [
      " [' Groceries']\n",
      " [' account equity']\n",
      "2024-02-02 paycheck []\n",
      "2024-01-07  Safeway  [' weekly groceries']\n",
      "    income:yoyodyne      $5,000.00 []\n",
      "    income:yoyodyne      $5,000.00   [' Feb']\n"
     ]
    }
   ],
   "source": [
    "for s in lines:\n",
    "    cmnd, *comment = re.split(r'[;#]', s)\n",
    "    print(cmnd, comment)\n"
   ]
  },
  {
   "cell_type": "code",
   "execution_count": 4,
   "metadata": {},
   "outputs": [],
   "source": [
    "amounts = [\n",
    "    '123.45',\n",
    "    '$123.45',\n",
    "    '-123.45',\n",
    "    '$-123.45',\n",
    "    '-$123.45',\n",
    "    '9,123.45',\n",
    "    '$9,123.45',\n",
    "    '-9,123.45',\n",
    "    '$-9,123.45',\n",
    "    '-$9,123.45',    \n",
    "]"
   ]
  },
  {
   "cell_type": "code",
   "execution_count": 6,
   "metadata": {},
   "outputs": [
    {
     "name": "stdout",
     "output_type": "stream",
     "text": [
      "123.45\n",
      "123.45\n",
      "-123.45\n",
      "-123.45\n",
      "-123.45\n",
      "9123.45\n",
      "9123.45\n",
      "-9123.45\n",
      "-9123.45\n",
      "-9123.45\n"
     ]
    }
   ],
   "source": [
    "for s in amounts:\n",
    "    t = re.sub(r'[,$]','',s)\n",
    "    print(float(t))\n"
   ]
  },
  {
   "cell_type": "code",
   "execution_count": null,
   "metadata": {},
   "outputs": [],
   "source": []
  }
 ],
 "metadata": {
  "kernelspec": {
   "display_name": "nosql",
   "language": "python",
   "name": "python3"
  },
  "language_info": {
   "codemirror_mode": {
    "name": "ipython",
    "version": 3
   },
   "file_extension": ".py",
   "mimetype": "text/x-python",
   "name": "python",
   "nbconvert_exporter": "python",
   "pygments_lexer": "ipython3",
   "version": "3.13.1"
  }
 },
 "nbformat": 4,
 "nbformat_minor": 2
}
