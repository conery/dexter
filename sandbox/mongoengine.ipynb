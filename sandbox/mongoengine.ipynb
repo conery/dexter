{
 "cells": [
  {
   "cell_type": "markdown",
   "id": "573083dc",
   "metadata": {},
   "source": [
    "### Experiments with MongoEngine"
   ]
  },
  {
   "cell_type": "code",
   "execution_count": 1,
   "id": "d7991f16",
   "metadata": {},
   "outputs": [],
   "source": [
    "from mongoengine import *"
   ]
  },
  {
   "cell_type": "markdown",
   "id": "f4e5061b",
   "metadata": {},
   "source": [
    "Open a connection to the server, but not any particular database:"
   ]
  },
  {
   "cell_type": "code",
   "execution_count": 2,
   "id": "9674b7cb",
   "metadata": {},
   "outputs": [],
   "source": [
    "pm = connect(alias='nodb')"
   ]
  },
  {
   "cell_type": "code",
   "execution_count": 3,
   "id": "71a8d14f",
   "metadata": {},
   "outputs": [
    {
     "data": {
      "text/plain": [
       "MongoClient(host=['localhost:27017'], document_class=dict, tz_aware=False, connect=True, read_preference=Primary(), uuidrepresentation=3, driver=DriverInfo(name='MongoEngine', version='0.29.1', platform=None))"
      ]
     },
     "execution_count": 3,
     "metadata": {},
     "output_type": "execute_result"
    }
   ],
   "source": [
    "pm"
   ]
  },
  {
   "cell_type": "markdown",
   "id": "946193bf",
   "metadata": {},
   "source": [
    "List of database names:"
   ]
  },
  {
   "cell_type": "code",
   "execution_count": 4,
   "id": "bfccfee7",
   "metadata": {},
   "outputs": [
    {
     "data": {
      "text/plain": [
       "['admin', 'config', 'demo', 'dev', 'dexter', 'foo', 'local', 'mini', 'pytest']"
      ]
     },
     "execution_count": 4,
     "metadata": {},
     "output_type": "execute_result"
    }
   ],
   "source": [
    "pm.list_database_names()"
   ]
  },
  {
   "cell_type": "markdown",
   "id": "1091aa93",
   "metadata": {},
   "source": [
    "Use low-level (pymongo) interface to learn collection names etc"
   ]
  },
  {
   "cell_type": "code",
   "execution_count": 7,
   "id": "0f11e3da",
   "metadata": {},
   "outputs": [
    {
     "data": {
      "text/plain": [
       "['system.version']"
      ]
     },
     "execution_count": 7,
     "metadata": {},
     "output_type": "execute_result"
    }
   ],
   "source": [
    "pm['admin'].list_collection_names()"
   ]
  },
  {
   "cell_type": "code",
   "execution_count": null,
   "id": "8f7ec37c",
   "metadata": {},
   "outputs": [],
   "source": []
  },
  {
   "cell_type": "code",
   "execution_count": 8,
   "id": "96cef141",
   "metadata": {},
   "outputs": [
    {
     "data": {
      "text/plain": [
       "['reg_exp', 'transaction', 'account', 'entry']"
      ]
     },
     "execution_count": 8,
     "metadata": {},
     "output_type": "execute_result"
    }
   ],
   "source": [
    "pm['dev'].list_collection_names()"
   ]
  },
  {
   "cell_type": "code",
   "execution_count": 10,
   "id": "15c119d8",
   "metadata": {},
   "outputs": [
    {
     "data": {
      "text/plain": [
       "{'_id': ObjectId('6828add4cbb61ff6ddc7ce0a'),\n",
       " 'name': 'equity',\n",
       " 'category': 'equity'}"
      ]
     },
     "execution_count": 10,
     "metadata": {},
     "output_type": "execute_result"
    }
   ],
   "source": [
    "pm['dev'].account.find_one()"
   ]
  },
  {
   "cell_type": "markdown",
   "id": "7754e149",
   "metadata": {},
   "source": [
    "Connect to database, with no alias, to use Document subclasses."
   ]
  },
  {
   "cell_type": "code",
   "execution_count": 11,
   "id": "d2b52ab6",
   "metadata": {},
   "outputs": [],
   "source": [
    "db = connect('dev', UuidRepresentation='standard')"
   ]
  },
  {
   "cell_type": "code",
   "execution_count": 12,
   "id": "30216b11",
   "metadata": {},
   "outputs": [],
   "source": [
    "from dexter.DB import Account, Entry, Transaction, RegExp, Document"
   ]
  },
  {
   "cell_type": "code",
   "execution_count": 13,
   "id": "40074ad9",
   "metadata": {},
   "outputs": [
    {
     "data": {
      "text/plain": [
       "[<Account: equity equity>, <Account: checking assets>, <Account: savings assets>, <Account: expenses:car expenses>, <Account: expenses:car:payment expenses>, <Account: expenses:car:fuel expenses>, <Account: expenses:donation expenses>, <Account: gift expenses>, <Account: charity expenses>, <Account: expenses:food expenses>, <Account: groceries expenses>, <Account: restaurant expenses>, <Account: expenses:home expenses>, <Account: mortgage expenses>, <Account: household expenses>, <Account: utility expenses>, <Account: yard expenses>, <Account: medical expenses>, <Account: alice expenses>, <Account: bob expenses>, '...(remaining elements truncated)...']"
      ]
     },
     "execution_count": 13,
     "metadata": {},
     "output_type": "execute_result"
    }
   ],
   "source": [
    "Account.objects"
   ]
  },
  {
   "cell_type": "code",
   "execution_count": 14,
   "id": "d24416f6",
   "metadata": {},
   "outputs": [
    {
     "data": {
      "text/plain": [
       "26"
      ]
     },
     "execution_count": 14,
     "metadata": {},
     "output_type": "execute_result"
    }
   ],
   "source": [
    "Account.objects.count()"
   ]
  },
  {
   "cell_type": "code",
   "execution_count": 15,
   "id": "0498a069",
   "metadata": {},
   "outputs": [
    {
     "data": {
      "text/plain": [
       "{'_id': ObjectId('68011db9caff1f7b4697ebfa'),\n",
       " 'name': 'equity',\n",
       " 'category': 'equity',\n",
       " 'comment': 'type: equity'}"
      ]
     },
     "execution_count": 15,
     "metadata": {},
     "output_type": "execute_result"
    }
   ],
   "source": [
    "pm['demo'].account.find_one()"
   ]
  },
  {
   "cell_type": "code",
   "execution_count": null,
   "id": "31b6c7c2",
   "metadata": {},
   "outputs": [],
   "source": []
  }
 ],
 "metadata": {
  "kernelspec": {
   "display_name": "nosql",
   "language": "python",
   "name": "python3"
  },
  "language_info": {
   "codemirror_mode": {
    "name": "ipython",
    "version": 3
   },
   "file_extension": ".py",
   "mimetype": "text/x-python",
   "name": "python",
   "nbconvert_exporter": "python",
   "pygments_lexer": "ipython3",
   "version": "3.13.1"
  }
 },
 "nbformat": 4,
 "nbformat_minor": 5
}
